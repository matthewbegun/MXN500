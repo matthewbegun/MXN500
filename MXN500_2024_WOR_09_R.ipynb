{
  "nbformat": 4,
  "nbformat_minor": 0,
  "metadata": {
    "colab": {
      "provenance": [],
      "toc_visible": true,
      "authorship_tag": "ABX9TyN+NoKb4V4FKQfioBE4hGNO",
      "include_colab_link": true
    },
    "kernelspec": {
      "name": "ir",
      "display_name": "R"
    },
    "language_info": {
      "name": "R"
    }
  },
  "cells": [
    {
      "cell_type": "markdown",
      "metadata": {
        "id": "view-in-github",
        "colab_type": "text"
      },
      "source": [
        "<a href=\"https://colab.research.google.com/github/matthewbegun/MXN500/blob/main/MXN500_2024_WOR_09_R.ipynb\" target=\"_parent\"><img src=\"https://colab.research.google.com/assets/colab-badge.svg\" alt=\"Open In Colab\"/></a>"
      ]
    },
    {
      "cell_type": "markdown",
      "source": [
        "# MXN500 Workshop 9 - Polynomial Regression"
      ],
      "metadata": {
        "id": "fzNxkvalmQcR"
      }
    },
    {
      "cell_type": "markdown",
      "source": [
        "This week we will learn linear regression by examining the `dengue` data. This workshop gives experience in the main concepts presented this week - how to examine polynomial relationships in data. We will investigate model assumptions and perform model comparisons to check whether the polynomial model is superior to the linear model.\n"
      ],
      "metadata": {
        "id": "qR9-gEopmbuk"
      }
    },
    {
      "cell_type": "code",
      "execution_count": 7,
      "metadata": {
        "id": "NSiFUMe8FzPi",
        "colab": {
          "base_uri": "https://localhost:8080/"
        },
        "cellView": "form",
        "outputId": "c24e72e0-f29b-4d4b-e0ef-806b363d3959"
      },
      "outputs": [
        {
          "output_type": "stream",
          "name": "stderr",
          "text": [
            "Installing package into ‘/usr/local/lib/R/site-library’\n",
            "(as ‘lib’ is unspecified)\n",
            "\n"
          ]
        }
      ],
      "source": [
        "#@title Imports\n",
        "install.packages(\"pacman\")\n",
        "pacman::p_load(tidyverse, broom)\n"
      ]
    },
    {
      "cell_type": "markdown",
      "source": [
        "# Activity 1 -- Thinking about non-linear relationships\n"
      ],
      "metadata": {
        "id": "6fdHMhOWme3K"
      }
    },
    {
      "cell_type": "markdown",
      "source": [
        "In this workshop, we will learn about regression and its use as a method for investigating patterns in data, namely the relationship between the viral load of Dengue Fever and the number of days a person has been infected.\n",
        "\n",
        "The scientific aims for today's workshop are:\n",
        "\n",
        "1.  Investigate potential non-linear relationships in data.\n",
        "2.  Assess the goodness of fit of the linear regression\n",
        "3.  Investigate the assumptions of linearity, homogeneity of variance and normality of residuals.\n",
        "4.  Perform model choice to determine which of a number of competing models is most appropriate\n"
      ],
      "metadata": {
        "id": "DjyKjOKCmh4R"
      }
    },
    {
      "cell_type": "markdown",
      "source": [
        "**Exercise:** Discuss within your group what sort of relationships may not be able to be modelled with a straight line of best fit. Pick one to discuss further.\n",
        "\n",
        "-   Do you expect the line of best fit (or curve of best fit) for such to have some maximum or minimum, like an optimisation problem?\n",
        "-   If there's no clear maximum or minimum, is this a model of growth or decay rates?\n",
        "-   Does the solution continue to go off to infinity or does it reach some asymptote (either a max or min)?\n",
        "-   Does it display oscillatory behaviour?\n",
        "-   Do you believe a polynomial model is appropriate, or would it be better use a model featuring exponential and/or sinusoidal functions?\n",
        "-   Are we describing a general trend (emulation) or is there a specific relationship that we are modeling (e.g. effect of gravity in a vacuum)?\n"
      ],
      "metadata": {
        "id": "662h5DqpmoH2"
      }
    },
    {
      "cell_type": "markdown",
      "source": [
        "**Answer:**"
      ],
      "metadata": {
        "id": "NNs2iqY_1zhq"
      }
    },
    {
      "cell_type": "code",
      "source": [],
      "metadata": {
        "id": "N-V38x5e6byu"
      },
      "execution_count": null,
      "outputs": []
    },
    {
      "cell_type": "code",
      "source": [
        "#@title Examples of non-linear function types\n",
        "options(repr.plot.width=15, repr.plot.height=5, repr.plot.pointsize=24)\n",
        "df <- data.frame(x= seq(0,10,by=0.1)) %>%\n",
        "  mutate(Maximum = -(x-3)^2,\n",
        "         Minimum = (x-6)^2,\n",
        "         `Faster than linear` = x^2,\n",
        "         `Slower than linear` = log(x+2),\n",
        "         Asymptote = 1 - exp(-x),\n",
        "         Oscillating = sin(2*pi*x/5))\n",
        "\n",
        "df %>%\n",
        "  gather(key, y, -x) %>%\n",
        "  mutate(key = fct_inorder(key)) %>%\n",
        "  group_by(key) %>%\n",
        "  mutate(y = y - min(y),\n",
        "         y = y/max(y)) %>%\n",
        "  ggplot(data=., aes(x=x, y=y)) +\n",
        "  geom_line()+\n",
        "  facet_grid(. ~ key) +\n",
        "  theme_bw()\n"
      ],
      "metadata": {
        "colab": {
          "base_uri": "https://localhost:8080/",
          "height": 317
        },
        "cellView": "form",
        "id": "qdRwRzKPm_WH",
        "outputId": "a96db5dd-dbab-4c8a-a4aa-785737c76100"
      },
      "execution_count": 8,
      "outputs": [
        {
          "output_type": "display_data",
          "data": {
            "text/plain": [
              "plot without title"
            ],
            "image/png": "[encoded data removed]"
          },
          "metadata": {
            "image/png": {
              "width": 900,
              "height": 300
            }
          }
        }
      ]
    },
    {
      "cell_type": "markdown",
      "source": [
        "**Room discussion:** Have your group's spokesperson tell the room what phenomenon you discussed and what sort of relationship you expect explains it. What is the outcome variable? What is the explanatory variable?"
      ],
      "metadata": {
        "id": "Rw5XcfmPrtDN"
      }
    },
    {
      "cell_type": "markdown",
      "source": [
        "**Answer:**"
      ],
      "metadata": {
        "id": "0vug8h2411bX"
      }
    },
    {
      "cell_type": "code",
      "source": [],
      "metadata": {
        "id": "M1I5uHuq6de0"
      },
      "execution_count": null,
      "outputs": []
    },
    {
      "cell_type": "markdown",
      "source": [
        "# Activity 2 -- Visualisation\n"
      ],
      "metadata": {
        "id": "ou8-JdJ-ryTy"
      }
    },
    {
      "cell_type": "markdown",
      "source": [
        "Dengue fever is a disease caused by the dengue virus, prevalent in tropical regions around the world and spread to humans by the *aedes aegypti* mosquito, with approximately 300 million cases reported worldwide each year (Bhatt et al. 2013). The virus has an incubation period where an infected human does not exhibit symptoms for a number of days after the initial infection has occurred. During this incubation period, a mosquito feeding on the infected human may become infected and continue spreading the disease before the patient is either hospitalised due to the fever, or is at least quarantined at home where they cannot spread the disease to the wider public.\n",
        "\n",
        "We can assess how sick a person is, and hence how infectious they are, by measuring the viral load in the blood, the number of copies of dengue virus ribonucleic acid (RNA) per mL of blood serum in their bloodstream. The data in the dengue file on Canvas contains pairs of times since the patient first presented, $t$, and viral load, $v$, for patient 104 in a study of the dynamics of dengue fever (Clapham et al. 2016)."
      ],
      "metadata": {
        "id": "HEllWj8tr0Pd"
      }
    },
    {
      "cell_type": "markdown",
      "source": [
        "**Exercise:** Download the `dengue.csv` dataset from Canvas, make a script with a comment header and load your data into R."
      ],
      "metadata": {
        "id": "85Xce0mjsHTa"
      }
    },
    {
      "cell_type": "code",
      "source": [],
      "metadata": {
        "id": "vN2dFJeopTRD"
      },
      "execution_count": 1,
      "outputs": []
    },
    {
      "cell_type": "markdown",
      "source": [
        "**Exercise:** Plot the viral load against time."
      ],
      "metadata": {
        "id": "ZgKPG6x3tEXj"
      }
    },
    {
      "cell_type": "code",
      "source": [],
      "metadata": {
        "id": "frjm1v7-ssgK"
      },
      "execution_count": 2,
      "outputs": []
    },
    {
      "cell_type": "markdown",
      "source": [
        "**Exercise:** Plot the viral load against time, showing a relationship with `geom_smooth()`, using a logarithmic scale on the $y$ axis.\n"
      ],
      "metadata": {
        "id": "5c8p-KI4tT7g"
      }
    },
    {
      "cell_type": "code",
      "source": [],
      "metadata": {
        "id": "yVN6BpNHtQ47"
      },
      "execution_count": 3,
      "outputs": []
    },
    {
      "cell_type": "markdown",
      "source": [
        "**Exercise:** Does it look like there's a linear relationship between Days and `log(Load)`? What does the relationship look like?\n"
      ],
      "metadata": {
        "id": "UkNtX9kx1g0t"
      }
    },
    {
      "cell_type": "markdown",
      "source": [
        "**Answer:**"
      ],
      "metadata": {
        "id": "IZAYMKaS1uZy"
      }
    },
    {
      "cell_type": "code",
      "source": [],
      "metadata": {
        "id": "o1jHWJxF6elH"
      },
      "execution_count": null,
      "outputs": []
    },
    {
      "cell_type": "markdown",
      "source": [
        "# Activity 3 -- Linear Regression\n"
      ],
      "metadata": {
        "id": "KWuwOKaW13rA"
      }
    },
    {
      "cell_type": "markdown",
      "source": [
        "## Fitting a model\n"
      ],
      "metadata": {
        "id": "83bJKgbc17x5"
      }
    },
    {
      "cell_type": "markdown",
      "source": [
        "Let's begin by investigating a straight line model for this data. The general form of a linear regression with a continuous outcome variable, $Y$, and a continuous explanatory variable, $X$, is\n",
        "\n",
        "$$\n",
        "y_i = \\beta_0 + \\beta_1 x_i + \\varepsilon_i, \\quad \\varepsilon_i \\sim N(0, \\sigma^2)\n",
        "$$\n",
        "\n",
        "**Exercise:** Fit a linear regression model that shows how `log(Load)` varies according to `Days`. Include a table of parameter estimates and their 95% confidence intervals."
      ],
      "metadata": {
        "id": "XbtX4t4O1-59"
      }
    },
    {
      "cell_type": "code",
      "source": [],
      "metadata": {
        "id": "zr5fgFrFtWa8"
      },
      "execution_count": null,
      "outputs": []
    },
    {
      "cell_type": "markdown",
      "source": [
        "Parameter|Estimate|95% CI|p-value\n",
        "---|---|---|---\n",
        "Intercept|...|(…, …)|...\n",
        "Effect of Time|...|(…, …)|..."
      ],
      "metadata": {
        "id": "y7hSBmI29LZO"
      }
    },
    {
      "cell_type": "markdown",
      "source": [
        "## Residuals\n"
      ],
      "metadata": {
        "id": "qIJL2tkU2ECa"
      }
    },
    {
      "cell_type": "markdown",
      "source": [
        "We don't want to know just how well the model has fit the data, but also the nature of the unexplained variability. We now turn to look at the residuals.\n",
        "\n",
        "One of the assumptions of linear regression is that the residuals are normally distributed with a mean of zero and a constant variance."
      ],
      "metadata": {
        "id": "TTtwD18p2F8f"
      }
    },
    {
      "cell_type": "markdown",
      "source": [
        "### Variation of residuals\n"
      ],
      "metadata": {
        "id": "ExPFXUbd2IEp"
      }
    },
    {
      "cell_type": "markdown",
      "source": [
        "**Exercise:** Use the `fortify()` function from ggplot2 to create a data frame with all we need to analyse the residuals. Make a scatter plot of the residuals, $\\varepsilon_i$, `.resid`, against the fitted values, $\\hat{y}_i$, `.fitted`."
      ],
      "metadata": {
        "id": "a5Hqs-Df2LLZ"
      }
    },
    {
      "cell_type": "code",
      "source": [],
      "metadata": {
        "id": "JinyxRC02Eey"
      },
      "execution_count": 5,
      "outputs": []
    },
    {
      "cell_type": "markdown",
      "source": [
        "**Exercise:** Discuss any trends you see in the scatter plot of the residuals."
      ],
      "metadata": {
        "id": "YWcjyqrs2dqb"
      }
    },
    {
      "cell_type": "markdown",
      "source": [
        "**Answer:**\n"
      ],
      "metadata": {
        "id": "abza0ybb2klu"
      }
    },
    {
      "cell_type": "code",
      "source": [],
      "metadata": {
        "id": "-mtUKo9X6g96"
      },
      "execution_count": null,
      "outputs": []
    },
    {
      "cell_type": "markdown",
      "source": [
        "**Exercise:** Make a scatter plot of the residuals against the `Days` column in your fortified data frame.\n"
      ],
      "metadata": {
        "id": "42sHaUDd2mAJ"
      }
    },
    {
      "cell_type": "code",
      "source": [],
      "metadata": {
        "id": "ixfy2iG42iHK"
      },
      "execution_count": null,
      "outputs": []
    },
    {
      "cell_type": "markdown",
      "source": [
        "**Exercise:** Modify the following code to generate a `qqplot` of your residuals.\n"
      ],
      "metadata": {
        "id": "WwGFs2Hz3Kfw"
      }
    },
    {
      "cell_type": "code",
      "source": [
        "ggplot(data = ..., aes(sample = .stdresid)) +\n",
        "  stat_qq() +\n",
        "  geom_abline(intercept = 0, slope = 1) +\n",
        "  coord_equal() +\n",
        "  labs(\n",
        "    x = \"q values from standard normal\",\n",
        "    y = \"q values from standardised residuals\"\n",
        "  ) +\n",
        "  theme_bw()"
      ],
      "metadata": {
        "id": "OW_KIcOz3M8O"
      },
      "execution_count": null,
      "outputs": []
    },
    {
      "cell_type": "markdown",
      "source": [
        "**Exercise:** Discuss any trends you see in the scatter plots of the residuals.\n"
      ],
      "metadata": {
        "id": "fadeThnu3OsB"
      }
    },
    {
      "cell_type": "markdown",
      "source": [
        "**Answer:**\n"
      ],
      "metadata": {
        "id": "Apm_6da43Ram"
      }
    },
    {
      "cell_type": "code",
      "source": [],
      "metadata": {
        "id": "Zj5XT61i6iPw"
      },
      "execution_count": null,
      "outputs": []
    },
    {
      "cell_type": "markdown",
      "source": [
        "We will now consider whether a quadratic model may be more appropriate.\n"
      ],
      "metadata": {
        "id": "g-hfiCrS3UqA"
      }
    },
    {
      "cell_type": "markdown",
      "source": [
        "# Activity 4 -- Linear regression with a polynomial\n"
      ],
      "metadata": {
        "id": "SiDCjdyW3Vdw"
      }
    },
    {
      "cell_type": "markdown",
      "source": [
        "Over the course of an infection, we may be able to model the logarithm (base 10) of the viral load as following a quadratic equation. This is the same as assuming that the viral load, $v(t)$, looks like\n",
        "\n",
        "$$\n",
        "v(t) = A \\, 10^{- \\lambda \\left(t - t_0\\right)^2  }\n",
        "$$\n",
        "\n",
        "where $A>0$ indicates how tall the peak is at $t = t_0$ and the shape parameter $\\lambda >0$ describes how narrow the peak is.\n",
        "\n",
        "Taking logarithms of both sides we arrive at the model\n",
        "\n",
        "$$\n",
        "\\log_{10}\\left(v\\right) = \\log_{10} (A) -\\lambda t^2 + 2\\lambda t t_0 - \\lambda t_0^2\n",
        "$$\n",
        "\n",
        "After a few substitutions we can write this as\n",
        "\n",
        "$$\n",
        "\\log_{10}\\left(v\\right) = \\beta_0 + \\beta_1 t + \\beta_2 t^2\n",
        "$$\n",
        "\n",
        "We wish to determine what the value of $t_0$ is, i.e. how long before the patient initially presented, and had their viral load taken, that they were at peak viral load. This will involve estimating the parameters of the quadratic model, $\\beta_0, \\beta_1, \\beta_2$ and then manipulating the equation to find when it is at its maximum.\n",
        "\n",
        "**Exercise:** Make a new column in the data frame that contains the log (base 10) of the viral load. Fit a polynomial line of best fit to the data, using the `raw=T` argument to `poly()` so that we end up with the actual values of the unknown parameters. The reason R does not do this by default is for issues of numerical stability. Make a table below showing the estimates of the intercept, effect of time, and effect of the square of time.\n"
      ],
      "metadata": {
        "id": "WIhAqj0V3Xss"
      }
    },
    {
      "cell_type": "code",
      "source": [],
      "metadata": {
        "id": "48Ff-SqV3Q29"
      },
      "execution_count": null,
      "outputs": []
    },
    {
      "cell_type": "markdown",
      "source": [
        "Parameter |\tEstimate  | 95% CI | p-value\n",
        "---|---|---|---\n",
        "Intercept | ... | ( ... , ... ) | ...\n",
        "Effect of Time | ... | ( ... , ... ) | ...\n",
        "Effect of Time^2 | ... | ( ... , ... ) | ..."
      ],
      "metadata": {
        "id": "hMQ6BnNl4JoL"
      }
    },
    {
      "cell_type": "markdown",
      "source": [
        "## Residuals\n"
      ],
      "metadata": {
        "id": "D5DTQ0Yh5MQL"
      }
    },
    {
      "cell_type": "markdown",
      "source": [
        "Now that we've produced a quadratic model for our data, let's check these residuals.\n",
        "\n"
      ],
      "metadata": {
        "id": "O8o5UTms5OeR"
      }
    },
    {
      "cell_type": "markdown",
      "source": [
        "### Variation of residuals\n",
        "\n"
      ],
      "metadata": {
        "id": "PQQwpBFm5WPl"
      }
    },
    {
      "cell_type": "markdown",
      "source": [
        "**Exercise:** Use the `fortify()` function from ggplot2 to create a data frame with all we need to analyse the residuals. Make a scatter plot of the residuals, $\\varepsilon_i$, `.resid`, against the fitted values, $\\hat{y}_i$, `.fitted`.\n"
      ],
      "metadata": {
        "id": "BSSY7P995UTC"
      }
    },
    {
      "cell_type": "code",
      "source": [],
      "metadata": {
        "id": "IJCjX_4Q4d_W"
      },
      "execution_count": null,
      "outputs": []
    },
    {
      "cell_type": "markdown",
      "source": [
        "**Exercise:** Make a scatter plot of the residuals against the `Days` column in your fortified data frame.\n"
      ],
      "metadata": {
        "id": "xoGgY10v5Yzl"
      }
    },
    {
      "cell_type": "code",
      "source": [],
      "metadata": {
        "id": "1yrS5Le-5ZM7"
      },
      "execution_count": null,
      "outputs": []
    },
    {
      "cell_type": "markdown",
      "source": [
        "**Exercise:** Create a `qqplot` of the residuals.\n"
      ],
      "metadata": {
        "id": "lZdP2eck5Z3a"
      }
    },
    {
      "cell_type": "code",
      "source": [],
      "metadata": {
        "id": "3ZOd_gv95cVq"
      },
      "execution_count": null,
      "outputs": []
    },
    {
      "cell_type": "markdown",
      "source": [
        "**Exercise:** Discuss any trends you see in the scatter plots of the residuals.\n"
      ],
      "metadata": {
        "id": "BLDKZD0K5c-m"
      }
    },
    {
      "cell_type": "markdown",
      "source": [
        "**Answer:**\n"
      ],
      "metadata": {
        "id": "4QYePDKS5hGz"
      }
    },
    {
      "cell_type": "code",
      "source": [],
      "metadata": {
        "id": "glf-zm3u6k6I"
      },
      "execution_count": null,
      "outputs": []
    },
    {
      "cell_type": "markdown",
      "source": [
        "**Exercise:** Based on the residuals you have observed here, and those you saw for the linear model, which model appears to satisfy the assumptions of linear regression?\n",
        "\n"
      ],
      "metadata": {
        "id": "HagUuEbg5jTi"
      }
    },
    {
      "cell_type": "markdown",
      "source": [
        "**Answer:**"
      ],
      "metadata": {
        "id": "G1OfRxtm5kWt"
      }
    },
    {
      "cell_type": "code",
      "source": [],
      "metadata": {
        "id": "JjwWw3fC6l71"
      },
      "execution_count": null,
      "outputs": []
    },
    {
      "cell_type": "markdown",
      "source": [
        "# Activity 5 - Prediction\n"
      ],
      "metadata": {
        "id": "u1kCzF__5meL"
      }
    },
    {
      "cell_type": "markdown",
      "source": [
        "**Exercise:** Differentiate $\\log_{10} v$ with respect to time, substitute in your values of $\\beta_0, \\beta_1, \\beta_2$, set the derivative equal to zero and solve for $t$ to obtain $t_0$\n",
        "\n",
        "$$\n",
        "\\begin{aligned}\n",
        "\\log_{10} \\left(v\\right) = & \\, \\beta_0 + \\beta_1 t + \\beta_2 t^2 &\\, \\\\\n",
        "\\frac{\\mathrm{d}\\log_{10} v}{\\mathrm{d}t} = & \\, \\ldots & \\,= 0\n",
        "\\end{aligned}\n",
        "$$\n",
        "\n"
      ],
      "metadata": {
        "id": "TeDVvteH5pvt"
      }
    },
    {
      "cell_type": "markdown",
      "source": [
        "**Answer:** $t_0 = \\ldots$ days."
      ],
      "metadata": {
        "id": "Re9NlmKd5tuT"
      }
    },
    {
      "cell_type": "code",
      "source": [],
      "metadata": {
        "id": "47zxBuMq6nHz"
      },
      "execution_count": null,
      "outputs": []
    },
    {
      "cell_type": "markdown",
      "source": [
        "**Exercise:** Make a data frame containing only the value of $t_0$ as a column called `Days` and predict the value of the peak log viral load at $t_0$, along with a 95% confidence interval. Undo the log transformation (with `10^(.)`) and complete the following sentence:\n",
        "\n"
      ],
      "metadata": {
        "id": "Y6XOEH7u58wg"
      }
    },
    {
      "cell_type": "code",
      "source": [],
      "metadata": {
        "id": "zbTn7S4W6B5V"
      },
      "execution_count": null,
      "outputs": []
    },
    {
      "cell_type": "markdown",
      "source": [
        "**Answer:** Peak viral load was observed $\\ldots$ days prior to first measurement, having value $\\ldots$ copies/mL (95% CI: $\\ldots, \\ldots$)."
      ],
      "metadata": {
        "id": "x7_40mca6AKt"
      }
    },
    {
      "cell_type": "code",
      "source": [],
      "metadata": {
        "id": "04mKZd_j6nq-"
      },
      "execution_count": null,
      "outputs": []
    },
    {
      "cell_type": "markdown",
      "source": [
        "**Exercise:** Make a data frame with column `Days` taking on the values $t = \\{ -5, -4.5, -4,\\ldots, 5.5, 6 \\}$, predict the log viral load for these times and their 95% confidence interval; plot these values with your log viral load data.\n"
      ],
      "metadata": {
        "id": "XnXaNqKw6FQR"
      }
    },
    {
      "cell_type": "code",
      "source": [],
      "metadata": {
        "id": "eZwygL8x5hrV"
      },
      "execution_count": null,
      "outputs": []
    },
    {
      "cell_type": "markdown",
      "source": [
        "**Exercise:** Discuss why there is so much uncertainty in the relationship between viral load and time for $t < 0$\n",
        "\n"
      ],
      "metadata": {
        "id": "izR2zdWZ6Jmj"
      }
    },
    {
      "cell_type": "markdown",
      "source": [
        "**Answer:**"
      ],
      "metadata": {
        "id": "ChcwGDoJ6KiJ"
      }
    },
    {
      "cell_type": "code",
      "source": [],
      "metadata": {
        "id": "SVytrj2Y6oYh"
      },
      "execution_count": null,
      "outputs": []
    },
    {
      "cell_type": "markdown",
      "source": [
        "**Exercise:** Do you expect the quadratic relationship to hold outside the range of the data? Why or why not? Do you expect the linear relationship to hold outside the range of the data? Why or why not?\n",
        "\n"
      ],
      "metadata": {
        "id": "nBiAC1EJ6NK1"
      }
    },
    {
      "cell_type": "markdown",
      "source": [
        "**Answer:**"
      ],
      "metadata": {
        "id": "hTO99jRi6OD1"
      }
    },
    {
      "cell_type": "code",
      "source": [],
      "metadata": {
        "id": "2Fsvop_26ovG"
      },
      "execution_count": null,
      "outputs": []
    },
    {
      "cell_type": "markdown",
      "source": [
        "# Activity 6 - Model comparison\n"
      ],
      "metadata": {
        "id": "qg-eJrLI6QBS"
      }
    },
    {
      "cell_type": "markdown",
      "source": [
        "We wish to determine whether or not we need to use a quadratic model for this data, or whether a linear relationship is enough.\n",
        "\n",
        "**Exercise:** What are the $R^2$ values for each model? Does the quadratic model seem to do much better?\n",
        "\n"
      ],
      "metadata": {
        "id": "Ty4iMiBO6TFC"
      }
    },
    {
      "cell_type": "markdown",
      "source": [
        "**Answer:**"
      ],
      "metadata": {
        "id": "-0MQYaDW6WMM"
      }
    },
    {
      "cell_type": "code",
      "source": [],
      "metadata": {
        "id": "HUfAt9_R6qVa"
      },
      "execution_count": null,
      "outputs": []
    },
    {
      "cell_type": "markdown",
      "source": [
        "**Exercise:** Using `anova()`, perform an $F$ test on your two models to test the null hypothesis that the quadratic model explains as much variation in the data as the straight line model does.\n",
        "\n"
      ],
      "metadata": {
        "id": "Rt2thnak6W6G"
      }
    },
    {
      "cell_type": "markdown",
      "source": [
        "**Answer:**"
      ],
      "metadata": {
        "id": "ega9ZGal6xZS"
      }
    },
    {
      "cell_type": "code",
      "source": [],
      "metadata": {
        "id": "Q_FhNalG6K0-"
      },
      "execution_count": null,
      "outputs": []
    },
    {
      "cell_type": "markdown",
      "source": [
        "**Exercise:** Using the `augment()` function from the broom package, add the regression model diagnostics as new columns in your original data frame. The `x` argument is your fitted model, and the `data` argument is the dengue data frame.\n"
      ],
      "metadata": {
        "id": "p1aYC_mm6yJV"
      }
    },
    {
      "cell_type": "code",
      "source": [
        "... <- augment(x = ..., data = ...)\n"
      ],
      "metadata": {
        "id": "RFIRSzpt64qq"
      },
      "execution_count": null,
      "outputs": []
    },
    {
      "cell_type": "markdown",
      "source": [
        "**Exercise:** Plot the residuals against the fitted values. Do your data appear to be homogeneously distributed?\n",
        "\n"
      ],
      "metadata": {
        "id": "XZja7RhO7By3"
      }
    },
    {
      "cell_type": "markdown",
      "source": [
        "**Answer:**\n",
        "\n"
      ],
      "metadata": {
        "id": "7Cu7PQeB7Cvi"
      }
    },
    {
      "cell_type": "code",
      "source": [],
      "metadata": {
        "id": "GyNM5NR47KUI"
      },
      "execution_count": null,
      "outputs": []
    },
    {
      "cell_type": "markdown",
      "source": [
        "**Exercise:** Make a quantile-quantile plot of the standardised residuals. Do your data appear to be normally distributed?\n",
        "\n"
      ],
      "metadata": {
        "id": "uF1H0q0I7G9V"
      }
    },
    {
      "cell_type": "markdown",
      "source": [
        "**Answer:**\n",
        "\n"
      ],
      "metadata": {
        "id": "x8QTHfSr7Ife"
      }
    },
    {
      "cell_type": "code",
      "source": [],
      "metadata": {
        "id": "sE7KES-l7J6V"
      },
      "execution_count": null,
      "outputs": []
    },
    {
      "cell_type": "markdown",
      "source": [
        "**Exercise:** Plot the residuals against time. Does there appear to be any trend in these residuals?\n",
        "\n"
      ],
      "metadata": {
        "id": "dH4dzUO87F6o"
      }
    },
    {
      "cell_type": "markdown",
      "source": [
        "**Answer:**"
      ],
      "metadata": {
        "id": "VBXn_QIr7EPz"
      }
    },
    {
      "cell_type": "code",
      "source": [],
      "metadata": {
        "id": "0eQClUBA7BeP"
      },
      "execution_count": null,
      "outputs": []
    },
    {
      "cell_type": "markdown",
      "source": [
        "# Activity 7 -- Interpretation\n"
      ],
      "metadata": {
        "id": "wRigEr1P7QY5"
      }
    },
    {
      "cell_type": "markdown",
      "source": [
        "**Exercise:** Discuss how and how well you believe time affects viral load.\n",
        "\n"
      ],
      "metadata": {
        "id": "4YWzpwBc7TUF"
      }
    },
    {
      "cell_type": "markdown",
      "source": [
        "**Answer:**"
      ],
      "metadata": {
        "id": "XVf8VXjp7UXP"
      }
    },
    {
      "cell_type": "code",
      "source": [],
      "metadata": {
        "id": "7sBUw-Ie7R6n"
      },
      "execution_count": null,
      "outputs": []
    },
    {
      "cell_type": "markdown",
      "source": [
        "**Exercise:** What statistical evidence do you have for concluding which of the two models is most appropriate for explaining the variation in the data?\n",
        "\n"
      ],
      "metadata": {
        "id": "-vNZkMub7VUF"
      }
    },
    {
      "cell_type": "markdown",
      "source": [
        "**Answer:**"
      ],
      "metadata": {
        "id": "YAySDcyL7Xuq"
      }
    },
    {
      "cell_type": "code",
      "source": [],
      "metadata": {
        "id": "KNJzh9Oy7YRA"
      },
      "execution_count": null,
      "outputs": []
    },
    {
      "cell_type": "markdown",
      "source": [
        "# Further reading\n"
      ],
      "metadata": {
        "id": "CidlDhxR7Zle"
      }
    },
    {
      "cell_type": "markdown",
      "source": [
        "Today we looked at regression methods for polynomial lines of best fit. If we have a specific functional form to fit, such as using the solution to a differential equation as a regression model, we will generally need to go into non-linear regression. As mentioned, polynomials still fit into the framework of linear regression because we treat $y$ as a linear combination of $1, x, x^2, \\ldots$ for however high the order of the polynomial we use. That is, we fit a model that looks like\n",
        "\n",
        "$$\n",
        "\\hat{y} = \\beta_0 + \\beta_1 x + \\beta_2 x^2 + \\ldots\n",
        "$$\n",
        "\n",
        "If we want to solve an asymptotic model of growth, we end up needing to solve something that looks like\n",
        "\n",
        "$$\n",
        "\\hat{y} = A + \\left(y_0 - A \\right) e^{-rx}\n",
        "$$\n",
        "\n",
        "for baseline $y_0$, asymptotic height $A$, and rate parameter $r$. Such a model can be fit with `SSasymp()` and `nls()` for solving non-linear models. This model is non-linear because we don't have a known multiple of each of $A, y_0, r$ that when we add together we recover $\\hat{y}$.\n",
        "\n",
        "Sometimes we are fortunate enough that we can transform our equation from a non-linear one to a linear one, as in the dengue example. Care must be taken with these when dealing with predictions and model diagnostics, as transforming the equation also alters the assumptions we make about the distribution of the errors. For example, additive errors on the log scale become multiplicative errors when we undo the transformation.\n",
        "\n",
        "More detail is available in Bates and Watts (1988) and Chapter 10 of Chambers and Hastie (1992), although these are somewhat old. Environmental science students may wish to look at Chapter 9, in particular, in Bolker (2008), and Zuur et al. (2009)."
      ],
      "metadata": {
        "id": "3HebQd8w7goO"
      }
    },
    {
      "cell_type": "markdown",
      "source": [
        "# References\n"
      ],
      "metadata": {
        "id": "jmMcExqG7lTd"
      }
    },
    {
      "cell_type": "markdown",
      "source": [
        "- Bates, Douglas M, and Donald G Watts. 1988. “Nonlinear Regression: Iterative Estimation and Linear Approximations.” *Nonlinear Regression Analysis and Its Applications*. Wiley Online Library, 32–66.\n",
        "- Bhatt, Samir, Peter W. Gething, Oliver J. Brady, Jane P. Messina, Andrew W. Farlow, Catherine L. Moyes, John M. Drake, et al. 2013. “The Global Distribution and Burden of Dengue.” Nature 496 (7446). Springer *Nature*:504–7. https://doi.org/10.1038/nature12060.\n",
        "- Bolker, Benjamin M. 2008. *Ecological Models and Data in r*. Princeton University Press.\n",
        "- Chambers, J. M., and T. J. Hastie, eds. 1992. *Statistical Models in s*. Wadsworth & Brooks/Cole.\n",
        "- Clapham, Hannah E, Than Ha Quyen, Duong Thi Hue Kien, Ilaria Dorigatti, Cameron P Simmons, and Neil M Ferguson. 2016. “Modelling Virus and Antibody Dynamics During Dengue Virus Infection Suggests a Role for Antibody in Virus Clearance.” *PLOS Computational Biology* 12 (5). Public Library of Science (PLoS):e1004951. https://doi.org/10.1371/journal.pcbi.1004951.\n",
        "- Zuur, Alain F., Elena N. Ieno, Neil J. Walker, Anatoly A. Saveliev, and Graham M. Smith. 2009. “Limitations of Linear Regression Applied on Ecological Data.” In *Mixed Effects Models and Extensions in Ecology with r*, 11–33. Statistics for Biology and Health. Springer New York. https://doi.org/10.1007/978-0-387-87458-6_2."
      ],
      "metadata": {
        "id": "WNk-lMDM-E-4"
      }
    }
  ]
}