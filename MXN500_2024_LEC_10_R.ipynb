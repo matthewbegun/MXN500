{
  "nbformat": 4,
  "nbformat_minor": 0,
  "metadata": {
    "colab": {
      "provenance": [],
      "authorship_tag": "ABX9TyMc4vMSokI1HeLTCW9bYj7r",
      "include_colab_link": true
    },
    "kernelspec": {
      "name": "ir",
      "display_name": "R"
    },
    "language_info": {
      "name": "R"
    }
  },
  "cells": [
    {
      "cell_type": "markdown",
      "metadata": {
        "id": "view-in-github",
        "colab_type": "text"
      },
      "source": [
        "<a href=\"https://colab.research.google.com/github/matthewbegun/MXN500/blob/main/MXN500_2024_LEC_10_R.ipynb\" target=\"_parent\"><img src=\"https://colab.research.google.com/assets/colab-badge.svg\" alt=\"Open In Colab\"/></a>"
      ]
    },
    {
      "cell_type": "markdown",
      "source": [
        "# MXN500 Lecture 10 - Even more linear models!\n"
      ],
      "metadata": {
        "id": "fzNxkvalmQcR"
      }
    },
    {
      "cell_type": "code",
      "execution_count": null,
      "metadata": {
        "id": "NSiFUMe8FzPi",
        "cellView": "form"
      },
      "outputs": [],
      "source": [
        "#@title Imports\n",
        "if (!require(pacman)) install.packages(\"pacman\")\n",
        "pacman::p_load(tidyverse, broom, plotrix, patchwork)"
      ]
    },
    {
      "cell_type": "code",
      "source": [
        "#@title Options\n",
        "options(repr.plot.width=15, repr.plot.height=5, repr.plot.pointsize=24)"
      ],
      "metadata": {
        "id": "zXcwvhrZX9WL",
        "cellView": "form"
      },
      "execution_count": null,
      "outputs": []
    },
    {
      "cell_type": "markdown",
      "source": [
        "## Slide 5"
      ],
      "metadata": {
        "id": "RHF-Ky8VsAfJ"
      }
    },
    {
      "cell_type": "markdown",
      "source": [
        "Consider the taxon richness (the count of different species present in a region or ecological environment) dataset in Ecologyv2.csv. Does species richness differ, on average, across the locations in the data set?\n"
      ],
      "metadata": {
        "id": "ElBaA5tK1E86"
      }
    },
    {
      "cell_type": "code",
      "source": [
        "# With no models or statistical tests, all we can do is speculate.\n",
        "# Read in `Location` and `Richness` columns from the data:\n",
        "cols <- c(\"Location\", \"Richness\")\n",
        "df <- read_csv(\"Ecologyv2.csv\", col_select = all_of(cols)) # this is where all the trouble starts!\n",
        "head(df)"
      ],
      "metadata": {
        "id": "oZ6Or0NQ-T_P",
        "colab": {
          "base_uri": "https://localhost:8080/",
          "height": 425
        },
        "outputId": "9c3acae4-3f59-40e0-b2ae-e12e138b85ad"
      },
      "execution_count": null,
      "outputs": [
        {
          "output_type": "stream",
          "name": "stderr",
          "text": [
            "\u001b[1mRows: \u001b[22m\u001b[34m16\u001b[39m \u001b[1mColumns: \u001b[22m\u001b[34m2\u001b[39m\n",
            "\u001b[36m──\u001b[39m \u001b[1mColumn specification\u001b[22m \u001b[36m────────────────────────────────────────────────────────\u001b[39m\n",
            "\u001b[1mDelimiter:\u001b[22m \",\"\n",
            "\u001b[31mchr\u001b[39m (1): Location\n",
            "\u001b[32mdbl\u001b[39m (1): Richness\n",
            "\n",
            "\u001b[36mℹ\u001b[39m Use `spec()` to retrieve the full column specification for this data.\n",
            "\u001b[36mℹ\u001b[39m Specify the column types or set `show_col_types = FALSE` to quiet this message.\n"
          ]
        },
        {
          "output_type": "display_data",
          "data": {
            "text/html": [
              "<table class=\"dataframe\">\n",
              "<caption>A tibble: 6 × 2</caption>\n",
              "<thead>\n",
              "\t<tr><th scope=col>Location</th><th scope=col>Richness</th></tr>\n",
              "\t<tr><th scope=col>&lt;chr&gt;</th><th scope=col>&lt;dbl&gt;</th></tr>\n",
              "</thead>\n",
              "<tbody>\n",
              "\t<tr><td>Cedar Creek</td><td>11</td></tr>\n",
              "\t<tr><td>Cedar Creek</td><td>14</td></tr>\n",
              "\t<tr><td>Cedar Creek</td><td>13</td></tr>\n",
              "\t<tr><td>Cedar Creek</td><td>15</td></tr>\n",
              "\t<tr><td>Cedar Creek</td><td>15</td></tr>\n",
              "\t<tr><td>Cedar Creek</td><td>12</td></tr>\n",
              "</tbody>\n",
              "</table>\n"
            ],
            "text/markdown": "\nA tibble: 6 × 2\n\n| Location &lt;chr&gt; | Richness &lt;dbl&gt; |\n|---|---|\n| Cedar Creek | 11 |\n| Cedar Creek | 14 |\n| Cedar Creek | 13 |\n| Cedar Creek | 15 |\n| Cedar Creek | 15 |\n| Cedar Creek | 12 |\n\n",
            "text/latex": "A tibble: 6 × 2\n\\begin{tabular}{ll}\n Location & Richness\\\\\n <chr> & <dbl>\\\\\n\\hline\n\t Cedar Creek & 11\\\\\n\t Cedar Creek & 14\\\\\n\t Cedar Creek & 13\\\\\n\t Cedar Creek & 15\\\\\n\t Cedar Creek & 15\\\\\n\t Cedar Creek & 12\\\\\n\\end{tabular}\n",
            "text/plain": [
              "  Location    Richness\n",
              "1 Cedar Creek 11      \n",
              "2 Cedar Creek 14      \n",
              "3 Cedar Creek 13      \n",
              "4 Cedar Creek 15      \n",
              "5 Cedar Creek 15      \n",
              "6 Cedar Creek 12      "
            ]
          },
          "metadata": {}
        }
      ]
    },
    {
      "cell_type": "code",
      "source": [
        "# Calculate the mean and std.err by location (using plotrix)\n",
        "group_by(df, Location) %>% # |>\n",
        "  summarise(Mean = mean(Richness), SE = std.error(Richness))"
      ],
      "metadata": {
        "id": "yN_UHPS2pFyp",
        "colab": {
          "base_uri": "https://localhost:8080/",
          "height": 192
        },
        "outputId": "7a1b7c86-2f05-43e7-c175-ce3110820ea8"
      },
      "execution_count": null,
      "outputs": [
        {
          "output_type": "display_data",
          "data": {
            "text/html": [
              "<table class=\"dataframe\">\n",
              "<caption>A tibble: 3 × 3</caption>\n",
              "<thead>\n",
              "\t<tr><th scope=col>Location</th><th scope=col>Mean</th><th scope=col>SE</th></tr>\n",
              "\t<tr><th scope=col>&lt;chr&gt;</th><th scope=col>&lt;dbl&gt;</th><th scope=col>&lt;dbl&gt;</th></tr>\n",
              "</thead>\n",
              "<tbody>\n",
              "\t<tr><td>Cabbage Tree Creek</td><td> 5.25000</td><td>0.6291529</td></tr>\n",
              "\t<tr><td>Cedar Creek       </td><td>13.33333</td><td>0.6666667</td></tr>\n",
              "\t<tr><td>South Pine River  </td><td> 7.00000</td><td>1.0645813</td></tr>\n",
              "</tbody>\n",
              "</table>\n"
            ],
            "text/markdown": "\nA tibble: 3 × 3\n\n| Location &lt;chr&gt; | Mean &lt;dbl&gt; | SE &lt;dbl&gt; |\n|---|---|---|\n| Cabbage Tree Creek |  5.25000 | 0.6291529 |\n| Cedar Creek        | 13.33333 | 0.6666667 |\n| South Pine River   |  7.00000 | 1.0645813 |\n\n",
            "text/latex": "A tibble: 3 × 3\n\\begin{tabular}{lll}\n Location & Mean & SE\\\\\n <chr> & <dbl> & <dbl>\\\\\n\\hline\n\t Cabbage Tree Creek &  5.25000 & 0.6291529\\\\\n\t Cedar Creek        & 13.33333 & 0.6666667\\\\\n\t South Pine River   &  7.00000 & 1.0645813\\\\\n\\end{tabular}\n",
            "text/plain": [
              "  Location           Mean     SE       \n",
              "1 Cabbage Tree Creek  5.25000 0.6291529\n",
              "2 Cedar Creek        13.33333 0.6666667\n",
              "3 South Pine River    7.00000 1.0645813"
            ]
          },
          "metadata": {}
        }
      ]
    },
    {
      "cell_type": "code",
      "source": [
        "# The means look different, what about a visual summary of spread:\n",
        "df <- df %>%\n",
        "  mutate(Location = factor(Location))\n",
        "\n",
        "ggplot(df, aes(x=Location, y=Richness)) +\n",
        "  geom_boxplot() +\n",
        "  ylab(\"Taxon Richness\") +\n",
        "  coord_flip()"
      ],
      "metadata": {
        "id": "hOy1MjIspIHO",
        "colab": {
          "base_uri": "https://localhost:8080/",
          "height": 317
        },
        "outputId": "24bd4c05-d14f-473d-cf89-98a5669f8626"
      },
      "execution_count": null,
      "outputs": [
        {
          "output_type": "display_data",
          "data": {
            "text/plain": [
              "plot without title"
            ],
            "image/png": "[encoded data removed]"
          },
          "metadata": {
            "image/png": {
              "width": 900,
              "height": 300
            }
          }
        }
      ]
    },
    {
      "cell_type": "code",
      "source": [
        "# Not quite so clear now.\n",
        "# These are just summary statistics and visualisations, though.\n",
        "# We really need a model or test!"
      ],
      "metadata": {
        "id": "l_GOHj-JphzF"
      },
      "execution_count": null,
      "outputs": []
    },
    {
      "cell_type": "markdown",
      "source": [
        "## Slide 7"
      ],
      "metadata": {
        "id": "EMFLJNfAsI6t"
      }
    },
    {
      "cell_type": "markdown",
      "source": [
        "1. Fit a linear regression model to data from Ecologyv2.csv, using location as an explanatory variable and richness as an outcome variable.\n",
        "1. Find the confidence intervals for the slope estimates of the model.\n",
        "1. Assess model assumptions for this model.\n"
      ],
      "metadata": {
        "id": "LwaxJ_GU1bfQ"
      }
    },
    {
      "cell_type": "code",
      "source": [
        "?lm"
      ],
      "metadata": {
        "id": "ZW3vwgb8pP2e"
      },
      "execution_count": null,
      "outputs": []
    },
    {
      "cell_type": "code",
      "source": [
        "# Still fit the model as normal.\n",
        "m <- lm(Richness ~ Location,df)\n",
        "summary(m)"
      ],
      "metadata": {
        "id": "nldHsfBLApZv",
        "colab": {
          "base_uri": "https://localhost:8080/",
          "height": 347
        },
        "outputId": "698eba13-37a0-4d0d-cb09-db274b67b0da"
      },
      "execution_count": null,
      "outputs": [
        {
          "output_type": "display_data",
          "data": {
            "text/plain": [
              "\n",
              "Call:\n",
              "lm(formula = Richness ~ Location, data = df)\n",
              "\n",
              "Residuals:\n",
              "   Min     1Q Median     3Q    Max \n",
              "-4.000 -1.271 -0.125  1.667  3.000 \n",
              "\n",
              "Coefficients:\n",
              "                         Estimate Std. Error t value Pr(>|t|)    \n",
              "(Intercept)                 5.250      1.001   5.246 0.000158 ***\n",
              "LocationCedar Creek         8.083      1.292   6.256 2.94e-05 ***\n",
              "LocationSouth Pine River    1.750      1.292   1.354 0.198664    \n",
              "---\n",
              "Signif. codes:  0 ‘***’ 0.001 ‘**’ 0.01 ‘*’ 0.05 ‘.’ 0.1 ‘ ’ 1\n",
              "\n",
              "Residual standard error: 2.002 on 13 degrees of freedom\n",
              "Multiple R-squared:  0.7874,\tAdjusted R-squared:  0.7546 \n",
              "F-statistic: 24.07 on 2 and 13 DF,  p-value: 4.263e-05\n"
            ]
          },
          "metadata": {}
        }
      ]
    },
    {
      "cell_type": "code",
      "source": [
        "# The baseline case is the intercept in our model.\n",
        "# The parameter estimates show the difference between the baseline and that\n",
        "# level of location.\n",
        "\n",
        "# Confidence intervals calculated with df=n-3 (3 parameters in our model):\n",
        "(B <- tidy(m, conf.int = T))"
      ],
      "metadata": {
        "id": "eLqvP-4HyOzk",
        "colab": {
          "base_uri": "https://localhost:8080/",
          "height": 192
        },
        "outputId": "90227b9f-48df-4cd6-9456-e8f842b3ae9d"
      },
      "execution_count": null,
      "outputs": [
        {
          "output_type": "display_data",
          "data": {
            "text/html": [
              "<table class=\"dataframe\">\n",
              "<caption>A tibble: 3 × 7</caption>\n",
              "<thead>\n",
              "\t<tr><th scope=col>term</th><th scope=col>estimate</th><th scope=col>std.error</th><th scope=col>statistic</th><th scope=col>p.value</th><th scope=col>conf.low</th><th scope=col>conf.high</th></tr>\n",
              "\t<tr><th scope=col>&lt;chr&gt;</th><th scope=col>&lt;dbl&gt;</th><th scope=col>&lt;dbl&gt;</th><th scope=col>&lt;dbl&gt;</th><th scope=col>&lt;dbl&gt;</th><th scope=col>&lt;dbl&gt;</th><th scope=col>&lt;dbl&gt;</th></tr>\n",
              "</thead>\n",
              "<tbody>\n",
              "\t<tr><td>(Intercept)             </td><td>5.250000</td><td>1.000801</td><td>5.245798</td><td>1.580093e-04</td><td> 3.087901</td><td> 7.412099</td></tr>\n",
              "\t<tr><td>LocationCedar Creek     </td><td>8.083333</td><td>1.292028</td><td>6.256312</td><td>2.942026e-05</td><td> 5.292075</td><td>10.874591</td></tr>\n",
              "\t<tr><td>LocationSouth Pine River</td><td>1.750000</td><td>1.292028</td><td>1.354459</td><td>1.986643e-01</td><td>-1.041258</td><td> 4.541258</td></tr>\n",
              "</tbody>\n",
              "</table>\n"
            ],
            "text/markdown": "\nA tibble: 3 × 7\n\n| term &lt;chr&gt; | estimate &lt;dbl&gt; | std.error &lt;dbl&gt; | statistic &lt;dbl&gt; | p.value &lt;dbl&gt; | conf.low &lt;dbl&gt; | conf.high &lt;dbl&gt; |\n|---|---|---|---|---|---|---|\n| (Intercept)              | 5.250000 | 1.000801 | 5.245798 | 1.580093e-04 |  3.087901 |  7.412099 |\n| LocationCedar Creek      | 8.083333 | 1.292028 | 6.256312 | 2.942026e-05 |  5.292075 | 10.874591 |\n| LocationSouth Pine River | 1.750000 | 1.292028 | 1.354459 | 1.986643e-01 | -1.041258 |  4.541258 |\n\n",
            "text/latex": "A tibble: 3 × 7\n\\begin{tabular}{lllllll}\n term & estimate & std.error & statistic & p.value & conf.low & conf.high\\\\\n <chr> & <dbl> & <dbl> & <dbl> & <dbl> & <dbl> & <dbl>\\\\\n\\hline\n\t (Intercept)              & 5.250000 & 1.000801 & 5.245798 & 1.580093e-04 &  3.087901 &  7.412099\\\\\n\t LocationCedar Creek      & 8.083333 & 1.292028 & 6.256312 & 2.942026e-05 &  5.292075 & 10.874591\\\\\n\t LocationSouth Pine River & 1.750000 & 1.292028 & 1.354459 & 1.986643e-01 & -1.041258 &  4.541258\\\\\n\\end{tabular}\n",
            "text/plain": [
              "  term                     estimate std.error statistic p.value      conf.low \n",
              "1 (Intercept)              5.250000 1.000801  5.245798  1.580093e-04  3.087901\n",
              "2 LocationCedar Creek      8.083333 1.292028  6.256312  2.942026e-05  5.292075\n",
              "3 LocationSouth Pine River 1.750000 1.292028  1.354459  1.986643e-01 -1.041258\n",
              "  conf.high\n",
              "1  7.412099\n",
              "2 10.874591\n",
              "3  4.541258"
            ]
          },
          "metadata": {}
        }
      ]
    },
    {
      "cell_type": "code",
      "source": [
        "# CIs and p values tell us about richness.\n",
        "# - Cabbage Tree Creek is significantly different from 0.\n",
        "# - Cedar Creek is significantly different to Cabbage Tree Creek\n",
        "# - South Pine River is not significantly different to Cabbage Tree Creek"
      ],
      "metadata": {
        "id": "2rCeGSQepntC"
      },
      "execution_count": null,
      "outputs": []
    },
    {
      "cell_type": "code",
      "source": [
        "# It is difficult to interpret CIs of differences between Cabbage Tree Creek and\n",
        "# other creeks.\n",
        "# Let's look at predicting mean values and look at CIs using predict().\n",
        "newdata <- distinct(df, Location)\n",
        "loc.ci <- data.frame(predict(object = m,\n",
        "                            newdata=newdata,\n",
        "                            interval=\"confidence\"))\n",
        "loc.ci <- bind_cols(newdata, loc.ci)\n",
        "loc.ci"
      ],
      "metadata": {
        "id": "tQ4URtt4rW6o",
        "colab": {
          "base_uri": "https://localhost:8080/",
          "height": 192
        },
        "outputId": "fdcb1343-14c8-47d3-fcbe-cf8429ea0b8c"
      },
      "execution_count": null,
      "outputs": [
        {
          "output_type": "display_data",
          "data": {
            "text/html": [
              "<table class=\"dataframe\">\n",
              "<caption>A tibble: 3 × 4</caption>\n",
              "<thead>\n",
              "\t<tr><th></th><th scope=col>Location</th><th scope=col>fit</th><th scope=col>lwr</th><th scope=col>upr</th></tr>\n",
              "\t<tr><th></th><th scope=col>&lt;fct&gt;</th><th scope=col>&lt;dbl&gt;</th><th scope=col>&lt;dbl&gt;</th><th scope=col>&lt;dbl&gt;</th></tr>\n",
              "</thead>\n",
              "<tbody>\n",
              "\t<tr><th scope=row>1</th><td>Cedar Creek       </td><td>13.33333</td><td>11.567987</td><td>15.098680</td></tr>\n",
              "\t<tr><th scope=row>2</th><td>South Pine River  </td><td> 7.00000</td><td> 5.234654</td><td> 8.765346</td></tr>\n",
              "\t<tr><th scope=row>3</th><td>Cabbage Tree Creek</td><td> 5.25000</td><td> 3.087901</td><td> 7.412099</td></tr>\n",
              "</tbody>\n",
              "</table>\n"
            ],
            "text/markdown": "\nA tibble: 3 × 4\n\n| <!--/--> | Location &lt;fct&gt; | fit &lt;dbl&gt; | lwr &lt;dbl&gt; | upr &lt;dbl&gt; |\n|---|---|---|---|---|\n| 1 | Cedar Creek        | 13.33333 | 11.567987 | 15.098680 |\n| 2 | South Pine River   |  7.00000 |  5.234654 |  8.765346 |\n| 3 | Cabbage Tree Creek |  5.25000 |  3.087901 |  7.412099 |\n\n",
            "text/latex": "A tibble: 3 × 4\n\\begin{tabular}{r|llll}\n  & Location & fit & lwr & upr\\\\\n  & <fct> & <dbl> & <dbl> & <dbl>\\\\\n\\hline\n\t1 & Cedar Creek        & 13.33333 & 11.567987 & 15.098680\\\\\n\t2 & South Pine River   &  7.00000 &  5.234654 &  8.765346\\\\\n\t3 & Cabbage Tree Creek &  5.25000 &  3.087901 &  7.412099\\\\\n\\end{tabular}\n",
            "text/plain": [
              "  Location           fit      lwr       upr      \n",
              "1 Cedar Creek        13.33333 11.567987 15.098680\n",
              "2 South Pine River    7.00000  5.234654  8.765346\n",
              "3 Cabbage Tree Creek  5.25000  3.087901  7.412099"
            ]
          },
          "metadata": {}
        }
      ]
    },
    {
      "cell_type": "code",
      "source": [
        "# Much more interpretable, we have CIs for mean richness now.\n",
        "# However:\n",
        "# - adding CIs together is generally invalid.\n",
        "# - That means the difference in CIs is generally valid.\n",
        "#   - I.e., we cannot tell whether Cabbage Tree Creek and Cedar Creek are\n",
        "#     different by looking at whether or not CIs overlap.\n",
        "# Need to use on our statistical tests and models!"
      ],
      "metadata": {
        "id": "5rvfSBpYylWQ"
      },
      "execution_count": null,
      "outputs": []
    },
    {
      "cell_type": "code",
      "source": [
        "glance(m)"
      ],
      "metadata": {
        "id": "Wxxdr9sT0dZL",
        "colab": {
          "base_uri": "https://localhost:8080/",
          "height": 129
        },
        "outputId": "c18e38ea-113b-468c-cb00-6959a09e537a"
      },
      "execution_count": null,
      "outputs": [
        {
          "output_type": "display_data",
          "data": {
            "text/html": [
              "<table class=\"dataframe\">\n",
              "<caption>A tibble: 1 × 12</caption>\n",
              "<thead>\n",
              "\t<tr><th scope=col>r.squared</th><th scope=col>adj.r.squared</th><th scope=col>sigma</th><th scope=col>statistic</th><th scope=col>p.value</th><th scope=col>df</th><th scope=col>logLik</th><th scope=col>AIC</th><th scope=col>BIC</th><th scope=col>deviance</th><th scope=col>df.residual</th><th scope=col>nobs</th></tr>\n",
              "\t<tr><th scope=col>&lt;dbl&gt;</th><th scope=col>&lt;dbl&gt;</th><th scope=col>&lt;dbl&gt;</th><th scope=col>&lt;dbl&gt;</th><th scope=col>&lt;dbl&gt;</th><th scope=col>&lt;dbl&gt;</th><th scope=col>&lt;dbl&gt;</th><th scope=col>&lt;dbl&gt;</th><th scope=col>&lt;dbl&gt;</th><th scope=col>&lt;dbl&gt;</th><th scope=col>&lt;int&gt;</th><th scope=col>&lt;int&gt;</th></tr>\n",
              "</thead>\n",
              "<tbody>\n",
              "\t<tr><td>0.7873607</td><td>0.754647</td><td>2.001602</td><td>24.0682</td><td>4.26268e-05</td><td>2</td><td>-32.14507</td><td>72.29013</td><td>75.38049</td><td>52.08333</td><td>13</td><td>16</td></tr>\n",
              "</tbody>\n",
              "</table>\n"
            ],
            "text/markdown": "\nA tibble: 1 × 12\n\n| r.squared &lt;dbl&gt; | adj.r.squared &lt;dbl&gt; | sigma &lt;dbl&gt; | statistic &lt;dbl&gt; | p.value &lt;dbl&gt; | df &lt;dbl&gt; | logLik &lt;dbl&gt; | AIC &lt;dbl&gt; | BIC &lt;dbl&gt; | deviance &lt;dbl&gt; | df.residual &lt;int&gt; | nobs &lt;int&gt; |\n|---|---|---|---|---|---|---|---|---|---|---|---|\n| 0.7873607 | 0.754647 | 2.001602 | 24.0682 | 4.26268e-05 | 2 | -32.14507 | 72.29013 | 75.38049 | 52.08333 | 13 | 16 |\n\n",
            "text/latex": "A tibble: 1 × 12\n\\begin{tabular}{llllllllllll}\n r.squared & adj.r.squared & sigma & statistic & p.value & df & logLik & AIC & BIC & deviance & df.residual & nobs\\\\\n <dbl> & <dbl> & <dbl> & <dbl> & <dbl> & <dbl> & <dbl> & <dbl> & <dbl> & <dbl> & <int> & <int>\\\\\n\\hline\n\t 0.7873607 & 0.754647 & 2.001602 & 24.0682 & 4.26268e-05 & 2 & -32.14507 & 72.29013 & 75.38049 & 52.08333 & 13 & 16\\\\\n\\end{tabular}\n",
            "text/plain": [
              "      r.squared adj.r.squared sigma    statistic p.value     df logLik   \n",
              "value 0.7873607 0.754647      2.001602 24.0682   4.26268e-05 2  -32.14507\n",
              "      AIC      BIC      deviance df.residual nobs\n",
              "value 72.29013 75.38049 52.08333 13          16  "
            ]
          },
          "metadata": {}
        }
      ]
    },
    {
      "cell_type": "code",
      "source": [
        "# Goodness of fit: 0.7874\n",
        "# Residuals have mean of 0 and standard error of 2.\n",
        "\n",
        "# Let's check assumptions\n",
        "res <- fortify(m)\n",
        "\n",
        "# Create the plots\n",
        "res.hist <- ggplot(data=res, aes(x=.resid)) +\n",
        "  geom_histogram(center=0, bins = 10,\n",
        "                 color=\"black\", fill=\"white\") + xlab(\"Residuals\")\n",
        "\n",
        "res.fit <- ggplot(data=res, aes(x=.fitted,\n",
        "                                     y=.resid)) +\n",
        "  geom_point() + geom_smooth() +\n",
        "  xlab(\"Fitted\") + ylab(\"Residuals\")\n",
        "\n",
        "qq <- ggplot(data=res) +\n",
        "  stat_qq(geom=\"point\", aes(sample=.stdresid)) +\n",
        "  geom_abline()\n",
        "\n",
        "# Arrange the plots in one row using patchwork\n",
        "res.hist + res.fit + qq"
      ],
      "metadata": {
        "id": "_T-eWaxu0fCC",
        "colab": {
          "base_uri": "https://localhost:8080/",
          "height": 632
        },
        "outputId": "9d4a9432-9e7d-4fdd-92d0-2e2a90b489fc"
      },
      "execution_count": null,
      "outputs": [
        {
          "output_type": "stream",
          "name": "stderr",
          "text": [
            "\u001b[1m\u001b[22m`geom_smooth()` using method = 'loess' and formula = 'y ~ x'\n",
            "Warning message in simpleLoess(y, x, w, span, degree = degree, parametric = parametric, :\n",
            "“pseudoinverse used at 5.2096”\n",
            "Warning message in simpleLoess(y, x, w, span, degree = degree, parametric = parametric, :\n",
            "“neighborhood radius 8.1237”\n",
            "Warning message in simpleLoess(y, x, w, span, degree = degree, parametric = parametric, :\n",
            "“reciprocal condition number  9.2873e-17”\n",
            "Warning message in simpleLoess(y, x, w, span, degree = degree, parametric = parametric, :\n",
            "“There are other near singularities as well. 40.625”\n",
            "Warning message in predLoess(object$y, object$x, newx = if (is.null(newdata)) object$x else if (is.data.frame(newdata)) as.matrix(model.frame(delete.response(terms(object)), :\n",
            "“pseudoinverse used at 5.2096”\n",
            "Warning message in predLoess(object$y, object$x, newx = if (is.null(newdata)) object$x else if (is.data.frame(newdata)) as.matrix(model.frame(delete.response(terms(object)), :\n",
            "“neighborhood radius 8.1237”\n",
            "Warning message in predLoess(object$y, object$x, newx = if (is.null(newdata)) object$x else if (is.data.frame(newdata)) as.matrix(model.frame(delete.response(terms(object)), :\n",
            "“reciprocal condition number  9.2873e-17”\n",
            "Warning message in predLoess(object$y, object$x, newx = if (is.null(newdata)) object$x else if (is.data.frame(newdata)) as.matrix(model.frame(delete.response(terms(object)), :\n",
            "“There are other near singularities as well. 40.625”\n"
          ]
        },
        {
          "output_type": "display_data",
          "data": {
            "text/plain": [
              "plot without title"
            ],
            "image/png": "[encoded data removed]"
          },
          "metadata": {
            "image/png": {
              "width": 900,
              "height": 300
            }
          }
        }
      ]
    },
    {
      "cell_type": "code",
      "source": [
        "# Histogram is difficult to interpret due to low observations, residuals vs\n",
        "# fitted shows a similar vertical spread and the qq plot shows approximately\n",
        "# normal residuals."
      ],
      "metadata": {
        "id": "wwOhkkDP21Z3"
      },
      "execution_count": null,
      "outputs": []
    },
    {
      "cell_type": "markdown",
      "source": [
        "## Slide 9"
      ],
      "metadata": {
        "id": "CUENq2Ej39oI"
      }
    },
    {
      "cell_type": "markdown",
      "source": [
        "Interpret the regression 𝑝 value for the model.\n"
      ],
      "metadata": {
        "id": "G_aHrYvA3_SX"
      }
    },
    {
      "cell_type": "code",
      "source": [
        "summary(m)\n",
        "glance(m)\n"
      ],
      "metadata": {
        "id": "JiYkivsLAo8U",
        "colab": {
          "base_uri": "https://localhost:8080/",
          "height": 459
        },
        "outputId": "67e7aa23-9dd8-466e-9df5-07a4d8047f09"
      },
      "execution_count": null,
      "outputs": [
        {
          "output_type": "display_data",
          "data": {
            "text/plain": [
              "\n",
              "Call:\n",
              "lm(formula = Richness ~ Location, data = df)\n",
              "\n",
              "Residuals:\n",
              "   Min     1Q Median     3Q    Max \n",
              "-4.000 -1.271 -0.125  1.667  3.000 \n",
              "\n",
              "Coefficients:\n",
              "                         Estimate Std. Error t value Pr(>|t|)    \n",
              "(Intercept)                 5.250      1.001   5.246 0.000158 ***\n",
              "LocationCedar Creek         8.083      1.292   6.256 2.94e-05 ***\n",
              "LocationSouth Pine River    1.750      1.292   1.354 0.198664    \n",
              "---\n",
              "Signif. codes:  0 ‘***’ 0.001 ‘**’ 0.01 ‘*’ 0.05 ‘.’ 0.1 ‘ ’ 1\n",
              "\n",
              "Residual standard error: 2.002 on 13 degrees of freedom\n",
              "Multiple R-squared:  0.7874,\tAdjusted R-squared:  0.7546 \n",
              "F-statistic: 24.07 on 2 and 13 DF,  p-value: 4.263e-05\n"
            ]
          },
          "metadata": {}
        },
        {
          "output_type": "display_data",
          "data": {
            "text/html": [
              "<table class=\"dataframe\">\n",
              "<caption>A tibble: 1 × 12</caption>\n",
              "<thead>\n",
              "\t<tr><th scope=col>r.squared</th><th scope=col>adj.r.squared</th><th scope=col>sigma</th><th scope=col>statistic</th><th scope=col>p.value</th><th scope=col>df</th><th scope=col>logLik</th><th scope=col>AIC</th><th scope=col>BIC</th><th scope=col>deviance</th><th scope=col>df.residual</th><th scope=col>nobs</th></tr>\n",
              "\t<tr><th scope=col>&lt;dbl&gt;</th><th scope=col>&lt;dbl&gt;</th><th scope=col>&lt;dbl&gt;</th><th scope=col>&lt;dbl&gt;</th><th scope=col>&lt;dbl&gt;</th><th scope=col>&lt;dbl&gt;</th><th scope=col>&lt;dbl&gt;</th><th scope=col>&lt;dbl&gt;</th><th scope=col>&lt;dbl&gt;</th><th scope=col>&lt;dbl&gt;</th><th scope=col>&lt;int&gt;</th><th scope=col>&lt;int&gt;</th></tr>\n",
              "</thead>\n",
              "<tbody>\n",
              "\t<tr><td>0.7873607</td><td>0.754647</td><td>2.001602</td><td>24.0682</td><td>4.26268e-05</td><td>2</td><td>-32.14507</td><td>72.29013</td><td>75.38049</td><td>52.08333</td><td>13</td><td>16</td></tr>\n",
              "</tbody>\n",
              "</table>\n"
            ],
            "text/markdown": "\nA tibble: 1 × 12\n\n| r.squared &lt;dbl&gt; | adj.r.squared &lt;dbl&gt; | sigma &lt;dbl&gt; | statistic &lt;dbl&gt; | p.value &lt;dbl&gt; | df &lt;dbl&gt; | logLik &lt;dbl&gt; | AIC &lt;dbl&gt; | BIC &lt;dbl&gt; | deviance &lt;dbl&gt; | df.residual &lt;int&gt; | nobs &lt;int&gt; |\n|---|---|---|---|---|---|---|---|---|---|---|---|\n| 0.7873607 | 0.754647 | 2.001602 | 24.0682 | 4.26268e-05 | 2 | -32.14507 | 72.29013 | 75.38049 | 52.08333 | 13 | 16 |\n\n",
            "text/latex": "A tibble: 1 × 12\n\\begin{tabular}{llllllllllll}\n r.squared & adj.r.squared & sigma & statistic & p.value & df & logLik & AIC & BIC & deviance & df.residual & nobs\\\\\n <dbl> & <dbl> & <dbl> & <dbl> & <dbl> & <dbl> & <dbl> & <dbl> & <dbl> & <dbl> & <int> & <int>\\\\\n\\hline\n\t 0.7873607 & 0.754647 & 2.001602 & 24.0682 & 4.26268e-05 & 2 & -32.14507 & 72.29013 & 75.38049 & 52.08333 & 13 & 16\\\\\n\\end{tabular}\n",
            "text/plain": [
              "      r.squared adj.r.squared sigma    statistic p.value     df logLik   \n",
              "value 0.7873607 0.754647      2.001602 24.0682   4.26268e-05 2  -32.14507\n",
              "      AIC      BIC      deviance df.residual nobs\n",
              "value 72.29013 75.38049 52.08333 13          16  "
            ]
          },
          "metadata": {}
        }
      ]
    },
    {
      "cell_type": "code",
      "source": [
        "summary(aov(Richness ~ Location, df))"
      ],
      "metadata": {
        "colab": {
          "base_uri": "https://localhost:8080/",
          "height": 104
        },
        "id": "FpAP6RzotKF3",
        "outputId": "cb6299ce-a406-4d24-cf52-8ad35ccf08f5"
      },
      "execution_count": null,
      "outputs": [
        {
          "output_type": "display_data",
          "data": {
            "text/plain": [
              "            Df Sum Sq Mean Sq F value   Pr(>F)    \n",
              "Location     2 192.85   96.43   24.07 4.26e-05 ***\n",
              "Residuals   13  52.08    4.01                     \n",
              "---\n",
              "Signif. codes:  0 ‘***’ 0.001 ‘**’ 0.01 ‘*’ 0.05 ‘.’ 0.1 ‘ ’ 1"
            ]
          },
          "metadata": {}
        }
      ]
    },
    {
      "cell_type": "code",
      "source": [
        "# For our whole model, we have a p value of 4.26*10^(-5), or 4.26e-5.\n",
        "# Indicates that we have evidence to reject the hypothesis that the effect of\n",
        "# location is zero.\n",
        "# Conclude that location explains variation in richness."
      ],
      "metadata": {
        "id": "zLntmAP-37lY"
      },
      "execution_count": null,
      "outputs": []
    },
    {
      "cell_type": "markdown",
      "source": [
        "## Slide 10"
      ],
      "metadata": {
        "id": "RiaQ3fFt4XYz"
      }
    },
    {
      "cell_type": "markdown",
      "source": [
        "1. Fit a model which contains no slope term for richness and calculate the F statistic using the equation from week 9.\n",
        "$$\n",
        "    F = \\frac{\\frac{SSE_1 − SSE_2}{\\nu_1 - \\nu_2}}{\\frac{SSE_2}{\\nu_2}}\n",
        "$$\n",
        "\n",
        "1. Using this statistic, find the 𝑝 value for the ANOVA and determine whether there is a difference in means across locations.\n"
      ],
      "metadata": {
        "id": "Lc6hiYNB4XRr"
      }
    },
    {
      "cell_type": "code",
      "source": [
        "# Fit a model with contains no slope term:\n",
        "m0 <- lm(Richness ~ 1, df)\n",
        "summary(m0)"
      ],
      "metadata": {
        "id": "378vrMBV-uaJ",
        "colab": {
          "base_uri": "https://localhost:8080/",
          "height": 277
        },
        "outputId": "f2a68482-042e-4678-828e-0f21a37fa72e"
      },
      "execution_count": null,
      "outputs": [
        {
          "output_type": "display_data",
          "data": {
            "text/plain": [
              "\n",
              "Call:\n",
              "lm(formula = Richness ~ 1, data = df)\n",
              "\n",
              "Residuals:\n",
              "    Min      1Q  Median      3Q     Max \n",
              "-5.9375 -3.9375 -0.4375  3.3125  6.0625 \n",
              "\n",
              "Coefficients:\n",
              "            Estimate Std. Error t value Pr(>|t|)    \n",
              "(Intercept)    8.938      1.010   8.847 2.44e-07 ***\n",
              "---\n",
              "Signif. codes:  0 ‘***’ 0.001 ‘**’ 0.01 ‘*’ 0.05 ‘.’ 0.1 ‘ ’ 1\n",
              "\n",
              "Residual standard error: 4.041 on 15 degrees of freedom\n"
            ]
          },
          "metadata": {}
        }
      ]
    },
    {
      "cell_type": "code",
      "source": [
        "# Calculate sum of squared errors:\n",
        "SSE_1 <- fortify(m0) |>\n",
        "  summarise(SSE_1 = sum(.resid^2))\n",
        "SSE_1\n",
        "\n",
        "SSE_2 <- fortify(m) |>\n",
        "  summarise(SSE_2 = sum(.resid^2))\n",
        "SSE_2"
      ],
      "metadata": {
        "id": "Dk0VkP5L5bRe",
        "colab": {
          "base_uri": "https://localhost:8080/",
          "height": 311
        },
        "outputId": "df17d956-a48b-4d71-e39a-24cc0f403ab1"
      },
      "execution_count": null,
      "outputs": [
        {
          "output_type": "display_data",
          "data": {
            "text/html": [
              "<table class=\"dataframe\">\n",
              "<caption>A data.frame: 1 × 1</caption>\n",
              "<thead>\n",
              "\t<tr><th scope=col>SSE_1</th></tr>\n",
              "\t<tr><th scope=col>&lt;dbl&gt;</th></tr>\n",
              "</thead>\n",
              "<tbody>\n",
              "\t<tr><td>244.9375</td></tr>\n",
              "</tbody>\n",
              "</table>\n"
            ],
            "text/markdown": "\nA data.frame: 1 × 1\n\n| SSE_1 &lt;dbl&gt; |\n|---|\n| 244.9375 |\n\n",
            "text/latex": "A data.frame: 1 × 1\n\\begin{tabular}{l}\n SSE\\_1\\\\\n <dbl>\\\\\n\\hline\n\t 244.9375\\\\\n\\end{tabular}\n",
            "text/plain": [
              "  SSE_1   \n",
              "1 244.9375"
            ]
          },
          "metadata": {}
        },
        {
          "output_type": "display_data",
          "data": {
            "text/html": [
              "<table class=\"dataframe\">\n",
              "<caption>A data.frame: 1 × 1</caption>\n",
              "<thead>\n",
              "\t<tr><th scope=col>SSE_2</th></tr>\n",
              "\t<tr><th scope=col>&lt;dbl&gt;</th></tr>\n",
              "</thead>\n",
              "<tbody>\n",
              "\t<tr><td>52.08333</td></tr>\n",
              "</tbody>\n",
              "</table>\n"
            ],
            "text/markdown": "\nA data.frame: 1 × 1\n\n| SSE_2 &lt;dbl&gt; |\n|---|\n| 52.08333 |\n\n",
            "text/latex": "A data.frame: 1 × 1\n\\begin{tabular}{l}\n SSE\\_2\\\\\n <dbl>\\\\\n\\hline\n\t 52.08333\\\\\n\\end{tabular}\n",
            "text/plain": [
              "  SSE_2   \n",
              "1 52.08333"
            ]
          },
          "metadata": {}
        }
      ]
    },
    {
      "cell_type": "code",
      "source": [
        "# Use glance() to find model degrees of freedom:\n",
        "(nu_1 <- glance(m0)$df.residual)\n",
        "(nu_2 <- glance(m)$df.residual)"
      ],
      "metadata": {
        "id": "O2ppKjmN7dQE",
        "colab": {
          "base_uri": "https://localhost:8080/",
          "height": 52
        },
        "outputId": "6923eb30-0412-444e-f92f-af6899574a1f"
      },
      "execution_count": null,
      "outputs": [
        {
          "output_type": "display_data",
          "data": {
            "text/html": [
              "15"
            ],
            "text/markdown": "15",
            "text/latex": "15",
            "text/plain": [
              "[1] 15"
            ]
          },
          "metadata": {}
        },
        {
          "output_type": "display_data",
          "data": {
            "text/html": [
              "13"
            ],
            "text/markdown": "13",
            "text/latex": "13",
            "text/plain": [
              "[1] 13"
            ]
          },
          "metadata": {}
        }
      ]
    },
    {
      "cell_type": "code",
      "source": [
        "# Calculate the test statistic:\n",
        "(ts <- as.numeric(((SSE_1 - SSE_2)/(nu_1 - nu_2))/(SSE_2/nu_2)))"
      ],
      "metadata": {
        "id": "8iHAgZi17oya",
        "colab": {
          "base_uri": "https://localhost:8080/",
          "height": 34
        },
        "outputId": "baaf3ace-7228-49a6-a274-e203646ffb87"
      },
      "execution_count": null,
      "outputs": [
        {
          "output_type": "display_data",
          "data": {
            "text/html": [
              "24.0682"
            ],
            "text/markdown": "24.0682",
            "text/latex": "24.0682",
            "text/plain": [
              "[1] 24.0682"
            ]
          },
          "metadata": {}
        }
      ]
    },
    {
      "cell_type": "code",
      "source": [
        "# Visual:\n",
        "ggplot(data=data.frame(x=c(0, 30)), aes(x=x)) +\n",
        "  theme_bw() + xlab(\"Test statistic\") + ylab(\"density\") +\n",
        "  geom_vline(xintercept=ts, lty=2) +\n",
        "  ggtitle(\"F test with 2,13 degrees of freedom\") +\n",
        "  stat_function(fun = stats::df, args=list(df1=nu_1 - nu_2, df2=nu_2), geom=\"line\")"
      ],
      "metadata": {
        "id": "kCpwURXu8DNz",
        "colab": {
          "base_uri": "https://localhost:8080/",
          "height": 317
        },
        "outputId": "b81f8f14-0d38-4925-e0dd-57c9ed5b40dc"
      },
      "execution_count": null,
      "outputs": [
        {
          "output_type": "display_data",
          "data": {
            "text/plain": [
              "plot without title"
            ],
            "image/png": "[encoded data removed]"
          },
          "metadata": {
            "image/png": {
              "width": 900,
              "height": 300
            }
          }
        }
      ]
    },
    {
      "cell_type": "code",
      "source": [
        "# note the use of `stats::df` since I'm using `df` for my dataframe\n",
        "# try this if you see something like :\n",
        "\n",
        "# Warning message:\n",
        "# “Computation failed in `stat_function()`\n",
        "# Caused by error in `fun()`:\n",
        "# ! could not find function \"fun\"”"
      ],
      "metadata": {
        "id": "PXtHfvVYBL6q"
      },
      "execution_count": null,
      "outputs": []
    },
    {
      "cell_type": "code",
      "source": [
        "# p value calculation:\n",
        "pf(q=ts, df1=nu_1 - nu_2, df2=nu_2, lower.tail=F)"
      ],
      "metadata": {
        "id": "JFd-u60-BhDx",
        "colab": {
          "base_uri": "https://localhost:8080/",
          "height": 34
        },
        "outputId": "e502928f-8009-4070-e4e7-5906577146e9"
      },
      "execution_count": null,
      "outputs": [
        {
          "output_type": "display_data",
          "data": {
            "text/html": [
              "4.2626795756024e-05"
            ],
            "text/markdown": "4.2626795756024e-05",
            "text/latex": "4.2626795756024e-05",
            "text/plain": [
              "[1] 4.26268e-05"
            ]
          },
          "metadata": {}
        }
      ]
    },
    {
      "cell_type": "code",
      "source": [
        "# There is significant evidence against the null hypothesis (p value = 4.26e-5).\n",
        "# Therefore, there is a difference in means across locations.\n",
        "\n",
        "# With only one explanatory variable, this is the same as the full F test:\n",
        "summary(aov(Richness ~ Location, df))"
      ],
      "metadata": {
        "id": "2vpzt4kOBkpQ",
        "colab": {
          "base_uri": "https://localhost:8080/",
          "height": 104
        },
        "outputId": "d8afba50-15ca-4430-e830-8daf03767d67"
      },
      "execution_count": null,
      "outputs": [
        {
          "output_type": "display_data",
          "data": {
            "text/plain": [
              "            Df Sum Sq Mean Sq F value   Pr(>F)    \n",
              "Location     2 192.85   96.43   24.07 4.26e-05 ***\n",
              "Residuals   13  52.08    4.01                     \n",
              "---\n",
              "Signif. codes:  0 ‘***’ 0.001 ‘**’ 0.01 ‘*’ 0.05 ‘.’ 0.1 ‘ ’ 1"
            ]
          },
          "metadata": {}
        }
      ]
    },
    {
      "cell_type": "markdown",
      "source": [
        "## Slide 12"
      ],
      "metadata": {
        "id": "NNheBJtUCvLn"
      }
    },
    {
      "cell_type": "markdown",
      "source": [
        "1. Using the same explanatory variables, fit a model without an intercept by specifying “-1” in our model.\n",
        "1. Compare the reported 𝑅^2 value to the true value, given by the equation\n",
        "\n",
        "$$\n",
        "R^2 = 1 - \\frac{\\sum^n_1(y_i - \\hat{y}_i)^2}{\\sum^n_1(y_i - \\bar{y}_i)^2}\n",
        "$$"
      ],
      "metadata": {
        "id": "m0JOSkiFCxxf"
      }
    },
    {
      "cell_type": "code",
      "source": [
        "# Fit model without intercept.\n",
        "summary(ms <- lm(Richness ~ Location -1, df))\n",
        "# summary(ms <- lm(Richness ~ Location -1, df))$r.squared"
      ],
      "metadata": {
        "id": "bsiG-aAE-u_7",
        "colab": {
          "base_uri": "https://localhost:8080/",
          "height": 347
        },
        "outputId": "62b2c5d5-e000-4b67-a9fe-9914dfcb7a5b"
      },
      "execution_count": null,
      "outputs": [
        {
          "output_type": "display_data",
          "data": {
            "text/plain": [
              "\n",
              "Call:\n",
              "lm(formula = Richness ~ Location - 1, data = df)\n",
              "\n",
              "Residuals:\n",
              "   Min     1Q Median     3Q    Max \n",
              "-4.000 -1.271 -0.125  1.667  3.000 \n",
              "\n",
              "Coefficients:\n",
              "                           Estimate Std. Error t value Pr(>|t|)    \n",
              "LocationCabbage Tree Creek   5.2500     1.0008   5.246 0.000158 ***\n",
              "LocationCedar Creek         13.3333     0.8172  16.317 4.87e-10 ***\n",
              "LocationSouth Pine River     7.0000     0.8172   8.566 1.05e-06 ***\n",
              "---\n",
              "Signif. codes:  0 ‘***’ 0.001 ‘**’ 0.01 ‘*’ 0.05 ‘.’ 0.1 ‘ ’ 1\n",
              "\n",
              "Residual standard error: 2.002 on 13 degrees of freedom\n",
              "Multiple R-squared:  0.9658,\tAdjusted R-squared:  0.9579 \n",
              "F-statistic: 122.4 on 3 and 13 DF,  p-value: 8.855e-10\n"
            ]
          },
          "metadata": {}
        }
      ]
    },
    {
      "cell_type": "code",
      "source": [
        "# Calculate true R-squared:\n",
        "1 - sum(residuals(ms)^2) /\n",
        "  sum((df$Richness - mean(df$Richness))^2)"
      ],
      "metadata": {
        "id": "kIQpfHv1D7KZ",
        "colab": {
          "base_uri": "https://localhost:8080/",
          "height": 34
        },
        "outputId": "d1940207-2b2e-42b0-8b71-18a6767b190b"
      },
      "execution_count": null,
      "outputs": [
        {
          "output_type": "display_data",
          "data": {
            "text/html": [
              "0.787360721272433"
            ],
            "text/markdown": "0.787360721272433",
            "text/latex": "0.787360721272433",
            "text/plain": [
              "[1] 0.7873607"
            ]
          },
          "metadata": {}
        }
      ]
    },
    {
      "cell_type": "code",
      "source": [
        "# Pretty large difference! Keep this in mind when fitting models without\n",
        "# intercepts!"
      ],
      "metadata": {
        "id": "DutDWtrkh6oi"
      },
      "execution_count": null,
      "outputs": []
    },
    {
      "cell_type": "markdown",
      "source": [
        "## Slide 14"
      ],
      "metadata": {
        "id": "aHgqkpvPiKiM"
      }
    },
    {
      "cell_type": "markdown",
      "source": [
        "Calculate and visualise the CIs and PIs for the full model and present your interpretation of the model, stating confidence intervals for the difference between locations as well as reporting the richness estimate and confidence interval for each location.\n"
      ],
      "metadata": {
        "id": "Uc3HQ3oLiKKt"
      }
    },
    {
      "cell_type": "code",
      "source": [
        "# We already have the confidence intervals from earlier:\n",
        "loc.ci"
      ],
      "metadata": {
        "id": "6IgLuVC2AoAP",
        "colab": {
          "base_uri": "https://localhost:8080/",
          "height": 192
        },
        "outputId": "bd5002e3-5206-4f44-d7fa-30dd44bc0d3c"
      },
      "execution_count": null,
      "outputs": [
        {
          "output_type": "display_data",
          "data": {
            "text/html": [
              "<table class=\"dataframe\">\n",
              "<caption>A tibble: 3 × 4</caption>\n",
              "<thead>\n",
              "\t<tr><th></th><th scope=col>Location</th><th scope=col>fit</th><th scope=col>lwr</th><th scope=col>upr</th></tr>\n",
              "\t<tr><th></th><th scope=col>&lt;fct&gt;</th><th scope=col>&lt;dbl&gt;</th><th scope=col>&lt;dbl&gt;</th><th scope=col>&lt;dbl&gt;</th></tr>\n",
              "</thead>\n",
              "<tbody>\n",
              "\t<tr><th scope=row>1</th><td>Cedar Creek       </td><td>13.33333</td><td>11.567987</td><td>15.098680</td></tr>\n",
              "\t<tr><th scope=row>2</th><td>South Pine River  </td><td> 7.00000</td><td> 5.234654</td><td> 8.765346</td></tr>\n",
              "\t<tr><th scope=row>3</th><td>Cabbage Tree Creek</td><td> 5.25000</td><td> 3.087901</td><td> 7.412099</td></tr>\n",
              "</tbody>\n",
              "</table>\n"
            ],
            "text/markdown": "\nA tibble: 3 × 4\n\n| <!--/--> | Location &lt;fct&gt; | fit &lt;dbl&gt; | lwr &lt;dbl&gt; | upr &lt;dbl&gt; |\n|---|---|---|---|---|\n| 1 | Cedar Creek        | 13.33333 | 11.567987 | 15.098680 |\n| 2 | South Pine River   |  7.00000 |  5.234654 |  8.765346 |\n| 3 | Cabbage Tree Creek |  5.25000 |  3.087901 |  7.412099 |\n\n",
            "text/latex": "A tibble: 3 × 4\n\\begin{tabular}{r|llll}\n  & Location & fit & lwr & upr\\\\\n  & <fct> & <dbl> & <dbl> & <dbl>\\\\\n\\hline\n\t1 & Cedar Creek        & 13.33333 & 11.567987 & 15.098680\\\\\n\t2 & South Pine River   &  7.00000 &  5.234654 &  8.765346\\\\\n\t3 & Cabbage Tree Creek &  5.25000 &  3.087901 &  7.412099\\\\\n\\end{tabular}\n",
            "text/plain": [
              "  Location           fit      lwr       upr      \n",
              "1 Cedar Creek        13.33333 11.567987 15.098680\n",
              "2 South Pine River    7.00000  5.234654  8.765346\n",
              "3 Cabbage Tree Creek  5.25000  3.087901  7.412099"
            ]
          },
          "metadata": {}
        }
      ]
    },
    {
      "cell_type": "code",
      "source": [
        "# Prediction intervals are the same set of functions, but with the \"prediction\"\n",
        "# interval argument in predict().\n",
        "loc.pi <- data.frame(predict(object = m,\n",
        "                            newdata=newdata,\n",
        "                            interval=\"prediction\"))\n",
        "(loc.pi <- bind_cols(newdata, loc.pi))"
      ],
      "metadata": {
        "id": "N_RF_Dn4iW5Q",
        "colab": {
          "base_uri": "https://localhost:8080/",
          "height": 192
        },
        "outputId": "c85a78f0-5753-42b2-cdb8-f2d8c5204521"
      },
      "execution_count": null,
      "outputs": [
        {
          "output_type": "display_data",
          "data": {
            "text/html": [
              "<table class=\"dataframe\">\n",
              "<caption>A tibble: 3 × 4</caption>\n",
              "<thead>\n",
              "\t<tr><th></th><th scope=col>Location</th><th scope=col>fit</th><th scope=col>lwr</th><th scope=col>upr</th></tr>\n",
              "\t<tr><th></th><th scope=col>&lt;fct&gt;</th><th scope=col>&lt;dbl&gt;</th><th scope=col>&lt;dbl&gt;</th><th scope=col>&lt;dbl&gt;</th></tr>\n",
              "</thead>\n",
              "<tbody>\n",
              "\t<tr><th scope=row>1</th><td>Cedar Creek       </td><td>13.33333</td><td>8.6626656</td><td>18.00400</td></tr>\n",
              "\t<tr><th scope=row>2</th><td>South Pine River  </td><td> 7.00000</td><td>2.3293323</td><td>11.67067</td></tr>\n",
              "\t<tr><th scope=row>3</th><td>Cabbage Tree Creek</td><td> 5.25000</td><td>0.4153996</td><td>10.08460</td></tr>\n",
              "</tbody>\n",
              "</table>\n"
            ],
            "text/markdown": "\nA tibble: 3 × 4\n\n| <!--/--> | Location &lt;fct&gt; | fit &lt;dbl&gt; | lwr &lt;dbl&gt; | upr &lt;dbl&gt; |\n|---|---|---|---|---|\n| 1 | Cedar Creek        | 13.33333 | 8.6626656 | 18.00400 |\n| 2 | South Pine River   |  7.00000 | 2.3293323 | 11.67067 |\n| 3 | Cabbage Tree Creek |  5.25000 | 0.4153996 | 10.08460 |\n\n",
            "text/latex": "A tibble: 3 × 4\n\\begin{tabular}{r|llll}\n  & Location & fit & lwr & upr\\\\\n  & <fct> & <dbl> & <dbl> & <dbl>\\\\\n\\hline\n\t1 & Cedar Creek        & 13.33333 & 8.6626656 & 18.00400\\\\\n\t2 & South Pine River   &  7.00000 & 2.3293323 & 11.67067\\\\\n\t3 & Cabbage Tree Creek &  5.25000 & 0.4153996 & 10.08460\\\\\n\\end{tabular}\n",
            "text/plain": [
              "  Location           fit      lwr       upr     \n",
              "1 Cedar Creek        13.33333 8.6626656 18.00400\n",
              "2 South Pine River    7.00000 2.3293323 11.67067\n",
              "3 Cabbage Tree Creek  5.25000 0.4153996 10.08460"
            ]
          },
          "metadata": {}
        }
      ]
    },
    {
      "cell_type": "code",
      "source": [
        "# Remember, we're looking at intervals at each level of our categorical\n",
        "# variable, so our visual looks a little different from our regression\n",
        "# intervals.\n",
        "\n",
        "# First we need to make a combined set of intervals\n",
        "(\n",
        "  loc.intervals <- list(Confidence = loc.ci,\n",
        "                      Prediction = loc.pi) |>\n",
        "  bind_rows(.id=\"Interval\")\n",
        ")\n"
      ],
      "metadata": {
        "id": "5Ji2Dv_UjOvW",
        "colab": {
          "base_uri": "https://localhost:8080/",
          "height": 286
        },
        "outputId": "46b9a8af-a074-4a0e-acae-7376f31881db"
      },
      "execution_count": null,
      "outputs": [
        {
          "output_type": "display_data",
          "data": {
            "text/html": [
              "<table class=\"dataframe\">\n",
              "<caption>A tibble: 6 × 5</caption>\n",
              "<thead>\n",
              "\t<tr><th></th><th scope=col>Interval</th><th scope=col>Location</th><th scope=col>fit</th><th scope=col>lwr</th><th scope=col>upr</th></tr>\n",
              "\t<tr><th></th><th scope=col>&lt;chr&gt;</th><th scope=col>&lt;fct&gt;</th><th scope=col>&lt;dbl&gt;</th><th scope=col>&lt;dbl&gt;</th><th scope=col>&lt;dbl&gt;</th></tr>\n",
              "</thead>\n",
              "<tbody>\n",
              "\t<tr><th scope=row>1</th><td>Confidence</td><td>Cedar Creek       </td><td>13.33333</td><td>11.5679869</td><td>15.098680</td></tr>\n",
              "\t<tr><th scope=row>2</th><td>Confidence</td><td>South Pine River  </td><td> 7.00000</td><td> 5.2346535</td><td> 8.765346</td></tr>\n",
              "\t<tr><th scope=row>3</th><td>Confidence</td><td>Cabbage Tree Creek</td><td> 5.25000</td><td> 3.0879010</td><td> 7.412099</td></tr>\n",
              "\t<tr><th scope=row>4</th><td>Prediction</td><td>Cedar Creek       </td><td>13.33333</td><td> 8.6626656</td><td>18.004001</td></tr>\n",
              "\t<tr><th scope=row>5</th><td>Prediction</td><td>South Pine River  </td><td> 7.00000</td><td> 2.3293323</td><td>11.670668</td></tr>\n",
              "\t<tr><th scope=row>6</th><td>Prediction</td><td>Cabbage Tree Creek</td><td> 5.25000</td><td> 0.4153996</td><td>10.084600</td></tr>\n",
              "</tbody>\n",
              "</table>\n"
            ],
            "text/markdown": "\nA tibble: 6 × 5\n\n| <!--/--> | Interval &lt;chr&gt; | Location &lt;fct&gt; | fit &lt;dbl&gt; | lwr &lt;dbl&gt; | upr &lt;dbl&gt; |\n|---|---|---|---|---|---|\n| 1 | Confidence | Cedar Creek        | 13.33333 | 11.5679869 | 15.098680 |\n| 2 | Confidence | South Pine River   |  7.00000 |  5.2346535 |  8.765346 |\n| 3 | Confidence | Cabbage Tree Creek |  5.25000 |  3.0879010 |  7.412099 |\n| 4 | Prediction | Cedar Creek        | 13.33333 |  8.6626656 | 18.004001 |\n| 5 | Prediction | South Pine River   |  7.00000 |  2.3293323 | 11.670668 |\n| 6 | Prediction | Cabbage Tree Creek |  5.25000 |  0.4153996 | 10.084600 |\n\n",
            "text/latex": "A tibble: 6 × 5\n\\begin{tabular}{r|lllll}\n  & Interval & Location & fit & lwr & upr\\\\\n  & <chr> & <fct> & <dbl> & <dbl> & <dbl>\\\\\n\\hline\n\t1 & Confidence & Cedar Creek        & 13.33333 & 11.5679869 & 15.098680\\\\\n\t2 & Confidence & South Pine River   &  7.00000 &  5.2346535 &  8.765346\\\\\n\t3 & Confidence & Cabbage Tree Creek &  5.25000 &  3.0879010 &  7.412099\\\\\n\t4 & Prediction & Cedar Creek        & 13.33333 &  8.6626656 & 18.004001\\\\\n\t5 & Prediction & South Pine River   &  7.00000 &  2.3293323 & 11.670668\\\\\n\t6 & Prediction & Cabbage Tree Creek &  5.25000 &  0.4153996 & 10.084600\\\\\n\\end{tabular}\n",
            "text/plain": [
              "  Interval   Location           fit      lwr        upr      \n",
              "1 Confidence Cedar Creek        13.33333 11.5679869 15.098680\n",
              "2 Confidence South Pine River    7.00000  5.2346535  8.765346\n",
              "3 Confidence Cabbage Tree Creek  5.25000  3.0879010  7.412099\n",
              "4 Prediction Cedar Creek        13.33333  8.6626656 18.004001\n",
              "5 Prediction South Pine River    7.00000  2.3293323 11.670668\n",
              "6 Prediction Cabbage Tree Creek  5.25000  0.4153996 10.084600"
            ]
          },
          "metadata": {}
        }
      ]
    },
    {
      "cell_type": "code",
      "source": [
        "# now plot\n",
        "ggplot(data=df, aes(x=Location)) +\n",
        "  geom_point(position=position_jitter(w=0.1, h=0),\n",
        "             aes(y= Richness)) +\n",
        "  coord_flip() +\n",
        "  geom_linerange(aes(ymin=lwr, ymax=upr, color=Interval), data=loc.intervals,\n",
        "                 alpha=0.25, linewidth=2) +\n",
        "  theme(legend.position=\"bottom\")"
      ],
      "metadata": {
        "id": "YBs-2Bmljo4Z",
        "colab": {
          "base_uri": "https://localhost:8080/",
          "height": 317
        },
        "outputId": "a52c7fb4-ee3e-4204-a16a-dc03197b7966"
      },
      "execution_count": null,
      "outputs": [
        {
          "output_type": "display_data",
          "data": {
            "text/plain": [
              "plot without title"
            ],
            "image/png": "[encoded data removed]"
          },
          "metadata": {
            "image/png": {
              "width": 900,
              "height": 300
            }
          }
        }
      ]
    },
    {
      "cell_type": "code",
      "source": [
        "# and the model summary to interpret\n",
        "summary(m)"
      ],
      "metadata": {
        "id": "lw1Ps851kJQt",
        "colab": {
          "base_uri": "https://localhost:8080/",
          "height": 347
        },
        "outputId": "9079e7ad-10b7-48b6-a368-661346d013a2"
      },
      "execution_count": null,
      "outputs": [
        {
          "output_type": "display_data",
          "data": {
            "text/plain": [
              "\n",
              "Call:\n",
              "lm(formula = Richness ~ Location, data = df)\n",
              "\n",
              "Residuals:\n",
              "   Min     1Q Median     3Q    Max \n",
              "-4.000 -1.271 -0.125  1.667  3.000 \n",
              "\n",
              "Coefficients:\n",
              "                         Estimate Std. Error t value Pr(>|t|)    \n",
              "(Intercept)                 5.250      1.001   5.246 0.000158 ***\n",
              "LocationCedar Creek         8.083      1.292   6.256 2.94e-05 ***\n",
              "LocationSouth Pine River    1.750      1.292   1.354 0.198664    \n",
              "---\n",
              "Signif. codes:  0 ‘***’ 0.001 ‘**’ 0.01 ‘*’ 0.05 ‘.’ 0.1 ‘ ’ 1\n",
              "\n",
              "Residual standard error: 2.002 on 13 degrees of freedom\n",
              "Multiple R-squared:  0.7874,\tAdjusted R-squared:  0.7546 \n",
              "F-statistic: 24.07 on 2 and 13 DF,  p-value: 4.263e-05\n"
            ]
          },
          "metadata": {}
        }
      ]
    },
    {
      "cell_type": "code",
      "source": [
        "# Interpretation:\n",
        "# Fitted a model of species richness regressed on location.\n",
        "\n",
        "# Baseline richness at Cabbage Tree Creek was 5.25 with 95% CI of (3.09, 7.41)\n",
        "\n",
        "# Richness at South Pine River was not different to Cabbage Tree Creek, as 95%\n",
        "# CI for difference was (-1.041, 4.541)\n",
        "# - Richness at South Pine River was estimated as 7 with 95% CI of (5.23, 8.77)\n",
        "\n",
        "# Richness at Cedar Creek was different to Cabbage Tree Creek, as 95% CI for\n",
        "# difference was (5.292, 10.875)\n",
        "# - Richness at Cedar Creek was estimated as 13.33 with 95% CI of (11.57, 15.1)\n",
        "\n",
        "# R-squared indicated 78.74% of the variability in richness explained by\n",
        "# location.\n",
        "\n"
      ],
      "metadata": {
        "id": "6J5tUc4ekMRT"
      },
      "execution_count": null,
      "outputs": []
    },
    {
      "cell_type": "markdown",
      "source": [
        "## Slide 16"
      ],
      "metadata": {
        "id": "LsPtEng1kjJP"
      }
    },
    {
      "cell_type": "markdown",
      "source": [
        "1. Use `fct_relevel()` to modify the model, setting Cedar Creek as the baseline location. What effect does that have on our model fit?\n"
      ],
      "metadata": {
        "id": "0zmLaEC1kiz7"
      }
    },
    {
      "cell_type": "code",
      "source": [
        "# Currently, our creeks are ordered alphabetically:\n",
        "df$Location"
      ],
      "metadata": {
        "id": "kj6WJrjjDHmv",
        "colab": {
          "base_uri": "https://localhost:8080/",
          "height": 86
        },
        "outputId": "aea5801a-fae9-4904-f49d-050f2f953315"
      },
      "execution_count": null,
      "outputs": [
        {
          "output_type": "display_data",
          "data": {
            "text/html": [
              "<style>\n",
              ".list-inline {list-style: none; margin:0; padding: 0}\n",
              ".list-inline>li {display: inline-block}\n",
              ".list-inline>li:not(:last-child)::after {content: \"\\00b7\"; padding: 0 .5ex}\n",
              "</style>\n",
              "<ol class=list-inline><li>Cedar Creek</li><li>Cedar Creek</li><li>Cedar Creek</li><li>Cedar Creek</li><li>Cedar Creek</li><li>Cedar Creek</li><li>South Pine River</li><li>South Pine River</li><li>South Pine River</li><li>South Pine River</li><li>South Pine River</li><li>South Pine River</li><li>Cabbage Tree Creek</li><li>Cabbage Tree Creek</li><li>Cabbage Tree Creek</li><li>Cabbage Tree Creek</li></ol>\n",
              "\n",
              "<details>\n",
              "\t<summary style=display:list-item;cursor:pointer>\n",
              "\t\t<strong>Levels</strong>:\n",
              "\t</summary>\n",
              "\t<style>\n",
              "\t.list-inline {list-style: none; margin:0; padding: 0}\n",
              "\t.list-inline>li {display: inline-block}\n",
              "\t.list-inline>li:not(:last-child)::after {content: \"\\00b7\"; padding: 0 .5ex}\n",
              "\t</style>\n",
              "\t<ol class=list-inline><li>'Cabbage Tree Creek'</li><li>'Cedar Creek'</li><li>'South Pine River'</li></ol>\n",
              "</details>"
            ],
            "text/markdown": "1. Cedar Creek\n2. Cedar Creek\n3. Cedar Creek\n4. Cedar Creek\n5. Cedar Creek\n6. Cedar Creek\n7. South Pine River\n8. South Pine River\n9. South Pine River\n10. South Pine River\n11. South Pine River\n12. South Pine River\n13. Cabbage Tree Creek\n14. Cabbage Tree Creek\n15. Cabbage Tree Creek\n16. Cabbage Tree Creek\n\n\n\n**Levels**: 1. 'Cabbage Tree Creek'\n2. 'Cedar Creek'\n3. 'South Pine River'\n\n\n",
            "text/latex": "\\begin{enumerate*}\n\\item Cedar Creek\n\\item Cedar Creek\n\\item Cedar Creek\n\\item Cedar Creek\n\\item Cedar Creek\n\\item Cedar Creek\n\\item South Pine River\n\\item South Pine River\n\\item South Pine River\n\\item South Pine River\n\\item South Pine River\n\\item South Pine River\n\\item Cabbage Tree Creek\n\\item Cabbage Tree Creek\n\\item Cabbage Tree Creek\n\\item Cabbage Tree Creek\n\\end{enumerate*}\n\n\\emph{Levels}: \\begin{enumerate*}\n\\item 'Cabbage Tree Creek'\n\\item 'Cedar Creek'\n\\item 'South Pine River'\n\\end{enumerate*}\n",
            "text/plain": [
              " [1] Cedar Creek        Cedar Creek        Cedar Creek        Cedar Creek       \n",
              " [5] Cedar Creek        Cedar Creek        South Pine River   South Pine River  \n",
              " [9] South Pine River   South Pine River   South Pine River   South Pine River  \n",
              "[13] Cabbage Tree Creek Cabbage Tree Creek Cabbage Tree Creek Cabbage Tree Creek\n",
              "Levels: Cabbage Tree Creek Cedar Creek South Pine River"
            ]
          },
          "metadata": {}
        }
      ]
    },
    {
      "cell_type": "code",
      "source": [
        "# Setting Cedar Creek as baseline:\n",
        "df <- mutate(df, Location = fct_relevel(Location, \"Cedar Creek\"))\n",
        "df$Location\n"
      ],
      "metadata": {
        "id": "ZLzCs4Z4k1q7",
        "colab": {
          "base_uri": "https://localhost:8080/",
          "height": 86
        },
        "outputId": "961a07ad-37ed-4bee-e41d-c603f2db949e"
      },
      "execution_count": null,
      "outputs": [
        {
          "output_type": "display_data",
          "data": {
            "text/html": [
              "<style>\n",
              ".list-inline {list-style: none; margin:0; padding: 0}\n",
              ".list-inline>li {display: inline-block}\n",
              ".list-inline>li:not(:last-child)::after {content: \"\\00b7\"; padding: 0 .5ex}\n",
              "</style>\n",
              "<ol class=list-inline><li>Cedar Creek</li><li>Cedar Creek</li><li>Cedar Creek</li><li>Cedar Creek</li><li>Cedar Creek</li><li>Cedar Creek</li><li>South Pine River</li><li>South Pine River</li><li>South Pine River</li><li>South Pine River</li><li>South Pine River</li><li>South Pine River</li><li>Cabbage Tree Creek</li><li>Cabbage Tree Creek</li><li>Cabbage Tree Creek</li><li>Cabbage Tree Creek</li></ol>\n",
              "\n",
              "<details>\n",
              "\t<summary style=display:list-item;cursor:pointer>\n",
              "\t\t<strong>Levels</strong>:\n",
              "\t</summary>\n",
              "\t<style>\n",
              "\t.list-inline {list-style: none; margin:0; padding: 0}\n",
              "\t.list-inline>li {display: inline-block}\n",
              "\t.list-inline>li:not(:last-child)::after {content: \"\\00b7\"; padding: 0 .5ex}\n",
              "\t</style>\n",
              "\t<ol class=list-inline><li>'Cedar Creek'</li><li>'Cabbage Tree Creek'</li><li>'South Pine River'</li></ol>\n",
              "</details>"
            ],
            "text/markdown": "1. Cedar Creek\n2. Cedar Creek\n3. Cedar Creek\n4. Cedar Creek\n5. Cedar Creek\n6. Cedar Creek\n7. South Pine River\n8. South Pine River\n9. South Pine River\n10. South Pine River\n11. South Pine River\n12. South Pine River\n13. Cabbage Tree Creek\n14. Cabbage Tree Creek\n15. Cabbage Tree Creek\n16. Cabbage Tree Creek\n\n\n\n**Levels**: 1. 'Cedar Creek'\n2. 'Cabbage Tree Creek'\n3. 'South Pine River'\n\n\n",
            "text/latex": "\\begin{enumerate*}\n\\item Cedar Creek\n\\item Cedar Creek\n\\item Cedar Creek\n\\item Cedar Creek\n\\item Cedar Creek\n\\item Cedar Creek\n\\item South Pine River\n\\item South Pine River\n\\item South Pine River\n\\item South Pine River\n\\item South Pine River\n\\item South Pine River\n\\item Cabbage Tree Creek\n\\item Cabbage Tree Creek\n\\item Cabbage Tree Creek\n\\item Cabbage Tree Creek\n\\end{enumerate*}\n\n\\emph{Levels}: \\begin{enumerate*}\n\\item 'Cedar Creek'\n\\item 'Cabbage Tree Creek'\n\\item 'South Pine River'\n\\end{enumerate*}\n",
            "text/plain": [
              " [1] Cedar Creek        Cedar Creek        Cedar Creek        Cedar Creek       \n",
              " [5] Cedar Creek        Cedar Creek        South Pine River   South Pine River  \n",
              " [9] South Pine River   South Pine River   South Pine River   South Pine River  \n",
              "[13] Cabbage Tree Creek Cabbage Tree Creek Cabbage Tree Creek Cabbage Tree Creek\n",
              "Levels: Cedar Creek Cabbage Tree Creek South Pine River"
            ]
          },
          "metadata": {}
        }
      ]
    },
    {
      "cell_type": "code",
      "source": [
        "# Resulting model:\n",
        "tidy(lm(Richness ~ Location, df))\n",
        "tidy(m)"
      ],
      "metadata": {
        "id": "z1akvGAPliQf",
        "colab": {
          "base_uri": "https://localhost:8080/",
          "height": 367
        },
        "outputId": "4f3f8291-f96e-4a63-8c05-b731673f8127"
      },
      "execution_count": null,
      "outputs": [
        {
          "output_type": "display_data",
          "data": {
            "text/html": [
              "<table class=\"dataframe\">\n",
              "<caption>A tibble: 3 × 5</caption>\n",
              "<thead>\n",
              "\t<tr><th scope=col>term</th><th scope=col>estimate</th><th scope=col>std.error</th><th scope=col>statistic</th><th scope=col>p.value</th></tr>\n",
              "\t<tr><th scope=col>&lt;chr&gt;</th><th scope=col>&lt;dbl&gt;</th><th scope=col>&lt;dbl&gt;</th><th scope=col>&lt;dbl&gt;</th><th scope=col>&lt;dbl&gt;</th></tr>\n",
              "</thead>\n",
              "<tbody>\n",
              "\t<tr><td>(Intercept)               </td><td>13.333333</td><td>0.8171506</td><td>16.316862</td><td>4.867995e-10</td></tr>\n",
              "\t<tr><td>LocationCabbage Tree Creek</td><td>-8.083333</td><td>1.2920285</td><td>-6.256312</td><td>2.942026e-05</td></tr>\n",
              "\t<tr><td>LocationSouth Pine River  </td><td>-6.333333</td><td>1.1556254</td><td>-5.480438</td><td>1.056012e-04</td></tr>\n",
              "</tbody>\n",
              "</table>\n"
            ],
            "text/markdown": "\nA tibble: 3 × 5\n\n| term &lt;chr&gt; | estimate &lt;dbl&gt; | std.error &lt;dbl&gt; | statistic &lt;dbl&gt; | p.value &lt;dbl&gt; |\n|---|---|---|---|---|\n| (Intercept)                | 13.333333 | 0.8171506 | 16.316862 | 4.867995e-10 |\n| LocationCabbage Tree Creek | -8.083333 | 1.2920285 | -6.256312 | 2.942026e-05 |\n| LocationSouth Pine River   | -6.333333 | 1.1556254 | -5.480438 | 1.056012e-04 |\n\n",
            "text/latex": "A tibble: 3 × 5\n\\begin{tabular}{lllll}\n term & estimate & std.error & statistic & p.value\\\\\n <chr> & <dbl> & <dbl> & <dbl> & <dbl>\\\\\n\\hline\n\t (Intercept)                & 13.333333 & 0.8171506 & 16.316862 & 4.867995e-10\\\\\n\t LocationCabbage Tree Creek & -8.083333 & 1.2920285 & -6.256312 & 2.942026e-05\\\\\n\t LocationSouth Pine River   & -6.333333 & 1.1556254 & -5.480438 & 1.056012e-04\\\\\n\\end{tabular}\n",
            "text/plain": [
              "  term                       estimate  std.error statistic p.value     \n",
              "1 (Intercept)                13.333333 0.8171506 16.316862 4.867995e-10\n",
              "2 LocationCabbage Tree Creek -8.083333 1.2920285 -6.256312 2.942026e-05\n",
              "3 LocationSouth Pine River   -6.333333 1.1556254 -5.480438 1.056012e-04"
            ]
          },
          "metadata": {}
        },
        {
          "output_type": "display_data",
          "data": {
            "text/html": [
              "<table class=\"dataframe\">\n",
              "<caption>A tibble: 3 × 5</caption>\n",
              "<thead>\n",
              "\t<tr><th scope=col>term</th><th scope=col>estimate</th><th scope=col>std.error</th><th scope=col>statistic</th><th scope=col>p.value</th></tr>\n",
              "\t<tr><th scope=col>&lt;chr&gt;</th><th scope=col>&lt;dbl&gt;</th><th scope=col>&lt;dbl&gt;</th><th scope=col>&lt;dbl&gt;</th><th scope=col>&lt;dbl&gt;</th></tr>\n",
              "</thead>\n",
              "<tbody>\n",
              "\t<tr><td>(Intercept)             </td><td>5.250000</td><td>1.000801</td><td>5.245798</td><td>1.580093e-04</td></tr>\n",
              "\t<tr><td>LocationCedar Creek     </td><td>8.083333</td><td>1.292028</td><td>6.256312</td><td>2.942026e-05</td></tr>\n",
              "\t<tr><td>LocationSouth Pine River</td><td>1.750000</td><td>1.292028</td><td>1.354459</td><td>1.986643e-01</td></tr>\n",
              "</tbody>\n",
              "</table>\n"
            ],
            "text/markdown": "\nA tibble: 3 × 5\n\n| term &lt;chr&gt; | estimate &lt;dbl&gt; | std.error &lt;dbl&gt; | statistic &lt;dbl&gt; | p.value &lt;dbl&gt; |\n|---|---|---|---|---|\n| (Intercept)              | 5.250000 | 1.000801 | 5.245798 | 1.580093e-04 |\n| LocationCedar Creek      | 8.083333 | 1.292028 | 6.256312 | 2.942026e-05 |\n| LocationSouth Pine River | 1.750000 | 1.292028 | 1.354459 | 1.986643e-01 |\n\n",
            "text/latex": "A tibble: 3 × 5\n\\begin{tabular}{lllll}\n term & estimate & std.error & statistic & p.value\\\\\n <chr> & <dbl> & <dbl> & <dbl> & <dbl>\\\\\n\\hline\n\t (Intercept)              & 5.250000 & 1.000801 & 5.245798 & 1.580093e-04\\\\\n\t LocationCedar Creek      & 8.083333 & 1.292028 & 6.256312 & 2.942026e-05\\\\\n\t LocationSouth Pine River & 1.750000 & 1.292028 & 1.354459 & 1.986643e-01\\\\\n\\end{tabular}\n",
            "text/plain": [
              "  term                     estimate std.error statistic p.value     \n",
              "1 (Intercept)              5.250000 1.000801  5.245798  1.580093e-04\n",
              "2 LocationCedar Creek      8.083333 1.292028  6.256312  2.942026e-05\n",
              "3 LocationSouth Pine River 1.750000 1.292028  1.354459  1.986643e-01"
            ]
          },
          "metadata": {}
        }
      ]
    },
    {
      "cell_type": "code",
      "source": [
        "# Now our interpretation has changed slightly: both Cabbage Tree Creek and South\n",
        "# Pine River are both different from the baseline!\n",
        "\n",
        "# Choice of baseline matters, both to the numbers and to the interpretation."
      ],
      "metadata": {
        "id": "EJj9GFStlrpH"
      },
      "execution_count": null,
      "outputs": []
    },
    {
      "cell_type": "markdown",
      "source": [
        "## Slide 19"
      ],
      "metadata": {
        "id": "yUnamGVEmUlT"
      }
    },
    {
      "cell_type": "markdown",
      "source": [
        "Fit the described model using the mtcars data set and provide a brief summary of the model.\n"
      ],
      "metadata": {
        "id": "d8pStDR9mUgk"
      }
    },
    {
      "cell_type": "code",
      "source": [
        "# how does it look at the start?\n",
        "data(mtcars)\n",
        "head(mtcars)"
      ],
      "metadata": {
        "id": "E9aenBa_DH-p",
        "colab": {
          "base_uri": "https://localhost:8080/",
          "height": 286
        },
        "outputId": "33370903-3504-4151-b8a4-b56a5a0bd0c3"
      },
      "execution_count": null,
      "outputs": [
        {
          "output_type": "display_data",
          "data": {
            "text/html": [
              "<table class=\"dataframe\">\n",
              "<caption>A data.frame: 6 × 11</caption>\n",
              "<thead>\n",
              "\t<tr><th></th><th scope=col>mpg</th><th scope=col>cyl</th><th scope=col>disp</th><th scope=col>hp</th><th scope=col>drat</th><th scope=col>wt</th><th scope=col>qsec</th><th scope=col>vs</th><th scope=col>am</th><th scope=col>gear</th><th scope=col>carb</th></tr>\n",
              "\t<tr><th></th><th scope=col>&lt;dbl&gt;</th><th scope=col>&lt;dbl&gt;</th><th scope=col>&lt;dbl&gt;</th><th scope=col>&lt;dbl&gt;</th><th scope=col>&lt;dbl&gt;</th><th scope=col>&lt;dbl&gt;</th><th scope=col>&lt;dbl&gt;</th><th scope=col>&lt;dbl&gt;</th><th scope=col>&lt;dbl&gt;</th><th scope=col>&lt;dbl&gt;</th><th scope=col>&lt;dbl&gt;</th></tr>\n",
              "</thead>\n",
              "<tbody>\n",
              "\t<tr><th scope=row>Mazda RX4</th><td>21.0</td><td>6</td><td>160</td><td>110</td><td>3.90</td><td>2.620</td><td>16.46</td><td>0</td><td>1</td><td>4</td><td>4</td></tr>\n",
              "\t<tr><th scope=row>Mazda RX4 Wag</th><td>21.0</td><td>6</td><td>160</td><td>110</td><td>3.90</td><td>2.875</td><td>17.02</td><td>0</td><td>1</td><td>4</td><td>4</td></tr>\n",
              "\t<tr><th scope=row>Datsun 710</th><td>22.8</td><td>4</td><td>108</td><td> 93</td><td>3.85</td><td>2.320</td><td>18.61</td><td>1</td><td>1</td><td>4</td><td>1</td></tr>\n",
              "\t<tr><th scope=row>Hornet 4 Drive</th><td>21.4</td><td>6</td><td>258</td><td>110</td><td>3.08</td><td>3.215</td><td>19.44</td><td>1</td><td>0</td><td>3</td><td>1</td></tr>\n",
              "\t<tr><th scope=row>Hornet Sportabout</th><td>18.7</td><td>8</td><td>360</td><td>175</td><td>3.15</td><td>3.440</td><td>17.02</td><td>0</td><td>0</td><td>3</td><td>2</td></tr>\n",
              "\t<tr><th scope=row>Valiant</th><td>18.1</td><td>6</td><td>225</td><td>105</td><td>2.76</td><td>3.460</td><td>20.22</td><td>1</td><td>0</td><td>3</td><td>1</td></tr>\n",
              "</tbody>\n",
              "</table>\n"
            ],
            "text/markdown": "\nA data.frame: 6 × 11\n\n| <!--/--> | mpg &lt;dbl&gt; | cyl &lt;dbl&gt; | disp &lt;dbl&gt; | hp &lt;dbl&gt; | drat &lt;dbl&gt; | wt &lt;dbl&gt; | qsec &lt;dbl&gt; | vs &lt;dbl&gt; | am &lt;dbl&gt; | gear &lt;dbl&gt; | carb &lt;dbl&gt; |\n|---|---|---|---|---|---|---|---|---|---|---|---|\n| Mazda RX4 | 21.0 | 6 | 160 | 110 | 3.90 | 2.620 | 16.46 | 0 | 1 | 4 | 4 |\n| Mazda RX4 Wag | 21.0 | 6 | 160 | 110 | 3.90 | 2.875 | 17.02 | 0 | 1 | 4 | 4 |\n| Datsun 710 | 22.8 | 4 | 108 |  93 | 3.85 | 2.320 | 18.61 | 1 | 1 | 4 | 1 |\n| Hornet 4 Drive | 21.4 | 6 | 258 | 110 | 3.08 | 3.215 | 19.44 | 1 | 0 | 3 | 1 |\n| Hornet Sportabout | 18.7 | 8 | 360 | 175 | 3.15 | 3.440 | 17.02 | 0 | 0 | 3 | 2 |\n| Valiant | 18.1 | 6 | 225 | 105 | 2.76 | 3.460 | 20.22 | 1 | 0 | 3 | 1 |\n\n",
            "text/latex": "A data.frame: 6 × 11\n\\begin{tabular}{r|lllllllllll}\n  & mpg & cyl & disp & hp & drat & wt & qsec & vs & am & gear & carb\\\\\n  & <dbl> & <dbl> & <dbl> & <dbl> & <dbl> & <dbl> & <dbl> & <dbl> & <dbl> & <dbl> & <dbl>\\\\\n\\hline\n\tMazda RX4 & 21.0 & 6 & 160 & 110 & 3.90 & 2.620 & 16.46 & 0 & 1 & 4 & 4\\\\\n\tMazda RX4 Wag & 21.0 & 6 & 160 & 110 & 3.90 & 2.875 & 17.02 & 0 & 1 & 4 & 4\\\\\n\tDatsun 710 & 22.8 & 4 & 108 &  93 & 3.85 & 2.320 & 18.61 & 1 & 1 & 4 & 1\\\\\n\tHornet 4 Drive & 21.4 & 6 & 258 & 110 & 3.08 & 3.215 & 19.44 & 1 & 0 & 3 & 1\\\\\n\tHornet Sportabout & 18.7 & 8 & 360 & 175 & 3.15 & 3.440 & 17.02 & 0 & 0 & 3 & 2\\\\\n\tValiant & 18.1 & 6 & 225 & 105 & 2.76 & 3.460 & 20.22 & 1 & 0 & 3 & 1\\\\\n\\end{tabular}\n",
            "text/plain": [
              "                  mpg  cyl disp hp  drat wt    qsec  vs am gear carb\n",
              "Mazda RX4         21.0 6   160  110 3.90 2.620 16.46 0  1  4    4   \n",
              "Mazda RX4 Wag     21.0 6   160  110 3.90 2.875 17.02 0  1  4    4   \n",
              "Datsun 710        22.8 4   108   93 3.85 2.320 18.61 1  1  4    1   \n",
              "Hornet 4 Drive    21.4 6   258  110 3.08 3.215 19.44 1  0  3    1   \n",
              "Hornet Sportabout 18.7 8   360  175 3.15 3.440 17.02 0  0  3    2   \n",
              "Valiant           18.1 6   225  105 2.76 3.460 20.22 1  0  3    1   "
            ]
          },
          "metadata": {}
        }
      ]
    },
    {
      "cell_type": "code",
      "source": [
        "# convert cyl and am to factor:\n",
        "mtcars <- mutate(mtcars, across(c(cyl, am), factor))\n",
        "\n",
        "# human friendly:\n",
        "mtcars <- mutate(mtcars,\n",
        "                 trans = fct_recode(am,\n",
        "                                    auto = \"0\",\n",
        "                                    manual = \"1\"))\n",
        "\n",
        "# Baseline is now a 4 cylinder auto\n",
        "count(mtcars, trans, cyl)"
      ],
      "metadata": {
        "id": "XrHNLvAMmuKW",
        "colab": {
          "base_uri": "https://localhost:8080/",
          "height": 286
        },
        "outputId": "d25174ef-f146-4240-8f2b-9f3b5b74cb85"
      },
      "execution_count": null,
      "outputs": [
        {
          "output_type": "display_data",
          "data": {
            "text/html": [
              "<table class=\"dataframe\">\n",
              "<caption>A data.frame: 6 × 3</caption>\n",
              "<thead>\n",
              "\t<tr><th scope=col>trans</th><th scope=col>cyl</th><th scope=col>n</th></tr>\n",
              "\t<tr><th scope=col>&lt;fct&gt;</th><th scope=col>&lt;fct&gt;</th><th scope=col>&lt;int&gt;</th></tr>\n",
              "</thead>\n",
              "<tbody>\n",
              "\t<tr><td>auto  </td><td>4</td><td> 3</td></tr>\n",
              "\t<tr><td>auto  </td><td>6</td><td> 4</td></tr>\n",
              "\t<tr><td>auto  </td><td>8</td><td>12</td></tr>\n",
              "\t<tr><td>manual</td><td>4</td><td> 8</td></tr>\n",
              "\t<tr><td>manual</td><td>6</td><td> 3</td></tr>\n",
              "\t<tr><td>manual</td><td>8</td><td> 2</td></tr>\n",
              "</tbody>\n",
              "</table>\n"
            ],
            "text/markdown": "\nA data.frame: 6 × 3\n\n| trans &lt;fct&gt; | cyl &lt;fct&gt; | n &lt;int&gt; |\n|---|---|---|\n| auto   | 4 |  3 |\n| auto   | 6 |  4 |\n| auto   | 8 | 12 |\n| manual | 4 |  8 |\n| manual | 6 |  3 |\n| manual | 8 |  2 |\n\n",
            "text/latex": "A data.frame: 6 × 3\n\\begin{tabular}{lll}\n trans & cyl & n\\\\\n <fct> & <fct> & <int>\\\\\n\\hline\n\t auto   & 4 &  3\\\\\n\t auto   & 6 &  4\\\\\n\t auto   & 8 & 12\\\\\n\t manual & 4 &  8\\\\\n\t manual & 6 &  3\\\\\n\t manual & 8 &  2\\\\\n\\end{tabular}\n",
            "text/plain": [
              "  trans  cyl n \n",
              "1 auto   4    3\n",
              "2 auto   6    4\n",
              "3 auto   8   12\n",
              "4 manual 4    8\n",
              "5 manual 6    3\n",
              "6 manual 8    2"
            ]
          },
          "metadata": {}
        }
      ]
    },
    {
      "cell_type": "code",
      "source": [
        "# The model:\n",
        "lm_cars <- lm(mpg ~ trans + cyl, mtcars)\n",
        "glance(lm_cars)\n",
        "glance(lm_cars)$r.squared\n",
        "\n",
        "# for reference, there are *too many* ways in R to get data from an object\n",
        "# select(glance(m), r.squared)\n",
        "# glance(m) |> select(r.squared)\n",
        "# glance(m) |> pull(r.squared)"
      ],
      "metadata": {
        "id": "SEBY881zqAOi",
        "colab": {
          "base_uri": "https://localhost:8080/",
          "height": 146
        },
        "outputId": "af8fc2c2-a414-40a3-afd6-07f997260016"
      },
      "execution_count": null,
      "outputs": [
        {
          "output_type": "display_data",
          "data": {
            "text/html": [
              "<table class=\"dataframe\">\n",
              "<caption>A tibble: 1 × 12</caption>\n",
              "<thead>\n",
              "\t<tr><th scope=col>r.squared</th><th scope=col>adj.r.squared</th><th scope=col>sigma</th><th scope=col>statistic</th><th scope=col>p.value</th><th scope=col>df</th><th scope=col>logLik</th><th scope=col>AIC</th><th scope=col>BIC</th><th scope=col>deviance</th><th scope=col>df.residual</th><th scope=col>nobs</th></tr>\n",
              "\t<tr><th scope=col>&lt;dbl&gt;</th><th scope=col>&lt;dbl&gt;</th><th scope=col>&lt;dbl&gt;</th><th scope=col>&lt;dbl&gt;</th><th scope=col>&lt;dbl&gt;</th><th scope=col>&lt;dbl&gt;</th><th scope=col>&lt;dbl&gt;</th><th scope=col>&lt;dbl&gt;</th><th scope=col>&lt;dbl&gt;</th><th scope=col>&lt;dbl&gt;</th><th scope=col>&lt;int&gt;</th><th scope=col>&lt;int&gt;</th></tr>\n",
              "</thead>\n",
              "<tbody>\n",
              "\t<tr><td>0.7651114</td><td>0.7399447</td><td>3.073479</td><td>30.40181</td><td>5.959269e-09</td><td>3</td><td>-79.19946</td><td>168.3989</td><td>175.7276</td><td>264.4957</td><td>28</td><td>32</td></tr>\n",
              "</tbody>\n",
              "</table>\n"
            ],
            "text/markdown": "\nA tibble: 1 × 12\n\n| r.squared &lt;dbl&gt; | adj.r.squared &lt;dbl&gt; | sigma &lt;dbl&gt; | statistic &lt;dbl&gt; | p.value &lt;dbl&gt; | df &lt;dbl&gt; | logLik &lt;dbl&gt; | AIC &lt;dbl&gt; | BIC &lt;dbl&gt; | deviance &lt;dbl&gt; | df.residual &lt;int&gt; | nobs &lt;int&gt; |\n|---|---|---|---|---|---|---|---|---|---|---|---|\n| 0.7651114 | 0.7399447 | 3.073479 | 30.40181 | 5.959269e-09 | 3 | -79.19946 | 168.3989 | 175.7276 | 264.4957 | 28 | 32 |\n\n",
            "text/latex": "A tibble: 1 × 12\n\\begin{tabular}{llllllllllll}\n r.squared & adj.r.squared & sigma & statistic & p.value & df & logLik & AIC & BIC & deviance & df.residual & nobs\\\\\n <dbl> & <dbl> & <dbl> & <dbl> & <dbl> & <dbl> & <dbl> & <dbl> & <dbl> & <dbl> & <int> & <int>\\\\\n\\hline\n\t 0.7651114 & 0.7399447 & 3.073479 & 30.40181 & 5.959269e-09 & 3 & -79.19946 & 168.3989 & 175.7276 & 264.4957 & 28 & 32\\\\\n\\end{tabular}\n",
            "text/plain": [
              "      r.squared adj.r.squared sigma    statistic p.value      df logLik   \n",
              "value 0.7651114 0.7399447     3.073479 30.40181  5.959269e-09 3  -79.19946\n",
              "      AIC      BIC      deviance df.residual nobs\n",
              "value 168.3989 175.7276 264.4957 28          32  "
            ]
          },
          "metadata": {}
        },
        {
          "output_type": "display_data",
          "data": {
            "text/html": [
              "0.765111372910336"
            ],
            "text/markdown": "0.765111372910336",
            "text/latex": "0.765111372910336",
            "text/plain": [
              "[1] 0.7651114"
            ]
          },
          "metadata": {}
        }
      ]
    },
    {
      "cell_type": "code",
      "source": [
        "tidy(lm_cars, conf.int = T) |>\n",
        "  select(term, estimate, conf.low, conf.high, p.value)"
      ],
      "metadata": {
        "id": "JrgIogjiqhSM",
        "colab": {
          "base_uri": "https://localhost:8080/",
          "height": 223
        },
        "outputId": "f8a317ea-cefb-4f8c-8546-f9e0bfcd884f"
      },
      "execution_count": null,
      "outputs": [
        {
          "output_type": "display_data",
          "data": {
            "text/html": [
              "<table class=\"dataframe\">\n",
              "<caption>A tibble: 4 × 5</caption>\n",
              "<thead>\n",
              "\t<tr><th scope=col>term</th><th scope=col>estimate</th><th scope=col>conf.low</th><th scope=col>conf.high</th><th scope=col>p.value</th></tr>\n",
              "\t<tr><th scope=col>&lt;chr&gt;</th><th scope=col>&lt;dbl&gt;</th><th scope=col>&lt;dbl&gt;</th><th scope=col>&lt;dbl&gt;</th><th scope=col>&lt;dbl&gt;</th></tr>\n",
              "</thead>\n",
              "<tbody>\n",
              "\t<tr><td>(Intercept)</td><td> 24.801852</td><td> 22.09259815</td><td>27.511106</td><td>2.182425e-17</td></tr>\n",
              "\t<tr><td>transmanual</td><td>  2.559954</td><td> -0.09801611</td><td> 5.217924</td><td>5.845717e-02</td></tr>\n",
              "\t<tr><td>cyl6       </td><td> -6.156118</td><td> -9.30190345</td><td>-3.010332</td><td>4.106131e-04</td></tr>\n",
              "\t<tr><td>cyl8       </td><td>-10.067560</td><td>-13.04201552</td><td>-7.093104</td><td>1.546574e-07</td></tr>\n",
              "</tbody>\n",
              "</table>\n"
            ],
            "text/markdown": "\nA tibble: 4 × 5\n\n| term &lt;chr&gt; | estimate &lt;dbl&gt; | conf.low &lt;dbl&gt; | conf.high &lt;dbl&gt; | p.value &lt;dbl&gt; |\n|---|---|---|---|---|\n| (Intercept) |  24.801852 |  22.09259815 | 27.511106 | 2.182425e-17 |\n| transmanual |   2.559954 |  -0.09801611 |  5.217924 | 5.845717e-02 |\n| cyl6        |  -6.156118 |  -9.30190345 | -3.010332 | 4.106131e-04 |\n| cyl8        | -10.067560 | -13.04201552 | -7.093104 | 1.546574e-07 |\n\n",
            "text/latex": "A tibble: 4 × 5\n\\begin{tabular}{lllll}\n term & estimate & conf.low & conf.high & p.value\\\\\n <chr> & <dbl> & <dbl> & <dbl> & <dbl>\\\\\n\\hline\n\t (Intercept) &  24.801852 &  22.09259815 & 27.511106 & 2.182425e-17\\\\\n\t transmanual &   2.559954 &  -0.09801611 &  5.217924 & 5.845717e-02\\\\\n\t cyl6        &  -6.156118 &  -9.30190345 & -3.010332 & 4.106131e-04\\\\\n\t cyl8        & -10.067560 & -13.04201552 & -7.093104 & 1.546574e-07\\\\\n\\end{tabular}\n",
            "text/plain": [
              "  term        estimate   conf.low     conf.high p.value     \n",
              "1 (Intercept)  24.801852  22.09259815 27.511106 2.182425e-17\n",
              "2 transmanual   2.559954  -0.09801611  5.217924 5.845717e-02\n",
              "3 cyl6         -6.156118  -9.30190345 -3.010332 4.106131e-04\n",
              "4 cyl8        -10.067560 -13.04201552 -7.093104 1.546574e-07"
            ]
          },
          "metadata": {}
        }
      ]
    },
    {
      "cell_type": "code",
      "source": [
        "# Interpretation:\n",
        "# - 76.5% of variability explained by the model.\n",
        "# - No difference when we switch from auto to manual transmission.\n",
        "# - 6 and 8 cylinder cars have lower fuel efficiency than 4 cylinder.\n"
      ],
      "metadata": {
        "id": "Hm1jEQfRrZ36"
      },
      "execution_count": null,
      "outputs": []
    },
    {
      "cell_type": "markdown",
      "source": [
        "## Slide 21"
      ],
      "metadata": {
        "id": "-0r1fC3proRe"
      }
    },
    {
      "cell_type": "markdown",
      "source": [
        "1. Fit the interaction in the described model, using by using `*` in the `lm()` function.\n",
        "1. Comparing this model to the previous model, is the amount of variation explained in the expanded model greater than the simpler model?\n",
        "1. Does transmission improve model fit?\n"
      ],
      "metadata": {
        "id": "ZH3rGAy1roO-"
      }
    },
    {
      "cell_type": "code",
      "source": [
        "# Model with interactions:\n",
        "lm_cars_int <- lm(mpg ~ trans * cyl, mtcars)\n",
        "glance(lm_cars_int)$r.squared\n",
        "glance(lm_cars_int)\n"
      ],
      "metadata": {
        "id": "iRDeUwcwDjZC",
        "colab": {
          "base_uri": "https://localhost:8080/",
          "height": 146
        },
        "outputId": "7d0c717c-90f4-4a84-87b8-354e21e2411c"
      },
      "execution_count": null,
      "outputs": [
        {
          "output_type": "display_data",
          "data": {
            "text/html": [
              "0.78770057834129"
            ],
            "text/markdown": "0.78770057834129",
            "text/latex": "0.78770057834129",
            "text/plain": [
              "[1] 0.7877006"
            ]
          },
          "metadata": {}
        },
        {
          "output_type": "display_data",
          "data": {
            "text/html": [
              "<table class=\"dataframe\">\n",
              "<caption>A tibble: 1 × 12</caption>\n",
              "<thead>\n",
              "\t<tr><th scope=col>r.squared</th><th scope=col>adj.r.squared</th><th scope=col>sigma</th><th scope=col>statistic</th><th scope=col>p.value</th><th scope=col>df</th><th scope=col>logLik</th><th scope=col>AIC</th><th scope=col>BIC</th><th scope=col>deviance</th><th scope=col>df.residual</th><th scope=col>nobs</th></tr>\n",
              "\t<tr><th scope=col>&lt;dbl&gt;</th><th scope=col>&lt;dbl&gt;</th><th scope=col>&lt;dbl&gt;</th><th scope=col>&lt;dbl&gt;</th><th scope=col>&lt;dbl&gt;</th><th scope=col>&lt;dbl&gt;</th><th scope=col>&lt;dbl&gt;</th><th scope=col>&lt;dbl&gt;</th><th scope=col>&lt;dbl&gt;</th><th scope=col>&lt;dbl&gt;</th><th scope=col>&lt;int&gt;</th><th scope=col>&lt;int&gt;</th></tr>\n",
              "</thead>\n",
              "<tbody>\n",
              "\t<tr><td>0.7877006</td><td>0.7468738</td><td>3.032257</td><td>19.29371</td><td>5.179255e-08</td><td>5</td><td>-77.58164</td><td>169.1633</td><td>179.4234</td><td>239.0592</td><td>26</td><td>32</td></tr>\n",
              "</tbody>\n",
              "</table>\n"
            ],
            "text/markdown": "\nA tibble: 1 × 12\n\n| r.squared &lt;dbl&gt; | adj.r.squared &lt;dbl&gt; | sigma &lt;dbl&gt; | statistic &lt;dbl&gt; | p.value &lt;dbl&gt; | df &lt;dbl&gt; | logLik &lt;dbl&gt; | AIC &lt;dbl&gt; | BIC &lt;dbl&gt; | deviance &lt;dbl&gt; | df.residual &lt;int&gt; | nobs &lt;int&gt; |\n|---|---|---|---|---|---|---|---|---|---|---|---|\n| 0.7877006 | 0.7468738 | 3.032257 | 19.29371 | 5.179255e-08 | 5 | -77.58164 | 169.1633 | 179.4234 | 239.0592 | 26 | 32 |\n\n",
            "text/latex": "A tibble: 1 × 12\n\\begin{tabular}{llllllllllll}\n r.squared & adj.r.squared & sigma & statistic & p.value & df & logLik & AIC & BIC & deviance & df.residual & nobs\\\\\n <dbl> & <dbl> & <dbl> & <dbl> & <dbl> & <dbl> & <dbl> & <dbl> & <dbl> & <dbl> & <int> & <int>\\\\\n\\hline\n\t 0.7877006 & 0.7468738 & 3.032257 & 19.29371 & 5.179255e-08 & 5 & -77.58164 & 169.1633 & 179.4234 & 239.0592 & 26 & 32\\\\\n\\end{tabular}\n",
            "text/plain": [
              "      r.squared adj.r.squared sigma    statistic p.value      df logLik   \n",
              "value 0.7877006 0.7468738     3.032257 19.29371  5.179255e-08 5  -77.58164\n",
              "      AIC      BIC      deviance df.residual nobs\n",
              "value 169.1633 179.4234 239.0592 26          32  "
            ]
          },
          "metadata": {}
        }
      ]
    },
    {
      "cell_type": "code",
      "source": [
        "# Slightly higher R-squared than the model without interaction.\n",
        "tidy(lm_cars_int, conf.int = T)\n"
      ],
      "metadata": {
        "id": "VZ4I7P-hsiY2",
        "colab": {
          "base_uri": "https://localhost:8080/",
          "height": 286
        },
        "outputId": "1da9a909-702c-4c68-fee8-b18b4c92b517"
      },
      "execution_count": null,
      "outputs": [
        {
          "output_type": "display_data",
          "data": {
            "text/html": [
              "<table class=\"dataframe\">\n",
              "<caption>A tibble: 6 × 7</caption>\n",
              "<thead>\n",
              "\t<tr><th scope=col>term</th><th scope=col>estimate</th><th scope=col>std.error</th><th scope=col>statistic</th><th scope=col>p.value</th><th scope=col>conf.low</th><th scope=col>conf.high</th></tr>\n",
              "\t<tr><th scope=col>&lt;chr&gt;</th><th scope=col>&lt;dbl&gt;</th><th scope=col>&lt;dbl&gt;</th><th scope=col>&lt;dbl&gt;</th><th scope=col>&lt;dbl&gt;</th><th scope=col>&lt;dbl&gt;</th><th scope=col>&lt;dbl&gt;</th></tr>\n",
              "</thead>\n",
              "<tbody>\n",
              "\t<tr><td>(Intercept)     </td><td>22.900000</td><td>1.750674</td><td>13.080673</td><td>6.057324e-13</td><td> 19.3014371</td><td>26.4985629</td></tr>\n",
              "\t<tr><td>transmanual     </td><td> 5.175000</td><td>2.052848</td><td> 2.520888</td><td>1.817605e-02</td><td>  0.9553109</td><td> 9.3946891</td></tr>\n",
              "\t<tr><td>cyl6            </td><td>-3.775000</td><td>2.315925</td><td>-1.630018</td><td>1.151546e-01</td><td> -8.5354513</td><td> 0.9854513</td></tr>\n",
              "\t<tr><td>cyl8            </td><td>-7.850000</td><td>1.957314</td><td>-4.010599</td><td>4.547583e-04</td><td>-11.8733157</td><td>-3.8266843</td></tr>\n",
              "\t<tr><td>transmanual:cyl6</td><td>-3.733333</td><td>3.094784</td><td>-1.206331</td><td>2.385526e-01</td><td>-10.0947539</td><td> 2.6280873</td></tr>\n",
              "\t<tr><td>transmanual:cyl8</td><td>-4.825000</td><td>3.094784</td><td>-1.559075</td><td>1.310693e-01</td><td>-11.1864206</td><td> 1.5364206</td></tr>\n",
              "</tbody>\n",
              "</table>\n"
            ],
            "text/markdown": "\nA tibble: 6 × 7\n\n| term &lt;chr&gt; | estimate &lt;dbl&gt; | std.error &lt;dbl&gt; | statistic &lt;dbl&gt; | p.value &lt;dbl&gt; | conf.low &lt;dbl&gt; | conf.high &lt;dbl&gt; |\n|---|---|---|---|---|---|---|\n| (Intercept)      | 22.900000 | 1.750674 | 13.080673 | 6.057324e-13 |  19.3014371 | 26.4985629 |\n| transmanual      |  5.175000 | 2.052848 |  2.520888 | 1.817605e-02 |   0.9553109 |  9.3946891 |\n| cyl6             | -3.775000 | 2.315925 | -1.630018 | 1.151546e-01 |  -8.5354513 |  0.9854513 |\n| cyl8             | -7.850000 | 1.957314 | -4.010599 | 4.547583e-04 | -11.8733157 | -3.8266843 |\n| transmanual:cyl6 | -3.733333 | 3.094784 | -1.206331 | 2.385526e-01 | -10.0947539 |  2.6280873 |\n| transmanual:cyl8 | -4.825000 | 3.094784 | -1.559075 | 1.310693e-01 | -11.1864206 |  1.5364206 |\n\n",
            "text/latex": "A tibble: 6 × 7\n\\begin{tabular}{lllllll}\n term & estimate & std.error & statistic & p.value & conf.low & conf.high\\\\\n <chr> & <dbl> & <dbl> & <dbl> & <dbl> & <dbl> & <dbl>\\\\\n\\hline\n\t (Intercept)      & 22.900000 & 1.750674 & 13.080673 & 6.057324e-13 &  19.3014371 & 26.4985629\\\\\n\t transmanual      &  5.175000 & 2.052848 &  2.520888 & 1.817605e-02 &   0.9553109 &  9.3946891\\\\\n\t cyl6             & -3.775000 & 2.315925 & -1.630018 & 1.151546e-01 &  -8.5354513 &  0.9854513\\\\\n\t cyl8             & -7.850000 & 1.957314 & -4.010599 & 4.547583e-04 & -11.8733157 & -3.8266843\\\\\n\t transmanual:cyl6 & -3.733333 & 3.094784 & -1.206331 & 2.385526e-01 & -10.0947539 &  2.6280873\\\\\n\t transmanual:cyl8 & -4.825000 & 3.094784 & -1.559075 & 1.310693e-01 & -11.1864206 &  1.5364206\\\\\n\\end{tabular}\n",
            "text/plain": [
              "  term             estimate  std.error statistic p.value      conf.low   \n",
              "1 (Intercept)      22.900000 1.750674  13.080673 6.057324e-13  19.3014371\n",
              "2 transmanual       5.175000 2.052848   2.520888 1.817605e-02   0.9553109\n",
              "3 cyl6             -3.775000 2.315925  -1.630018 1.151546e-01  -8.5354513\n",
              "4 cyl8             -7.850000 1.957314  -4.010599 4.547583e-04 -11.8733157\n",
              "5 transmanual:cyl6 -3.733333 3.094784  -1.206331 2.385526e-01 -10.0947539\n",
              "6 transmanual:cyl8 -4.825000 3.094784  -1.559075 1.310693e-01 -11.1864206\n",
              "  conf.high \n",
              "1 26.4985629\n",
              "2  9.3946891\n",
              "3  0.9854513\n",
              "4 -3.8266843\n",
              "5  2.6280873\n",
              "6  1.5364206"
            ]
          },
          "metadata": {}
        }
      ]
    },
    {
      "cell_type": "code",
      "source": [
        "# Comparison to previous model:\n",
        "anova(lm_cars, lm_cars_int)\n"
      ],
      "metadata": {
        "id": "ZVZPklpqsqo3",
        "colab": {
          "base_uri": "https://localhost:8080/",
          "height": 160
        },
        "outputId": "b81ce231-e7e1-4b00-9e5a-bbea3d0708e2"
      },
      "execution_count": null,
      "outputs": [
        {
          "output_type": "display_data",
          "data": {
            "text/html": [
              "<table class=\"dataframe\">\n",
              "<caption>A anova: 2 × 6</caption>\n",
              "<thead>\n",
              "\t<tr><th></th><th scope=col>Res.Df</th><th scope=col>RSS</th><th scope=col>Df</th><th scope=col>Sum of Sq</th><th scope=col>F</th><th scope=col>Pr(&gt;F)</th></tr>\n",
              "\t<tr><th></th><th scope=col>&lt;dbl&gt;</th><th scope=col>&lt;dbl&gt;</th><th scope=col>&lt;dbl&gt;</th><th scope=col>&lt;dbl&gt;</th><th scope=col>&lt;dbl&gt;</th><th scope=col>&lt;dbl&gt;</th></tr>\n",
              "</thead>\n",
              "<tbody>\n",
              "\t<tr><th scope=row>1</th><td>28</td><td>264.4957</td><td>NA</td><td>      NA</td><td>      NA</td><td>      NA</td></tr>\n",
              "\t<tr><th scope=row>2</th><td>26</td><td>239.0592</td><td> 2</td><td>25.43651</td><td>1.383233</td><td>0.268614</td></tr>\n",
              "</tbody>\n",
              "</table>\n"
            ],
            "text/markdown": "\nA anova: 2 × 6\n\n| <!--/--> | Res.Df &lt;dbl&gt; | RSS &lt;dbl&gt; | Df &lt;dbl&gt; | Sum of Sq &lt;dbl&gt; | F &lt;dbl&gt; | Pr(&gt;F) &lt;dbl&gt; |\n|---|---|---|---|---|---|---|\n| 1 | 28 | 264.4957 | NA |       NA |       NA |       NA |\n| 2 | 26 | 239.0592 |  2 | 25.43651 | 1.383233 | 0.268614 |\n\n",
            "text/latex": "A anova: 2 × 6\n\\begin{tabular}{r|llllll}\n  & Res.Df & RSS & Df & Sum of Sq & F & Pr(>F)\\\\\n  & <dbl> & <dbl> & <dbl> & <dbl> & <dbl> & <dbl>\\\\\n\\hline\n\t1 & 28 & 264.4957 & NA &       NA &       NA &       NA\\\\\n\t2 & 26 & 239.0592 &  2 & 25.43651 & 1.383233 & 0.268614\\\\\n\\end{tabular}\n",
            "text/plain": [
              "  Res.Df RSS      Df Sum of Sq F        Pr(>F)  \n",
              "1 28     264.4957 NA       NA        NA       NA\n",
              "2 26     239.0592  2 25.43651  1.383233 0.268614"
            ]
          },
          "metadata": {}
        }
      ]
    },
    {
      "cell_type": "code",
      "source": [
        "tidy(lm_cars, conf.int = T)\n"
      ],
      "metadata": {
        "colab": {
          "base_uri": "https://localhost:8080/",
          "height": 223
        },
        "id": "fNQUUES65h4l",
        "outputId": "355263c1-5bc5-4af3-9bf7-85a7869e5d77"
      },
      "execution_count": null,
      "outputs": [
        {
          "output_type": "display_data",
          "data": {
            "text/html": [
              "<table class=\"dataframe\">\n",
              "<caption>A tibble: 4 × 7</caption>\n",
              "<thead>\n",
              "\t<tr><th scope=col>term</th><th scope=col>estimate</th><th scope=col>std.error</th><th scope=col>statistic</th><th scope=col>p.value</th><th scope=col>conf.low</th><th scope=col>conf.high</th></tr>\n",
              "\t<tr><th scope=col>&lt;chr&gt;</th><th scope=col>&lt;dbl&gt;</th><th scope=col>&lt;dbl&gt;</th><th scope=col>&lt;dbl&gt;</th><th scope=col>&lt;dbl&gt;</th><th scope=col>&lt;dbl&gt;</th><th scope=col>&lt;dbl&gt;</th></tr>\n",
              "</thead>\n",
              "<tbody>\n",
              "\t<tr><td>(Intercept)</td><td> 24.801852</td><td>1.322615</td><td>18.752135</td><td>2.182425e-17</td><td> 22.09259815</td><td>27.511106</td></tr>\n",
              "\t<tr><td>transmanual</td><td>  2.559954</td><td>1.297579</td><td> 1.972869</td><td>5.845717e-02</td><td> -0.09801611</td><td> 5.217924</td></tr>\n",
              "\t<tr><td>cyl6       </td><td> -6.156118</td><td>1.535723</td><td>-4.008612</td><td>4.106131e-04</td><td> -9.30190345</td><td>-3.010332</td></tr>\n",
              "\t<tr><td>cyl8       </td><td>-10.067560</td><td>1.452082</td><td>-6.933187</td><td>1.546574e-07</td><td>-13.04201552</td><td>-7.093104</td></tr>\n",
              "</tbody>\n",
              "</table>\n"
            ],
            "text/markdown": "\nA tibble: 4 × 7\n\n| term &lt;chr&gt; | estimate &lt;dbl&gt; | std.error &lt;dbl&gt; | statistic &lt;dbl&gt; | p.value &lt;dbl&gt; | conf.low &lt;dbl&gt; | conf.high &lt;dbl&gt; |\n|---|---|---|---|---|---|---|\n| (Intercept) |  24.801852 | 1.322615 | 18.752135 | 2.182425e-17 |  22.09259815 | 27.511106 |\n| transmanual |   2.559954 | 1.297579 |  1.972869 | 5.845717e-02 |  -0.09801611 |  5.217924 |\n| cyl6        |  -6.156118 | 1.535723 | -4.008612 | 4.106131e-04 |  -9.30190345 | -3.010332 |\n| cyl8        | -10.067560 | 1.452082 | -6.933187 | 1.546574e-07 | -13.04201552 | -7.093104 |\n\n",
            "text/latex": "A tibble: 4 × 7\n\\begin{tabular}{lllllll}\n term & estimate & std.error & statistic & p.value & conf.low & conf.high\\\\\n <chr> & <dbl> & <dbl> & <dbl> & <dbl> & <dbl> & <dbl>\\\\\n\\hline\n\t (Intercept) &  24.801852 & 1.322615 & 18.752135 & 2.182425e-17 &  22.09259815 & 27.511106\\\\\n\t transmanual &   2.559954 & 1.297579 &  1.972869 & 5.845717e-02 &  -0.09801611 &  5.217924\\\\\n\t cyl6        &  -6.156118 & 1.535723 & -4.008612 & 4.106131e-04 &  -9.30190345 & -3.010332\\\\\n\t cyl8        & -10.067560 & 1.452082 & -6.933187 & 1.546574e-07 & -13.04201552 & -7.093104\\\\\n\\end{tabular}\n",
            "text/plain": [
              "  term        estimate   std.error statistic p.value      conf.low    \n",
              "1 (Intercept)  24.801852 1.322615  18.752135 2.182425e-17  22.09259815\n",
              "2 transmanual   2.559954 1.297579   1.972869 5.845717e-02  -0.09801611\n",
              "3 cyl6         -6.156118 1.535723  -4.008612 4.106131e-04  -9.30190345\n",
              "4 cyl8        -10.067560 1.452082  -6.933187 1.546574e-07 -13.04201552\n",
              "  conf.high\n",
              "1 27.511106\n",
              "2  5.217924\n",
              "3 -3.010332\n",
              "4 -7.093104"
            ]
          },
          "metadata": {}
        }
      ]
    },
    {
      "cell_type": "code",
      "source": [
        "# Conclude that there's no statistically significant difference between these\n",
        "# models.\n",
        "\n",
        "# Compare our \"best\" model to a model without transmission:\n",
        "lm_cyl <- lm(mpg ~ cyl, mtcars)\n",
        "glance(lm_cyl)\n",
        "anova(lm_cyl, lm_cars)\n"
      ],
      "metadata": {
        "id": "IdhNqMKVs7AY",
        "colab": {
          "base_uri": "https://localhost:8080/",
          "height": 273
        },
        "outputId": "52868169-b665-4ff4-d626-1e09c11db8b5"
      },
      "execution_count": null,
      "outputs": [
        {
          "output_type": "display_data",
          "data": {
            "text/html": [
              "<table class=\"dataframe\">\n",
              "<caption>A tibble: 1 × 12</caption>\n",
              "<thead>\n",
              "\t<tr><th scope=col>r.squared</th><th scope=col>adj.r.squared</th><th scope=col>sigma</th><th scope=col>statistic</th><th scope=col>p.value</th><th scope=col>df</th><th scope=col>logLik</th><th scope=col>AIC</th><th scope=col>BIC</th><th scope=col>deviance</th><th scope=col>df.residual</th><th scope=col>nobs</th></tr>\n",
              "\t<tr><th scope=col>&lt;dbl&gt;</th><th scope=col>&lt;dbl&gt;</th><th scope=col>&lt;dbl&gt;</th><th scope=col>&lt;dbl&gt;</th><th scope=col>&lt;dbl&gt;</th><th scope=col>&lt;dbl&gt;</th><th scope=col>&lt;dbl&gt;</th><th scope=col>&lt;dbl&gt;</th><th scope=col>&lt;dbl&gt;</th><th scope=col>&lt;dbl&gt;</th><th scope=col>&lt;int&gt;</th><th scope=col>&lt;int&gt;</th></tr>\n",
              "</thead>\n",
              "<tbody>\n",
              "\t<tr><td>0.7324601</td><td>0.714009</td><td>3.223099</td><td>39.69752</td><td>4.978919e-09</td><td>2</td><td>-81.28198</td><td>170.564</td><td>176.4269</td><td>301.2626</td><td>29</td><td>32</td></tr>\n",
              "</tbody>\n",
              "</table>\n"
            ],
            "text/markdown": "\nA tibble: 1 × 12\n\n| r.squared &lt;dbl&gt; | adj.r.squared &lt;dbl&gt; | sigma &lt;dbl&gt; | statistic &lt;dbl&gt; | p.value &lt;dbl&gt; | df &lt;dbl&gt; | logLik &lt;dbl&gt; | AIC &lt;dbl&gt; | BIC &lt;dbl&gt; | deviance &lt;dbl&gt; | df.residual &lt;int&gt; | nobs &lt;int&gt; |\n|---|---|---|---|---|---|---|---|---|---|---|---|\n| 0.7324601 | 0.714009 | 3.223099 | 39.69752 | 4.978919e-09 | 2 | -81.28198 | 170.564 | 176.4269 | 301.2626 | 29 | 32 |\n\n",
            "text/latex": "A tibble: 1 × 12\n\\begin{tabular}{llllllllllll}\n r.squared & adj.r.squared & sigma & statistic & p.value & df & logLik & AIC & BIC & deviance & df.residual & nobs\\\\\n <dbl> & <dbl> & <dbl> & <dbl> & <dbl> & <dbl> & <dbl> & <dbl> & <dbl> & <dbl> & <int> & <int>\\\\\n\\hline\n\t 0.7324601 & 0.714009 & 3.223099 & 39.69752 & 4.978919e-09 & 2 & -81.28198 & 170.564 & 176.4269 & 301.2626 & 29 & 32\\\\\n\\end{tabular}\n",
            "text/plain": [
              "      r.squared adj.r.squared sigma    statistic p.value      df logLik   \n",
              "value 0.7324601 0.714009      3.223099 39.69752  4.978919e-09 2  -81.28198\n",
              "      AIC     BIC      deviance df.residual nobs\n",
              "value 170.564 176.4269 301.2626 29          32  "
            ]
          },
          "metadata": {}
        },
        {
          "output_type": "display_data",
          "data": {
            "text/html": [
              "<table class=\"dataframe\">\n",
              "<caption>A anova: 2 × 6</caption>\n",
              "<thead>\n",
              "\t<tr><th></th><th scope=col>Res.Df</th><th scope=col>RSS</th><th scope=col>Df</th><th scope=col>Sum of Sq</th><th scope=col>F</th><th scope=col>Pr(&gt;F)</th></tr>\n",
              "\t<tr><th></th><th scope=col>&lt;dbl&gt;</th><th scope=col>&lt;dbl&gt;</th><th scope=col>&lt;dbl&gt;</th><th scope=col>&lt;dbl&gt;</th><th scope=col>&lt;dbl&gt;</th><th scope=col>&lt;dbl&gt;</th></tr>\n",
              "</thead>\n",
              "<tbody>\n",
              "\t<tr><th scope=row>1</th><td>29</td><td>301.2626</td><td>NA</td><td>      NA</td><td>      NA</td><td>        NA</td></tr>\n",
              "\t<tr><th scope=row>2</th><td>28</td><td>264.4957</td><td> 1</td><td>36.76692</td><td>3.892214</td><td>0.05845717</td></tr>\n",
              "</tbody>\n",
              "</table>\n"
            ],
            "text/markdown": "\nA anova: 2 × 6\n\n| <!--/--> | Res.Df &lt;dbl&gt; | RSS &lt;dbl&gt; | Df &lt;dbl&gt; | Sum of Sq &lt;dbl&gt; | F &lt;dbl&gt; | Pr(&gt;F) &lt;dbl&gt; |\n|---|---|---|---|---|---|---|\n| 1 | 29 | 301.2626 | NA |       NA |       NA |         NA |\n| 2 | 28 | 264.4957 |  1 | 36.76692 | 3.892214 | 0.05845717 |\n\n",
            "text/latex": "A anova: 2 × 6\n\\begin{tabular}{r|llllll}\n  & Res.Df & RSS & Df & Sum of Sq & F & Pr(>F)\\\\\n  & <dbl> & <dbl> & <dbl> & <dbl> & <dbl> & <dbl>\\\\\n\\hline\n\t1 & 29 & 301.2626 & NA &       NA &       NA &         NA\\\\\n\t2 & 28 & 264.4957 &  1 & 36.76692 & 3.892214 & 0.05845717\\\\\n\\end{tabular}\n",
            "text/plain": [
              "  Res.Df RSS      Df Sum of Sq F        Pr(>F)    \n",
              "1 29     301.2626 NA       NA        NA         NA\n",
              "2 28     264.4957  1 36.76692  3.892214 0.05845717"
            ]
          },
          "metadata": {}
        }
      ]
    },
    {
      "cell_type": "code",
      "source": [
        "# Conclude again that there's no statistically significant difference between\n",
        "# these models, i.e., can omit transmission from model.\n"
      ],
      "metadata": {
        "id": "dngTeb4OtBzX"
      },
      "execution_count": null,
      "outputs": []
    },
    {
      "cell_type": "code",
      "source": [],
      "metadata": {
        "id": "Z-FU08d1AoEP"
      },
      "execution_count": null,
      "outputs": []
    }
  ]
}