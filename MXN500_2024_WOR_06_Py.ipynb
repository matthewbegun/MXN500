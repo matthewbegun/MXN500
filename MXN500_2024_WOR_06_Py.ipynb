{
  "nbformat": 4,
  "nbformat_minor": 0,
  "metadata": {
    "colab": {
      "provenance": [],
      "authorship_tag": "ABX9TyPJSVvCoxMfit5LbINOO9x0",
      "include_colab_link": true
    },
    "kernelspec": {
      "name": "python3",
      "display_name": "Python 3"
    },
    "language_info": {
      "name": "python"
    }
  },
  "cells": [
    {
      "cell_type": "markdown",
      "metadata": {
        "id": "view-in-github",
        "colab_type": "text"
      },
      "source": [
        "<a href=\"https://colab.research.google.com/github/matthewbegun/MXN500/blob/main/MXN500_2024_WOR_06_Py.ipynb\" target=\"_parent\"><img src=\"https://colab.research.google.com/assets/colab-badge.svg\" alt=\"Open In Colab\"/></a>"
      ]
    },
    {
      "cell_type": "markdown",
      "source": [
        "# Introduction\n"
      ],
      "metadata": {
        "id": "X-rrdM9e_11s"
      }
    },
    {
      "cell_type": "markdown",
      "source": [
        "## About this workshop\n",
        "\n",
        "This week we will be revisiting the use of the Normal distribution as a tool for simulation. We will look at calculating confidence intervals and performing $t$ tests as a way of characterising uncertainty in experimental data. This requires the use of the $t$ distribution, a continuous distribution which looks a little like the normal distribution but has heavier tails. The $t$ distribution has one parameter, $\\nu$, the \"degrees of freedom\".\n",
        "\n",
        "* Assumed skills\n",
        "    - Manipulating data objects\n",
        "    - Calculating and interpreting summary statistics\n",
        "    - Writing and executing functions\n",
        "    - Visualising results with ggplot2\n",
        "* Learning objectives\n",
        "    - Performing a hypothesis test\n",
        "    - Interpreting a hypothesis test\n",
        "    - Simulation\n",
        "* Professional skills\n",
        "    - Visualising results\n",
        "    - Interpreting a hypothesis test\n",
        "\n",
        "A reminder of expectations in the workshop:\n",
        "\n",
        "* Keep a record of the work being completed\n",
        "* Allow everyone a chance to participate in the workshop\n",
        "* All opinions are valued provided they do not harm others\n",
        "* Everyone is expected to help out with completing the work, learning seldom occurs by watching someone else do maths\n",
        "* Shuffle the group around so that someone different is writing the code"
      ],
      "metadata": {
        "id": "aT4fYm67IoFY"
      }
    },
    {
      "cell_type": "markdown",
      "source": [
        "## Set up environment\n"
      ],
      "metadata": {
        "id": "dPfvMgIFCiXC"
      }
    },
    {
      "cell_type": "code",
      "source": [
        "# imports\n",
        "import pandas as pd\n",
        "import plotnine as p9\n",
        "from scipy import stats\n",
        "\n",
        "# display all outputs\n",
        "from IPython.core.interactiveshell import InteractiveShell\n",
        "InteractiveShell.ast_node_interactivity = \"all\""
      ],
      "metadata": {
        "id": "Ox4lQf7dGbe9"
      },
      "execution_count": 24,
      "outputs": []
    },
    {
      "cell_type": "markdown",
      "source": [
        "# Activity 1 -- Getting started\n",
        "\n"
      ],
      "metadata": {
        "id": "4lT8DhSUBAiZ"
      }
    },
    {
      "cell_type": "markdown",
      "source": [
        "In this workshop, we will be investigating the uncertainty in our estimate of the mean age of death in the Brisbane hospital from 1899 to 1913.\n",
        "\n",
        "Simulation is a useful quantitative method for investigating the validity of some assumptions about a variable of interest. Simulation can be used where a physical system can be described by a model but performing an experiment would be time consuming, costly or dangerous (e.g. simulating radioactive fallout from a damaged nuclear reactor).\n",
        "\n",
        "\n"
      ],
      "metadata": {
        "id": "9j56zR9pIc_s"
      }
    },
    {
      "cell_type": "markdown",
      "source": [
        "**Room discussion:** Today we will be testing a hypothesis about age of death in the Brisbane Hospital from 1899 - 1913. This data has been converted by hand from old records. What issues might there be with this data? What can we do to make sure our data is okay to use?"
      ],
      "metadata": {
        "id": "rjBWcCG6X1Ye"
      }
    },
    {
      "cell_type": "markdown",
      "source": [
        "- could be lies / inaccurate dates of birth\n",
        "- paper records could have been lost or damaged\n",
        "- human error inputting data"
      ],
      "metadata": {
        "id": "7wAIC9loabXy"
      }
    },
    {
      "cell_type": "markdown",
      "source": [
        "# Activity 2 -- Summary statistics\n"
      ],
      "metadata": {
        "id": "zbqh5nmNgBrp"
      }
    },
    {
      "cell_type": "markdown",
      "source": [
        "**Exercise:** Fill in the blanks in the statement below:\n",
        "\n",
        "**Answer:** Our random variable, $X$, represents $\\dots$. We will assume $X \\sim N(\\mu, \\sigma^2)$ and estimate $\\mu$ with $\\ldots$ and $\\ldots$ with $s$ from our data.\n"
      ],
      "metadata": {
        "id": "rtvFmFzjgH87"
      }
    },
    {
      "cell_type": "markdown",
      "source": [
        "Our random variable, $X$, represents ages of death in a Brisbane hosptial. We will assume $X \\sim N(\\mu, \\sigma^2)$ and estimate $\\mu$ with $\\bar{x}$ and $\\sigma$ with $s$ from our data."
      ],
      "metadata": {
        "id": "FtNpJdgYacXK"
      }
    },
    {
      "cell_type": "markdown",
      "source": [
        "\n",
        "**Exercise:** Calculate the mean, standard deviation and number of deaths in the data frame, storing the results in a data frame. Include them in a table below.\n",
        "\n",
        "**Answer:**"
      ],
      "metadata": {
        "id": "XNTvTDMMW4zP"
      }
    },
    {
      "cell_type": "code",
      "source": [
        "# read data into dataframe\n",
        "df = pd.read_csv(\"data/Deaths.csv\")\n",
        "\n",
        "# find mean, std, count and std error\n",
        "SumStats = df['Age'].agg(['mean', 'std', 'count', 'sem']).to_frame()\n",
        "SumStats"
      ],
      "metadata": {
        "colab": {
          "base_uri": "https://localhost:8080/",
          "height": 174
        },
        "id": "MpmznNW0GzXF",
        "outputId": "b35ad5a9-2aa2-4f40-97f7-707bd50cbb71"
      },
      "execution_count": 15,
      "outputs": [
        {
          "output_type": "execute_result",
          "data": {
            "text/plain": [
              "               Age\n",
              "mean     45.201681\n",
              "std      19.262044\n",
              "count  4522.000000\n",
              "sem       0.286442"
            ],
            "text/html": [
              "\n",
              "  <div id=\"df-f80a4c54-dc92-480e-b541-1d0826d4fb4d\" class=\"colab-df-container\">\n",
              "    <div>\n",
              "<style scoped>\n",
              "    .dataframe tbody tr th:only-of-type {\n",
              "        vertical-align: middle;\n",
              "    }\n",
              "\n",
              "    .dataframe tbody tr th {\n",
              "        vertical-align: top;\n",
              "    }\n",
              "\n",
              "    .dataframe thead th {\n",
              "        text-align: right;\n",
              "    }\n",
              "</style>\n",
              "<table border=\"1\" class=\"dataframe\">\n",
              "  <thead>\n",
              "    <tr style=\"text-align: right;\">\n",
              "      <th></th>\n",
              "      <th>Age</th>\n",
              "    </tr>\n",
              "  </thead>\n",
              "  <tbody>\n",
              "    <tr>\n",
              "      <th>mean</th>\n",
              "      <td>45.201681</td>\n",
              "    </tr>\n",
              "    <tr>\n",
              "      <th>std</th>\n",
              "      <td>19.262044</td>\n",
              "    </tr>\n",
              "    <tr>\n",
              "      <th>count</th>\n",
              "      <td>4522.000000</td>\n",
              "    </tr>\n",
              "    <tr>\n",
              "      <th>sem</th>\n",
              "      <td>0.286442</td>\n",
              "    </tr>\n",
              "  </tbody>\n",
              "</table>\n",
              "</div>\n",
              "    <div class=\"colab-df-buttons\">\n",
              "\n",
              "  <div class=\"colab-df-container\">\n",
              "    <button class=\"colab-df-convert\" onclick=\"convertToInteractive('df-f80a4c54-dc92-480e-b541-1d0826d4fb4d')\"\n",
              "            title=\"Convert this dataframe to an interactive table.\"\n",
              "            style=\"display:none;\">\n",
              "\n",
              "  <svg xmlns=\"http://www.w3.org/2000/svg\" height=\"24px\" viewBox=\"0 -960 960 960\">\n",
              "    <path d=\"M120-120v-720h720v720H120Zm60-500h600v-160H180v160Zm220 220h160v-160H400v160Zm0 220h160v-160H400v160ZM180-400h160v-160H180v160Zm440 0h160v-160H620v160ZM180-180h160v-160H180v160Zm440 0h160v-160H620v160Z\"/>\n",
              "  </svg>\n",
              "    </button>\n",
              "\n",
              "  <style>\n",
              "    .colab-df-container {\n",
              "      display:flex;\n",
              "      gap: 12px;\n",
              "    }\n",
              "\n",
              "    .colab-df-convert {\n",
              "      background-color: #E8F0FE;\n",
              "      border: none;\n",
              "      border-radius: 50%;\n",
              "      cursor: pointer;\n",
              "      display: none;\n",
              "      fill: #1967D2;\n",
              "      height: 32px;\n",
              "      padding: 0 0 0 0;\n",
              "      width: 32px;\n",
              "    }\n",
              "\n",
              "    .colab-df-convert:hover {\n",
              "      background-color: #E2EBFA;\n",
              "      box-shadow: 0px 1px 2px rgba(60, 64, 67, 0.3), 0px 1px 3px 1px rgba(60, 64, 67, 0.15);\n",
              "      fill: #174EA6;\n",
              "    }\n",
              "\n",
              "    .colab-df-buttons div {\n",
              "      margin-bottom: 4px;\n",
              "    }\n",
              "\n",
              "    [theme=dark] .colab-df-convert {\n",
              "      background-color: #3B4455;\n",
              "      fill: #D2E3FC;\n",
              "    }\n",
              "\n",
              "    [theme=dark] .colab-df-convert:hover {\n",
              "      background-color: #434B5C;\n",
              "      box-shadow: 0px 1px 3px 1px rgba(0, 0, 0, 0.15);\n",
              "      filter: drop-shadow(0px 1px 2px rgba(0, 0, 0, 0.3));\n",
              "      fill: #FFFFFF;\n",
              "    }\n",
              "  </style>\n",
              "\n",
              "    <script>\n",
              "      const buttonEl =\n",
              "        document.querySelector('#df-f80a4c54-dc92-480e-b541-1d0826d4fb4d button.colab-df-convert');\n",
              "      buttonEl.style.display =\n",
              "        google.colab.kernel.accessAllowed ? 'block' : 'none';\n",
              "\n",
              "      async function convertToInteractive(key) {\n",
              "        const element = document.querySelector('#df-f80a4c54-dc92-480e-b541-1d0826d4fb4d');\n",
              "        const dataTable =\n",
              "          await google.colab.kernel.invokeFunction('convertToInteractive',\n",
              "                                                    [key], {});\n",
              "        if (!dataTable) return;\n",
              "\n",
              "        const docLinkHtml = 'Like what you see? Visit the ' +\n",
              "          '<a target=\"_blank\" href=https://colab.research.google.com/notebooks/data_table.ipynb>data table notebook</a>'\n",
              "          + ' to learn more about interactive tables.';\n",
              "        element.innerHTML = '';\n",
              "        dataTable['output_type'] = 'display_data';\n",
              "        await google.colab.output.renderOutput(dataTable, element);\n",
              "        const docLink = document.createElement('div');\n",
              "        docLink.innerHTML = docLinkHtml;\n",
              "        element.appendChild(docLink);\n",
              "      }\n",
              "    </script>\n",
              "  </div>\n",
              "\n",
              "\n",
              "<div id=\"df-5228d252-80a6-4e66-a102-823a96d427af\">\n",
              "  <button class=\"colab-df-quickchart\" onclick=\"quickchart('df-5228d252-80a6-4e66-a102-823a96d427af')\"\n",
              "            title=\"Suggest charts\"\n",
              "            style=\"display:none;\">\n",
              "\n",
              "<svg xmlns=\"http://www.w3.org/2000/svg\" height=\"24px\"viewBox=\"0 0 24 24\"\n",
              "     width=\"24px\">\n",
              "    <g>\n",
              "        <path d=\"M19 3H5c-1.1 0-2 .9-2 2v14c0 1.1.9 2 2 2h14c1.1 0 2-.9 2-2V5c0-1.1-.9-2-2-2zM9 17H7v-7h2v7zm4 0h-2V7h2v10zm4 0h-2v-4h2v4z\"/>\n",
              "    </g>\n",
              "</svg>\n",
              "  </button>\n",
              "\n",
              "<style>\n",
              "  .colab-df-quickchart {\n",
              "      --bg-color: #E8F0FE;\n",
              "      --fill-color: #1967D2;\n",
              "      --hover-bg-color: #E2EBFA;\n",
              "      --hover-fill-color: #174EA6;\n",
              "      --disabled-fill-color: #AAA;\n",
              "      --disabled-bg-color: #DDD;\n",
              "  }\n",
              "\n",
              "  [theme=dark] .colab-df-quickchart {\n",
              "      --bg-color: #3B4455;\n",
              "      --fill-color: #D2E3FC;\n",
              "      --hover-bg-color: #434B5C;\n",
              "      --hover-fill-color: #FFFFFF;\n",
              "      --disabled-bg-color: #3B4455;\n",
              "      --disabled-fill-color: #666;\n",
              "  }\n",
              "\n",
              "  .colab-df-quickchart {\n",
              "    background-color: var(--bg-color);\n",
              "    border: none;\n",
              "    border-radius: 50%;\n",
              "    cursor: pointer;\n",
              "    display: none;\n",
              "    fill: var(--fill-color);\n",
              "    height: 32px;\n",
              "    padding: 0;\n",
              "    width: 32px;\n",
              "  }\n",
              "\n",
              "  .colab-df-quickchart:hover {\n",
              "    background-color: var(--hover-bg-color);\n",
              "    box-shadow: 0 1px 2px rgba(60, 64, 67, 0.3), 0 1px 3px 1px rgba(60, 64, 67, 0.15);\n",
              "    fill: var(--button-hover-fill-color);\n",
              "  }\n",
              "\n",
              "  .colab-df-quickchart-complete:disabled,\n",
              "  .colab-df-quickchart-complete:disabled:hover {\n",
              "    background-color: var(--disabled-bg-color);\n",
              "    fill: var(--disabled-fill-color);\n",
              "    box-shadow: none;\n",
              "  }\n",
              "\n",
              "  .colab-df-spinner {\n",
              "    border: 2px solid var(--fill-color);\n",
              "    border-color: transparent;\n",
              "    border-bottom-color: var(--fill-color);\n",
              "    animation:\n",
              "      spin 1s steps(1) infinite;\n",
              "  }\n",
              "\n",
              "  @keyframes spin {\n",
              "    0% {\n",
              "      border-color: transparent;\n",
              "      border-bottom-color: var(--fill-color);\n",
              "      border-left-color: var(--fill-color);\n",
              "    }\n",
              "    20% {\n",
              "      border-color: transparent;\n",
              "      border-left-color: var(--fill-color);\n",
              "      border-top-color: var(--fill-color);\n",
              "    }\n",
              "    30% {\n",
              "      border-color: transparent;\n",
              "      border-left-color: var(--fill-color);\n",
              "      border-top-color: var(--fill-color);\n",
              "      border-right-color: var(--fill-color);\n",
              "    }\n",
              "    40% {\n",
              "      border-color: transparent;\n",
              "      border-right-color: var(--fill-color);\n",
              "      border-top-color: var(--fill-color);\n",
              "    }\n",
              "    60% {\n",
              "      border-color: transparent;\n",
              "      border-right-color: var(--fill-color);\n",
              "    }\n",
              "    80% {\n",
              "      border-color: transparent;\n",
              "      border-right-color: var(--fill-color);\n",
              "      border-bottom-color: var(--fill-color);\n",
              "    }\n",
              "    90% {\n",
              "      border-color: transparent;\n",
              "      border-bottom-color: var(--fill-color);\n",
              "    }\n",
              "  }\n",
              "</style>\n",
              "\n",
              "  <script>\n",
              "    async function quickchart(key) {\n",
              "      const quickchartButtonEl =\n",
              "        document.querySelector('#' + key + ' button');\n",
              "      quickchartButtonEl.disabled = true;  // To prevent multiple clicks.\n",
              "      quickchartButtonEl.classList.add('colab-df-spinner');\n",
              "      try {\n",
              "        const charts = await google.colab.kernel.invokeFunction(\n",
              "            'suggestCharts', [key], {});\n",
              "      } catch (error) {\n",
              "        console.error('Error during call to suggestCharts:', error);\n",
              "      }\n",
              "      quickchartButtonEl.classList.remove('colab-df-spinner');\n",
              "      quickchartButtonEl.classList.add('colab-df-quickchart-complete');\n",
              "    }\n",
              "    (() => {\n",
              "      let quickchartButtonEl =\n",
              "        document.querySelector('#df-5228d252-80a6-4e66-a102-823a96d427af button');\n",
              "      quickchartButtonEl.style.display =\n",
              "        google.colab.kernel.accessAllowed ? 'block' : 'none';\n",
              "    })();\n",
              "  </script>\n",
              "</div>\n",
              "\n",
              "  <div id=\"id_736eec6f-9bea-48bb-9c9b-7ef34cd30e02\">\n",
              "    <style>\n",
              "      .colab-df-generate {\n",
              "        background-color: #E8F0FE;\n",
              "        border: none;\n",
              "        border-radius: 50%;\n",
              "        cursor: pointer;\n",
              "        display: none;\n",
              "        fill: #1967D2;\n",
              "        height: 32px;\n",
              "        padding: 0 0 0 0;\n",
              "        width: 32px;\n",
              "      }\n",
              "\n",
              "      .colab-df-generate:hover {\n",
              "        background-color: #E2EBFA;\n",
              "        box-shadow: 0px 1px 2px rgba(60, 64, 67, 0.3), 0px 1px 3px 1px rgba(60, 64, 67, 0.15);\n",
              "        fill: #174EA6;\n",
              "      }\n",
              "\n",
              "      [theme=dark] .colab-df-generate {\n",
              "        background-color: #3B4455;\n",
              "        fill: #D2E3FC;\n",
              "      }\n",
              "\n",
              "      [theme=dark] .colab-df-generate:hover {\n",
              "        background-color: #434B5C;\n",
              "        box-shadow: 0px 1px 3px 1px rgba(0, 0, 0, 0.15);\n",
              "        filter: drop-shadow(0px 1px 2px rgba(0, 0, 0, 0.3));\n",
              "        fill: #FFFFFF;\n",
              "      }\n",
              "    </style>\n",
              "    <button class=\"colab-df-generate\" onclick=\"generateWithVariable('SumStats')\"\n",
              "            title=\"Generate code using this dataframe.\"\n",
              "            style=\"display:none;\">\n",
              "\n",
              "  <svg xmlns=\"http://www.w3.org/2000/svg\" height=\"24px\"viewBox=\"0 0 24 24\"\n",
              "       width=\"24px\">\n",
              "    <path d=\"M7,19H8.4L18.45,9,17,7.55,7,17.6ZM5,21V16.75L18.45,3.32a2,2,0,0,1,2.83,0l1.4,1.43a1.91,1.91,0,0,1,.58,1.4,1.91,1.91,0,0,1-.58,1.4L9.25,21ZM18.45,9,17,7.55Zm-12,3A5.31,5.31,0,0,0,4.9,8.1,5.31,5.31,0,0,0,1,6.5,5.31,5.31,0,0,0,4.9,4.9,5.31,5.31,0,0,0,6.5,1,5.31,5.31,0,0,0,8.1,4.9,5.31,5.31,0,0,0,12,6.5,5.46,5.46,0,0,0,6.5,12Z\"/>\n",
              "  </svg>\n",
              "    </button>\n",
              "    <script>\n",
              "      (() => {\n",
              "      const buttonEl =\n",
              "        document.querySelector('#id_736eec6f-9bea-48bb-9c9b-7ef34cd30e02 button.colab-df-generate');\n",
              "      buttonEl.style.display =\n",
              "        google.colab.kernel.accessAllowed ? 'block' : 'none';\n",
              "\n",
              "      buttonEl.onclick = () => {\n",
              "        google.colab.notebook.generateWithVariable('SumStats');\n",
              "      }\n",
              "      })();\n",
              "    </script>\n",
              "  </div>\n",
              "\n",
              "    </div>\n",
              "  </div>\n"
            ],
            "application/vnd.google.colaboratory.intrinsic+json": {
              "type": "dataframe",
              "variable_name": "SumStats",
              "summary": "{\n  \"name\": \"SumStats\",\n  \"rows\": 4,\n  \"fields\": [\n    {\n      \"column\": \"Age\",\n      \"properties\": {\n        \"dtype\": \"number\",\n        \"std\": 2250.283613755811,\n        \"min\": 0.28644225898273473,\n        \"max\": 4522.0,\n        \"num_unique_values\": 4,\n        \"samples\": [\n          19.262043933087146,\n          0.28644225898273473,\n          45.20168067226891\n        ],\n        \"semantic_type\": \"\",\n        \"description\": \"\"\n      }\n    }\n  ]\n}"
            }
          },
          "metadata": {},
          "execution_count": 15
        }
      ]
    },
    {
      "cell_type": "markdown",
      "source": [
        "The standard error of the mean for a set of observations, $\\boldsymbol{x}$, is given by\n",
        "\n",
        "$$\n",
        "se_{\\overline{x}} = \\frac{s}{\\sqrt{n}}\n",
        "$$\n",
        "\n"
      ],
      "metadata": {
        "id": "6yEneuz3WvVh"
      }
    },
    {
      "cell_type": "markdown",
      "source": [
        "# Activity 3 -- Confidence intervals\n"
      ],
      "metadata": {
        "id": "DfKE9-PnXmSz"
      }
    },
    {
      "cell_type": "markdown",
      "source": [
        "To construct a confidence interval for our mean, we must choose a level of statistical significance, $\\alpha$, such that $(1 - \\alpha) \\times 100%$ is the confidence level we wish to use. For example, a 95% confidence interval corresponds to $\\alpha = 0.05$.\n",
        "\n",
        "**Exercise:** What value of $\\alpha$ would we need if constructing 90% confidence intervals?\n",
        "\n",
        "**Answer:** $\\alpha = 0.1$"
      ],
      "metadata": {
        "id": "Nxhc6JqZXrD6"
      }
    },
    {
      "cell_type": "markdown",
      "source": [
        "\n",
        "\n",
        "**Exercise:** What value of $\\alpha$ would we need if constructing 99% confidence intervals?\n",
        "\n",
        "**Answer:** $\\alpha = 0.01$"
      ],
      "metadata": {
        "id": "UZSmBwGzYO0Y"
      }
    },
    {
      "cell_type": "markdown",
      "source": [
        "The confidence interval for our mean population age of death (during the years 1899 to 1913), $\\mu$, is given by\n",
        "\n",
        "$$\n",
        "\\overline{x} + t_{\\alpha/2}(\\nu) \\frac{s}{\\sqrt{n}} < \\mu <  \\overline{x} + t_{1-\\alpha/2}(\\nu) \\frac{s}{\\sqrt{n}}\n",
        "$$\n",
        "\n",
        "where $\\overline{x}$ is the sample mean, $s$ is the standard deviation, and $\\nu$ is the number of degrees of freedom required to calculate the $\\alpha/2$ and $1 - \\alpha/2$ quantiles of the $t$ distribution. In the case of a sample mean, $\\nu = (n-1)$ as we start with $n$ observations but have to estimate one parameter, $s$, to calculate our standard error. If we knew what the population standard deviation was, $\\sigma$, we would not lose one degree of freedom.\n",
        "\n",
        "**Exercise:** With $\\alpha= 0.05$, calculate the 0.025 quantile of the $t$ distribution.\n",
        "\n",
        "**Answer:**\n",
        "\n"
      ],
      "metadata": {
        "id": "HV8ibJxWYRz3"
      }
    },
    {
      "cell_type": "code",
      "source": [
        "# from scipy import stats\n",
        "\n",
        "SumStats.loc['q025'] = stats.t.ppf(q=0.025, df=SumStats.loc['count']-1)\n",
        "SumStats"
      ],
      "metadata": {
        "colab": {
          "base_uri": "https://localhost:8080/",
          "height": 206
        },
        "id": "KOfrplhdKFVh",
        "outputId": "72dc1207-ac85-471a-ccae-89e6e6beec3c"
      },
      "execution_count": 22,
      "outputs": [
        {
          "output_type": "execute_result",
          "data": {
            "text/plain": [
              "               Age\n",
              "mean     45.201681\n",
              "std      19.262044\n",
              "count  4522.000000\n",
              "sem       0.286442\n",
              "q025     -1.960489"
            ],
            "text/html": [
              "\n",
              "  <div id=\"df-0bc7eb31-baf4-48f8-bf30-ce9f87e15691\" class=\"colab-df-container\">\n",
              "    <div>\n",
              "<style scoped>\n",
              "    .dataframe tbody tr th:only-of-type {\n",
              "        vertical-align: middle;\n",
              "    }\n",
              "\n",
              "    .dataframe tbody tr th {\n",
              "        vertical-align: top;\n",
              "    }\n",
              "\n",
              "    .dataframe thead th {\n",
              "        text-align: right;\n",
              "    }\n",
              "</style>\n",
              "<table border=\"1\" class=\"dataframe\">\n",
              "  <thead>\n",
              "    <tr style=\"text-align: right;\">\n",
              "      <th></th>\n",
              "      <th>Age</th>\n",
              "    </tr>\n",
              "  </thead>\n",
              "  <tbody>\n",
              "    <tr>\n",
              "      <th>mean</th>\n",
              "      <td>45.201681</td>\n",
              "    </tr>\n",
              "    <tr>\n",
              "      <th>std</th>\n",
              "      <td>19.262044</td>\n",
              "    </tr>\n",
              "    <tr>\n",
              "      <th>count</th>\n",
              "      <td>4522.000000</td>\n",
              "    </tr>\n",
              "    <tr>\n",
              "      <th>sem</th>\n",
              "      <td>0.286442</td>\n",
              "    </tr>\n",
              "    <tr>\n",
              "      <th>q025</th>\n",
              "      <td>-1.960489</td>\n",
              "    </tr>\n",
              "  </tbody>\n",
              "</table>\n",
              "</div>\n",
              "    <div class=\"colab-df-buttons\">\n",
              "\n",
              "  <div class=\"colab-df-container\">\n",
              "    <button class=\"colab-df-convert\" onclick=\"convertToInteractive('df-0bc7eb31-baf4-48f8-bf30-ce9f87e15691')\"\n",
              "            title=\"Convert this dataframe to an interactive table.\"\n",
              "            style=\"display:none;\">\n",
              "\n",
              "  <svg xmlns=\"http://www.w3.org/2000/svg\" height=\"24px\" viewBox=\"0 -960 960 960\">\n",
              "    <path d=\"M120-120v-720h720v720H120Zm60-500h600v-160H180v160Zm220 220h160v-160H400v160Zm0 220h160v-160H400v160ZM180-400h160v-160H180v160Zm440 0h160v-160H620v160ZM180-180h160v-160H180v160Zm440 0h160v-160H620v160Z\"/>\n",
              "  </svg>\n",
              "    </button>\n",
              "\n",
              "  <style>\n",
              "    .colab-df-container {\n",
              "      display:flex;\n",
              "      gap: 12px;\n",
              "    }\n",
              "\n",
              "    .colab-df-convert {\n",
              "      background-color: #E8F0FE;\n",
              "      border: none;\n",
              "      border-radius: 50%;\n",
              "      cursor: pointer;\n",
              "      display: none;\n",
              "      fill: #1967D2;\n",
              "      height: 32px;\n",
              "      padding: 0 0 0 0;\n",
              "      width: 32px;\n",
              "    }\n",
              "\n",
              "    .colab-df-convert:hover {\n",
              "      background-color: #E2EBFA;\n",
              "      box-shadow: 0px 1px 2px rgba(60, 64, 67, 0.3), 0px 1px 3px 1px rgba(60, 64, 67, 0.15);\n",
              "      fill: #174EA6;\n",
              "    }\n",
              "\n",
              "    .colab-df-buttons div {\n",
              "      margin-bottom: 4px;\n",
              "    }\n",
              "\n",
              "    [theme=dark] .colab-df-convert {\n",
              "      background-color: #3B4455;\n",
              "      fill: #D2E3FC;\n",
              "    }\n",
              "\n",
              "    [theme=dark] .colab-df-convert:hover {\n",
              "      background-color: #434B5C;\n",
              "      box-shadow: 0px 1px 3px 1px rgba(0, 0, 0, 0.15);\n",
              "      filter: drop-shadow(0px 1px 2px rgba(0, 0, 0, 0.3));\n",
              "      fill: #FFFFFF;\n",
              "    }\n",
              "  </style>\n",
              "\n",
              "    <script>\n",
              "      const buttonEl =\n",
              "        document.querySelector('#df-0bc7eb31-baf4-48f8-bf30-ce9f87e15691 button.colab-df-convert');\n",
              "      buttonEl.style.display =\n",
              "        google.colab.kernel.accessAllowed ? 'block' : 'none';\n",
              "\n",
              "      async function convertToInteractive(key) {\n",
              "        const element = document.querySelector('#df-0bc7eb31-baf4-48f8-bf30-ce9f87e15691');\n",
              "        const dataTable =\n",
              "          await google.colab.kernel.invokeFunction('convertToInteractive',\n",
              "                                                    [key], {});\n",
              "        if (!dataTable) return;\n",
              "\n",
              "        const docLinkHtml = 'Like what you see? Visit the ' +\n",
              "          '<a target=\"_blank\" href=https://colab.research.google.com/notebooks/data_table.ipynb>data table notebook</a>'\n",
              "          + ' to learn more about interactive tables.';\n",
              "        element.innerHTML = '';\n",
              "        dataTable['output_type'] = 'display_data';\n",
              "        await google.colab.output.renderOutput(dataTable, element);\n",
              "        const docLink = document.createElement('div');\n",
              "        docLink.innerHTML = docLinkHtml;\n",
              "        element.appendChild(docLink);\n",
              "      }\n",
              "    </script>\n",
              "  </div>\n",
              "\n",
              "\n",
              "<div id=\"df-6c6e55fe-c9e7-4221-a081-8720811e4a40\">\n",
              "  <button class=\"colab-df-quickchart\" onclick=\"quickchart('df-6c6e55fe-c9e7-4221-a081-8720811e4a40')\"\n",
              "            title=\"Suggest charts\"\n",
              "            style=\"display:none;\">\n",
              "\n",
              "<svg xmlns=\"http://www.w3.org/2000/svg\" height=\"24px\"viewBox=\"0 0 24 24\"\n",
              "     width=\"24px\">\n",
              "    <g>\n",
              "        <path d=\"M19 3H5c-1.1 0-2 .9-2 2v14c0 1.1.9 2 2 2h14c1.1 0 2-.9 2-2V5c0-1.1-.9-2-2-2zM9 17H7v-7h2v7zm4 0h-2V7h2v10zm4 0h-2v-4h2v4z\"/>\n",
              "    </g>\n",
              "</svg>\n",
              "  </button>\n",
              "\n",
              "<style>\n",
              "  .colab-df-quickchart {\n",
              "      --bg-color: #E8F0FE;\n",
              "      --fill-color: #1967D2;\n",
              "      --hover-bg-color: #E2EBFA;\n",
              "      --hover-fill-color: #174EA6;\n",
              "      --disabled-fill-color: #AAA;\n",
              "      --disabled-bg-color: #DDD;\n",
              "  }\n",
              "\n",
              "  [theme=dark] .colab-df-quickchart {\n",
              "      --bg-color: #3B4455;\n",
              "      --fill-color: #D2E3FC;\n",
              "      --hover-bg-color: #434B5C;\n",
              "      --hover-fill-color: #FFFFFF;\n",
              "      --disabled-bg-color: #3B4455;\n",
              "      --disabled-fill-color: #666;\n",
              "  }\n",
              "\n",
              "  .colab-df-quickchart {\n",
              "    background-color: var(--bg-color);\n",
              "    border: none;\n",
              "    border-radius: 50%;\n",
              "    cursor: pointer;\n",
              "    display: none;\n",
              "    fill: var(--fill-color);\n",
              "    height: 32px;\n",
              "    padding: 0;\n",
              "    width: 32px;\n",
              "  }\n",
              "\n",
              "  .colab-df-quickchart:hover {\n",
              "    background-color: var(--hover-bg-color);\n",
              "    box-shadow: 0 1px 2px rgba(60, 64, 67, 0.3), 0 1px 3px 1px rgba(60, 64, 67, 0.15);\n",
              "    fill: var(--button-hover-fill-color);\n",
              "  }\n",
              "\n",
              "  .colab-df-quickchart-complete:disabled,\n",
              "  .colab-df-quickchart-complete:disabled:hover {\n",
              "    background-color: var(--disabled-bg-color);\n",
              "    fill: var(--disabled-fill-color);\n",
              "    box-shadow: none;\n",
              "  }\n",
              "\n",
              "  .colab-df-spinner {\n",
              "    border: 2px solid var(--fill-color);\n",
              "    border-color: transparent;\n",
              "    border-bottom-color: var(--fill-color);\n",
              "    animation:\n",
              "      spin 1s steps(1) infinite;\n",
              "  }\n",
              "\n",
              "  @keyframes spin {\n",
              "    0% {\n",
              "      border-color: transparent;\n",
              "      border-bottom-color: var(--fill-color);\n",
              "      border-left-color: var(--fill-color);\n",
              "    }\n",
              "    20% {\n",
              "      border-color: transparent;\n",
              "      border-left-color: var(--fill-color);\n",
              "      border-top-color: var(--fill-color);\n",
              "    }\n",
              "    30% {\n",
              "      border-color: transparent;\n",
              "      border-left-color: var(--fill-color);\n",
              "      border-top-color: var(--fill-color);\n",
              "      border-right-color: var(--fill-color);\n",
              "    }\n",
              "    40% {\n",
              "      border-color: transparent;\n",
              "      border-right-color: var(--fill-color);\n",
              "      border-top-color: var(--fill-color);\n",
              "    }\n",
              "    60% {\n",
              "      border-color: transparent;\n",
              "      border-right-color: var(--fill-color);\n",
              "    }\n",
              "    80% {\n",
              "      border-color: transparent;\n",
              "      border-right-color: var(--fill-color);\n",
              "      border-bottom-color: var(--fill-color);\n",
              "    }\n",
              "    90% {\n",
              "      border-color: transparent;\n",
              "      border-bottom-color: var(--fill-color);\n",
              "    }\n",
              "  }\n",
              "</style>\n",
              "\n",
              "  <script>\n",
              "    async function quickchart(key) {\n",
              "      const quickchartButtonEl =\n",
              "        document.querySelector('#' + key + ' button');\n",
              "      quickchartButtonEl.disabled = true;  // To prevent multiple clicks.\n",
              "      quickchartButtonEl.classList.add('colab-df-spinner');\n",
              "      try {\n",
              "        const charts = await google.colab.kernel.invokeFunction(\n",
              "            'suggestCharts', [key], {});\n",
              "      } catch (error) {\n",
              "        console.error('Error during call to suggestCharts:', error);\n",
              "      }\n",
              "      quickchartButtonEl.classList.remove('colab-df-spinner');\n",
              "      quickchartButtonEl.classList.add('colab-df-quickchart-complete');\n",
              "    }\n",
              "    (() => {\n",
              "      let quickchartButtonEl =\n",
              "        document.querySelector('#df-6c6e55fe-c9e7-4221-a081-8720811e4a40 button');\n",
              "      quickchartButtonEl.style.display =\n",
              "        google.colab.kernel.accessAllowed ? 'block' : 'none';\n",
              "    })();\n",
              "  </script>\n",
              "</div>\n",
              "\n",
              "  <div id=\"id_fe1f393a-89c2-4e80-8150-f328da718624\">\n",
              "    <style>\n",
              "      .colab-df-generate {\n",
              "        background-color: #E8F0FE;\n",
              "        border: none;\n",
              "        border-radius: 50%;\n",
              "        cursor: pointer;\n",
              "        display: none;\n",
              "        fill: #1967D2;\n",
              "        height: 32px;\n",
              "        padding: 0 0 0 0;\n",
              "        width: 32px;\n",
              "      }\n",
              "\n",
              "      .colab-df-generate:hover {\n",
              "        background-color: #E2EBFA;\n",
              "        box-shadow: 0px 1px 2px rgba(60, 64, 67, 0.3), 0px 1px 3px 1px rgba(60, 64, 67, 0.15);\n",
              "        fill: #174EA6;\n",
              "      }\n",
              "\n",
              "      [theme=dark] .colab-df-generate {\n",
              "        background-color: #3B4455;\n",
              "        fill: #D2E3FC;\n",
              "      }\n",
              "\n",
              "      [theme=dark] .colab-df-generate:hover {\n",
              "        background-color: #434B5C;\n",
              "        box-shadow: 0px 1px 3px 1px rgba(0, 0, 0, 0.15);\n",
              "        filter: drop-shadow(0px 1px 2px rgba(0, 0, 0, 0.3));\n",
              "        fill: #FFFFFF;\n",
              "      }\n",
              "    </style>\n",
              "    <button class=\"colab-df-generate\" onclick=\"generateWithVariable('SumStats')\"\n",
              "            title=\"Generate code using this dataframe.\"\n",
              "            style=\"display:none;\">\n",
              "\n",
              "  <svg xmlns=\"http://www.w3.org/2000/svg\" height=\"24px\"viewBox=\"0 0 24 24\"\n",
              "       width=\"24px\">\n",
              "    <path d=\"M7,19H8.4L18.45,9,17,7.55,7,17.6ZM5,21V16.75L18.45,3.32a2,2,0,0,1,2.83,0l1.4,1.43a1.91,1.91,0,0,1,.58,1.4,1.91,1.91,0,0,1-.58,1.4L9.25,21ZM18.45,9,17,7.55Zm-12,3A5.31,5.31,0,0,0,4.9,8.1,5.31,5.31,0,0,0,1,6.5,5.31,5.31,0,0,0,4.9,4.9,5.31,5.31,0,0,0,6.5,1,5.31,5.31,0,0,0,8.1,4.9,5.31,5.31,0,0,0,12,6.5,5.46,5.46,0,0,0,6.5,12Z\"/>\n",
              "  </svg>\n",
              "    </button>\n",
              "    <script>\n",
              "      (() => {\n",
              "      const buttonEl =\n",
              "        document.querySelector('#id_fe1f393a-89c2-4e80-8150-f328da718624 button.colab-df-generate');\n",
              "      buttonEl.style.display =\n",
              "        google.colab.kernel.accessAllowed ? 'block' : 'none';\n",
              "\n",
              "      buttonEl.onclick = () => {\n",
              "        google.colab.notebook.generateWithVariable('SumStats');\n",
              "      }\n",
              "      })();\n",
              "    </script>\n",
              "  </div>\n",
              "\n",
              "    </div>\n",
              "  </div>\n"
            ],
            "application/vnd.google.colaboratory.intrinsic+json": {
              "type": "dataframe",
              "variable_name": "SumStats",
              "summary": "{\n  \"name\": \"SumStats\",\n  \"rows\": 5,\n  \"fields\": [\n    {\n      \"column\": \"Age\",\n      \"properties\": {\n        \"dtype\": \"number\",\n        \"std\": 2015.368630393944,\n        \"min\": -1.9604888453371867,\n        \"max\": 4522.0,\n        \"num_unique_values\": 5,\n        \"samples\": [\n          19.262043933087146,\n          -1.9604888453371867,\n          4522.0\n        ],\n        \"semantic_type\": \"\",\n        \"description\": \"\"\n      }\n    }\n  ]\n}"
            }
          },
          "metadata": {},
          "execution_count": 22
        }
      ]
    },
    {
      "cell_type": "markdown",
      "source": [
        "**Exercise:** With $\\alpha= 0.05$, calculate the 0.975 quantile of the $t$ distribution.\n",
        "\n",
        "**Answer:**\n",
        "\n",
        "\n",
        "\n",
        "\n"
      ],
      "metadata": {
        "id": "5AJDGNG-Yk5W"
      }
    },
    {
      "cell_type": "code",
      "source": [
        "SumStats.loc['q975'] = stats.t.ppf(q=0.975, df=SumStats.loc['count']-1)\n",
        "SumStats"
      ],
      "metadata": {
        "colab": {
          "base_uri": "https://localhost:8080/",
          "height": 237
        },
        "id": "m-wc4RF-L9Yr",
        "outputId": "02f68a10-5d2a-4db2-c4b9-848a8f68c709"
      },
      "execution_count": 23,
      "outputs": [
        {
          "output_type": "execute_result",
          "data": {
            "text/plain": [
              "               Age\n",
              "mean     45.201681\n",
              "std      19.262044\n",
              "count  4522.000000\n",
              "sem       0.286442\n",
              "q025     -1.960489\n",
              "q975      1.960489"
            ],
            "text/html": [
              "\n",
              "  <div id=\"df-0745fc21-ab7c-43aa-8a24-f3fefdbcbdd0\" class=\"colab-df-container\">\n",
              "    <div>\n",
              "<style scoped>\n",
              "    .dataframe tbody tr th:only-of-type {\n",
              "        vertical-align: middle;\n",
              "    }\n",
              "\n",
              "    .dataframe tbody tr th {\n",
              "        vertical-align: top;\n",
              "    }\n",
              "\n",
              "    .dataframe thead th {\n",
              "        text-align: right;\n",
              "    }\n",
              "</style>\n",
              "<table border=\"1\" class=\"dataframe\">\n",
              "  <thead>\n",
              "    <tr style=\"text-align: right;\">\n",
              "      <th></th>\n",
              "      <th>Age</th>\n",
              "    </tr>\n",
              "  </thead>\n",
              "  <tbody>\n",
              "    <tr>\n",
              "      <th>mean</th>\n",
              "      <td>45.201681</td>\n",
              "    </tr>\n",
              "    <tr>\n",
              "      <th>std</th>\n",
              "      <td>19.262044</td>\n",
              "    </tr>\n",
              "    <tr>\n",
              "      <th>count</th>\n",
              "      <td>4522.000000</td>\n",
              "    </tr>\n",
              "    <tr>\n",
              "      <th>sem</th>\n",
              "      <td>0.286442</td>\n",
              "    </tr>\n",
              "    <tr>\n",
              "      <th>q025</th>\n",
              "      <td>-1.960489</td>\n",
              "    </tr>\n",
              "    <tr>\n",
              "      <th>q975</th>\n",
              "      <td>1.960489</td>\n",
              "    </tr>\n",
              "  </tbody>\n",
              "</table>\n",
              "</div>\n",
              "    <div class=\"colab-df-buttons\">\n",
              "\n",
              "  <div class=\"colab-df-container\">\n",
              "    <button class=\"colab-df-convert\" onclick=\"convertToInteractive('df-0745fc21-ab7c-43aa-8a24-f3fefdbcbdd0')\"\n",
              "            title=\"Convert this dataframe to an interactive table.\"\n",
              "            style=\"display:none;\">\n",
              "\n",
              "  <svg xmlns=\"http://www.w3.org/2000/svg\" height=\"24px\" viewBox=\"0 -960 960 960\">\n",
              "    <path d=\"M120-120v-720h720v720H120Zm60-500h600v-160H180v160Zm220 220h160v-160H400v160Zm0 220h160v-160H400v160ZM180-400h160v-160H180v160Zm440 0h160v-160H620v160ZM180-180h160v-160H180v160Zm440 0h160v-160H620v160Z\"/>\n",
              "  </svg>\n",
              "    </button>\n",
              "\n",
              "  <style>\n",
              "    .colab-df-container {\n",
              "      display:flex;\n",
              "      gap: 12px;\n",
              "    }\n",
              "\n",
              "    .colab-df-convert {\n",
              "      background-color: #E8F0FE;\n",
              "      border: none;\n",
              "      border-radius: 50%;\n",
              "      cursor: pointer;\n",
              "      display: none;\n",
              "      fill: #1967D2;\n",
              "      height: 32px;\n",
              "      padding: 0 0 0 0;\n",
              "      width: 32px;\n",
              "    }\n",
              "\n",
              "    .colab-df-convert:hover {\n",
              "      background-color: #E2EBFA;\n",
              "      box-shadow: 0px 1px 2px rgba(60, 64, 67, 0.3), 0px 1px 3px 1px rgba(60, 64, 67, 0.15);\n",
              "      fill: #174EA6;\n",
              "    }\n",
              "\n",
              "    .colab-df-buttons div {\n",
              "      margin-bottom: 4px;\n",
              "    }\n",
              "\n",
              "    [theme=dark] .colab-df-convert {\n",
              "      background-color: #3B4455;\n",
              "      fill: #D2E3FC;\n",
              "    }\n",
              "\n",
              "    [theme=dark] .colab-df-convert:hover {\n",
              "      background-color: #434B5C;\n",
              "      box-shadow: 0px 1px 3px 1px rgba(0, 0, 0, 0.15);\n",
              "      filter: drop-shadow(0px 1px 2px rgba(0, 0, 0, 0.3));\n",
              "      fill: #FFFFFF;\n",
              "    }\n",
              "  </style>\n",
              "\n",
              "    <script>\n",
              "      const buttonEl =\n",
              "        document.querySelector('#df-0745fc21-ab7c-43aa-8a24-f3fefdbcbdd0 button.colab-df-convert');\n",
              "      buttonEl.style.display =\n",
              "        google.colab.kernel.accessAllowed ? 'block' : 'none';\n",
              "\n",
              "      async function convertToInteractive(key) {\n",
              "        const element = document.querySelector('#df-0745fc21-ab7c-43aa-8a24-f3fefdbcbdd0');\n",
              "        const dataTable =\n",
              "          await google.colab.kernel.invokeFunction('convertToInteractive',\n",
              "                                                    [key], {});\n",
              "        if (!dataTable) return;\n",
              "\n",
              "        const docLinkHtml = 'Like what you see? Visit the ' +\n",
              "          '<a target=\"_blank\" href=https://colab.research.google.com/notebooks/data_table.ipynb>data table notebook</a>'\n",
              "          + ' to learn more about interactive tables.';\n",
              "        element.innerHTML = '';\n",
              "        dataTable['output_type'] = 'display_data';\n",
              "        await google.colab.output.renderOutput(dataTable, element);\n",
              "        const docLink = document.createElement('div');\n",
              "        docLink.innerHTML = docLinkHtml;\n",
              "        element.appendChild(docLink);\n",
              "      }\n",
              "    </script>\n",
              "  </div>\n",
              "\n",
              "\n",
              "<div id=\"df-b6684d62-3389-4807-80f1-6f86f762c363\">\n",
              "  <button class=\"colab-df-quickchart\" onclick=\"quickchart('df-b6684d62-3389-4807-80f1-6f86f762c363')\"\n",
              "            title=\"Suggest charts\"\n",
              "            style=\"display:none;\">\n",
              "\n",
              "<svg xmlns=\"http://www.w3.org/2000/svg\" height=\"24px\"viewBox=\"0 0 24 24\"\n",
              "     width=\"24px\">\n",
              "    <g>\n",
              "        <path d=\"M19 3H5c-1.1 0-2 .9-2 2v14c0 1.1.9 2 2 2h14c1.1 0 2-.9 2-2V5c0-1.1-.9-2-2-2zM9 17H7v-7h2v7zm4 0h-2V7h2v10zm4 0h-2v-4h2v4z\"/>\n",
              "    </g>\n",
              "</svg>\n",
              "  </button>\n",
              "\n",
              "<style>\n",
              "  .colab-df-quickchart {\n",
              "      --bg-color: #E8F0FE;\n",
              "      --fill-color: #1967D2;\n",
              "      --hover-bg-color: #E2EBFA;\n",
              "      --hover-fill-color: #174EA6;\n",
              "      --disabled-fill-color: #AAA;\n",
              "      --disabled-bg-color: #DDD;\n",
              "  }\n",
              "\n",
              "  [theme=dark] .colab-df-quickchart {\n",
              "      --bg-color: #3B4455;\n",
              "      --fill-color: #D2E3FC;\n",
              "      --hover-bg-color: #434B5C;\n",
              "      --hover-fill-color: #FFFFFF;\n",
              "      --disabled-bg-color: #3B4455;\n",
              "      --disabled-fill-color: #666;\n",
              "  }\n",
              "\n",
              "  .colab-df-quickchart {\n",
              "    background-color: var(--bg-color);\n",
              "    border: none;\n",
              "    border-radius: 50%;\n",
              "    cursor: pointer;\n",
              "    display: none;\n",
              "    fill: var(--fill-color);\n",
              "    height: 32px;\n",
              "    padding: 0;\n",
              "    width: 32px;\n",
              "  }\n",
              "\n",
              "  .colab-df-quickchart:hover {\n",
              "    background-color: var(--hover-bg-color);\n",
              "    box-shadow: 0 1px 2px rgba(60, 64, 67, 0.3), 0 1px 3px 1px rgba(60, 64, 67, 0.15);\n",
              "    fill: var(--button-hover-fill-color);\n",
              "  }\n",
              "\n",
              "  .colab-df-quickchart-complete:disabled,\n",
              "  .colab-df-quickchart-complete:disabled:hover {\n",
              "    background-color: var(--disabled-bg-color);\n",
              "    fill: var(--disabled-fill-color);\n",
              "    box-shadow: none;\n",
              "  }\n",
              "\n",
              "  .colab-df-spinner {\n",
              "    border: 2px solid var(--fill-color);\n",
              "    border-color: transparent;\n",
              "    border-bottom-color: var(--fill-color);\n",
              "    animation:\n",
              "      spin 1s steps(1) infinite;\n",
              "  }\n",
              "\n",
              "  @keyframes spin {\n",
              "    0% {\n",
              "      border-color: transparent;\n",
              "      border-bottom-color: var(--fill-color);\n",
              "      border-left-color: var(--fill-color);\n",
              "    }\n",
              "    20% {\n",
              "      border-color: transparent;\n",
              "      border-left-color: var(--fill-color);\n",
              "      border-top-color: var(--fill-color);\n",
              "    }\n",
              "    30% {\n",
              "      border-color: transparent;\n",
              "      border-left-color: var(--fill-color);\n",
              "      border-top-color: var(--fill-color);\n",
              "      border-right-color: var(--fill-color);\n",
              "    }\n",
              "    40% {\n",
              "      border-color: transparent;\n",
              "      border-right-color: var(--fill-color);\n",
              "      border-top-color: var(--fill-color);\n",
              "    }\n",
              "    60% {\n",
              "      border-color: transparent;\n",
              "      border-right-color: var(--fill-color);\n",
              "    }\n",
              "    80% {\n",
              "      border-color: transparent;\n",
              "      border-right-color: var(--fill-color);\n",
              "      border-bottom-color: var(--fill-color);\n",
              "    }\n",
              "    90% {\n",
              "      border-color: transparent;\n",
              "      border-bottom-color: var(--fill-color);\n",
              "    }\n",
              "  }\n",
              "</style>\n",
              "\n",
              "  <script>\n",
              "    async function quickchart(key) {\n",
              "      const quickchartButtonEl =\n",
              "        document.querySelector('#' + key + ' button');\n",
              "      quickchartButtonEl.disabled = true;  // To prevent multiple clicks.\n",
              "      quickchartButtonEl.classList.add('colab-df-spinner');\n",
              "      try {\n",
              "        const charts = await google.colab.kernel.invokeFunction(\n",
              "            'suggestCharts', [key], {});\n",
              "      } catch (error) {\n",
              "        console.error('Error during call to suggestCharts:', error);\n",
              "      }\n",
              "      quickchartButtonEl.classList.remove('colab-df-spinner');\n",
              "      quickchartButtonEl.classList.add('colab-df-quickchart-complete');\n",
              "    }\n",
              "    (() => {\n",
              "      let quickchartButtonEl =\n",
              "        document.querySelector('#df-b6684d62-3389-4807-80f1-6f86f762c363 button');\n",
              "      quickchartButtonEl.style.display =\n",
              "        google.colab.kernel.accessAllowed ? 'block' : 'none';\n",
              "    })();\n",
              "  </script>\n",
              "</div>\n",
              "\n",
              "  <div id=\"id_56ee1bf8-5367-4f0e-a928-109969ae07a8\">\n",
              "    <style>\n",
              "      .colab-df-generate {\n",
              "        background-color: #E8F0FE;\n",
              "        border: none;\n",
              "        border-radius: 50%;\n",
              "        cursor: pointer;\n",
              "        display: none;\n",
              "        fill: #1967D2;\n",
              "        height: 32px;\n",
              "        padding: 0 0 0 0;\n",
              "        width: 32px;\n",
              "      }\n",
              "\n",
              "      .colab-df-generate:hover {\n",
              "        background-color: #E2EBFA;\n",
              "        box-shadow: 0px 1px 2px rgba(60, 64, 67, 0.3), 0px 1px 3px 1px rgba(60, 64, 67, 0.15);\n",
              "        fill: #174EA6;\n",
              "      }\n",
              "\n",
              "      [theme=dark] .colab-df-generate {\n",
              "        background-color: #3B4455;\n",
              "        fill: #D2E3FC;\n",
              "      }\n",
              "\n",
              "      [theme=dark] .colab-df-generate:hover {\n",
              "        background-color: #434B5C;\n",
              "        box-shadow: 0px 1px 3px 1px rgba(0, 0, 0, 0.15);\n",
              "        filter: drop-shadow(0px 1px 2px rgba(0, 0, 0, 0.3));\n",
              "        fill: #FFFFFF;\n",
              "      }\n",
              "    </style>\n",
              "    <button class=\"colab-df-generate\" onclick=\"generateWithVariable('SumStats')\"\n",
              "            title=\"Generate code using this dataframe.\"\n",
              "            style=\"display:none;\">\n",
              "\n",
              "  <svg xmlns=\"http://www.w3.org/2000/svg\" height=\"24px\"viewBox=\"0 0 24 24\"\n",
              "       width=\"24px\">\n",
              "    <path d=\"M7,19H8.4L18.45,9,17,7.55,7,17.6ZM5,21V16.75L18.45,3.32a2,2,0,0,1,2.83,0l1.4,1.43a1.91,1.91,0,0,1,.58,1.4,1.91,1.91,0,0,1-.58,1.4L9.25,21ZM18.45,9,17,7.55Zm-12,3A5.31,5.31,0,0,0,4.9,8.1,5.31,5.31,0,0,0,1,6.5,5.31,5.31,0,0,0,4.9,4.9,5.31,5.31,0,0,0,6.5,1,5.31,5.31,0,0,0,8.1,4.9,5.31,5.31,0,0,0,12,6.5,5.46,5.46,0,0,0,6.5,12Z\"/>\n",
              "  </svg>\n",
              "    </button>\n",
              "    <script>\n",
              "      (() => {\n",
              "      const buttonEl =\n",
              "        document.querySelector('#id_56ee1bf8-5367-4f0e-a928-109969ae07a8 button.colab-df-generate');\n",
              "      buttonEl.style.display =\n",
              "        google.colab.kernel.accessAllowed ? 'block' : 'none';\n",
              "\n",
              "      buttonEl.onclick = () => {\n",
              "        google.colab.notebook.generateWithVariable('SumStats');\n",
              "      }\n",
              "      })();\n",
              "    </script>\n",
              "  </div>\n",
              "\n",
              "    </div>\n",
              "  </div>\n"
            ],
            "application/vnd.google.colaboratory.intrinsic+json": {
              "type": "dataframe",
              "variable_name": "SumStats",
              "summary": "{\n  \"name\": \"SumStats\",\n  \"rows\": 6,\n  \"fields\": [\n    {\n      \"column\": \"Age\",\n      \"properties\": {\n        \"dtype\": \"number\",\n        \"std\": 1840.8979587047147,\n        \"min\": -1.9604888453371867,\n        \"max\": 4522.0,\n        \"num_unique_values\": 6,\n        \"samples\": [\n          45.20168067226891,\n          19.262043933087146,\n          1.9604888453371863\n        ],\n        \"semantic_type\": \"\",\n        \"description\": \"\"\n      }\n    }\n  ]\n}"
            }
          },
          "metadata": {},
          "execution_count": 23
        }
      ]
    },
    {
      "cell_type": "markdown",
      "source": [
        "You should notice that the 2.5th and 97.5th percentiles of the $t$ distribution are equal in magnitude but opposite in sign. This indicates that our (two-sided) confidence interval will be symmetric about our sample mean.\n",
        "\n",
        "**Exercise:** Using your data frame containing $\\overline{x}, s, n, se_{\\overline{x}}$, calculate the 95% confidence interval for $\\mu$. State your sample mean and its 95% confidence interval below.\n",
        "\n",
        "**Answer:** $\\ldots (\\ldots, \\ldots)$\n",
        "\n"
      ],
      "metadata": {
        "id": "JPUFQGJ-Ya90"
      }
    },
    {
      "cell_type": "code",
      "source": [
        "# make some variables to pass around\n",
        "xbar = SumStats.loc['mean']\n",
        "se = SumStats.loc['sem']\n",
        "n = SumStats.loc['count']\n",
        "\n",
        "q025 = SumStats.loc['q025']\n",
        "q975 = SumStats.loc['q975']\n",
        "\n",
        "L95 = xbar + q025 * se\n",
        "U95 = xbar + q975 * se\n",
        "\n",
        "SumStats.loc['L95'] = L95\n",
        "SumStats.loc['U95'] = U95\n",
        "SumStats"
      ],
      "metadata": {
        "colab": {
          "base_uri": "https://localhost:8080/",
          "height": 300
        },
        "id": "cdYpKJDkMT8B",
        "outputId": "4e2e6563-f146-406d-aa0e-700fd6cd4fc9"
      },
      "execution_count": 30,
      "outputs": [
        {
          "output_type": "execute_result",
          "data": {
            "text/plain": [
              "               Age\n",
              "mean     45.201681\n",
              "std      19.262044\n",
              "count  4522.000000\n",
              "sem       0.286442\n",
              "q025     -1.960489\n",
              "q975      1.960489\n",
              "L95      44.640114\n",
              "U95      45.763248"
            ],
            "text/html": [
              "\n",
              "  <div id=\"df-2e700043-49d0-4df5-b039-e4c102c1c3e3\" class=\"colab-df-container\">\n",
              "    <div>\n",
              "<style scoped>\n",
              "    .dataframe tbody tr th:only-of-type {\n",
              "        vertical-align: middle;\n",
              "    }\n",
              "\n",
              "    .dataframe tbody tr th {\n",
              "        vertical-align: top;\n",
              "    }\n",
              "\n",
              "    .dataframe thead th {\n",
              "        text-align: right;\n",
              "    }\n",
              "</style>\n",
              "<table border=\"1\" class=\"dataframe\">\n",
              "  <thead>\n",
              "    <tr style=\"text-align: right;\">\n",
              "      <th></th>\n",
              "      <th>Age</th>\n",
              "    </tr>\n",
              "  </thead>\n",
              "  <tbody>\n",
              "    <tr>\n",
              "      <th>mean</th>\n",
              "      <td>45.201681</td>\n",
              "    </tr>\n",
              "    <tr>\n",
              "      <th>std</th>\n",
              "      <td>19.262044</td>\n",
              "    </tr>\n",
              "    <tr>\n",
              "      <th>count</th>\n",
              "      <td>4522.000000</td>\n",
              "    </tr>\n",
              "    <tr>\n",
              "      <th>sem</th>\n",
              "      <td>0.286442</td>\n",
              "    </tr>\n",
              "    <tr>\n",
              "      <th>q025</th>\n",
              "      <td>-1.960489</td>\n",
              "    </tr>\n",
              "    <tr>\n",
              "      <th>q975</th>\n",
              "      <td>1.960489</td>\n",
              "    </tr>\n",
              "    <tr>\n",
              "      <th>L95</th>\n",
              "      <td>44.640114</td>\n",
              "    </tr>\n",
              "    <tr>\n",
              "      <th>U95</th>\n",
              "      <td>45.763248</td>\n",
              "    </tr>\n",
              "  </tbody>\n",
              "</table>\n",
              "</div>\n",
              "    <div class=\"colab-df-buttons\">\n",
              "\n",
              "  <div class=\"colab-df-container\">\n",
              "    <button class=\"colab-df-convert\" onclick=\"convertToInteractive('df-2e700043-49d0-4df5-b039-e4c102c1c3e3')\"\n",
              "            title=\"Convert this dataframe to an interactive table.\"\n",
              "            style=\"display:none;\">\n",
              "\n",
              "  <svg xmlns=\"http://www.w3.org/2000/svg\" height=\"24px\" viewBox=\"0 -960 960 960\">\n",
              "    <path d=\"M120-120v-720h720v720H120Zm60-500h600v-160H180v160Zm220 220h160v-160H400v160Zm0 220h160v-160H400v160ZM180-400h160v-160H180v160Zm440 0h160v-160H620v160ZM180-180h160v-160H180v160Zm440 0h160v-160H620v160Z\"/>\n",
              "  </svg>\n",
              "    </button>\n",
              "\n",
              "  <style>\n",
              "    .colab-df-container {\n",
              "      display:flex;\n",
              "      gap: 12px;\n",
              "    }\n",
              "\n",
              "    .colab-df-convert {\n",
              "      background-color: #E8F0FE;\n",
              "      border: none;\n",
              "      border-radius: 50%;\n",
              "      cursor: pointer;\n",
              "      display: none;\n",
              "      fill: #1967D2;\n",
              "      height: 32px;\n",
              "      padding: 0 0 0 0;\n",
              "      width: 32px;\n",
              "    }\n",
              "\n",
              "    .colab-df-convert:hover {\n",
              "      background-color: #E2EBFA;\n",
              "      box-shadow: 0px 1px 2px rgba(60, 64, 67, 0.3), 0px 1px 3px 1px rgba(60, 64, 67, 0.15);\n",
              "      fill: #174EA6;\n",
              "    }\n",
              "\n",
              "    .colab-df-buttons div {\n",
              "      margin-bottom: 4px;\n",
              "    }\n",
              "\n",
              "    [theme=dark] .colab-df-convert {\n",
              "      background-color: #3B4455;\n",
              "      fill: #D2E3FC;\n",
              "    }\n",
              "\n",
              "    [theme=dark] .colab-df-convert:hover {\n",
              "      background-color: #434B5C;\n",
              "      box-shadow: 0px 1px 3px 1px rgba(0, 0, 0, 0.15);\n",
              "      filter: drop-shadow(0px 1px 2px rgba(0, 0, 0, 0.3));\n",
              "      fill: #FFFFFF;\n",
              "    }\n",
              "  </style>\n",
              "\n",
              "    <script>\n",
              "      const buttonEl =\n",
              "        document.querySelector('#df-2e700043-49d0-4df5-b039-e4c102c1c3e3 button.colab-df-convert');\n",
              "      buttonEl.style.display =\n",
              "        google.colab.kernel.accessAllowed ? 'block' : 'none';\n",
              "\n",
              "      async function convertToInteractive(key) {\n",
              "        const element = document.querySelector('#df-2e700043-49d0-4df5-b039-e4c102c1c3e3');\n",
              "        const dataTable =\n",
              "          await google.colab.kernel.invokeFunction('convertToInteractive',\n",
              "                                                    [key], {});\n",
              "        if (!dataTable) return;\n",
              "\n",
              "        const docLinkHtml = 'Like what you see? Visit the ' +\n",
              "          '<a target=\"_blank\" href=https://colab.research.google.com/notebooks/data_table.ipynb>data table notebook</a>'\n",
              "          + ' to learn more about interactive tables.';\n",
              "        element.innerHTML = '';\n",
              "        dataTable['output_type'] = 'display_data';\n",
              "        await google.colab.output.renderOutput(dataTable, element);\n",
              "        const docLink = document.createElement('div');\n",
              "        docLink.innerHTML = docLinkHtml;\n",
              "        element.appendChild(docLink);\n",
              "      }\n",
              "    </script>\n",
              "  </div>\n",
              "\n",
              "\n",
              "<div id=\"df-7bb9bedd-b801-4df6-abf8-99318d02f428\">\n",
              "  <button class=\"colab-df-quickchart\" onclick=\"quickchart('df-7bb9bedd-b801-4df6-abf8-99318d02f428')\"\n",
              "            title=\"Suggest charts\"\n",
              "            style=\"display:none;\">\n",
              "\n",
              "<svg xmlns=\"http://www.w3.org/2000/svg\" height=\"24px\"viewBox=\"0 0 24 24\"\n",
              "     width=\"24px\">\n",
              "    <g>\n",
              "        <path d=\"M19 3H5c-1.1 0-2 .9-2 2v14c0 1.1.9 2 2 2h14c1.1 0 2-.9 2-2V5c0-1.1-.9-2-2-2zM9 17H7v-7h2v7zm4 0h-2V7h2v10zm4 0h-2v-4h2v4z\"/>\n",
              "    </g>\n",
              "</svg>\n",
              "  </button>\n",
              "\n",
              "<style>\n",
              "  .colab-df-quickchart {\n",
              "      --bg-color: #E8F0FE;\n",
              "      --fill-color: #1967D2;\n",
              "      --hover-bg-color: #E2EBFA;\n",
              "      --hover-fill-color: #174EA6;\n",
              "      --disabled-fill-color: #AAA;\n",
              "      --disabled-bg-color: #DDD;\n",
              "  }\n",
              "\n",
              "  [theme=dark] .colab-df-quickchart {\n",
              "      --bg-color: #3B4455;\n",
              "      --fill-color: #D2E3FC;\n",
              "      --hover-bg-color: #434B5C;\n",
              "      --hover-fill-color: #FFFFFF;\n",
              "      --disabled-bg-color: #3B4455;\n",
              "      --disabled-fill-color: #666;\n",
              "  }\n",
              "\n",
              "  .colab-df-quickchart {\n",
              "    background-color: var(--bg-color);\n",
              "    border: none;\n",
              "    border-radius: 50%;\n",
              "    cursor: pointer;\n",
              "    display: none;\n",
              "    fill: var(--fill-color);\n",
              "    height: 32px;\n",
              "    padding: 0;\n",
              "    width: 32px;\n",
              "  }\n",
              "\n",
              "  .colab-df-quickchart:hover {\n",
              "    background-color: var(--hover-bg-color);\n",
              "    box-shadow: 0 1px 2px rgba(60, 64, 67, 0.3), 0 1px 3px 1px rgba(60, 64, 67, 0.15);\n",
              "    fill: var(--button-hover-fill-color);\n",
              "  }\n",
              "\n",
              "  .colab-df-quickchart-complete:disabled,\n",
              "  .colab-df-quickchart-complete:disabled:hover {\n",
              "    background-color: var(--disabled-bg-color);\n",
              "    fill: var(--disabled-fill-color);\n",
              "    box-shadow: none;\n",
              "  }\n",
              "\n",
              "  .colab-df-spinner {\n",
              "    border: 2px solid var(--fill-color);\n",
              "    border-color: transparent;\n",
              "    border-bottom-color: var(--fill-color);\n",
              "    animation:\n",
              "      spin 1s steps(1) infinite;\n",
              "  }\n",
              "\n",
              "  @keyframes spin {\n",
              "    0% {\n",
              "      border-color: transparent;\n",
              "      border-bottom-color: var(--fill-color);\n",
              "      border-left-color: var(--fill-color);\n",
              "    }\n",
              "    20% {\n",
              "      border-color: transparent;\n",
              "      border-left-color: var(--fill-color);\n",
              "      border-top-color: var(--fill-color);\n",
              "    }\n",
              "    30% {\n",
              "      border-color: transparent;\n",
              "      border-left-color: var(--fill-color);\n",
              "      border-top-color: var(--fill-color);\n",
              "      border-right-color: var(--fill-color);\n",
              "    }\n",
              "    40% {\n",
              "      border-color: transparent;\n",
              "      border-right-color: var(--fill-color);\n",
              "      border-top-color: var(--fill-color);\n",
              "    }\n",
              "    60% {\n",
              "      border-color: transparent;\n",
              "      border-right-color: var(--fill-color);\n",
              "    }\n",
              "    80% {\n",
              "      border-color: transparent;\n",
              "      border-right-color: var(--fill-color);\n",
              "      border-bottom-color: var(--fill-color);\n",
              "    }\n",
              "    90% {\n",
              "      border-color: transparent;\n",
              "      border-bottom-color: var(--fill-color);\n",
              "    }\n",
              "  }\n",
              "</style>\n",
              "\n",
              "  <script>\n",
              "    async function quickchart(key) {\n",
              "      const quickchartButtonEl =\n",
              "        document.querySelector('#' + key + ' button');\n",
              "      quickchartButtonEl.disabled = true;  // To prevent multiple clicks.\n",
              "      quickchartButtonEl.classList.add('colab-df-spinner');\n",
              "      try {\n",
              "        const charts = await google.colab.kernel.invokeFunction(\n",
              "            'suggestCharts', [key], {});\n",
              "      } catch (error) {\n",
              "        console.error('Error during call to suggestCharts:', error);\n",
              "      }\n",
              "      quickchartButtonEl.classList.remove('colab-df-spinner');\n",
              "      quickchartButtonEl.classList.add('colab-df-quickchart-complete');\n",
              "    }\n",
              "    (() => {\n",
              "      let quickchartButtonEl =\n",
              "        document.querySelector('#df-7bb9bedd-b801-4df6-abf8-99318d02f428 button');\n",
              "      quickchartButtonEl.style.display =\n",
              "        google.colab.kernel.accessAllowed ? 'block' : 'none';\n",
              "    })();\n",
              "  </script>\n",
              "</div>\n",
              "\n",
              "  <div id=\"id_e5c7ad31-c838-4de8-a98f-e9215f800ca3\">\n",
              "    <style>\n",
              "      .colab-df-generate {\n",
              "        background-color: #E8F0FE;\n",
              "        border: none;\n",
              "        border-radius: 50%;\n",
              "        cursor: pointer;\n",
              "        display: none;\n",
              "        fill: #1967D2;\n",
              "        height: 32px;\n",
              "        padding: 0 0 0 0;\n",
              "        width: 32px;\n",
              "      }\n",
              "\n",
              "      .colab-df-generate:hover {\n",
              "        background-color: #E2EBFA;\n",
              "        box-shadow: 0px 1px 2px rgba(60, 64, 67, 0.3), 0px 1px 3px 1px rgba(60, 64, 67, 0.15);\n",
              "        fill: #174EA6;\n",
              "      }\n",
              "\n",
              "      [theme=dark] .colab-df-generate {\n",
              "        background-color: #3B4455;\n",
              "        fill: #D2E3FC;\n",
              "      }\n",
              "\n",
              "      [theme=dark] .colab-df-generate:hover {\n",
              "        background-color: #434B5C;\n",
              "        box-shadow: 0px 1px 3px 1px rgba(0, 0, 0, 0.15);\n",
              "        filter: drop-shadow(0px 1px 2px rgba(0, 0, 0, 0.3));\n",
              "        fill: #FFFFFF;\n",
              "      }\n",
              "    </style>\n",
              "    <button class=\"colab-df-generate\" onclick=\"generateWithVariable('SumStats')\"\n",
              "            title=\"Generate code using this dataframe.\"\n",
              "            style=\"display:none;\">\n",
              "\n",
              "  <svg xmlns=\"http://www.w3.org/2000/svg\" height=\"24px\"viewBox=\"0 0 24 24\"\n",
              "       width=\"24px\">\n",
              "    <path d=\"M7,19H8.4L18.45,9,17,7.55,7,17.6ZM5,21V16.75L18.45,3.32a2,2,0,0,1,2.83,0l1.4,1.43a1.91,1.91,0,0,1,.58,1.4,1.91,1.91,0,0,1-.58,1.4L9.25,21ZM18.45,9,17,7.55Zm-12,3A5.31,5.31,0,0,0,4.9,8.1,5.31,5.31,0,0,0,1,6.5,5.31,5.31,0,0,0,4.9,4.9,5.31,5.31,0,0,0,6.5,1,5.31,5.31,0,0,0,8.1,4.9,5.31,5.31,0,0,0,12,6.5,5.46,5.46,0,0,0,6.5,12Z\"/>\n",
              "  </svg>\n",
              "    </button>\n",
              "    <script>\n",
              "      (() => {\n",
              "      const buttonEl =\n",
              "        document.querySelector('#id_e5c7ad31-c838-4de8-a98f-e9215f800ca3 button.colab-df-generate');\n",
              "      buttonEl.style.display =\n",
              "        google.colab.kernel.accessAllowed ? 'block' : 'none';\n",
              "\n",
              "      buttonEl.onclick = () => {\n",
              "        google.colab.notebook.generateWithVariable('SumStats');\n",
              "      }\n",
              "      })();\n",
              "    </script>\n",
              "  </div>\n",
              "\n",
              "    </div>\n",
              "  </div>\n"
            ],
            "application/vnd.google.colaboratory.intrinsic+json": {
              "type": "dataframe",
              "variable_name": "SumStats",
              "summary": "{\n  \"name\": \"SumStats\",\n  \"rows\": 8,\n  \"fields\": [\n    {\n      \"column\": \"Age\",\n      \"properties\": {\n        \"dtype\": \"number\",\n        \"std\": 1591.0698270182656,\n        \"min\": -1.9604888453371867,\n        \"max\": 4522.0,\n        \"num_unique_values\": 8,\n        \"samples\": [\n          19.262043933087146,\n          1.9604888453371863,\n          45.20168067226891\n        ],\n        \"semantic_type\": \"\",\n        \"description\": \"\"\n      }\n    }\n  ]\n}"
            }
          },
          "metadata": {},
          "execution_count": 30
        }
      ]
    },
    {
      "cell_type": "markdown",
      "source": [
        "**Exercise:** Repeat the above steps to calculate the 90% and 99% confidence intervals. Put the results in a table below.\n",
        "\n",
        "**Answer:**\n",
        "\n"
      ],
      "metadata": {
        "id": "ZSXbnnq0YXuj"
      }
    },
    {
      "cell_type": "code",
      "source": [
        "# 90% CI\n",
        "L90 = xbar + stats.t.ppf(0.05, df=n-1) * se\n",
        "U90 = xbar + stats.t.ppf(0.95, df=n-1) * se\n",
        "\n",
        "# 99% CI\n",
        "L99 = xbar + stats.t.ppf(0.005, df=n-1) * se\n",
        "U99 = xbar + stats.t.ppf(0.995, df=n-1) * se\n",
        "\n",
        "# update summary\n",
        "SumStats.loc['L90'] = L90\n",
        "SumStats.loc['U90'] = U90\n",
        "SumStats.loc['L99'] = L99\n",
        "SumStats.loc['U99'] = U99\n",
        "SumStats"
      ],
      "metadata": {
        "colab": {
          "base_uri": "https://localhost:8080/",
          "height": 425
        },
        "id": "ZiAUerqCNe1F",
        "outputId": "3eb80520-fc62-4dca-fe33-431f98770fac"
      },
      "execution_count": 32,
      "outputs": [
        {
          "output_type": "execute_result",
          "data": {
            "text/plain": [
              "               Age\n",
              "mean     45.201681\n",
              "std      19.262044\n",
              "count  4522.000000\n",
              "sem       0.286442\n",
              "q025     -1.960489\n",
              "q975      1.960489\n",
              "L95      44.640114\n",
              "U95      45.763248\n",
              "L90      44.730429\n",
              "U90      45.672933\n",
              "L99      44.463543\n",
              "U99      45.939819"
            ],
            "text/html": [
              "\n",
              "  <div id=\"df-8c35b204-938a-4bca-8859-6ddf8e55e57a\" class=\"colab-df-container\">\n",
              "    <div>\n",
              "<style scoped>\n",
              "    .dataframe tbody tr th:only-of-type {\n",
              "        vertical-align: middle;\n",
              "    }\n",
              "\n",
              "    .dataframe tbody tr th {\n",
              "        vertical-align: top;\n",
              "    }\n",
              "\n",
              "    .dataframe thead th {\n",
              "        text-align: right;\n",
              "    }\n",
              "</style>\n",
              "<table border=\"1\" class=\"dataframe\">\n",
              "  <thead>\n",
              "    <tr style=\"text-align: right;\">\n",
              "      <th></th>\n",
              "      <th>Age</th>\n",
              "    </tr>\n",
              "  </thead>\n",
              "  <tbody>\n",
              "    <tr>\n",
              "      <th>mean</th>\n",
              "      <td>45.201681</td>\n",
              "    </tr>\n",
              "    <tr>\n",
              "      <th>std</th>\n",
              "      <td>19.262044</td>\n",
              "    </tr>\n",
              "    <tr>\n",
              "      <th>count</th>\n",
              "      <td>4522.000000</td>\n",
              "    </tr>\n",
              "    <tr>\n",
              "      <th>sem</th>\n",
              "      <td>0.286442</td>\n",
              "    </tr>\n",
              "    <tr>\n",
              "      <th>q025</th>\n",
              "      <td>-1.960489</td>\n",
              "    </tr>\n",
              "    <tr>\n",
              "      <th>q975</th>\n",
              "      <td>1.960489</td>\n",
              "    </tr>\n",
              "    <tr>\n",
              "      <th>L95</th>\n",
              "      <td>44.640114</td>\n",
              "    </tr>\n",
              "    <tr>\n",
              "      <th>U95</th>\n",
              "      <td>45.763248</td>\n",
              "    </tr>\n",
              "    <tr>\n",
              "      <th>L90</th>\n",
              "      <td>44.730429</td>\n",
              "    </tr>\n",
              "    <tr>\n",
              "      <th>U90</th>\n",
              "      <td>45.672933</td>\n",
              "    </tr>\n",
              "    <tr>\n",
              "      <th>L99</th>\n",
              "      <td>44.463543</td>\n",
              "    </tr>\n",
              "    <tr>\n",
              "      <th>U99</th>\n",
              "      <td>45.939819</td>\n",
              "    </tr>\n",
              "  </tbody>\n",
              "</table>\n",
              "</div>\n",
              "    <div class=\"colab-df-buttons\">\n",
              "\n",
              "  <div class=\"colab-df-container\">\n",
              "    <button class=\"colab-df-convert\" onclick=\"convertToInteractive('df-8c35b204-938a-4bca-8859-6ddf8e55e57a')\"\n",
              "            title=\"Convert this dataframe to an interactive table.\"\n",
              "            style=\"display:none;\">\n",
              "\n",
              "  <svg xmlns=\"http://www.w3.org/2000/svg\" height=\"24px\" viewBox=\"0 -960 960 960\">\n",
              "    <path d=\"M120-120v-720h720v720H120Zm60-500h600v-160H180v160Zm220 220h160v-160H400v160Zm0 220h160v-160H400v160ZM180-400h160v-160H180v160Zm440 0h160v-160H620v160ZM180-180h160v-160H180v160Zm440 0h160v-160H620v160Z\"/>\n",
              "  </svg>\n",
              "    </button>\n",
              "\n",
              "  <style>\n",
              "    .colab-df-container {\n",
              "      display:flex;\n",
              "      gap: 12px;\n",
              "    }\n",
              "\n",
              "    .colab-df-convert {\n",
              "      background-color: #E8F0FE;\n",
              "      border: none;\n",
              "      border-radius: 50%;\n",
              "      cursor: pointer;\n",
              "      display: none;\n",
              "      fill: #1967D2;\n",
              "      height: 32px;\n",
              "      padding: 0 0 0 0;\n",
              "      width: 32px;\n",
              "    }\n",
              "\n",
              "    .colab-df-convert:hover {\n",
              "      background-color: #E2EBFA;\n",
              "      box-shadow: 0px 1px 2px rgba(60, 64, 67, 0.3), 0px 1px 3px 1px rgba(60, 64, 67, 0.15);\n",
              "      fill: #174EA6;\n",
              "    }\n",
              "\n",
              "    .colab-df-buttons div {\n",
              "      margin-bottom: 4px;\n",
              "    }\n",
              "\n",
              "    [theme=dark] .colab-df-convert {\n",
              "      background-color: #3B4455;\n",
              "      fill: #D2E3FC;\n",
              "    }\n",
              "\n",
              "    [theme=dark] .colab-df-convert:hover {\n",
              "      background-color: #434B5C;\n",
              "      box-shadow: 0px 1px 3px 1px rgba(0, 0, 0, 0.15);\n",
              "      filter: drop-shadow(0px 1px 2px rgba(0, 0, 0, 0.3));\n",
              "      fill: #FFFFFF;\n",
              "    }\n",
              "  </style>\n",
              "\n",
              "    <script>\n",
              "      const buttonEl =\n",
              "        document.querySelector('#df-8c35b204-938a-4bca-8859-6ddf8e55e57a button.colab-df-convert');\n",
              "      buttonEl.style.display =\n",
              "        google.colab.kernel.accessAllowed ? 'block' : 'none';\n",
              "\n",
              "      async function convertToInteractive(key) {\n",
              "        const element = document.querySelector('#df-8c35b204-938a-4bca-8859-6ddf8e55e57a');\n",
              "        const dataTable =\n",
              "          await google.colab.kernel.invokeFunction('convertToInteractive',\n",
              "                                                    [key], {});\n",
              "        if (!dataTable) return;\n",
              "\n",
              "        const docLinkHtml = 'Like what you see? Visit the ' +\n",
              "          '<a target=\"_blank\" href=https://colab.research.google.com/notebooks/data_table.ipynb>data table notebook</a>'\n",
              "          + ' to learn more about interactive tables.';\n",
              "        element.innerHTML = '';\n",
              "        dataTable['output_type'] = 'display_data';\n",
              "        await google.colab.output.renderOutput(dataTable, element);\n",
              "        const docLink = document.createElement('div');\n",
              "        docLink.innerHTML = docLinkHtml;\n",
              "        element.appendChild(docLink);\n",
              "      }\n",
              "    </script>\n",
              "  </div>\n",
              "\n",
              "\n",
              "<div id=\"df-f565f6f8-fdd6-4ab1-aaee-0ff77d69817a\">\n",
              "  <button class=\"colab-df-quickchart\" onclick=\"quickchart('df-f565f6f8-fdd6-4ab1-aaee-0ff77d69817a')\"\n",
              "            title=\"Suggest charts\"\n",
              "            style=\"display:none;\">\n",
              "\n",
              "<svg xmlns=\"http://www.w3.org/2000/svg\" height=\"24px\"viewBox=\"0 0 24 24\"\n",
              "     width=\"24px\">\n",
              "    <g>\n",
              "        <path d=\"M19 3H5c-1.1 0-2 .9-2 2v14c0 1.1.9 2 2 2h14c1.1 0 2-.9 2-2V5c0-1.1-.9-2-2-2zM9 17H7v-7h2v7zm4 0h-2V7h2v10zm4 0h-2v-4h2v4z\"/>\n",
              "    </g>\n",
              "</svg>\n",
              "  </button>\n",
              "\n",
              "<style>\n",
              "  .colab-df-quickchart {\n",
              "      --bg-color: #E8F0FE;\n",
              "      --fill-color: #1967D2;\n",
              "      --hover-bg-color: #E2EBFA;\n",
              "      --hover-fill-color: #174EA6;\n",
              "      --disabled-fill-color: #AAA;\n",
              "      --disabled-bg-color: #DDD;\n",
              "  }\n",
              "\n",
              "  [theme=dark] .colab-df-quickchart {\n",
              "      --bg-color: #3B4455;\n",
              "      --fill-color: #D2E3FC;\n",
              "      --hover-bg-color: #434B5C;\n",
              "      --hover-fill-color: #FFFFFF;\n",
              "      --disabled-bg-color: #3B4455;\n",
              "      --disabled-fill-color: #666;\n",
              "  }\n",
              "\n",
              "  .colab-df-quickchart {\n",
              "    background-color: var(--bg-color);\n",
              "    border: none;\n",
              "    border-radius: 50%;\n",
              "    cursor: pointer;\n",
              "    display: none;\n",
              "    fill: var(--fill-color);\n",
              "    height: 32px;\n",
              "    padding: 0;\n",
              "    width: 32px;\n",
              "  }\n",
              "\n",
              "  .colab-df-quickchart:hover {\n",
              "    background-color: var(--hover-bg-color);\n",
              "    box-shadow: 0 1px 2px rgba(60, 64, 67, 0.3), 0 1px 3px 1px rgba(60, 64, 67, 0.15);\n",
              "    fill: var(--button-hover-fill-color);\n",
              "  }\n",
              "\n",
              "  .colab-df-quickchart-complete:disabled,\n",
              "  .colab-df-quickchart-complete:disabled:hover {\n",
              "    background-color: var(--disabled-bg-color);\n",
              "    fill: var(--disabled-fill-color);\n",
              "    box-shadow: none;\n",
              "  }\n",
              "\n",
              "  .colab-df-spinner {\n",
              "    border: 2px solid var(--fill-color);\n",
              "    border-color: transparent;\n",
              "    border-bottom-color: var(--fill-color);\n",
              "    animation:\n",
              "      spin 1s steps(1) infinite;\n",
              "  }\n",
              "\n",
              "  @keyframes spin {\n",
              "    0% {\n",
              "      border-color: transparent;\n",
              "      border-bottom-color: var(--fill-color);\n",
              "      border-left-color: var(--fill-color);\n",
              "    }\n",
              "    20% {\n",
              "      border-color: transparent;\n",
              "      border-left-color: var(--fill-color);\n",
              "      border-top-color: var(--fill-color);\n",
              "    }\n",
              "    30% {\n",
              "      border-color: transparent;\n",
              "      border-left-color: var(--fill-color);\n",
              "      border-top-color: var(--fill-color);\n",
              "      border-right-color: var(--fill-color);\n",
              "    }\n",
              "    40% {\n",
              "      border-color: transparent;\n",
              "      border-right-color: var(--fill-color);\n",
              "      border-top-color: var(--fill-color);\n",
              "    }\n",
              "    60% {\n",
              "      border-color: transparent;\n",
              "      border-right-color: var(--fill-color);\n",
              "    }\n",
              "    80% {\n",
              "      border-color: transparent;\n",
              "      border-right-color: var(--fill-color);\n",
              "      border-bottom-color: var(--fill-color);\n",
              "    }\n",
              "    90% {\n",
              "      border-color: transparent;\n",
              "      border-bottom-color: var(--fill-color);\n",
              "    }\n",
              "  }\n",
              "</style>\n",
              "\n",
              "  <script>\n",
              "    async function quickchart(key) {\n",
              "      const quickchartButtonEl =\n",
              "        document.querySelector('#' + key + ' button');\n",
              "      quickchartButtonEl.disabled = true;  // To prevent multiple clicks.\n",
              "      quickchartButtonEl.classList.add('colab-df-spinner');\n",
              "      try {\n",
              "        const charts = await google.colab.kernel.invokeFunction(\n",
              "            'suggestCharts', [key], {});\n",
              "      } catch (error) {\n",
              "        console.error('Error during call to suggestCharts:', error);\n",
              "      }\n",
              "      quickchartButtonEl.classList.remove('colab-df-spinner');\n",
              "      quickchartButtonEl.classList.add('colab-df-quickchart-complete');\n",
              "    }\n",
              "    (() => {\n",
              "      let quickchartButtonEl =\n",
              "        document.querySelector('#df-f565f6f8-fdd6-4ab1-aaee-0ff77d69817a button');\n",
              "      quickchartButtonEl.style.display =\n",
              "        google.colab.kernel.accessAllowed ? 'block' : 'none';\n",
              "    })();\n",
              "  </script>\n",
              "</div>\n",
              "\n",
              "  <div id=\"id_befc1af5-fa78-4be7-9178-e970e66242a2\">\n",
              "    <style>\n",
              "      .colab-df-generate {\n",
              "        background-color: #E8F0FE;\n",
              "        border: none;\n",
              "        border-radius: 50%;\n",
              "        cursor: pointer;\n",
              "        display: none;\n",
              "        fill: #1967D2;\n",
              "        height: 32px;\n",
              "        padding: 0 0 0 0;\n",
              "        width: 32px;\n",
              "      }\n",
              "\n",
              "      .colab-df-generate:hover {\n",
              "        background-color: #E2EBFA;\n",
              "        box-shadow: 0px 1px 2px rgba(60, 64, 67, 0.3), 0px 1px 3px 1px rgba(60, 64, 67, 0.15);\n",
              "        fill: #174EA6;\n",
              "      }\n",
              "\n",
              "      [theme=dark] .colab-df-generate {\n",
              "        background-color: #3B4455;\n",
              "        fill: #D2E3FC;\n",
              "      }\n",
              "\n",
              "      [theme=dark] .colab-df-generate:hover {\n",
              "        background-color: #434B5C;\n",
              "        box-shadow: 0px 1px 3px 1px rgba(0, 0, 0, 0.15);\n",
              "        filter: drop-shadow(0px 1px 2px rgba(0, 0, 0, 0.3));\n",
              "        fill: #FFFFFF;\n",
              "      }\n",
              "    </style>\n",
              "    <button class=\"colab-df-generate\" onclick=\"generateWithVariable('SumStats')\"\n",
              "            title=\"Generate code using this dataframe.\"\n",
              "            style=\"display:none;\">\n",
              "\n",
              "  <svg xmlns=\"http://www.w3.org/2000/svg\" height=\"24px\"viewBox=\"0 0 24 24\"\n",
              "       width=\"24px\">\n",
              "    <path d=\"M7,19H8.4L18.45,9,17,7.55,7,17.6ZM5,21V16.75L18.45,3.32a2,2,0,0,1,2.83,0l1.4,1.43a1.91,1.91,0,0,1,.58,1.4,1.91,1.91,0,0,1-.58,1.4L9.25,21ZM18.45,9,17,7.55Zm-12,3A5.31,5.31,0,0,0,4.9,8.1,5.31,5.31,0,0,0,1,6.5,5.31,5.31,0,0,0,4.9,4.9,5.31,5.31,0,0,0,6.5,1,5.31,5.31,0,0,0,8.1,4.9,5.31,5.31,0,0,0,12,6.5,5.46,5.46,0,0,0,6.5,12Z\"/>\n",
              "  </svg>\n",
              "    </button>\n",
              "    <script>\n",
              "      (() => {\n",
              "      const buttonEl =\n",
              "        document.querySelector('#id_befc1af5-fa78-4be7-9178-e970e66242a2 button.colab-df-generate');\n",
              "      buttonEl.style.display =\n",
              "        google.colab.kernel.accessAllowed ? 'block' : 'none';\n",
              "\n",
              "      buttonEl.onclick = () => {\n",
              "        google.colab.notebook.generateWithVariable('SumStats');\n",
              "      }\n",
              "      })();\n",
              "    </script>\n",
              "  </div>\n",
              "\n",
              "    </div>\n",
              "  </div>\n"
            ],
            "application/vnd.google.colaboratory.intrinsic+json": {
              "type": "dataframe",
              "variable_name": "SumStats",
              "summary": "{\n  \"name\": \"SumStats\",\n  \"rows\": 12,\n  \"fields\": [\n    {\n      \"column\": \"Age\",\n      \"properties\": {\n        \"dtype\": \"number\",\n        \"std\": 1296.727319537817,\n        \"min\": -1.9604888453371867,\n        \"max\": 4522.0,\n        \"num_unique_values\": 12,\n        \"samples\": [\n          44.463542680528164,\n          45.67293282399027,\n          45.20168067226891\n        ],\n        \"semantic_type\": \"\",\n        \"description\": \"\"\n      }\n    }\n  ]\n}"
            }
          },
          "metadata": {},
          "execution_count": 32
        }
      ]
    },
    {
      "cell_type": "markdown",
      "source": [
        "**Exercise:** What do you notice about the width of the confidence intervals as the confidence level increases.\n",
        "\n",
        "**Answer:** As the confidence level increases the confidence intervals get wider.\n",
        "\n"
      ],
      "metadata": {
        "id": "Srhm_cNZYVpI"
      }
    },
    {
      "cell_type": "markdown",
      "source": [
        "If we sampled from the population many times, we would expect to see some sampling variability around the population mean.\n",
        "\n",
        "**Exercise:** If we collected 100 datasets (each containing the same number of observations) under identical conditions, how many 95% confidence intervals would we expect to contain the true population mean?\n",
        "\n",
        "**Answer:** We would expect 95 of the confidence intervals to contain the true population mean."
      ],
      "metadata": {
        "id": "RhcDy19iYUGc"
      }
    },
    {
      "cell_type": "markdown",
      "source": [
        "# Activity 4 -- $t$ test\n"
      ],
      "metadata": {
        "id": "JaUX2IL4Y_8Y"
      }
    },
    {
      "cell_type": "markdown",
      "source": [
        "Now that we have some summary statistics describing our estimate of the population mean and a 95% confidence interval for it, we will consider testing a hypothesis about the age of death.\n",
        "\n",
        "Whilst there is some information available on life expectancy, our data does not have enough information on (for example) gender. As such, we will test our data to see if the population mean age of death was 45 years old.\n",
        "\n",
        "To perform our $t$ test we need to define a **null hypothesis** which we will be testing, as well as an alternative hypothesis that specifies what we would expect to see if the null hypothesis were not true.\n",
        "\n",
        "We will define our null hypothesis, $H_0$, as being that the population mean age of death is 45,\n",
        "\n",
        "$$\n",
        "H_0: \\mu = 45\n",
        "$$\n",
        "\n",
        "We will be performing a **two-sided** $t$ test in this case, as the mean age of death could be above or below 45. Therefore we specify our **alternative hypothesis** to be that the population mean is **not** 45.\n",
        "\n",
        "$$\n",
        "H_1: \\mu \\ne 45\n",
        "$$\n",
        "\n",
        "Now when we perform our $t$ test, we are looking for evidence to reject our null hypothesis. There are two ways we can conduct our $t$ test, either by focussing on calculating the $p$ value and comparing it to $\\alpha$, or by determining some critical value from our $t$ distribution and checking whether our test statistic for the $t$ test is more extreme.\n",
        "\n",
        "The test statistic for our $t$ test is\n",
        "\n",
        "$$\n",
        "t.s. = \\frac{\\overline{x} - 45}{s/\\sqrt{n}}\n",
        "$$\n",
        "\n",
        "**Exercise:** Given the values of these that you have already calculated, derive the value of the test statistic.\n",
        "\n",
        "**Answer:**"
      ],
      "metadata": {
        "id": "-az3LS19ZBH1"
      }
    },
    {
      "cell_type": "code",
      "source": [
        "# calculate the t-statistic\n",
        "t_stat = (xbar - 45) / (se)\n",
        "t_stat"
      ],
      "metadata": {
        "colab": {
          "base_uri": "https://localhost:8080/"
        },
        "id": "kWPqf1FfO1Wk",
        "outputId": "98e0a917-6ea4-4872-f68c-994db3bd8843"
      },
      "execution_count": 34,
      "outputs": [
        {
          "output_type": "execute_result",
          "data": {
            "text/plain": [
              "Age    0.704088\n",
              "dtype: float64"
            ]
          },
          "metadata": {},
          "execution_count": 34
        }
      ]
    },
    {
      "cell_type": "markdown",
      "source": [
        "Let's do our $t$ test by looking at how much of a $t$ distribution is beyond our test statistic.\n",
        "\n",
        "**Exercise:** Calculate the $p$ value for our $t$ test by determining the area to the right of the +ts and to the left of the -ts. Note that we could just double the value in one of the tails as the t-distribution is symmetric.\n",
        "\n",
        "\n",
        "**Answer:**"
      ],
      "metadata": {
        "id": "liJFHpoDalC3"
      }
    },
    {
      "cell_type": "code",
      "source": [
        "# prompt: Calculate the  p  value for our  t  test by determining the area to the right of the +ts and to the left of the -ts. Note that we could just double the value in one of the tails as the t-distribution is symmetric\n",
        "\n",
        "2*stats.t.cdf(-t_stat, df=n-1)[0]\n"
      ],
      "metadata": {
        "colab": {
          "base_uri": "https://localhost:8080/"
        },
        "id": "cmTgOdC7PPUD",
        "outputId": "5c27f527-6aac-4741-be4a-0ba93dca9fd0"
      },
      "execution_count": 39,
      "outputs": [
        {
          "output_type": "execute_result",
          "data": {
            "text/plain": [
              "0.48141398551042736"
            ]
          },
          "metadata": {},
          "execution_count": 39
        }
      ]
    },
    {
      "cell_type": "markdown",
      "source": [
        "**Exercise:** Do you have evidence to reject your null hypothesis?\n",
        "\n",
        "**Answer:** No, there is insufficient evidence to reject $H_0$"
      ],
      "metadata": {
        "id": "16q7eftzazO2"
      }
    },
    {
      "cell_type": "markdown",
      "source": [
        "We can also use R's built-in `t.test()` function. We need to pass in a vector of values, specify whether our alternative is `\"greater\"`, `\"less\"`, or `\"two.sided\"`, the value we are testing against in our null hypothesis, and a confidence level.\n",
        "\n",
        "**Exercise:** Perform your $t$ test with a 95% level of confidence ($\\alpha = 0.05$). Report the test statistic, confidence interval and $p$ value below.\n",
        "\n",
        "```{r eval=FALSE}\n",
        "t.test(\n",
        "  x = ...,\n",
        "  alternative = \"two.sided\",\n",
        "  mu = 45,\n",
        "  conf.level = 0.95\n",
        ")\n",
        "```\n",
        "\n",
        "**Answer:**"
      ],
      "metadata": {
        "id": "CV-dZx_ma0ht"
      }
    },
    {
      "cell_type": "code",
      "source": [
        "# prompt: with df perform a t-test that 'Age' does not have a mean of 45, and provide a 95% CI for Age\n",
        "# needed correcting to use sem instead of std for scale\n",
        "# perform t-test\n",
        "t_stat, p_value = stats.ttest_1samp(df['Age'], 45)\n",
        "\n",
        "# calculate 95% CI\n",
        "# ci = stats.t.interval(0.95, len(df['Age']) - 1, loc=df['Age'].mean(), scale=df['Age'].std())\n",
        "ci = stats.t.interval(0.95, len(df['Age']) - 1, loc=df['Age'].mean(), scale=df['Age'].sem())\n",
        "\n",
        "# print results\n",
        "print(f\"t-statistic: {t_stat}\")\n",
        "print(f\"p-value: {p_value}\")\n",
        "print(f\"95% CI: {ci}\")\n"
      ],
      "metadata": {
        "colab": {
          "base_uri": "https://localhost:8080/"
        },
        "id": "I2CecgNPPyZC",
        "outputId": "ff711600-d98c-466a-feca-06a797cbec4c"
      },
      "execution_count": 43,
      "outputs": [
        {
          "output_type": "stream",
          "name": "stdout",
          "text": [
            "t-statistic: 0.7040884015687892\n",
            "p-value: 0.48141398551042736\n",
            "95% CI: (44.64011381870007, 45.76324752583774)\n"
          ]
        }
      ]
    },
    {
      "cell_type": "markdown",
      "source": [
        "**Exercise:** Is our data consistent with the hypothesis that the population mean age of death is 45?\n",
        "\n",
        "**Answer:** The data is consistent with the hypothesis that the population mean age of death is 45."
      ],
      "metadata": {
        "id": "FVTPxP5Ia30L"
      }
    },
    {
      "cell_type": "markdown",
      "source": [
        "# Activity 5 -- Simulation (extension)\n"
      ],
      "metadata": {
        "id": "BRLvTLtaa7tR"
      }
    },
    {
      "cell_type": "markdown",
      "source": [
        "The correct interpretation of a 95% confidence interval is that we are 95% **confident** that the true value lies within the interval. If we performed a large number of experiments under the exact same conditions, we would expect that some confidence intervals will cover the true value and others will not, on account of the inherent sampling variability.\n",
        "\n",
        "In fact, we expect that 95% of the 95% confidence intervals we constructed from our large number of experiments would contain the true value, $\\mu$. So when we do a single experiment, we do not know for sure whether we're in an experiment that does, or an experiment that doesn't, contain the true value. But we can be 95% confident that the 95% confidence interval we have calculated does contain $\\mu$.\n",
        "\n",
        "Now that we've had a look at one particular dataset, let's use simulation as a tool for investigating how much variability we expect to see. Previously we have looked at using $\\overline{x}$ to estimate $\\mu$ so let's look at a case where we are simulating from a known $\\mu$ and look at the various values of $\\overline{x}$ we get when trying to estimate it from each of our simulations.\n",
        "\n",
        "**Exercise:** Set $\\mu = 45, \\sigma = 20$ and simulate five ages of death. Calculate the mean, standard deviation and standard error of the mean for the ages of death.\n",
        "\n",
        "\n",
        "**Answer:**"
      ],
      "metadata": {
        "id": "z9B2JZlia_bE"
      }
    },
    {
      "cell_type": "code",
      "source": [
        "# prompt: Set  μ=45,σ=20  and simulate five ages of death. Calculate the mean, standard deviation and standard error of the mean for the ages of death.\n",
        "\n",
        "import numpy as np\n",
        "import pandas as pd\n",
        "np.random.seed(123)\n",
        "mu = 45\n",
        "sigma = 20\n",
        "sim = pd.DataFrame({'Age': np.random.normal(mu, sigma, 5)})\n",
        "# sim['Age'].agg(['mean', 'std', 'count', 'sem']).to_frame()\n",
        "sim['Age'].agg(['mean', 'std', 'count', 'sem'])"
      ],
      "metadata": {
        "colab": {
          "base_uri": "https://localhost:8080/"
        },
        "id": "q5GvF2Y5RIH9",
        "outputId": "9952b5ec-77ed-43f0-b664-3882dac55583"
      },
      "execution_count": 55,
      "outputs": [
        {
          "output_type": "execute_result",
          "data": {
            "text/plain": [
              "mean     37.439194\n",
              "std      20.353128\n",
              "count     5.000000\n",
              "sem       9.102196\n",
              "Name: Age, dtype: float64"
            ]
          },
          "metadata": {},
          "execution_count": 55
        }
      ]
    },
    {
      "cell_type": "markdown",
      "source": [
        "**Exercise:** Is your value of $\\overline{x}$ close to $\\mu$? Why or why not?\n",
        "\n",
        "**Answer:** within one standard deviation seems close enough"
      ],
      "metadata": {
        "id": "dwxTZwfGbRsR"
      }
    },
    {
      "cell_type": "markdown",
      "source": [
        "**Answer:** The value of $\\overline{x}$ appears to be close to $\\mu$ as it is within one standard deviation.\n"
      ],
      "metadata": {
        "id": "qivXpxqGbTMp"
      }
    },
    {
      "cell_type": "markdown",
      "source": [
        "**Exercise:** Perform a two-sided $t$-test to check whether the mean from this data set is consistent with a hypothesis that it's equal to the known population mean. Is the data consistent with $H_0: \\mu = 45$?\n",
        "\n",
        "\n",
        "**Answer:**"
      ],
      "metadata": {
        "id": "PWEr-vYSbUNB"
      }
    },
    {
      "cell_type": "code",
      "source": [
        "# prompt: Exercise: Perform a two-sided  t -test to check whether the mean from this data set is consistent with a hypothesis that it's equal to the known population mean. Is the data consistent with  H0:μ=45 ?\n",
        "\n",
        "t_stat, p_value = stats.ttest_1samp(sim['Age'], 45)\n",
        "\n",
        "# calculate 95% CI\n",
        "ci = stats.t.interval(0.95, len(sim['Age']) - 1, loc=sim['Age'].mean(), scale=sim['Age'].sem())\n",
        "\n",
        "# print results\n",
        "print(f\"t-statistic: {t_stat}\")\n",
        "print(f\"p-value: {p_value}\")\n",
        "print(f\"95% CI: {ci}\")\n"
      ],
      "metadata": {
        "colab": {
          "base_uri": "https://localhost:8080/"
        },
        "id": "h62H69-4SZOy",
        "outputId": "882deae6-2b5f-479f-bf13-49f3cea46c19"
      },
      "execution_count": 56,
      "outputs": [
        {
          "output_type": "stream",
          "name": "stdout",
          "text": [
            "t-statistic: -0.8306574482773125\n",
            "p-value: 0.4528713911244066\n",
            "95% CI: (12.167447324318928, 62.71093967926818)\n"
          ]
        }
      ]
    },
    {
      "cell_type": "markdown",
      "source": [
        "**Exercise:** Calculate a two-sided 95% confidence interval for $\\mu$. Is $\\mu$ contained within the confidence interval? Is the data consistent with the hypothesis that the true mean is 45?\n",
        "\n",
        "**Answer:** See above\n"
      ],
      "metadata": {
        "id": "bBLVmJV5bZWx"
      }
    },
    {
      "cell_type": "markdown",
      "source": [
        "# Activity 6 -- Many simulations\n"
      ],
      "metadata": {
        "id": "BrXLuX7kba0j"
      }
    },
    {
      "cell_type": "markdown",
      "source": [
        "\n",
        "\n",
        "We'll now simulate many experiments to look at how sampling variability gives rise to different confidence intervals and different conclusions regarding our hypothesis testing.\n",
        "\n",
        "First, we state that we want 100 simulations each containing 5 deaths.\n",
        "\n",
        "```{r eval=FALSE}\n",
        "n_sims <- 100\n",
        "n_deaths <- 5\n",
        "```\n",
        "\n",
        "Next we perform the simulation.\n",
        "\n",
        "```{r eval=FALSE}\n",
        "sim_data <- expand.grid(\n",
        "  death = 1:n_deaths,\n",
        "  sim = 1:n_sims\n",
        ")\n",
        "\n",
        "sim_data <- mutate(sim_data,\n",
        "  Age = rnorm(\n",
        "    n = n_deaths * n_sims,\n",
        "    mean = mu,\n",
        "    sd = sigma\n",
        "  )\n",
        ")\n",
        "```\n",
        "\n",
        "**Exercise:** Calculate the sample mean, sample standard deviation, standard error of the mean, and number of observations, for each simulation, storing them in a data frame.\n",
        "\n",
        "**Answer**:"
      ],
      "metadata": {
        "id": "0YkR2XvGbd5r"
      }
    },
    {
      "cell_type": "code",
      "source": [
        "# Define your iterables\n",
        "n_sims = 100\n",
        "n_deaths = 5\n",
        "iterables = {\n",
        "    'sim': range(1, n_sims+1),\n",
        "    'death': range(1, n_deaths+1)\n",
        "}\n",
        "\n",
        "# Use MultiIndex.from_product to create the cartesian product\n",
        "index = pd.MultiIndex.from_product(iterables.values(), names=iterables.keys())\n",
        "\n",
        "# Convert the MultiIndex to a DataFrame\n",
        "df = index.to_frame(index=False)\n",
        "\n",
        "# Generate random ages at death\n",
        "mu = 45\n",
        "sigma = 20\n",
        "df['Age'] = np.random.normal(mu, sigma, df.shape[0])\n",
        "# df\n",
        "\n",
        "# group by sim and summarise age at death\n",
        "sim_sum = df.groupby('sim').agg(\n",
        "    xbar=(\"Age\", \"mean\"),\n",
        "    s=(\"Age\", \"std\"),\n",
        "    se=(\"Age\", \"sem\"),\n",
        "    n=(\"Age\", \"count\"),\n",
        ")\n",
        "sim_sum"
      ],
      "metadata": {
        "colab": {
          "base_uri": "https://localhost:8080/",
          "height": 455
        },
        "id": "nIRD3_WXVP7l",
        "outputId": "02397926-b2bc-4052-c298-13a983f481ad"
      },
      "execution_count": 82,
      "outputs": [
        {
          "output_type": "execute_result",
          "data": {
            "text/plain": [
              "          xbar          s         se  n\n",
              "sim                                    \n",
              "1    46.902975  23.690499  10.594713  5\n",
              "2    32.606714  31.706050  14.179376  5\n",
              "3    37.982165  11.695748   5.230498  5\n",
              "4    37.612539  17.809419   7.964614  5\n",
              "5    52.464622  14.254941   6.375003  5\n",
              "..         ...        ...        ... ..\n",
              "96   45.697387  14.869644   6.649907  5\n",
              "97   35.199397  22.954966  10.265773  5\n",
              "98   44.340217  26.665074  11.924984  5\n",
              "99   51.895382  24.027612  10.745475  5\n",
              "100  41.801157  21.789488   9.744555  5\n",
              "\n",
              "[100 rows x 4 columns]"
            ],
            "text/html": [
              "\n",
              "  <div id=\"df-86df984f-d344-4cb9-8d13-f821791098b1\" class=\"colab-df-container\">\n",
              "    <div>\n",
              "<style scoped>\n",
              "    .dataframe tbody tr th:only-of-type {\n",
              "        vertical-align: middle;\n",
              "    }\n",
              "\n",
              "    .dataframe tbody tr th {\n",
              "        vertical-align: top;\n",
              "    }\n",
              "\n",
              "    .dataframe thead th {\n",
              "        text-align: right;\n",
              "    }\n",
              "</style>\n",
              "<table border=\"1\" class=\"dataframe\">\n",
              "  <thead>\n",
              "    <tr style=\"text-align: right;\">\n",
              "      <th></th>\n",
              "      <th>xbar</th>\n",
              "      <th>s</th>\n",
              "      <th>se</th>\n",
              "      <th>n</th>\n",
              "    </tr>\n",
              "    <tr>\n",
              "      <th>sim</th>\n",
              "      <th></th>\n",
              "      <th></th>\n",
              "      <th></th>\n",
              "      <th></th>\n",
              "    </tr>\n",
              "  </thead>\n",
              "  <tbody>\n",
              "    <tr>\n",
              "      <th>1</th>\n",
              "      <td>46.902975</td>\n",
              "      <td>23.690499</td>\n",
              "      <td>10.594713</td>\n",
              "      <td>5</td>\n",
              "    </tr>\n",
              "    <tr>\n",
              "      <th>2</th>\n",
              "      <td>32.606714</td>\n",
              "      <td>31.706050</td>\n",
              "      <td>14.179376</td>\n",
              "      <td>5</td>\n",
              "    </tr>\n",
              "    <tr>\n",
              "      <th>3</th>\n",
              "      <td>37.982165</td>\n",
              "      <td>11.695748</td>\n",
              "      <td>5.230498</td>\n",
              "      <td>5</td>\n",
              "    </tr>\n",
              "    <tr>\n",
              "      <th>4</th>\n",
              "      <td>37.612539</td>\n",
              "      <td>17.809419</td>\n",
              "      <td>7.964614</td>\n",
              "      <td>5</td>\n",
              "    </tr>\n",
              "    <tr>\n",
              "      <th>5</th>\n",
              "      <td>52.464622</td>\n",
              "      <td>14.254941</td>\n",
              "      <td>6.375003</td>\n",
              "      <td>5</td>\n",
              "    </tr>\n",
              "    <tr>\n",
              "      <th>...</th>\n",
              "      <td>...</td>\n",
              "      <td>...</td>\n",
              "      <td>...</td>\n",
              "      <td>...</td>\n",
              "    </tr>\n",
              "    <tr>\n",
              "      <th>96</th>\n",
              "      <td>45.697387</td>\n",
              "      <td>14.869644</td>\n",
              "      <td>6.649907</td>\n",
              "      <td>5</td>\n",
              "    </tr>\n",
              "    <tr>\n",
              "      <th>97</th>\n",
              "      <td>35.199397</td>\n",
              "      <td>22.954966</td>\n",
              "      <td>10.265773</td>\n",
              "      <td>5</td>\n",
              "    </tr>\n",
              "    <tr>\n",
              "      <th>98</th>\n",
              "      <td>44.340217</td>\n",
              "      <td>26.665074</td>\n",
              "      <td>11.924984</td>\n",
              "      <td>5</td>\n",
              "    </tr>\n",
              "    <tr>\n",
              "      <th>99</th>\n",
              "      <td>51.895382</td>\n",
              "      <td>24.027612</td>\n",
              "      <td>10.745475</td>\n",
              "      <td>5</td>\n",
              "    </tr>\n",
              "    <tr>\n",
              "      <th>100</th>\n",
              "      <td>41.801157</td>\n",
              "      <td>21.789488</td>\n",
              "      <td>9.744555</td>\n",
              "      <td>5</td>\n",
              "    </tr>\n",
              "  </tbody>\n",
              "</table>\n",
              "<p>100 rows × 4 columns</p>\n",
              "</div>\n",
              "    <div class=\"colab-df-buttons\">\n",
              "\n",
              "  <div class=\"colab-df-container\">\n",
              "    <button class=\"colab-df-convert\" onclick=\"convertToInteractive('df-86df984f-d344-4cb9-8d13-f821791098b1')\"\n",
              "            title=\"Convert this dataframe to an interactive table.\"\n",
              "            style=\"display:none;\">\n",
              "\n",
              "  <svg xmlns=\"http://www.w3.org/2000/svg\" height=\"24px\" viewBox=\"0 -960 960 960\">\n",
              "    <path d=\"M120-120v-720h720v720H120Zm60-500h600v-160H180v160Zm220 220h160v-160H400v160Zm0 220h160v-160H400v160ZM180-400h160v-160H180v160Zm440 0h160v-160H620v160ZM180-180h160v-160H180v160Zm440 0h160v-160H620v160Z\"/>\n",
              "  </svg>\n",
              "    </button>\n",
              "\n",
              "  <style>\n",
              "    .colab-df-container {\n",
              "      display:flex;\n",
              "      gap: 12px;\n",
              "    }\n",
              "\n",
              "    .colab-df-convert {\n",
              "      background-color: #E8F0FE;\n",
              "      border: none;\n",
              "      border-radius: 50%;\n",
              "      cursor: pointer;\n",
              "      display: none;\n",
              "      fill: #1967D2;\n",
              "      height: 32px;\n",
              "      padding: 0 0 0 0;\n",
              "      width: 32px;\n",
              "    }\n",
              "\n",
              "    .colab-df-convert:hover {\n",
              "      background-color: #E2EBFA;\n",
              "      box-shadow: 0px 1px 2px rgba(60, 64, 67, 0.3), 0px 1px 3px 1px rgba(60, 64, 67, 0.15);\n",
              "      fill: #174EA6;\n",
              "    }\n",
              "\n",
              "    .colab-df-buttons div {\n",
              "      margin-bottom: 4px;\n",
              "    }\n",
              "\n",
              "    [theme=dark] .colab-df-convert {\n",
              "      background-color: #3B4455;\n",
              "      fill: #D2E3FC;\n",
              "    }\n",
              "\n",
              "    [theme=dark] .colab-df-convert:hover {\n",
              "      background-color: #434B5C;\n",
              "      box-shadow: 0px 1px 3px 1px rgba(0, 0, 0, 0.15);\n",
              "      filter: drop-shadow(0px 1px 2px rgba(0, 0, 0, 0.3));\n",
              "      fill: #FFFFFF;\n",
              "    }\n",
              "  </style>\n",
              "\n",
              "    <script>\n",
              "      const buttonEl =\n",
              "        document.querySelector('#df-86df984f-d344-4cb9-8d13-f821791098b1 button.colab-df-convert');\n",
              "      buttonEl.style.display =\n",
              "        google.colab.kernel.accessAllowed ? 'block' : 'none';\n",
              "\n",
              "      async function convertToInteractive(key) {\n",
              "        const element = document.querySelector('#df-86df984f-d344-4cb9-8d13-f821791098b1');\n",
              "        const dataTable =\n",
              "          await google.colab.kernel.invokeFunction('convertToInteractive',\n",
              "                                                    [key], {});\n",
              "        if (!dataTable) return;\n",
              "\n",
              "        const docLinkHtml = 'Like what you see? Visit the ' +\n",
              "          '<a target=\"_blank\" href=https://colab.research.google.com/notebooks/data_table.ipynb>data table notebook</a>'\n",
              "          + ' to learn more about interactive tables.';\n",
              "        element.innerHTML = '';\n",
              "        dataTable['output_type'] = 'display_data';\n",
              "        await google.colab.output.renderOutput(dataTable, element);\n",
              "        const docLink = document.createElement('div');\n",
              "        docLink.innerHTML = docLinkHtml;\n",
              "        element.appendChild(docLink);\n",
              "      }\n",
              "    </script>\n",
              "  </div>\n",
              "\n",
              "\n",
              "<div id=\"df-23552d9a-6909-49dd-9324-653f62569e1c\">\n",
              "  <button class=\"colab-df-quickchart\" onclick=\"quickchart('df-23552d9a-6909-49dd-9324-653f62569e1c')\"\n",
              "            title=\"Suggest charts\"\n",
              "            style=\"display:none;\">\n",
              "\n",
              "<svg xmlns=\"http://www.w3.org/2000/svg\" height=\"24px\"viewBox=\"0 0 24 24\"\n",
              "     width=\"24px\">\n",
              "    <g>\n",
              "        <path d=\"M19 3H5c-1.1 0-2 .9-2 2v14c0 1.1.9 2 2 2h14c1.1 0 2-.9 2-2V5c0-1.1-.9-2-2-2zM9 17H7v-7h2v7zm4 0h-2V7h2v10zm4 0h-2v-4h2v4z\"/>\n",
              "    </g>\n",
              "</svg>\n",
              "  </button>\n",
              "\n",
              "<style>\n",
              "  .colab-df-quickchart {\n",
              "      --bg-color: #E8F0FE;\n",
              "      --fill-color: #1967D2;\n",
              "      --hover-bg-color: #E2EBFA;\n",
              "      --hover-fill-color: #174EA6;\n",
              "      --disabled-fill-color: #AAA;\n",
              "      --disabled-bg-color: #DDD;\n",
              "  }\n",
              "\n",
              "  [theme=dark] .colab-df-quickchart {\n",
              "      --bg-color: #3B4455;\n",
              "      --fill-color: #D2E3FC;\n",
              "      --hover-bg-color: #434B5C;\n",
              "      --hover-fill-color: #FFFFFF;\n",
              "      --disabled-bg-color: #3B4455;\n",
              "      --disabled-fill-color: #666;\n",
              "  }\n",
              "\n",
              "  .colab-df-quickchart {\n",
              "    background-color: var(--bg-color);\n",
              "    border: none;\n",
              "    border-radius: 50%;\n",
              "    cursor: pointer;\n",
              "    display: none;\n",
              "    fill: var(--fill-color);\n",
              "    height: 32px;\n",
              "    padding: 0;\n",
              "    width: 32px;\n",
              "  }\n",
              "\n",
              "  .colab-df-quickchart:hover {\n",
              "    background-color: var(--hover-bg-color);\n",
              "    box-shadow: 0 1px 2px rgba(60, 64, 67, 0.3), 0 1px 3px 1px rgba(60, 64, 67, 0.15);\n",
              "    fill: var(--button-hover-fill-color);\n",
              "  }\n",
              "\n",
              "  .colab-df-quickchart-complete:disabled,\n",
              "  .colab-df-quickchart-complete:disabled:hover {\n",
              "    background-color: var(--disabled-bg-color);\n",
              "    fill: var(--disabled-fill-color);\n",
              "    box-shadow: none;\n",
              "  }\n",
              "\n",
              "  .colab-df-spinner {\n",
              "    border: 2px solid var(--fill-color);\n",
              "    border-color: transparent;\n",
              "    border-bottom-color: var(--fill-color);\n",
              "    animation:\n",
              "      spin 1s steps(1) infinite;\n",
              "  }\n",
              "\n",
              "  @keyframes spin {\n",
              "    0% {\n",
              "      border-color: transparent;\n",
              "      border-bottom-color: var(--fill-color);\n",
              "      border-left-color: var(--fill-color);\n",
              "    }\n",
              "    20% {\n",
              "      border-color: transparent;\n",
              "      border-left-color: var(--fill-color);\n",
              "      border-top-color: var(--fill-color);\n",
              "    }\n",
              "    30% {\n",
              "      border-color: transparent;\n",
              "      border-left-color: var(--fill-color);\n",
              "      border-top-color: var(--fill-color);\n",
              "      border-right-color: var(--fill-color);\n",
              "    }\n",
              "    40% {\n",
              "      border-color: transparent;\n",
              "      border-right-color: var(--fill-color);\n",
              "      border-top-color: var(--fill-color);\n",
              "    }\n",
              "    60% {\n",
              "      border-color: transparent;\n",
              "      border-right-color: var(--fill-color);\n",
              "    }\n",
              "    80% {\n",
              "      border-color: transparent;\n",
              "      border-right-color: var(--fill-color);\n",
              "      border-bottom-color: var(--fill-color);\n",
              "    }\n",
              "    90% {\n",
              "      border-color: transparent;\n",
              "      border-bottom-color: var(--fill-color);\n",
              "    }\n",
              "  }\n",
              "</style>\n",
              "\n",
              "  <script>\n",
              "    async function quickchart(key) {\n",
              "      const quickchartButtonEl =\n",
              "        document.querySelector('#' + key + ' button');\n",
              "      quickchartButtonEl.disabled = true;  // To prevent multiple clicks.\n",
              "      quickchartButtonEl.classList.add('colab-df-spinner');\n",
              "      try {\n",
              "        const charts = await google.colab.kernel.invokeFunction(\n",
              "            'suggestCharts', [key], {});\n",
              "      } catch (error) {\n",
              "        console.error('Error during call to suggestCharts:', error);\n",
              "      }\n",
              "      quickchartButtonEl.classList.remove('colab-df-spinner');\n",
              "      quickchartButtonEl.classList.add('colab-df-quickchart-complete');\n",
              "    }\n",
              "    (() => {\n",
              "      let quickchartButtonEl =\n",
              "        document.querySelector('#df-23552d9a-6909-49dd-9324-653f62569e1c button');\n",
              "      quickchartButtonEl.style.display =\n",
              "        google.colab.kernel.accessAllowed ? 'block' : 'none';\n",
              "    })();\n",
              "  </script>\n",
              "</div>\n",
              "\n",
              "  <div id=\"id_e23ac5cc-3466-4066-be8a-549f6763b97a\">\n",
              "    <style>\n",
              "      .colab-df-generate {\n",
              "        background-color: #E8F0FE;\n",
              "        border: none;\n",
              "        border-radius: 50%;\n",
              "        cursor: pointer;\n",
              "        display: none;\n",
              "        fill: #1967D2;\n",
              "        height: 32px;\n",
              "        padding: 0 0 0 0;\n",
              "        width: 32px;\n",
              "      }\n",
              "\n",
              "      .colab-df-generate:hover {\n",
              "        background-color: #E2EBFA;\n",
              "        box-shadow: 0px 1px 2px rgba(60, 64, 67, 0.3), 0px 1px 3px 1px rgba(60, 64, 67, 0.15);\n",
              "        fill: #174EA6;\n",
              "      }\n",
              "\n",
              "      [theme=dark] .colab-df-generate {\n",
              "        background-color: #3B4455;\n",
              "        fill: #D2E3FC;\n",
              "      }\n",
              "\n",
              "      [theme=dark] .colab-df-generate:hover {\n",
              "        background-color: #434B5C;\n",
              "        box-shadow: 0px 1px 3px 1px rgba(0, 0, 0, 0.15);\n",
              "        filter: drop-shadow(0px 1px 2px rgba(0, 0, 0, 0.3));\n",
              "        fill: #FFFFFF;\n",
              "      }\n",
              "    </style>\n",
              "    <button class=\"colab-df-generate\" onclick=\"generateWithVariable('sim_sum')\"\n",
              "            title=\"Generate code using this dataframe.\"\n",
              "            style=\"display:none;\">\n",
              "\n",
              "  <svg xmlns=\"http://www.w3.org/2000/svg\" height=\"24px\"viewBox=\"0 0 24 24\"\n",
              "       width=\"24px\">\n",
              "    <path d=\"M7,19H8.4L18.45,9,17,7.55,7,17.6ZM5,21V16.75L18.45,3.32a2,2,0,0,1,2.83,0l1.4,1.43a1.91,1.91,0,0,1,.58,1.4,1.91,1.91,0,0,1-.58,1.4L9.25,21ZM18.45,9,17,7.55Zm-12,3A5.31,5.31,0,0,0,4.9,8.1,5.31,5.31,0,0,0,1,6.5,5.31,5.31,0,0,0,4.9,4.9,5.31,5.31,0,0,0,6.5,1,5.31,5.31,0,0,0,8.1,4.9,5.31,5.31,0,0,0,12,6.5,5.46,5.46,0,0,0,6.5,12Z\"/>\n",
              "  </svg>\n",
              "    </button>\n",
              "    <script>\n",
              "      (() => {\n",
              "      const buttonEl =\n",
              "        document.querySelector('#id_e23ac5cc-3466-4066-be8a-549f6763b97a button.colab-df-generate');\n",
              "      buttonEl.style.display =\n",
              "        google.colab.kernel.accessAllowed ? 'block' : 'none';\n",
              "\n",
              "      buttonEl.onclick = () => {\n",
              "        google.colab.notebook.generateWithVariable('sim_sum');\n",
              "      }\n",
              "      })();\n",
              "    </script>\n",
              "  </div>\n",
              "\n",
              "    </div>\n",
              "  </div>\n"
            ],
            "application/vnd.google.colaboratory.intrinsic+json": {
              "type": "dataframe",
              "variable_name": "sim_sum",
              "summary": "{\n  \"name\": \"sim_sum\",\n  \"rows\": 100,\n  \"fields\": [\n    {\n      \"column\": \"sim\",\n      \"properties\": {\n        \"dtype\": \"number\",\n        \"std\": 29,\n        \"min\": 1,\n        \"max\": 100,\n        \"num_unique_values\": 100,\n        \"samples\": [\n          84,\n          54,\n          71\n        ],\n        \"semantic_type\": \"\",\n        \"description\": \"\"\n      }\n    },\n    {\n      \"column\": \"xbar\",\n      \"properties\": {\n        \"dtype\": \"number\",\n        \"std\": 7.71909319611816,\n        \"min\": 27.28377020210856,\n        \"max\": 72.4583450302852,\n        \"num_unique_values\": 100,\n        \"samples\": [\n          53.750494458759974,\n          38.61763557041004,\n          43.62863039996863\n        ],\n        \"semantic_type\": \"\",\n        \"description\": \"\"\n      }\n    },\n    {\n      \"column\": \"s\",\n      \"properties\": {\n        \"dtype\": \"number\",\n        \"std\": 5.929163471205327,\n        \"min\": 4.917178509958366,\n        \"max\": 32.577526935882624,\n        \"num_unique_values\": 100,\n        \"samples\": [\n          22.41105121555053,\n          23.26364858790953,\n          12.471868771654837\n        ],\n        \"semantic_type\": \"\",\n        \"description\": \"\"\n      }\n    },\n    {\n      \"column\": \"se\",\n      \"properties\": {\n        \"dtype\": \"number\",\n        \"std\": 2.6516025142647455,\n        \"min\": 2.1990290811536064,\n        \"max\": 14.569112953492795,\n        \"num_unique_values\": 100,\n        \"samples\": [\n          10.022526793040054,\n          10.40381992944654,\n          5.577589275975403\n        ],\n        \"semantic_type\": \"\",\n        \"description\": \"\"\n      }\n    },\n    {\n      \"column\": \"n\",\n      \"properties\": {\n        \"dtype\": \"number\",\n        \"std\": 0,\n        \"min\": 5,\n        \"max\": 5,\n        \"num_unique_values\": 1,\n        \"samples\": [\n          5\n        ],\n        \"semantic_type\": \"\",\n        \"description\": \"\"\n      }\n    }\n  ]\n}"
            }
          },
          "metadata": {},
          "execution_count": 82
        }
      ]
    },
    {
      "cell_type": "markdown",
      "source": [
        "**Exercise:** Calculate the lower and upper bounds of the 95% confidence intervals for $\\mu$ for each simulation.\n",
        "\n",
        "**Answer:**"
      ],
      "metadata": {
        "id": "iAFA3Oo3buLj"
      }
    },
    {
      "cell_type": "code",
      "source": [
        "# prompt: Exercise: Calculate the lower and upper bounds of the 95% confidence intervals for  μ  for each simulation.\n",
        "\n",
        "sim_sum['L95'] = sim_sum['xbar'] + stats.t.ppf(0.025, df=sim_sum['n']-1) * sim_sum['se']\n",
        "sim_sum['U95'] = sim_sum['xbar'] + stats.t.ppf(0.975, df=sim_sum['n']-1) * sim_sum['se']\n",
        "sim_sum.describe()"
      ],
      "metadata": {
        "colab": {
          "base_uri": "https://localhost:8080/",
          "height": 300
        },
        "id": "cufGuqV-YGz5",
        "outputId": "3b1f0842-f079-4320-d19d-865d674964cd"
      },
      "execution_count": 124,
      "outputs": [
        {
          "output_type": "execute_result",
          "data": {
            "text/plain": [
              "             xbar           s          se      n         L95         U95\n",
              "count  100.000000  100.000000  100.000000  100.0  100.000000  100.000000\n",
              "mean    43.667249   18.258211    8.165320    5.0   20.996686   66.337813\n",
              "std      7.719093    5.929163    2.651603    0.0   10.936141   10.390792\n",
              "min     27.283770    4.917179    2.199029    5.0   -6.761546   43.062061\n",
              "25%     38.540693   14.410531    6.444585    5.0   15.116618   58.497020\n",
              "50%     42.808191   18.614893    8.324833    5.0   20.254559   65.351158\n",
              "75%     49.197863   22.256721    9.953508    5.0   27.339275   72.693707\n",
              "max     72.458345   32.577527   14.569113    5.0   66.352862   89.640917"
            ],
            "text/html": [
              "\n",
              "  <div id=\"df-5755bb30-16fd-4871-b410-87c14f1e0586\" class=\"colab-df-container\">\n",
              "    <div>\n",
              "<style scoped>\n",
              "    .dataframe tbody tr th:only-of-type {\n",
              "        vertical-align: middle;\n",
              "    }\n",
              "\n",
              "    .dataframe tbody tr th {\n",
              "        vertical-align: top;\n",
              "    }\n",
              "\n",
              "    .dataframe thead th {\n",
              "        text-align: right;\n",
              "    }\n",
              "</style>\n",
              "<table border=\"1\" class=\"dataframe\">\n",
              "  <thead>\n",
              "    <tr style=\"text-align: right;\">\n",
              "      <th></th>\n",
              "      <th>xbar</th>\n",
              "      <th>s</th>\n",
              "      <th>se</th>\n",
              "      <th>n</th>\n",
              "      <th>L95</th>\n",
              "      <th>U95</th>\n",
              "    </tr>\n",
              "  </thead>\n",
              "  <tbody>\n",
              "    <tr>\n",
              "      <th>count</th>\n",
              "      <td>100.000000</td>\n",
              "      <td>100.000000</td>\n",
              "      <td>100.000000</td>\n",
              "      <td>100.0</td>\n",
              "      <td>100.000000</td>\n",
              "      <td>100.000000</td>\n",
              "    </tr>\n",
              "    <tr>\n",
              "      <th>mean</th>\n",
              "      <td>43.667249</td>\n",
              "      <td>18.258211</td>\n",
              "      <td>8.165320</td>\n",
              "      <td>5.0</td>\n",
              "      <td>20.996686</td>\n",
              "      <td>66.337813</td>\n",
              "    </tr>\n",
              "    <tr>\n",
              "      <th>std</th>\n",
              "      <td>7.719093</td>\n",
              "      <td>5.929163</td>\n",
              "      <td>2.651603</td>\n",
              "      <td>0.0</td>\n",
              "      <td>10.936141</td>\n",
              "      <td>10.390792</td>\n",
              "    </tr>\n",
              "    <tr>\n",
              "      <th>min</th>\n",
              "      <td>27.283770</td>\n",
              "      <td>4.917179</td>\n",
              "      <td>2.199029</td>\n",
              "      <td>5.0</td>\n",
              "      <td>-6.761546</td>\n",
              "      <td>43.062061</td>\n",
              "    </tr>\n",
              "    <tr>\n",
              "      <th>25%</th>\n",
              "      <td>38.540693</td>\n",
              "      <td>14.410531</td>\n",
              "      <td>6.444585</td>\n",
              "      <td>5.0</td>\n",
              "      <td>15.116618</td>\n",
              "      <td>58.497020</td>\n",
              "    </tr>\n",
              "    <tr>\n",
              "      <th>50%</th>\n",
              "      <td>42.808191</td>\n",
              "      <td>18.614893</td>\n",
              "      <td>8.324833</td>\n",
              "      <td>5.0</td>\n",
              "      <td>20.254559</td>\n",
              "      <td>65.351158</td>\n",
              "    </tr>\n",
              "    <tr>\n",
              "      <th>75%</th>\n",
              "      <td>49.197863</td>\n",
              "      <td>22.256721</td>\n",
              "      <td>9.953508</td>\n",
              "      <td>5.0</td>\n",
              "      <td>27.339275</td>\n",
              "      <td>72.693707</td>\n",
              "    </tr>\n",
              "    <tr>\n",
              "      <th>max</th>\n",
              "      <td>72.458345</td>\n",
              "      <td>32.577527</td>\n",
              "      <td>14.569113</td>\n",
              "      <td>5.0</td>\n",
              "      <td>66.352862</td>\n",
              "      <td>89.640917</td>\n",
              "    </tr>\n",
              "  </tbody>\n",
              "</table>\n",
              "</div>\n",
              "    <div class=\"colab-df-buttons\">\n",
              "\n",
              "  <div class=\"colab-df-container\">\n",
              "    <button class=\"colab-df-convert\" onclick=\"convertToInteractive('df-5755bb30-16fd-4871-b410-87c14f1e0586')\"\n",
              "            title=\"Convert this dataframe to an interactive table.\"\n",
              "            style=\"display:none;\">\n",
              "\n",
              "  <svg xmlns=\"http://www.w3.org/2000/svg\" height=\"24px\" viewBox=\"0 -960 960 960\">\n",
              "    <path d=\"M120-120v-720h720v720H120Zm60-500h600v-160H180v160Zm220 220h160v-160H400v160Zm0 220h160v-160H400v160ZM180-400h160v-160H180v160Zm440 0h160v-160H620v160ZM180-180h160v-160H180v160Zm440 0h160v-160H620v160Z\"/>\n",
              "  </svg>\n",
              "    </button>\n",
              "\n",
              "  <style>\n",
              "    .colab-df-container {\n",
              "      display:flex;\n",
              "      gap: 12px;\n",
              "    }\n",
              "\n",
              "    .colab-df-convert {\n",
              "      background-color: #E8F0FE;\n",
              "      border: none;\n",
              "      border-radius: 50%;\n",
              "      cursor: pointer;\n",
              "      display: none;\n",
              "      fill: #1967D2;\n",
              "      height: 32px;\n",
              "      padding: 0 0 0 0;\n",
              "      width: 32px;\n",
              "    }\n",
              "\n",
              "    .colab-df-convert:hover {\n",
              "      background-color: #E2EBFA;\n",
              "      box-shadow: 0px 1px 2px rgba(60, 64, 67, 0.3), 0px 1px 3px 1px rgba(60, 64, 67, 0.15);\n",
              "      fill: #174EA6;\n",
              "    }\n",
              "\n",
              "    .colab-df-buttons div {\n",
              "      margin-bottom: 4px;\n",
              "    }\n",
              "\n",
              "    [theme=dark] .colab-df-convert {\n",
              "      background-color: #3B4455;\n",
              "      fill: #D2E3FC;\n",
              "    }\n",
              "\n",
              "    [theme=dark] .colab-df-convert:hover {\n",
              "      background-color: #434B5C;\n",
              "      box-shadow: 0px 1px 3px 1px rgba(0, 0, 0, 0.15);\n",
              "      filter: drop-shadow(0px 1px 2px rgba(0, 0, 0, 0.3));\n",
              "      fill: #FFFFFF;\n",
              "    }\n",
              "  </style>\n",
              "\n",
              "    <script>\n",
              "      const buttonEl =\n",
              "        document.querySelector('#df-5755bb30-16fd-4871-b410-87c14f1e0586 button.colab-df-convert');\n",
              "      buttonEl.style.display =\n",
              "        google.colab.kernel.accessAllowed ? 'block' : 'none';\n",
              "\n",
              "      async function convertToInteractive(key) {\n",
              "        const element = document.querySelector('#df-5755bb30-16fd-4871-b410-87c14f1e0586');\n",
              "        const dataTable =\n",
              "          await google.colab.kernel.invokeFunction('convertToInteractive',\n",
              "                                                    [key], {});\n",
              "        if (!dataTable) return;\n",
              "\n",
              "        const docLinkHtml = 'Like what you see? Visit the ' +\n",
              "          '<a target=\"_blank\" href=https://colab.research.google.com/notebooks/data_table.ipynb>data table notebook</a>'\n",
              "          + ' to learn more about interactive tables.';\n",
              "        element.innerHTML = '';\n",
              "        dataTable['output_type'] = 'display_data';\n",
              "        await google.colab.output.renderOutput(dataTable, element);\n",
              "        const docLink = document.createElement('div');\n",
              "        docLink.innerHTML = docLinkHtml;\n",
              "        element.appendChild(docLink);\n",
              "      }\n",
              "    </script>\n",
              "  </div>\n",
              "\n",
              "\n",
              "<div id=\"df-c8bf67e6-2309-44a0-859f-d08e3cd94ebc\">\n",
              "  <button class=\"colab-df-quickchart\" onclick=\"quickchart('df-c8bf67e6-2309-44a0-859f-d08e3cd94ebc')\"\n",
              "            title=\"Suggest charts\"\n",
              "            style=\"display:none;\">\n",
              "\n",
              "<svg xmlns=\"http://www.w3.org/2000/svg\" height=\"24px\"viewBox=\"0 0 24 24\"\n",
              "     width=\"24px\">\n",
              "    <g>\n",
              "        <path d=\"M19 3H5c-1.1 0-2 .9-2 2v14c0 1.1.9 2 2 2h14c1.1 0 2-.9 2-2V5c0-1.1-.9-2-2-2zM9 17H7v-7h2v7zm4 0h-2V7h2v10zm4 0h-2v-4h2v4z\"/>\n",
              "    </g>\n",
              "</svg>\n",
              "  </button>\n",
              "\n",
              "<style>\n",
              "  .colab-df-quickchart {\n",
              "      --bg-color: #E8F0FE;\n",
              "      --fill-color: #1967D2;\n",
              "      --hover-bg-color: #E2EBFA;\n",
              "      --hover-fill-color: #174EA6;\n",
              "      --disabled-fill-color: #AAA;\n",
              "      --disabled-bg-color: #DDD;\n",
              "  }\n",
              "\n",
              "  [theme=dark] .colab-df-quickchart {\n",
              "      --bg-color: #3B4455;\n",
              "      --fill-color: #D2E3FC;\n",
              "      --hover-bg-color: #434B5C;\n",
              "      --hover-fill-color: #FFFFFF;\n",
              "      --disabled-bg-color: #3B4455;\n",
              "      --disabled-fill-color: #666;\n",
              "  }\n",
              "\n",
              "  .colab-df-quickchart {\n",
              "    background-color: var(--bg-color);\n",
              "    border: none;\n",
              "    border-radius: 50%;\n",
              "    cursor: pointer;\n",
              "    display: none;\n",
              "    fill: var(--fill-color);\n",
              "    height: 32px;\n",
              "    padding: 0;\n",
              "    width: 32px;\n",
              "  }\n",
              "\n",
              "  .colab-df-quickchart:hover {\n",
              "    background-color: var(--hover-bg-color);\n",
              "    box-shadow: 0 1px 2px rgba(60, 64, 67, 0.3), 0 1px 3px 1px rgba(60, 64, 67, 0.15);\n",
              "    fill: var(--button-hover-fill-color);\n",
              "  }\n",
              "\n",
              "  .colab-df-quickchart-complete:disabled,\n",
              "  .colab-df-quickchart-complete:disabled:hover {\n",
              "    background-color: var(--disabled-bg-color);\n",
              "    fill: var(--disabled-fill-color);\n",
              "    box-shadow: none;\n",
              "  }\n",
              "\n",
              "  .colab-df-spinner {\n",
              "    border: 2px solid var(--fill-color);\n",
              "    border-color: transparent;\n",
              "    border-bottom-color: var(--fill-color);\n",
              "    animation:\n",
              "      spin 1s steps(1) infinite;\n",
              "  }\n",
              "\n",
              "  @keyframes spin {\n",
              "    0% {\n",
              "      border-color: transparent;\n",
              "      border-bottom-color: var(--fill-color);\n",
              "      border-left-color: var(--fill-color);\n",
              "    }\n",
              "    20% {\n",
              "      border-color: transparent;\n",
              "      border-left-color: var(--fill-color);\n",
              "      border-top-color: var(--fill-color);\n",
              "    }\n",
              "    30% {\n",
              "      border-color: transparent;\n",
              "      border-left-color: var(--fill-color);\n",
              "      border-top-color: var(--fill-color);\n",
              "      border-right-color: var(--fill-color);\n",
              "    }\n",
              "    40% {\n",
              "      border-color: transparent;\n",
              "      border-right-color: var(--fill-color);\n",
              "      border-top-color: var(--fill-color);\n",
              "    }\n",
              "    60% {\n",
              "      border-color: transparent;\n",
              "      border-right-color: var(--fill-color);\n",
              "    }\n",
              "    80% {\n",
              "      border-color: transparent;\n",
              "      border-right-color: var(--fill-color);\n",
              "      border-bottom-color: var(--fill-color);\n",
              "    }\n",
              "    90% {\n",
              "      border-color: transparent;\n",
              "      border-bottom-color: var(--fill-color);\n",
              "    }\n",
              "  }\n",
              "</style>\n",
              "\n",
              "  <script>\n",
              "    async function quickchart(key) {\n",
              "      const quickchartButtonEl =\n",
              "        document.querySelector('#' + key + ' button');\n",
              "      quickchartButtonEl.disabled = true;  // To prevent multiple clicks.\n",
              "      quickchartButtonEl.classList.add('colab-df-spinner');\n",
              "      try {\n",
              "        const charts = await google.colab.kernel.invokeFunction(\n",
              "            'suggestCharts', [key], {});\n",
              "      } catch (error) {\n",
              "        console.error('Error during call to suggestCharts:', error);\n",
              "      }\n",
              "      quickchartButtonEl.classList.remove('colab-df-spinner');\n",
              "      quickchartButtonEl.classList.add('colab-df-quickchart-complete');\n",
              "    }\n",
              "    (() => {\n",
              "      let quickchartButtonEl =\n",
              "        document.querySelector('#df-c8bf67e6-2309-44a0-859f-d08e3cd94ebc button');\n",
              "      quickchartButtonEl.style.display =\n",
              "        google.colab.kernel.accessAllowed ? 'block' : 'none';\n",
              "    })();\n",
              "  </script>\n",
              "</div>\n",
              "\n",
              "    </div>\n",
              "  </div>\n"
            ],
            "application/vnd.google.colaboratory.intrinsic+json": {
              "type": "dataframe",
              "summary": "{\n  \"name\": \"sim_sum\",\n  \"rows\": 8,\n  \"fields\": [\n    {\n      \"column\": \"xbar\",\n      \"properties\": {\n        \"dtype\": \"number\",\n        \"std\": 28.004820137301625,\n        \"min\": 7.71909319611816,\n        \"max\": 100.0,\n        \"num_unique_values\": 8,\n        \"samples\": [\n          43.66724919603414,\n          42.808191065908815,\n          100.0\n        ],\n        \"semantic_type\": \"\",\n        \"description\": \"\"\n      }\n    },\n    {\n      \"column\": \"s\",\n      \"properties\": {\n        \"dtype\": \"number\",\n        \"std\": 30.75094905776021,\n        \"min\": 4.917178509958366,\n        \"max\": 100.0,\n        \"num_unique_values\": 8,\n        \"samples\": [\n          18.25821121370812,\n          18.614892968159197,\n          100.0\n        ],\n        \"semantic_type\": \"\",\n        \"description\": \"\"\n      }\n    },\n    {\n      \"column\": \"se\",\n      \"properties\": {\n        \"dtype\": \"number\",\n        \"std\": 32.95232606708868,\n        \"min\": 2.1990290811536064,\n        \"max\": 100.0,\n        \"num_unique_values\": 8,\n        \"samples\": [\n          8.165320284280059,\n          8.324833214137358,\n          100.0\n        ],\n        \"semantic_type\": \"\",\n        \"description\": \"\"\n      }\n    },\n    {\n      \"column\": \"n\",\n      \"properties\": {\n        \"dtype\": \"number\",\n        \"std\": 33.88531076608692,\n        \"min\": 0.0,\n        \"max\": 100.0,\n        \"num_unique_values\": 3,\n        \"samples\": [\n          100.0,\n          5.0,\n          0.0\n        ],\n        \"semantic_type\": \"\",\n        \"description\": \"\"\n      }\n    },\n    {\n      \"column\": \"L95\",\n      \"properties\": {\n        \"dtype\": \"number\",\n        \"std\": 34.466696955694694,\n        \"min\": -6.761545947546075,\n        \"max\": 100.0,\n        \"num_unique_values\": 8,\n        \"samples\": [\n          20.996685660372474,\n          20.254558605653138,\n          100.0\n        ],\n        \"semantic_type\": \"\",\n        \"description\": \"\"\n      }\n    },\n    {\n      \"column\": \"U95\",\n      \"properties\": {\n        \"dtype\": \"number\",\n        \"std\": 27.708728666011048,\n        \"min\": 10.390792011682981,\n        \"max\": 100.0,\n        \"num_unique_values\": 8,\n        \"samples\": [\n          66.33781273169583,\n          65.35115789707922,\n          100.0\n        ],\n        \"semantic_type\": \"\",\n        \"description\": \"\"\n      }\n    }\n  ]\n}"
            }
          },
          "metadata": {},
          "execution_count": 124
        }
      ]
    },
    {
      "cell_type": "markdown",
      "source": [
        "**Exercise:** Plot a histogram of the sample means. Describe what shape it makes.\n",
        "\n",
        "**Answer:**"
      ],
      "metadata": {
        "id": "Lz-x864Zbvc3"
      }
    },
    {
      "cell_type": "code",
      "source": [
        "# prompt: add a boolean column that is true if the 95% CI covers mu and a column called color that is blue for true and red for false\n",
        "\n",
        "\n"
      ],
      "metadata": {
        "colab": {
          "base_uri": "https://localhost:8080/",
          "height": 455
        },
        "id": "IEmbdiHqgOSl",
        "outputId": "96c4882c-160c-4ed7-895f-573e16967795"
      },
      "execution_count": 134,
      "outputs": [
        {
          "output_type": "execute_result",
          "data": {
            "text/plain": [
              "          xbar          s         se  n        L95        U95  mu_in_CI  \\\n",
              "sim                                                                       \n",
              "1    46.902975  23.690499  10.594713  5  17.487335  76.318614      True   \n",
              "2    32.606714  31.706050  14.179376  5  -6.761546  71.974975      True   \n",
              "3    37.982165  11.695748   5.230498  5  23.459975  52.504354      True   \n",
              "4    37.612539  17.809419   7.964614  5  15.499224  59.725854      True   \n",
              "5    52.464622  14.254941   6.375003  5  34.764775  70.164469      True   \n",
              "..         ...        ...        ... ..        ...        ...       ...   \n",
              "96   45.697387  14.869644   6.649907  5  27.234286  64.160488      True   \n",
              "97   35.199397  22.954966  10.265773  5   6.697043  63.701752      True   \n",
              "98   44.340217  26.665074  11.924984  5  11.231155  77.449280      True   \n",
              "99   51.895382  24.027612  10.745475  5  22.061161  81.729603      True   \n",
              "100  41.801157  21.789488   9.744555  5  14.745934  68.856379      True   \n",
              "\n",
              "     covers_mu color  \n",
              "sim                   \n",
              "1         True  blue  \n",
              "2         True  blue  \n",
              "3         True  blue  \n",
              "4         True  blue  \n",
              "5         True  blue  \n",
              "..         ...   ...  \n",
              "96        True  blue  \n",
              "97        True  blue  \n",
              "98        True  blue  \n",
              "99        True  blue  \n",
              "100       True  blue  \n",
              "\n",
              "[100 rows x 9 columns]"
            ],
            "text/html": [
              "\n",
              "  <div id=\"df-fb85d0d5-aaf7-447b-8d86-250b204982e2\" class=\"colab-df-container\">\n",
              "    <div>\n",
              "<style scoped>\n",
              "    .dataframe tbody tr th:only-of-type {\n",
              "        vertical-align: middle;\n",
              "    }\n",
              "\n",
              "    .dataframe tbody tr th {\n",
              "        vertical-align: top;\n",
              "    }\n",
              "\n",
              "    .dataframe thead th {\n",
              "        text-align: right;\n",
              "    }\n",
              "</style>\n",
              "<table border=\"1\" class=\"dataframe\">\n",
              "  <thead>\n",
              "    <tr style=\"text-align: right;\">\n",
              "      <th></th>\n",
              "      <th>xbar</th>\n",
              "      <th>s</th>\n",
              "      <th>se</th>\n",
              "      <th>n</th>\n",
              "      <th>L95</th>\n",
              "      <th>U95</th>\n",
              "      <th>mu_in_CI</th>\n",
              "      <th>covers_mu</th>\n",
              "      <th>color</th>\n",
              "    </tr>\n",
              "    <tr>\n",
              "      <th>sim</th>\n",
              "      <th></th>\n",
              "      <th></th>\n",
              "      <th></th>\n",
              "      <th></th>\n",
              "      <th></th>\n",
              "      <th></th>\n",
              "      <th></th>\n",
              "      <th></th>\n",
              "      <th></th>\n",
              "    </tr>\n",
              "  </thead>\n",
              "  <tbody>\n",
              "    <tr>\n",
              "      <th>1</th>\n",
              "      <td>46.902975</td>\n",
              "      <td>23.690499</td>\n",
              "      <td>10.594713</td>\n",
              "      <td>5</td>\n",
              "      <td>17.487335</td>\n",
              "      <td>76.318614</td>\n",
              "      <td>True</td>\n",
              "      <td>True</td>\n",
              "      <td>blue</td>\n",
              "    </tr>\n",
              "    <tr>\n",
              "      <th>2</th>\n",
              "      <td>32.606714</td>\n",
              "      <td>31.706050</td>\n",
              "      <td>14.179376</td>\n",
              "      <td>5</td>\n",
              "      <td>-6.761546</td>\n",
              "      <td>71.974975</td>\n",
              "      <td>True</td>\n",
              "      <td>True</td>\n",
              "      <td>blue</td>\n",
              "    </tr>\n",
              "    <tr>\n",
              "      <th>3</th>\n",
              "      <td>37.982165</td>\n",
              "      <td>11.695748</td>\n",
              "      <td>5.230498</td>\n",
              "      <td>5</td>\n",
              "      <td>23.459975</td>\n",
              "      <td>52.504354</td>\n",
              "      <td>True</td>\n",
              "      <td>True</td>\n",
              "      <td>blue</td>\n",
              "    </tr>\n",
              "    <tr>\n",
              "      <th>4</th>\n",
              "      <td>37.612539</td>\n",
              "      <td>17.809419</td>\n",
              "      <td>7.964614</td>\n",
              "      <td>5</td>\n",
              "      <td>15.499224</td>\n",
              "      <td>59.725854</td>\n",
              "      <td>True</td>\n",
              "      <td>True</td>\n",
              "      <td>blue</td>\n",
              "    </tr>\n",
              "    <tr>\n",
              "      <th>5</th>\n",
              "      <td>52.464622</td>\n",
              "      <td>14.254941</td>\n",
              "      <td>6.375003</td>\n",
              "      <td>5</td>\n",
              "      <td>34.764775</td>\n",
              "      <td>70.164469</td>\n",
              "      <td>True</td>\n",
              "      <td>True</td>\n",
              "      <td>blue</td>\n",
              "    </tr>\n",
              "    <tr>\n",
              "      <th>...</th>\n",
              "      <td>...</td>\n",
              "      <td>...</td>\n",
              "      <td>...</td>\n",
              "      <td>...</td>\n",
              "      <td>...</td>\n",
              "      <td>...</td>\n",
              "      <td>...</td>\n",
              "      <td>...</td>\n",
              "      <td>...</td>\n",
              "    </tr>\n",
              "    <tr>\n",
              "      <th>96</th>\n",
              "      <td>45.697387</td>\n",
              "      <td>14.869644</td>\n",
              "      <td>6.649907</td>\n",
              "      <td>5</td>\n",
              "      <td>27.234286</td>\n",
              "      <td>64.160488</td>\n",
              "      <td>True</td>\n",
              "      <td>True</td>\n",
              "      <td>blue</td>\n",
              "    </tr>\n",
              "    <tr>\n",
              "      <th>97</th>\n",
              "      <td>35.199397</td>\n",
              "      <td>22.954966</td>\n",
              "      <td>10.265773</td>\n",
              "      <td>5</td>\n",
              "      <td>6.697043</td>\n",
              "      <td>63.701752</td>\n",
              "      <td>True</td>\n",
              "      <td>True</td>\n",
              "      <td>blue</td>\n",
              "    </tr>\n",
              "    <tr>\n",
              "      <th>98</th>\n",
              "      <td>44.340217</td>\n",
              "      <td>26.665074</td>\n",
              "      <td>11.924984</td>\n",
              "      <td>5</td>\n",
              "      <td>11.231155</td>\n",
              "      <td>77.449280</td>\n",
              "      <td>True</td>\n",
              "      <td>True</td>\n",
              "      <td>blue</td>\n",
              "    </tr>\n",
              "    <tr>\n",
              "      <th>99</th>\n",
              "      <td>51.895382</td>\n",
              "      <td>24.027612</td>\n",
              "      <td>10.745475</td>\n",
              "      <td>5</td>\n",
              "      <td>22.061161</td>\n",
              "      <td>81.729603</td>\n",
              "      <td>True</td>\n",
              "      <td>True</td>\n",
              "      <td>blue</td>\n",
              "    </tr>\n",
              "    <tr>\n",
              "      <th>100</th>\n",
              "      <td>41.801157</td>\n",
              "      <td>21.789488</td>\n",
              "      <td>9.744555</td>\n",
              "      <td>5</td>\n",
              "      <td>14.745934</td>\n",
              "      <td>68.856379</td>\n",
              "      <td>True</td>\n",
              "      <td>True</td>\n",
              "      <td>blue</td>\n",
              "    </tr>\n",
              "  </tbody>\n",
              "</table>\n",
              "<p>100 rows × 9 columns</p>\n",
              "</div>\n",
              "    <div class=\"colab-df-buttons\">\n",
              "\n",
              "  <div class=\"colab-df-container\">\n",
              "    <button class=\"colab-df-convert\" onclick=\"convertToInteractive('df-fb85d0d5-aaf7-447b-8d86-250b204982e2')\"\n",
              "            title=\"Convert this dataframe to an interactive table.\"\n",
              "            style=\"display:none;\">\n",
              "\n",
              "  <svg xmlns=\"http://www.w3.org/2000/svg\" height=\"24px\" viewBox=\"0 -960 960 960\">\n",
              "    <path d=\"M120-120v-720h720v720H120Zm60-500h600v-160H180v160Zm220 220h160v-160H400v160Zm0 220h160v-160H400v160ZM180-400h160v-160H180v160Zm440 0h160v-160H620v160ZM180-180h160v-160H180v160Zm440 0h160v-160H620v160Z\"/>\n",
              "  </svg>\n",
              "    </button>\n",
              "\n",
              "  <style>\n",
              "    .colab-df-container {\n",
              "      display:flex;\n",
              "      gap: 12px;\n",
              "    }\n",
              "\n",
              "    .colab-df-convert {\n",
              "      background-color: #E8F0FE;\n",
              "      border: none;\n",
              "      border-radius: 50%;\n",
              "      cursor: pointer;\n",
              "      display: none;\n",
              "      fill: #1967D2;\n",
              "      height: 32px;\n",
              "      padding: 0 0 0 0;\n",
              "      width: 32px;\n",
              "    }\n",
              "\n",
              "    .colab-df-convert:hover {\n",
              "      background-color: #E2EBFA;\n",
              "      box-shadow: 0px 1px 2px rgba(60, 64, 67, 0.3), 0px 1px 3px 1px rgba(60, 64, 67, 0.15);\n",
              "      fill: #174EA6;\n",
              "    }\n",
              "\n",
              "    .colab-df-buttons div {\n",
              "      margin-bottom: 4px;\n",
              "    }\n",
              "\n",
              "    [theme=dark] .colab-df-convert {\n",
              "      background-color: #3B4455;\n",
              "      fill: #D2E3FC;\n",
              "    }\n",
              "\n",
              "    [theme=dark] .colab-df-convert:hover {\n",
              "      background-color: #434B5C;\n",
              "      box-shadow: 0px 1px 3px 1px rgba(0, 0, 0, 0.15);\n",
              "      filter: drop-shadow(0px 1px 2px rgba(0, 0, 0, 0.3));\n",
              "      fill: #FFFFFF;\n",
              "    }\n",
              "  </style>\n",
              "\n",
              "    <script>\n",
              "      const buttonEl =\n",
              "        document.querySelector('#df-fb85d0d5-aaf7-447b-8d86-250b204982e2 button.colab-df-convert');\n",
              "      buttonEl.style.display =\n",
              "        google.colab.kernel.accessAllowed ? 'block' : 'none';\n",
              "\n",
              "      async function convertToInteractive(key) {\n",
              "        const element = document.querySelector('#df-fb85d0d5-aaf7-447b-8d86-250b204982e2');\n",
              "        const dataTable =\n",
              "          await google.colab.kernel.invokeFunction('convertToInteractive',\n",
              "                                                    [key], {});\n",
              "        if (!dataTable) return;\n",
              "\n",
              "        const docLinkHtml = 'Like what you see? Visit the ' +\n",
              "          '<a target=\"_blank\" href=https://colab.research.google.com/notebooks/data_table.ipynb>data table notebook</a>'\n",
              "          + ' to learn more about interactive tables.';\n",
              "        element.innerHTML = '';\n",
              "        dataTable['output_type'] = 'display_data';\n",
              "        await google.colab.output.renderOutput(dataTable, element);\n",
              "        const docLink = document.createElement('div');\n",
              "        docLink.innerHTML = docLinkHtml;\n",
              "        element.appendChild(docLink);\n",
              "      }\n",
              "    </script>\n",
              "  </div>\n",
              "\n",
              "\n",
              "<div id=\"df-109a1cc5-f9dd-47d9-8173-e525c145b318\">\n",
              "  <button class=\"colab-df-quickchart\" onclick=\"quickchart('df-109a1cc5-f9dd-47d9-8173-e525c145b318')\"\n",
              "            title=\"Suggest charts\"\n",
              "            style=\"display:none;\">\n",
              "\n",
              "<svg xmlns=\"http://www.w3.org/2000/svg\" height=\"24px\"viewBox=\"0 0 24 24\"\n",
              "     width=\"24px\">\n",
              "    <g>\n",
              "        <path d=\"M19 3H5c-1.1 0-2 .9-2 2v14c0 1.1.9 2 2 2h14c1.1 0 2-.9 2-2V5c0-1.1-.9-2-2-2zM9 17H7v-7h2v7zm4 0h-2V7h2v10zm4 0h-2v-4h2v4z\"/>\n",
              "    </g>\n",
              "</svg>\n",
              "  </button>\n",
              "\n",
              "<style>\n",
              "  .colab-df-quickchart {\n",
              "      --bg-color: #E8F0FE;\n",
              "      --fill-color: #1967D2;\n",
              "      --hover-bg-color: #E2EBFA;\n",
              "      --hover-fill-color: #174EA6;\n",
              "      --disabled-fill-color: #AAA;\n",
              "      --disabled-bg-color: #DDD;\n",
              "  }\n",
              "\n",
              "  [theme=dark] .colab-df-quickchart {\n",
              "      --bg-color: #3B4455;\n",
              "      --fill-color: #D2E3FC;\n",
              "      --hover-bg-color: #434B5C;\n",
              "      --hover-fill-color: #FFFFFF;\n",
              "      --disabled-bg-color: #3B4455;\n",
              "      --disabled-fill-color: #666;\n",
              "  }\n",
              "\n",
              "  .colab-df-quickchart {\n",
              "    background-color: var(--bg-color);\n",
              "    border: none;\n",
              "    border-radius: 50%;\n",
              "    cursor: pointer;\n",
              "    display: none;\n",
              "    fill: var(--fill-color);\n",
              "    height: 32px;\n",
              "    padding: 0;\n",
              "    width: 32px;\n",
              "  }\n",
              "\n",
              "  .colab-df-quickchart:hover {\n",
              "    background-color: var(--hover-bg-color);\n",
              "    box-shadow: 0 1px 2px rgba(60, 64, 67, 0.3), 0 1px 3px 1px rgba(60, 64, 67, 0.15);\n",
              "    fill: var(--button-hover-fill-color);\n",
              "  }\n",
              "\n",
              "  .colab-df-quickchart-complete:disabled,\n",
              "  .colab-df-quickchart-complete:disabled:hover {\n",
              "    background-color: var(--disabled-bg-color);\n",
              "    fill: var(--disabled-fill-color);\n",
              "    box-shadow: none;\n",
              "  }\n",
              "\n",
              "  .colab-df-spinner {\n",
              "    border: 2px solid var(--fill-color);\n",
              "    border-color: transparent;\n",
              "    border-bottom-color: var(--fill-color);\n",
              "    animation:\n",
              "      spin 1s steps(1) infinite;\n",
              "  }\n",
              "\n",
              "  @keyframes spin {\n",
              "    0% {\n",
              "      border-color: transparent;\n",
              "      border-bottom-color: var(--fill-color);\n",
              "      border-left-color: var(--fill-color);\n",
              "    }\n",
              "    20% {\n",
              "      border-color: transparent;\n",
              "      border-left-color: var(--fill-color);\n",
              "      border-top-color: var(--fill-color);\n",
              "    }\n",
              "    30% {\n",
              "      border-color: transparent;\n",
              "      border-left-color: var(--fill-color);\n",
              "      border-top-color: var(--fill-color);\n",
              "      border-right-color: var(--fill-color);\n",
              "    }\n",
              "    40% {\n",
              "      border-color: transparent;\n",
              "      border-right-color: var(--fill-color);\n",
              "      border-top-color: var(--fill-color);\n",
              "    }\n",
              "    60% {\n",
              "      border-color: transparent;\n",
              "      border-right-color: var(--fill-color);\n",
              "    }\n",
              "    80% {\n",
              "      border-color: transparent;\n",
              "      border-right-color: var(--fill-color);\n",
              "      border-bottom-color: var(--fill-color);\n",
              "    }\n",
              "    90% {\n",
              "      border-color: transparent;\n",
              "      border-bottom-color: var(--fill-color);\n",
              "    }\n",
              "  }\n",
              "</style>\n",
              "\n",
              "  <script>\n",
              "    async function quickchart(key) {\n",
              "      const quickchartButtonEl =\n",
              "        document.querySelector('#' + key + ' button');\n",
              "      quickchartButtonEl.disabled = true;  // To prevent multiple clicks.\n",
              "      quickchartButtonEl.classList.add('colab-df-spinner');\n",
              "      try {\n",
              "        const charts = await google.colab.kernel.invokeFunction(\n",
              "            'suggestCharts', [key], {});\n",
              "      } catch (error) {\n",
              "        console.error('Error during call to suggestCharts:', error);\n",
              "      }\n",
              "      quickchartButtonEl.classList.remove('colab-df-spinner');\n",
              "      quickchartButtonEl.classList.add('colab-df-quickchart-complete');\n",
              "    }\n",
              "    (() => {\n",
              "      let quickchartButtonEl =\n",
              "        document.querySelector('#df-109a1cc5-f9dd-47d9-8173-e525c145b318 button');\n",
              "      quickchartButtonEl.style.display =\n",
              "        google.colab.kernel.accessAllowed ? 'block' : 'none';\n",
              "    })();\n",
              "  </script>\n",
              "</div>\n",
              "\n",
              "  <div id=\"id_b2899135-30d9-4d50-8be6-fef432c9cb63\">\n",
              "    <style>\n",
              "      .colab-df-generate {\n",
              "        background-color: #E8F0FE;\n",
              "        border: none;\n",
              "        border-radius: 50%;\n",
              "        cursor: pointer;\n",
              "        display: none;\n",
              "        fill: #1967D2;\n",
              "        height: 32px;\n",
              "        padding: 0 0 0 0;\n",
              "        width: 32px;\n",
              "      }\n",
              "\n",
              "      .colab-df-generate:hover {\n",
              "        background-color: #E2EBFA;\n",
              "        box-shadow: 0px 1px 2px rgba(60, 64, 67, 0.3), 0px 1px 3px 1px rgba(60, 64, 67, 0.15);\n",
              "        fill: #174EA6;\n",
              "      }\n",
              "\n",
              "      [theme=dark] .colab-df-generate {\n",
              "        background-color: #3B4455;\n",
              "        fill: #D2E3FC;\n",
              "      }\n",
              "\n",
              "      [theme=dark] .colab-df-generate:hover {\n",
              "        background-color: #434B5C;\n",
              "        box-shadow: 0px 1px 3px 1px rgba(0, 0, 0, 0.15);\n",
              "        filter: drop-shadow(0px 1px 2px rgba(0, 0, 0, 0.3));\n",
              "        fill: #FFFFFF;\n",
              "      }\n",
              "    </style>\n",
              "    <button class=\"colab-df-generate\" onclick=\"generateWithVariable('sim_sum')\"\n",
              "            title=\"Generate code using this dataframe.\"\n",
              "            style=\"display:none;\">\n",
              "\n",
              "  <svg xmlns=\"http://www.w3.org/2000/svg\" height=\"24px\"viewBox=\"0 0 24 24\"\n",
              "       width=\"24px\">\n",
              "    <path d=\"M7,19H8.4L18.45,9,17,7.55,7,17.6ZM5,21V16.75L18.45,3.32a2,2,0,0,1,2.83,0l1.4,1.43a1.91,1.91,0,0,1,.58,1.4,1.91,1.91,0,0,1-.58,1.4L9.25,21ZM18.45,9,17,7.55Zm-12,3A5.31,5.31,0,0,0,4.9,8.1,5.31,5.31,0,0,0,1,6.5,5.31,5.31,0,0,0,4.9,4.9,5.31,5.31,0,0,0,6.5,1,5.31,5.31,0,0,0,8.1,4.9,5.31,5.31,0,0,0,12,6.5,5.46,5.46,0,0,0,6.5,12Z\"/>\n",
              "  </svg>\n",
              "    </button>\n",
              "    <script>\n",
              "      (() => {\n",
              "      const buttonEl =\n",
              "        document.querySelector('#id_b2899135-30d9-4d50-8be6-fef432c9cb63 button.colab-df-generate');\n",
              "      buttonEl.style.display =\n",
              "        google.colab.kernel.accessAllowed ? 'block' : 'none';\n",
              "\n",
              "      buttonEl.onclick = () => {\n",
              "        google.colab.notebook.generateWithVariable('sim_sum');\n",
              "      }\n",
              "      })();\n",
              "    </script>\n",
              "  </div>\n",
              "\n",
              "    </div>\n",
              "  </div>\n"
            ],
            "application/vnd.google.colaboratory.intrinsic+json": {
              "type": "dataframe",
              "variable_name": "sim_sum",
              "summary": "{\n  \"name\": \"sim_sum\",\n  \"rows\": 100,\n  \"fields\": [\n    {\n      \"column\": \"sim\",\n      \"properties\": {\n        \"dtype\": \"number\",\n        \"std\": 29,\n        \"min\": 1,\n        \"max\": 100,\n        \"num_unique_values\": 100,\n        \"samples\": [\n          84,\n          54,\n          71\n        ],\n        \"semantic_type\": \"\",\n        \"description\": \"\"\n      }\n    },\n    {\n      \"column\": \"xbar\",\n      \"properties\": {\n        \"dtype\": \"number\",\n        \"std\": 7.71909319611816,\n        \"min\": 27.28377020210856,\n        \"max\": 72.4583450302852,\n        \"num_unique_values\": 100,\n        \"samples\": [\n          53.750494458759974,\n          38.61763557041004,\n          43.62863039996863\n        ],\n        \"semantic_type\": \"\",\n        \"description\": \"\"\n      }\n    },\n    {\n      \"column\": \"s\",\n      \"properties\": {\n        \"dtype\": \"number\",\n        \"std\": 5.929163471205327,\n        \"min\": 4.917178509958366,\n        \"max\": 32.577526935882624,\n        \"num_unique_values\": 100,\n        \"samples\": [\n          22.41105121555053,\n          23.26364858790953,\n          12.471868771654837\n        ],\n        \"semantic_type\": \"\",\n        \"description\": \"\"\n      }\n    },\n    {\n      \"column\": \"se\",\n      \"properties\": {\n        \"dtype\": \"number\",\n        \"std\": 2.6516025142647455,\n        \"min\": 2.1990290811536064,\n        \"max\": 14.569112953492795,\n        \"num_unique_values\": 100,\n        \"samples\": [\n          10.022526793040054,\n          10.40381992944654,\n          5.577589275975403\n        ],\n        \"semantic_type\": \"\",\n        \"description\": \"\"\n      }\n    },\n    {\n      \"column\": \"n\",\n      \"properties\": {\n        \"dtype\": \"number\",\n        \"std\": 0,\n        \"min\": 5,\n        \"max\": 5,\n        \"num_unique_values\": 1,\n        \"samples\": [\n          5\n        ],\n        \"semantic_type\": \"\",\n        \"description\": \"\"\n      }\n    },\n    {\n      \"column\": \"L95\",\n      \"properties\": {\n        \"dtype\": \"number\",\n        \"std\": 10.936140893961689,\n        \"min\": -6.761545947546075,\n        \"max\": 66.35286150172865,\n        \"num_unique_values\": 100,\n        \"samples\": [\n          25.923499002510116\n        ],\n        \"semantic_type\": \"\",\n        \"description\": \"\"\n      }\n    },\n    {\n      \"column\": \"U95\",\n      \"properties\": {\n        \"dtype\": \"number\",\n        \"std\": 10.390792011682981,\n        \"min\": 43.0620608911303,\n        \"max\": 89.64091665616465,\n        \"num_unique_values\": 100,\n        \"samples\": [\n          81.57748991500982\n        ],\n        \"semantic_type\": \"\",\n        \"description\": \"\"\n      }\n    },\n    {\n      \"column\": \"mu_in_CI\",\n      \"properties\": {\n        \"dtype\": \"boolean\",\n        \"num_unique_values\": 2,\n        \"samples\": [\n          false\n        ],\n        \"semantic_type\": \"\",\n        \"description\": \"\"\n      }\n    },\n    {\n      \"column\": \"covers_mu\",\n      \"properties\": {\n        \"dtype\": \"boolean\",\n        \"num_unique_values\": 2,\n        \"samples\": [\n          false\n        ],\n        \"semantic_type\": \"\",\n        \"description\": \"\"\n      }\n    },\n    {\n      \"column\": \"color\",\n      \"properties\": {\n        \"dtype\": \"category\",\n        \"num_unique_values\": 2,\n        \"samples\": [\n          \"red\"\n        ],\n        \"semantic_type\": \"\",\n        \"description\": \"\"\n      }\n    }\n  ]\n}"
            }
          },
          "metadata": {},
          "execution_count": 134
        }
      ]
    },
    {
      "cell_type": "code",
      "source": [
        "# prompt: Plot a histogram of the sample means. Describe what shape it makes.\n",
        "\n",
        "(p9.ggplot(sim_sum, p9.aes(x='xbar'))\n",
        "+ p9.geom_histogram(colour = 'black', fill = 'coral', bins=15)\n",
        ")"
      ],
      "metadata": {
        "colab": {
          "base_uri": "https://localhost:8080/",
          "height": 514
        },
        "id": "kefP5R3-Ymzh",
        "outputId": "534f24d6-6e12-4d6b-d53f-c2dda7555c4c"
      },
      "execution_count": 89,
      "outputs": [
        {
          "output_type": "display_data",
          "data": {
            "text/plain": [
              "<Figure size 640x480 with 1 Axes>"
            ],
            "image/png": "[encoded data removed]"
          },
          "metadata": {
            "image/png": {
              "width": 640,
              "height": 480
            }
          }
        },
        {
          "output_type": "execute_result",
          "data": {
            "text/plain": [
              "<Figure Size: (640 x 480)>"
            ]
          },
          "metadata": {},
          "execution_count": 89
        }
      ]
    },
    {
      "cell_type": "markdown",
      "source": [
        "**Exercise:** Using `geom_pointrange()`, build a graph that shows the sample mean and 95% confidence intervals for each simulation\n",
        "\n",
        "\n",
        "**Answer:** Have not been able to make this work in Python, not sure why..."
      ],
      "metadata": {
        "id": "bgb1T2Djb9rZ"
      }
    },
    {
      "cell_type": "code",
      "source": [
        "# can't make this work in ggplot for some reason, resorting to matplotlib\n",
        "# I'm doing the rest of the workshop in this one cell\n",
        "import seaborn as sns\n",
        "import matplotlib.pyplot as plt\n",
        "\n",
        "# set up the coverage and color columns\n",
        "sim_sum['covers_mu'] = sim_sum.apply(lambda row: row['L95'] <= mu and row['U95'] >= mu, axis=1)\n",
        "sim_sum['color'] = ['blue' if x else 'red' for x in sim_sum['covers_mu']]\n",
        "\n",
        "# Create a figure and axes\n",
        "fig, ax = plt.subplots(figsize=(10, 6))\n",
        "\n",
        "# Plot the confidence intervals\n",
        "for i, row in sim_sum.iterrows():\n",
        "    ax.plot([i, i], [row[\"L95\"], row[\"U95\"]], color=row[\"color\"], linewidth=1)\n",
        "\n",
        "# Plot the sample means\n",
        "ax.plot(sim_sum.index, sim_sum[\"xbar\"], \"o\", color=\"black\", markersize=2)\n",
        "\n",
        "# Plot the population mean\n",
        "ax.axhline(y=45, color='r', linestyle='--')\n",
        "\n",
        "# Set the axis labels and title\n",
        "ax.set_xlabel(\"Simulation\")\n",
        "ax.set_ylabel(\"Age at Death\")\n",
        "ax.set_title(\"95% Confidence Intervals for the Mean Age at Death\")\n"
      ],
      "metadata": {
        "colab": {
          "base_uri": "https://localhost:8080/",
          "height": 1000
        },
        "id": "wHlGr1jcbszC",
        "outputId": "4e79d2ac-4c5d-4e57-801a-327dc3821c0a"
      },
      "execution_count": 136,
      "outputs": [
        {
          "output_type": "execute_result",
          "data": {
            "text/plain": [
              "[<matplotlib.lines.Line2D at 0x7bf1c2714610>]"
            ]
          },
          "metadata": {},
          "execution_count": 136
        },
        {
          "output_type": "execute_result",
          "data": {
            "text/plain": [
              "[<matplotlib.lines.Line2D at 0x7bf1c2717250>]"
            ]
          },
          "metadata": {},
          "execution_count": 136
        },
        {
          "output_type": "execute_result",
          "data": {
            "text/plain": [
              "[<matplotlib.lines.Line2D at 0x7bf1c2716ce0>]"
            ]
          },
          "metadata": {},
          "execution_count": 136
        },
        {
          "output_type": "execute_result",
          "data": {
            "text/plain": [
              "[<matplotlib.lines.Line2D at 0x7bf1c2714fd0>]"
            ]
          },
          "metadata": {},
          "execution_count": 136
        },
        {
          "output_type": "execute_result",
          "data": {
            "text/plain": [
              "[<matplotlib.lines.Line2D at 0x7bf1c2717e50>]"
            ]
          },
          "metadata": {},
          "execution_count": 136
        },
        {
          "output_type": "execute_result",
          "data": {
            "text/plain": [
              "[<matplotlib.lines.Line2D at 0x7bf1c27176d0>]"
            ]
          },
          "metadata": {},
          "execution_count": 136
        },
        {
          "output_type": "execute_result",
          "data": {
            "text/plain": [
              "[<matplotlib.lines.Line2D at 0x7bf1c2716980>]"
            ]
          },
          "metadata": {},
          "execution_count": 136
        },
        {
          "output_type": "execute_result",
          "data": {
            "text/plain": [
              "[<matplotlib.lines.Line2D at 0x7bf1c2714220>]"
            ]
          },
          "metadata": {},
          "execution_count": 136
        },
        {
          "output_type": "execute_result",
          "data": {
            "text/plain": [
              "[<matplotlib.lines.Line2D at 0x7bf1c2714250>]"
            ]
          },
          "metadata": {},
          "execution_count": 136
        },
        {
          "output_type": "execute_result",
          "data": {
            "text/plain": [
              "[<matplotlib.lines.Line2D at 0x7bf1c2770fd0>]"
            ]
          },
          "metadata": {},
          "execution_count": 136
        },
        {
          "output_type": "execute_result",
          "data": {
            "text/plain": [
              "[<matplotlib.lines.Line2D at 0x7bf1c2771960>]"
            ]
          },
          "metadata": {},
          "execution_count": 136
        },
        {
          "output_type": "execute_result",
          "data": {
            "text/plain": [
              "[<matplotlib.lines.Line2D at 0x7bf1c2771ae0>]"
            ]
          },
          "metadata": {},
          "execution_count": 136
        },
        {
          "output_type": "execute_result",
          "data": {
            "text/plain": [
              "[<matplotlib.lines.Line2D at 0x7bf1c2771c90>]"
            ]
          },
          "metadata": {},
          "execution_count": 136
        },
        {
          "output_type": "execute_result",
          "data": {
            "text/plain": [
              "[<matplotlib.lines.Line2D at 0x7bf1c2772a10>]"
            ]
          },
          "metadata": {},
          "execution_count": 136
        },
        {
          "output_type": "execute_result",
          "data": {
            "text/plain": [
              "[<matplotlib.lines.Line2D at 0x7bf1c27704c0>]"
            ]
          },
          "metadata": {},
          "execution_count": 136
        },
        {
          "output_type": "execute_result",
          "data": {
            "text/plain": [
              "[<matplotlib.lines.Line2D at 0x7bf1c2772d10>]"
            ]
          },
          "metadata": {},
          "execution_count": 136
        },
        {
          "output_type": "execute_result",
          "data": {
            "text/plain": [
              "[<matplotlib.lines.Line2D at 0x7bf1c2773ac0>]"
            ]
          },
          "metadata": {},
          "execution_count": 136
        },
        {
          "output_type": "execute_result",
          "data": {
            "text/plain": [
              "[<matplotlib.lines.Line2D at 0x7bf1c2771db0>]"
            ]
          },
          "metadata": {},
          "execution_count": 136
        },
        {
          "output_type": "execute_result",
          "data": {
            "text/plain": [
              "[<matplotlib.lines.Line2D at 0x7bf1c27706a0>]"
            ]
          },
          "metadata": {},
          "execution_count": 136
        },
        {
          "output_type": "execute_result",
          "data": {
            "text/plain": [
              "[<matplotlib.lines.Line2D at 0x7bf1c2770430>]"
            ]
          },
          "metadata": {},
          "execution_count": 136
        },
        {
          "output_type": "execute_result",
          "data": {
            "text/plain": [
              "[<matplotlib.lines.Line2D at 0x7bf1c2770880>]"
            ]
          },
          "metadata": {},
          "execution_count": 136
        },
        {
          "output_type": "execute_result",
          "data": {
            "text/plain": [
              "[<matplotlib.lines.Line2D at 0x7bf1c27715a0>]"
            ]
          },
          "metadata": {},
          "execution_count": 136
        },
        {
          "output_type": "execute_result",
          "data": {
            "text/plain": [
              "[<matplotlib.lines.Line2D at 0x7bf1c2773e50>]"
            ]
          },
          "metadata": {},
          "execution_count": 136
        },
        {
          "output_type": "execute_result",
          "data": {
            "text/plain": [
              "[<matplotlib.lines.Line2D at 0x7bf1c2771ab0>]"
            ]
          },
          "metadata": {},
          "execution_count": 136
        },
        {
          "output_type": "execute_result",
          "data": {
            "text/plain": [
              "[<matplotlib.lines.Line2D at 0x7bf1c2771a50>]"
            ]
          },
          "metadata": {},
          "execution_count": 136
        },
        {
          "output_type": "execute_result",
          "data": {
            "text/plain": [
              "[<matplotlib.lines.Line2D at 0x7bf1c2770970>]"
            ]
          },
          "metadata": {},
          "execution_count": 136
        },
        {
          "output_type": "execute_result",
          "data": {
            "text/plain": [
              "[<matplotlib.lines.Line2D at 0x7bf1c2771ba0>]"
            ]
          },
          "metadata": {},
          "execution_count": 136
        },
        {
          "output_type": "execute_result",
          "data": {
            "text/plain": [
              "[<matplotlib.lines.Line2D at 0x7bf1c2772e60>]"
            ]
          },
          "metadata": {},
          "execution_count": 136
        },
        {
          "output_type": "execute_result",
          "data": {
            "text/plain": [
              "[<matplotlib.lines.Line2D at 0x7bf1c2773e20>]"
            ]
          },
          "metadata": {},
          "execution_count": 136
        },
        {
          "output_type": "execute_result",
          "data": {
            "text/plain": [
              "[<matplotlib.lines.Line2D at 0x7bf1c2773d60>]"
            ]
          },
          "metadata": {},
          "execution_count": 136
        },
        {
          "output_type": "execute_result",
          "data": {
            "text/plain": [
              "[<matplotlib.lines.Line2D at 0x7bf1c2772f80>]"
            ]
          },
          "metadata": {},
          "execution_count": 136
        },
        {
          "output_type": "execute_result",
          "data": {
            "text/plain": [
              "[<matplotlib.lines.Line2D at 0x7bf1c87f5c60>]"
            ]
          },
          "metadata": {},
          "execution_count": 136
        },
        {
          "output_type": "execute_result",
          "data": {
            "text/plain": [
              "[<matplotlib.lines.Line2D at 0x7bf1c87f7550>]"
            ]
          },
          "metadata": {},
          "execution_count": 136
        },
        {
          "output_type": "execute_result",
          "data": {
            "text/plain": [
              "[<matplotlib.lines.Line2D at 0x7bf1c87f7250>]"
            ]
          },
          "metadata": {},
          "execution_count": 136
        },
        {
          "output_type": "execute_result",
          "data": {
            "text/plain": [
              "[<matplotlib.lines.Line2D at 0x7bf1c87f7cd0>]"
            ]
          },
          "metadata": {},
          "execution_count": 136
        },
        {
          "output_type": "execute_result",
          "data": {
            "text/plain": [
              "[<matplotlib.lines.Line2D at 0x7bf1c87f4ee0>]"
            ]
          },
          "metadata": {},
          "execution_count": 136
        },
        {
          "output_type": "execute_result",
          "data": {
            "text/plain": [
              "[<matplotlib.lines.Line2D at 0x7bf1c87f4400>]"
            ]
          },
          "metadata": {},
          "execution_count": 136
        },
        {
          "output_type": "execute_result",
          "data": {
            "text/plain": [
              "[<matplotlib.lines.Line2D at 0x7bf1c87f6a10>]"
            ]
          },
          "metadata": {},
          "execution_count": 136
        },
        {
          "output_type": "execute_result",
          "data": {
            "text/plain": [
              "[<matplotlib.lines.Line2D at 0x7bf1cef522f0>]"
            ]
          },
          "metadata": {},
          "execution_count": 136
        },
        {
          "output_type": "execute_result",
          "data": {
            "text/plain": [
              "[<matplotlib.lines.Line2D at 0x7bf1cef52bf0>]"
            ]
          },
          "metadata": {},
          "execution_count": 136
        },
        {
          "output_type": "execute_result",
          "data": {
            "text/plain": [
              "[<matplotlib.lines.Line2D at 0x7bf1cef51c90>]"
            ]
          },
          "metadata": {},
          "execution_count": 136
        },
        {
          "output_type": "execute_result",
          "data": {
            "text/plain": [
              "[<matplotlib.lines.Line2D at 0x7bf1cef51ab0>]"
            ]
          },
          "metadata": {},
          "execution_count": 136
        },
        {
          "output_type": "execute_result",
          "data": {
            "text/plain": [
              "[<matplotlib.lines.Line2D at 0x7bf1c9840100>]"
            ]
          },
          "metadata": {},
          "execution_count": 136
        },
        {
          "output_type": "execute_result",
          "data": {
            "text/plain": [
              "[<matplotlib.lines.Line2D at 0x7bf1cac97580>]"
            ]
          },
          "metadata": {},
          "execution_count": 136
        },
        {
          "output_type": "execute_result",
          "data": {
            "text/plain": [
              "[<matplotlib.lines.Line2D at 0x7bf1cac96a40>]"
            ]
          },
          "metadata": {},
          "execution_count": 136
        },
        {
          "output_type": "execute_result",
          "data": {
            "text/plain": [
              "[<matplotlib.lines.Line2D at 0x7bf1ccd5f2e0>]"
            ]
          },
          "metadata": {},
          "execution_count": 136
        },
        {
          "output_type": "execute_result",
          "data": {
            "text/plain": [
              "[<matplotlib.lines.Line2D at 0x7bf1ccd5fa00>]"
            ]
          },
          "metadata": {},
          "execution_count": 136
        },
        {
          "output_type": "execute_result",
          "data": {
            "text/plain": [
              "[<matplotlib.lines.Line2D at 0x7bf1ccd5c790>]"
            ]
          },
          "metadata": {},
          "execution_count": 136
        },
        {
          "output_type": "execute_result",
          "data": {
            "text/plain": [
              "[<matplotlib.lines.Line2D at 0x7bf1ccd5ce80>]"
            ]
          },
          "metadata": {},
          "execution_count": 136
        },
        {
          "output_type": "execute_result",
          "data": {
            "text/plain": [
              "[<matplotlib.lines.Line2D at 0x7bf1ccd5f160>]"
            ]
          },
          "metadata": {},
          "execution_count": 136
        },
        {
          "output_type": "execute_result",
          "data": {
            "text/plain": [
              "[<matplotlib.lines.Line2D at 0x7bf1ccd5d600>]"
            ]
          },
          "metadata": {},
          "execution_count": 136
        },
        {
          "output_type": "execute_result",
          "data": {
            "text/plain": [
              "[<matplotlib.lines.Line2D at 0x7bf1ccd5fdc0>]"
            ]
          },
          "metadata": {},
          "execution_count": 136
        },
        {
          "output_type": "execute_result",
          "data": {
            "text/plain": [
              "[<matplotlib.lines.Line2D at 0x7bf1ccd5d270>]"
            ]
          },
          "metadata": {},
          "execution_count": 136
        },
        {
          "output_type": "execute_result",
          "data": {
            "text/plain": [
              "[<matplotlib.lines.Line2D at 0x7bf1cef513c0>]"
            ]
          },
          "metadata": {},
          "execution_count": 136
        },
        {
          "output_type": "execute_result",
          "data": {
            "text/plain": [
              "[<matplotlib.lines.Line2D at 0x7bf1c97ee9e0>]"
            ]
          },
          "metadata": {},
          "execution_count": 136
        },
        {
          "output_type": "execute_result",
          "data": {
            "text/plain": [
              "[<matplotlib.lines.Line2D at 0x7bf1cae39150>]"
            ]
          },
          "metadata": {},
          "execution_count": 136
        },
        {
          "output_type": "execute_result",
          "data": {
            "text/plain": [
              "[<matplotlib.lines.Line2D at 0x7bf1cae38700>]"
            ]
          },
          "metadata": {},
          "execution_count": 136
        },
        {
          "output_type": "execute_result",
          "data": {
            "text/plain": [
              "[<matplotlib.lines.Line2D at 0x7bf1cae3a260>]"
            ]
          },
          "metadata": {},
          "execution_count": 136
        },
        {
          "output_type": "execute_result",
          "data": {
            "text/plain": [
              "[<matplotlib.lines.Line2D at 0x7bf1cae59a80>]"
            ]
          },
          "metadata": {},
          "execution_count": 136
        },
        {
          "output_type": "execute_result",
          "data": {
            "text/plain": [
              "[<matplotlib.lines.Line2D at 0x7bf1cae59120>]"
            ]
          },
          "metadata": {},
          "execution_count": 136
        },
        {
          "output_type": "execute_result",
          "data": {
            "text/plain": [
              "[<matplotlib.lines.Line2D at 0x7bf1cae59180>]"
            ]
          },
          "metadata": {},
          "execution_count": 136
        },
        {
          "output_type": "execute_result",
          "data": {
            "text/plain": [
              "[<matplotlib.lines.Line2D at 0x7bf1cae6eb90>]"
            ]
          },
          "metadata": {},
          "execution_count": 136
        },
        {
          "output_type": "execute_result",
          "data": {
            "text/plain": [
              "[<matplotlib.lines.Line2D at 0x7bf1cae6fb80>]"
            ]
          },
          "metadata": {},
          "execution_count": 136
        },
        {
          "output_type": "execute_result",
          "data": {
            "text/plain": [
              "[<matplotlib.lines.Line2D at 0x7bf1cae6d090>]"
            ]
          },
          "metadata": {},
          "execution_count": 136
        },
        {
          "output_type": "execute_result",
          "data": {
            "text/plain": [
              "[<matplotlib.lines.Line2D at 0x7bf1ccac17b0>]"
            ]
          },
          "metadata": {},
          "execution_count": 136
        },
        {
          "output_type": "execute_result",
          "data": {
            "text/plain": [
              "[<matplotlib.lines.Line2D at 0x7bf1cf17c910>]"
            ]
          },
          "metadata": {},
          "execution_count": 136
        },
        {
          "output_type": "execute_result",
          "data": {
            "text/plain": [
              "[<matplotlib.lines.Line2D at 0x7bf1cf113040>]"
            ]
          },
          "metadata": {},
          "execution_count": 136
        },
        {
          "output_type": "execute_result",
          "data": {
            "text/plain": [
              "[<matplotlib.lines.Line2D at 0x7bf1cf1108e0>]"
            ]
          },
          "metadata": {},
          "execution_count": 136
        },
        {
          "output_type": "execute_result",
          "data": {
            "text/plain": [
              "[<matplotlib.lines.Line2D at 0x7bf1cf0e2530>]"
            ]
          },
          "metadata": {},
          "execution_count": 136
        },
        {
          "output_type": "execute_result",
          "data": {
            "text/plain": [
              "[<matplotlib.lines.Line2D at 0x7bf1cf0e1510>]"
            ]
          },
          "metadata": {},
          "execution_count": 136
        },
        {
          "output_type": "execute_result",
          "data": {
            "text/plain": [
              "[<matplotlib.lines.Line2D at 0x7bf1cf0e1690>]"
            ]
          },
          "metadata": {},
          "execution_count": 136
        },
        {
          "output_type": "execute_result",
          "data": {
            "text/plain": [
              "[<matplotlib.lines.Line2D at 0x7bf1cf0e03d0>]"
            ]
          },
          "metadata": {},
          "execution_count": 136
        },
        {
          "output_type": "execute_result",
          "data": {
            "text/plain": [
              "[<matplotlib.lines.Line2D at 0x7bf1ccbddae0>]"
            ]
          },
          "metadata": {},
          "execution_count": 136
        },
        {
          "output_type": "execute_result",
          "data": {
            "text/plain": [
              "[<matplotlib.lines.Line2D at 0x7bf1ccbdf730>]"
            ]
          },
          "metadata": {},
          "execution_count": 136
        },
        {
          "output_type": "execute_result",
          "data": {
            "text/plain": [
              "[<matplotlib.lines.Line2D at 0x7bf1ccbdc5e0>]"
            ]
          },
          "metadata": {},
          "execution_count": 136
        },
        {
          "output_type": "execute_result",
          "data": {
            "text/plain": [
              "[<matplotlib.lines.Line2D at 0x7bf1ccbdf130>]"
            ]
          },
          "metadata": {},
          "execution_count": 136
        },
        {
          "output_type": "execute_result",
          "data": {
            "text/plain": [
              "[<matplotlib.lines.Line2D at 0x7bf1ccbb1d20>]"
            ]
          },
          "metadata": {},
          "execution_count": 136
        },
        {
          "output_type": "execute_result",
          "data": {
            "text/plain": [
              "[<matplotlib.lines.Line2D at 0x7bf1cccb5840>]"
            ]
          },
          "metadata": {},
          "execution_count": 136
        },
        {
          "output_type": "execute_result",
          "data": {
            "text/plain": [
              "[<matplotlib.lines.Line2D at 0x7bf1cccb4d60>]"
            ]
          },
          "metadata": {},
          "execution_count": 136
        },
        {
          "output_type": "execute_result",
          "data": {
            "text/plain": [
              "[<matplotlib.lines.Line2D at 0x7bf1cccb4ca0>]"
            ]
          },
          "metadata": {},
          "execution_count": 136
        },
        {
          "output_type": "execute_result",
          "data": {
            "text/plain": [
              "[<matplotlib.lines.Line2D at 0x7bf1cccb5210>]"
            ]
          },
          "metadata": {},
          "execution_count": 136
        },
        {
          "output_type": "execute_result",
          "data": {
            "text/plain": [
              "[<matplotlib.lines.Line2D at 0x7bf1ceec98a0>]"
            ]
          },
          "metadata": {},
          "execution_count": 136
        },
        {
          "output_type": "execute_result",
          "data": {
            "text/plain": [
              "[<matplotlib.lines.Line2D at 0x7bf1ceecb490>]"
            ]
          },
          "metadata": {},
          "execution_count": 136
        },
        {
          "output_type": "execute_result",
          "data": {
            "text/plain": [
              "[<matplotlib.lines.Line2D at 0x7bf1ceec8880>]"
            ]
          },
          "metadata": {},
          "execution_count": 136
        },
        {
          "output_type": "execute_result",
          "data": {
            "text/plain": [
              "[<matplotlib.lines.Line2D at 0x7bf1c8a0ec50>]"
            ]
          },
          "metadata": {},
          "execution_count": 136
        },
        {
          "output_type": "execute_result",
          "data": {
            "text/plain": [
              "[<matplotlib.lines.Line2D at 0x7bf1c8a0dc60>]"
            ]
          },
          "metadata": {},
          "execution_count": 136
        },
        {
          "output_type": "execute_result",
          "data": {
            "text/plain": [
              "[<matplotlib.lines.Line2D at 0x7bf1c8a0e200>]"
            ]
          },
          "metadata": {},
          "execution_count": 136
        },
        {
          "output_type": "execute_result",
          "data": {
            "text/plain": [
              "[<matplotlib.lines.Line2D at 0x7bf1c8a0c2e0>]"
            ]
          },
          "metadata": {},
          "execution_count": 136
        },
        {
          "output_type": "execute_result",
          "data": {
            "text/plain": [
              "[<matplotlib.lines.Line2D at 0x7bf1c8a0fd30>]"
            ]
          },
          "metadata": {},
          "execution_count": 136
        },
        {
          "output_type": "execute_result",
          "data": {
            "text/plain": [
              "[<matplotlib.lines.Line2D at 0x7bf1ccd2a800>]"
            ]
          },
          "metadata": {},
          "execution_count": 136
        },
        {
          "output_type": "execute_result",
          "data": {
            "text/plain": [
              "[<matplotlib.lines.Line2D at 0x7bf1c8620e50>]"
            ]
          },
          "metadata": {},
          "execution_count": 136
        },
        {
          "output_type": "execute_result",
          "data": {
            "text/plain": [
              "[<matplotlib.lines.Line2D at 0x7bf1c8620070>]"
            ]
          },
          "metadata": {},
          "execution_count": 136
        },
        {
          "output_type": "execute_result",
          "data": {
            "text/plain": [
              "[<matplotlib.lines.Line2D at 0x7bf1c8620d30>]"
            ]
          },
          "metadata": {},
          "execution_count": 136
        },
        {
          "output_type": "execute_result",
          "data": {
            "text/plain": [
              "[<matplotlib.lines.Line2D at 0x7bf1c88a1ff0>]"
            ]
          },
          "metadata": {},
          "execution_count": 136
        },
        {
          "output_type": "execute_result",
          "data": {
            "text/plain": [
              "[<matplotlib.lines.Line2D at 0x7bf1c88a1930>]"
            ]
          },
          "metadata": {},
          "execution_count": 136
        },
        {
          "output_type": "execute_result",
          "data": {
            "text/plain": [
              "[<matplotlib.lines.Line2D at 0x7bf1c88a2200>]"
            ]
          },
          "metadata": {},
          "execution_count": 136
        },
        {
          "output_type": "execute_result",
          "data": {
            "text/plain": [
              "[<matplotlib.lines.Line2D at 0x7bf1c88a27d0>]"
            ]
          },
          "metadata": {},
          "execution_count": 136
        },
        {
          "output_type": "execute_result",
          "data": {
            "text/plain": [
              "[<matplotlib.lines.Line2D at 0x7bf1c88a28f0>]"
            ]
          },
          "metadata": {},
          "execution_count": 136
        },
        {
          "output_type": "execute_result",
          "data": {
            "text/plain": [
              "[<matplotlib.lines.Line2D at 0x7bf1c88a3790>]"
            ]
          },
          "metadata": {},
          "execution_count": 136
        },
        {
          "output_type": "execute_result",
          "data": {
            "text/plain": [
              "[<matplotlib.lines.Line2D at 0x7bf1c88a3a60>]"
            ]
          },
          "metadata": {},
          "execution_count": 136
        },
        {
          "output_type": "execute_result",
          "data": {
            "text/plain": [
              "[<matplotlib.lines.Line2D at 0x7bf1c88c5a20>]"
            ]
          },
          "metadata": {},
          "execution_count": 136
        },
        {
          "output_type": "execute_result",
          "data": {
            "text/plain": [
              "<matplotlib.lines.Line2D at 0x7bf1c27ca2c0>"
            ]
          },
          "metadata": {},
          "execution_count": 136
        },
        {
          "output_type": "execute_result",
          "data": {
            "text/plain": [
              "Text(0.5, 0, 'Simulation')"
            ]
          },
          "metadata": {},
          "execution_count": 136
        },
        {
          "output_type": "execute_result",
          "data": {
            "text/plain": [
              "Text(0, 0.5, 'Age at Death')"
            ]
          },
          "metadata": {},
          "execution_count": 136
        },
        {
          "output_type": "execute_result",
          "data": {
            "text/plain": [
              "Text(0.5, 1.0, '95% Confidence Intervals for the Mean Age at Death')"
            ]
          },
          "metadata": {},
          "execution_count": 136
        },
        {
          "output_type": "display_data",
          "data": {
            "text/plain": [
              "<Figure size 1000x600 with 1 Axes>"
            ],
            "image/png": "[encoded data removed]"
          },
          "metadata": {
            "image/png": {
              "width": 1000,
              "height": 600
            }
          }
        }
      ]
    },
    {
      "cell_type": "code",
      "source": [
        "ggplot(data = simSum, aes(x = sim)) +\n",
        "  geom_pointrange(aes(\n",
        "    ymin = L,\n",
        "    ymax = U,\n",
        "    y = xbar\n",
        "  ))"
      ],
      "metadata": {
        "id": "NrL3B_btb-J4",
        "colab": {
          "base_uri": "https://localhost:8080/",
          "height": 257
        },
        "outputId": "4eda219f-2770-4b96-fe6c-fffefdc4741e"
      },
      "execution_count": null,
      "outputs": [
        {
          "output_type": "display_data",
          "data": {
            "text/plain": [
              "plot without title"
            ],
            "image/png": "[encoded data removed]"
          },
          "metadata": {
            "image/png": {
              "width": 720,
              "height": 240
            }
          }
        }
      ]
    },
    {
      "cell_type": "markdown",
      "source": [
        "**Exercise:** To help us identify whether the confidence intervals contain the known, true value of $\\mu$ let's determine for each simulation whether $L < \\mu < U$. **NB:** We are not calculating whether $L < \\overline{x} < U$\n",
        "\n",
        "```{r eval=FALSE}\n",
        "... <- mutate(..., mu_inside_CI = (L < mu) & (mu < U))\n",
        "```\n",
        "\n",
        "**Answer:**\n"
      ],
      "metadata": {
        "id": "o8hTAr6McAf-"
      }
    },
    {
      "cell_type": "code",
      "source": [
        "simSum <- mutate(simSum, mu_inside_CI = (L < mu) & (mu < U))\n",
        "head(simSum)"
      ],
      "metadata": {
        "id": "Tc86steLcA2i",
        "colab": {
          "base_uri": "https://localhost:8080/",
          "height": 286
        },
        "outputId": "cf2993a9-dc2f-4b6e-dd8a-6a3830a33e68"
      },
      "execution_count": null,
      "outputs": [
        {
          "output_type": "display_data",
          "data": {
            "text/html": [
              "<table class=\"dataframe\">\n",
              "<caption>A tibble: 6 × 8</caption>\n",
              "<thead>\n",
              "\t<tr><th scope=col>sim</th><th scope=col>xbar</th><th scope=col>s</th><th scope=col>se</th><th scope=col>n</th><th scope=col>L</th><th scope=col>U</th><th scope=col>mu_inside_CI</th></tr>\n",
              "\t<tr><th scope=col>&lt;int&gt;</th><th scope=col>&lt;dbl&gt;</th><th scope=col>&lt;dbl&gt;</th><th scope=col>&lt;dbl&gt;</th><th scope=col>&lt;int&gt;</th><th scope=col>&lt;dbl&gt;</th><th scope=col>&lt;dbl&gt;</th><th scope=col>&lt;lgl&gt;</th></tr>\n",
              "</thead>\n",
              "<tbody>\n",
              "\t<tr><td>1</td><td>36.32305</td><td>20.64314</td><td> 9.231891</td><td>5</td><td>10.69122</td><td>61.95489</td><td>TRUE</td></tr>\n",
              "\t<tr><td>2</td><td>45.43099</td><td>13.42150</td><td> 6.002279</td><td>5</td><td>28.76599</td><td>62.09599</td><td>TRUE</td></tr>\n",
              "\t<tr><td>3</td><td>57.75737</td><td>25.56495</td><td>11.432991</td><td>5</td><td>26.01430</td><td>89.50044</td><td>TRUE</td></tr>\n",
              "\t<tr><td>4</td><td>47.52408</td><td>19.56327</td><td> 8.748962</td><td>5</td><td>23.23307</td><td>71.81509</td><td>TRUE</td></tr>\n",
              "\t<tr><td>5</td><td>46.48338</td><td>21.80611</td><td> 9.751987</td><td>5</td><td>19.40753</td><td>73.55924</td><td>TRUE</td></tr>\n",
              "\t<tr><td>6</td><td>60.62951</td><td>25.55370</td><td>11.427961</td><td>5</td><td>28.90040</td><td>92.35862</td><td>TRUE</td></tr>\n",
              "</tbody>\n",
              "</table>\n"
            ],
            "text/markdown": "\nA tibble: 6 × 8\n\n| sim &lt;int&gt; | xbar &lt;dbl&gt; | s &lt;dbl&gt; | se &lt;dbl&gt; | n &lt;int&gt; | L &lt;dbl&gt; | U &lt;dbl&gt; | mu_inside_CI &lt;lgl&gt; |\n|---|---|---|---|---|---|---|---|\n| 1 | 36.32305 | 20.64314 |  9.231891 | 5 | 10.69122 | 61.95489 | TRUE |\n| 2 | 45.43099 | 13.42150 |  6.002279 | 5 | 28.76599 | 62.09599 | TRUE |\n| 3 | 57.75737 | 25.56495 | 11.432991 | 5 | 26.01430 | 89.50044 | TRUE |\n| 4 | 47.52408 | 19.56327 |  8.748962 | 5 | 23.23307 | 71.81509 | TRUE |\n| 5 | 46.48338 | 21.80611 |  9.751987 | 5 | 19.40753 | 73.55924 | TRUE |\n| 6 | 60.62951 | 25.55370 | 11.427961 | 5 | 28.90040 | 92.35862 | TRUE |\n\n",
            "text/latex": "A tibble: 6 × 8\n\\begin{tabular}{llllllll}\n sim & xbar & s & se & n & L & U & mu\\_inside\\_CI\\\\\n <int> & <dbl> & <dbl> & <dbl> & <int> & <dbl> & <dbl> & <lgl>\\\\\n\\hline\n\t 1 & 36.32305 & 20.64314 &  9.231891 & 5 & 10.69122 & 61.95489 & TRUE\\\\\n\t 2 & 45.43099 & 13.42150 &  6.002279 & 5 & 28.76599 & 62.09599 & TRUE\\\\\n\t 3 & 57.75737 & 25.56495 & 11.432991 & 5 & 26.01430 & 89.50044 & TRUE\\\\\n\t 4 & 47.52408 & 19.56327 &  8.748962 & 5 & 23.23307 & 71.81509 & TRUE\\\\\n\t 5 & 46.48338 & 21.80611 &  9.751987 & 5 & 19.40753 & 73.55924 & TRUE\\\\\n\t 6 & 60.62951 & 25.55370 & 11.427961 & 5 & 28.90040 & 92.35862 & TRUE\\\\\n\\end{tabular}\n",
            "text/plain": [
              "  sim xbar     s        se        n L        U        mu_inside_CI\n",
              "1 1   36.32305 20.64314  9.231891 5 10.69122 61.95489 TRUE        \n",
              "2 2   45.43099 13.42150  6.002279 5 28.76599 62.09599 TRUE        \n",
              "3 3   57.75737 25.56495 11.432991 5 26.01430 89.50044 TRUE        \n",
              "4 4   47.52408 19.56327  8.748962 5 23.23307 71.81509 TRUE        \n",
              "5 5   46.48338 21.80611  9.751987 5 19.40753 73.55924 TRUE        \n",
              "6 6   60.62951 25.55370 11.427961 5 28.90040 92.35862 TRUE        "
            ]
          },
          "metadata": {}
        }
      ]
    },
    {
      "cell_type": "markdown",
      "source": [
        "**Exercise:** Let's now build a graph that shows the 95% confidence intervals, coloured by whether or not $\\mu$ is inside the CI, with a horizontal line at 45 to indicate the true population mean.\n",
        "\n",
        "**Answer:**"
      ],
      "metadata": {
        "id": "JCmv-nwTcDIB"
      }
    },
    {
      "cell_type": "code",
      "source": [
        "ggplot(data = simSum, aes(x = sim)) +\n",
        "  geom_pointrange(aes(\n",
        "    ymin = L,\n",
        "    ymax = U,\n",
        "    y = xbar,\n",
        "    colour = mu_inside_CI\n",
        "  ))"
      ],
      "metadata": {
        "id": "F--7JRDNcDxc",
        "colab": {
          "base_uri": "https://localhost:8080/",
          "height": 257
        },
        "outputId": "a2f0bd23-eb93-458c-8f84-89a62148527a"
      },
      "execution_count": null,
      "outputs": [
        {
          "output_type": "display_data",
          "data": {
            "text/plain": [
              "plot without title"
            ],
            "image/png": "[encoded data removed]"
          },
          "metadata": {
            "image/png": {
              "width": 720,
              "height": 240
            }
          }
        }
      ]
    },
    {
      "cell_type": "markdown",
      "source": [
        "**Exercise:** Count how many times $\\mu$ is contained within the CI. Is this close to what we expect to see?\n",
        "\n",
        "**Answer:** got 6, expecting around 5"
      ],
      "metadata": {
        "id": "JHwHz5G5cGLT"
      }
    },
    {
      "cell_type": "code",
      "source": [
        "# prompt: add a horizontal line to the above plot at y=45\n",
        "\n",
        "ggplot(data = simSum, aes(x = sim)) +\n",
        "  geom_pointrange(aes(\n",
        "    ymin = L,\n",
        "    ymax = U,\n",
        "    y = xbar,\n",
        "    colour = mu_inside_CI\n",
        "  )) +\n",
        "  geom_hline(yintercept = 45, colour = \"red\")\n"
      ],
      "metadata": {
        "id": "NFkCA1U2cGfN",
        "colab": {
          "base_uri": "https://localhost:8080/",
          "height": 257
        },
        "outputId": "3720d6a3-a880-4afe-a5d3-48e5bb589e17"
      },
      "execution_count": null,
      "outputs": [
        {
          "output_type": "display_data",
          "data": {
            "text/plain": [
              "plot without title"
            ],
            "image/png": "[encoded data removed]"
          },
          "metadata": {
            "image/png": {
              "width": 720,
              "height": 240
            }
          }
        }
      ]
    },
    {
      "cell_type": "code",
      "source": [
        "# Can run this cell to generate these results again for a different distribution and count of covered intervals\n",
        "# parameter definition\n",
        "mu=45\n",
        "sigma=20\n",
        "\n",
        "# grid definition\n",
        "n_sims <- 100\n",
        "n_deaths <- 5\n",
        "\n",
        "# grid generation\n",
        "sim_data <- expand.grid(\n",
        "  death = 1:n_deaths,\n",
        "  sim = 1:n_sims\n",
        ")\n",
        "\n",
        "# data / random value generation\n",
        "sim_data <- mutate(sim_data,\n",
        "  Age = rnorm(\n",
        "    n = n_deaths * n_sims,\n",
        "    mean = mu,\n",
        "    sd = sigma\n",
        "  )\n",
        ")\n",
        "\n",
        "sim_data <- group_by(sim_data, sim)\n",
        "simSum <- summarise(sim_data, xbar = mean(Age), s = sd(Age), se = std.error(Age), n = n() )\n",
        "simSum <- mutate(simSum, L = xbar + qt(p = 0.025, df = n-1)*se,\n",
        "                 U = xbar + qt(p = 0.975, df = n-1)*se)\n",
        "simSum <- mutate(simSum, mu_inside_CI = (L < mu) & (mu < U))\n",
        "\n",
        "ggplot(data = simSum, aes(x = xbar)) +\n",
        "  geom_histogram(colour = 'black', fill = 'coral', bins=15)\n",
        "\n",
        "ggplot(data = simSum, aes(x = sim)) +\n",
        "  geom_pointrange(aes(\n",
        "    ymin = L,\n",
        "    ymax = U,\n",
        "    y = xbar,\n",
        "    colour = mu_inside_CI\n",
        "  )) +\n",
        "  geom_hline(yintercept = 45, colour = \"red\")"
      ],
      "metadata": {
        "id": "VfksAPyhbrpf",
        "colab": {
          "base_uri": "https://localhost:8080/",
          "height": 497
        },
        "outputId": "ffe4b5ad-23b1-4f5e-cda9-1ce311b46589"
      },
      "execution_count": null,
      "outputs": [
        {
          "output_type": "display_data",
          "data": {
            "text/plain": [
              "plot without title"
            ],
            "image/png": "[encoded data removed]"
          },
          "metadata": {
            "image/png": {
              "width": 720,
              "height": 240
            }
          }
        },
        {
          "output_type": "display_data",
          "data": {
            "text/plain": [
              "plot without title"
            ],
            "image/png": "[encoded data removed]"
          },
          "metadata": {
            "image/png": {
              "width": 720,
              "height": 240
            }
          }
        }
      ]
    },
    {
      "cell_type": "code",
      "source": [],
      "metadata": {
        "id": "mb2wBGSmTFYV"
      },
      "execution_count": null,
      "outputs": []
    }
  ]
}