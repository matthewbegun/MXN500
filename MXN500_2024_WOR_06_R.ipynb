{
  "nbformat": 4,
  "nbformat_minor": 0,
  "metadata": {
    "colab": {
      "provenance": [],
      "authorship_tag": "ABX9TyP2iQge90HK3kmsh2bmqRwq",
      "include_colab_link": true
    },
    "kernelspec": {
      "name": "ir",
      "display_name": "R"
    },
    "language_info": {
      "name": "R"
    }
  },
  "cells": [
    {
      "cell_type": "markdown",
      "metadata": {
        "id": "view-in-github",
        "colab_type": "text"
      },
      "source": [
        "<a href=\"https://colab.research.google.com/github/matthewbegun/MXN500/blob/main/MXN500_2024_WOR_06_R.ipynb\" target=\"_parent\"><img src=\"https://colab.research.google.com/assets/colab-badge.svg\" alt=\"Open In Colab\"/></a>"
      ]
    },
    {
      "cell_type": "markdown",
      "source": [
        "# Introduction\n"
      ],
      "metadata": {
        "id": "X-rrdM9e_11s"
      }
    },
    {
      "cell_type": "markdown",
      "source": [
        "## About this workshop\n",
        "\n",
        "This week we will be revisiting the use of the Normal distribution as a tool for simulation. We will look at calculating confidence intervals and performing $t$ tests as a way of characterising uncertainty in experimental data. This requires the use of the $t$ distribution, a continuous distribution which looks a little like the normal distribution but has heavier tails. The $t$ distribution has one parameter, $\\nu$, the \"degrees of freedom\".\n",
        "\n",
        "* Assumed skills\n",
        "    - Manipulating data objects\n",
        "    - Calculating and interpreting summary statistics\n",
        "    - Writing and executing functions\n",
        "    - Visualising results with ggplot2\n",
        "* Learning objectives\n",
        "    - Performing a hypothesis test\n",
        "    - Interpreting a hypothesis test\n",
        "    - Simulation\n",
        "* Professional skills\n",
        "    - Visualising results\n",
        "    - Interpreting a hypothesis test\n",
        "\n",
        "A reminder of expectations in the workshop:\n",
        "\n",
        "* Keep a record of the work being completed\n",
        "* Allow everyone a chance to participate in the workshop\n",
        "* All opinions are valued provided they do not harm others\n",
        "* Everyone is expected to help out with completing the work, learning seldom occurs by watching someone else do maths\n",
        "* Shuffle the group around so that someone different is writing the code"
      ],
      "metadata": {
        "id": "aT4fYm67IoFY"
      }
    },
    {
      "cell_type": "markdown",
      "source": [
        "## Set up environment\n"
      ],
      "metadata": {
        "id": "dPfvMgIFCiXC"
      }
    },
    {
      "cell_type": "markdown",
      "source": [
        "### Package management\n",
        "\n"
      ],
      "metadata": {
        "id": "w8gZxxoiefga"
      }
    },
    {
      "cell_type": "code",
      "source": [
        "# Installs - only run once\n",
        "# Always going to need tidyverse\n",
        "if (!require(tidyverse)) {\n",
        "  install.packages(\"tidyverse\")\n",
        "}\n",
        "\n",
        "# plotrix\n",
        "if (!require(plotrix)) {\n",
        "  install.packages(\"plotrix\")\n",
        "}"
      ],
      "metadata": {
        "id": "HbmoD89lCoPC",
        "colab": {
          "base_uri": "https://localhost:8080/"
        },
        "outputId": "c90140df-a265-49e0-ec22-9e8ae47cddde"
      },
      "execution_count": 1,
      "outputs": [
        {
          "output_type": "stream",
          "name": "stderr",
          "text": [
            "Loading required package: tidyverse\n",
            "\n",
            "── \u001b[1mAttaching core tidyverse packages\u001b[22m ──────────────────────── tidyverse 2.0.0 ──\n",
            "\u001b[32m✔\u001b[39m \u001b[34mdplyr    \u001b[39m 1.1.4     \u001b[32m✔\u001b[39m \u001b[34mreadr    \u001b[39m 2.1.5\n",
            "\u001b[32m✔\u001b[39m \u001b[34mforcats  \u001b[39m 1.0.0     \u001b[32m✔\u001b[39m \u001b[34mstringr  \u001b[39m 1.5.1\n",
            "\u001b[32m✔\u001b[39m \u001b[34mggplot2  \u001b[39m 3.4.4     \u001b[32m✔\u001b[39m \u001b[34mtibble   \u001b[39m 3.2.1\n",
            "\u001b[32m✔\u001b[39m \u001b[34mlubridate\u001b[39m 1.9.3     \u001b[32m✔\u001b[39m \u001b[34mtidyr    \u001b[39m 1.3.1\n",
            "\u001b[32m✔\u001b[39m \u001b[34mpurrr    \u001b[39m 1.0.2     \n",
            "── \u001b[1mConflicts\u001b[22m ────────────────────────────────────────── tidyverse_conflicts() ──\n",
            "\u001b[31m✖\u001b[39m \u001b[34mdplyr\u001b[39m::\u001b[32mfilter()\u001b[39m masks \u001b[34mstats\u001b[39m::filter()\n",
            "\u001b[31m✖\u001b[39m \u001b[34mdplyr\u001b[39m::\u001b[32mlag()\u001b[39m    masks \u001b[34mstats\u001b[39m::lag()\n",
            "\u001b[36mℹ\u001b[39m Use the conflicted package (\u001b[3m\u001b[34m<http://conflicted.r-lib.org/>\u001b[39m\u001b[23m) to force all conflicts to become errors\n",
            "Loading required package: plotrix\n",
            "\n",
            "Warning message in library(package, lib.loc = lib.loc, character.only = TRUE, logical.return = TRUE, :\n",
            "“there is no package called ‘plotrix’”\n",
            "Installing package into ‘/usr/local/lib/R/site-library’\n",
            "(as ‘lib’ is unspecified)\n",
            "\n"
          ]
        }
      ]
    },
    {
      "cell_type": "markdown",
      "source": [
        "### Global settings"
      ],
      "metadata": {
        "id": "lqp1azA0e25Y"
      }
    },
    {
      "cell_type": "code",
      "source": [
        "# ggplot options\n",
        "# options(repr.plot.width=6, repr.plot.height=2) # for docx\n",
        "options(repr.plot.width=12, repr.plot.height=4) # for html"
      ],
      "metadata": {
        "id": "kqG5u-iAediZ"
      },
      "execution_count": 2,
      "outputs": []
    },
    {
      "cell_type": "markdown",
      "source": [
        "# Activity 1 -- Getting started\n",
        "\n"
      ],
      "metadata": {
        "id": "4lT8DhSUBAiZ"
      }
    },
    {
      "cell_type": "markdown",
      "source": [
        "In this workshop, we will be investigating the uncertainty in our estimate of the mean age of death in the Brisbane hospital from 1899 to 1913.\n",
        "\n",
        "Simulation is a useful quantitative method for investigating the validity of some assumptions about a variable of interest. Simulation can be used where a physical system can be described by a model but performing an experiment would be time consuming, costly or dangerous (e.g. simulating radioactive fallout from a damaged nuclear reactor).\n",
        "\n",
        "\n"
      ],
      "metadata": {
        "id": "9j56zR9pIc_s"
      }
    },
    {
      "cell_type": "markdown",
      "source": [
        "**Room discussion:** Today we will be testing a hypothesis about age of death in the Brisbane Hospital from 1899 - 1913. This data has been converted by hand from old records. What issues might there be with this data? What can we do to make sure our data is okay to use?"
      ],
      "metadata": {
        "id": "rjBWcCG6X1Ye"
      }
    },
    {
      "cell_type": "markdown",
      "source": [
        "- could be lies / inaccurate dates of birth\n",
        "- paper records could have been lost or damaged\n",
        "- human error inputting data"
      ],
      "metadata": {
        "id": "7wAIC9loabXy"
      }
    },
    {
      "cell_type": "markdown",
      "source": [
        "# Activity 2 -- Summary statistics\n"
      ],
      "metadata": {
        "id": "zbqh5nmNgBrp"
      }
    },
    {
      "cell_type": "markdown",
      "source": [
        "**Exercise:** Fill in the blanks in the statement below:\n",
        "\n",
        "**Answer:** Our random variable, $X$, represents $\\dots$. We will assume $X \\sim N(\\mu, \\sigma^2)$ and estimate $\\mu$ with $\\ldots$ and $\\ldots$ with $s$ from our data.\n"
      ],
      "metadata": {
        "id": "rtvFmFzjgH87"
      }
    },
    {
      "cell_type": "markdown",
      "source": [
        "Our random variable, $X$, represents ages of death in a Brisbane hosptial. We will assume $X \\sim N(\\mu, \\sigma^2)$ and estimate $\\mu$ with $\\bar{x}$ and $\\sigma$ with $s$ from our data."
      ],
      "metadata": {
        "id": "FtNpJdgYacXK"
      }
    },
    {
      "cell_type": "markdown",
      "source": [
        "\n",
        "**Exercise:** Calculate the mean, standard deviation and number of deaths in the data frame, storing the results in a data frame. Include them in a table below.\n",
        "\n",
        "**Hint:** You can use the `n()` function inside `summarise()` to count the number of observations.\n",
        "\n",
        "```\n",
        "summarise(...,\n",
        "          xbar = ...,\n",
        "          s = ...,\n",
        "          n = n())\n",
        "```\n",
        "\n",
        "\n",
        "**Answer:**"
      ],
      "metadata": {
        "id": "XNTvTDMMW4zP"
      }
    },
    {
      "cell_type": "code",
      "source": [
        "# import data set\n",
        "df <- read_csv(\"Deaths.csv\")\n",
        "# head(df)\n",
        "\n",
        "# summary stats Age\n",
        "# summarise(df,\n",
        "#           xbar = mean(Age),\n",
        "#           s = sd(Age),\n",
        "#           n = n()) -> SumStats\n",
        "\n",
        "SumStats <- summarise(df,\n",
        "          xbar = mean(Age),\n",
        "          s = sd(Age),\n",
        "          n = n())\n",
        "SumStats"
      ],
      "metadata": {
        "id": "3tQ8Zf6taVbo",
        "colab": {
          "base_uri": "https://localhost:8080/",
          "height": 268
        },
        "outputId": "5379f61d-6b4d-4f95-c2a9-2257ebef0863"
      },
      "execution_count": 3,
      "outputs": [
        {
          "output_type": "stream",
          "name": "stderr",
          "text": [
            "\u001b[1mRows: \u001b[22m\u001b[34m4522\u001b[39m \u001b[1mColumns: \u001b[22m\u001b[34m4\u001b[39m\n",
            "\u001b[36m──\u001b[39m \u001b[1mColumn specification\u001b[22m \u001b[36m────────────────────────────────────────────────────────\u001b[39m\n",
            "\u001b[1mDelimiter:\u001b[22m \",\"\n",
            "\u001b[31mchr\u001b[39m (2): Last name, Given names\n",
            "\u001b[32mdbl\u001b[39m (2): Age, Year\n",
            "\n",
            "\u001b[36mℹ\u001b[39m Use `spec()` to retrieve the full column specification for this data.\n",
            "\u001b[36mℹ\u001b[39m Specify the column types or set `show_col_types = FALSE` to quiet this message.\n"
          ]
        },
        {
          "output_type": "display_data",
          "data": {
            "text/html": [
              "<table class=\"dataframe\">\n",
              "<caption>A tibble: 1 × 3</caption>\n",
              "<thead>\n",
              "\t<tr><th scope=col>xbar</th><th scope=col>s</th><th scope=col>n</th></tr>\n",
              "\t<tr><th scope=col>&lt;dbl&gt;</th><th scope=col>&lt;dbl&gt;</th><th scope=col>&lt;int&gt;</th></tr>\n",
              "</thead>\n",
              "<tbody>\n",
              "\t<tr><td>45.20168</td><td>19.26204</td><td>4522</td></tr>\n",
              "</tbody>\n",
              "</table>\n"
            ],
            "text/markdown": "\nA tibble: 1 × 3\n\n| xbar &lt;dbl&gt; | s &lt;dbl&gt; | n &lt;int&gt; |\n|---|---|---|\n| 45.20168 | 19.26204 | 4522 |\n\n",
            "text/latex": "A tibble: 1 × 3\n\\begin{tabular}{lll}\n xbar & s & n\\\\\n <dbl> & <dbl> & <int>\\\\\n\\hline\n\t 45.20168 & 19.26204 & 4522\\\\\n\\end{tabular}\n",
            "text/plain": [
              "  xbar     s        n   \n",
              "1 45.20168 19.26204 4522"
            ]
          },
          "metadata": {}
        }
      ]
    },
    {
      "cell_type": "markdown",
      "source": [
        "The standard error of the mean for a set of observations, $\\boldsymbol{x}$, is given by\n",
        "\n",
        "$$\n",
        "se_{\\overline{x}} = \\frac{s}{\\sqrt{n}}\n",
        "$$\n",
        "\n",
        "**Exercise:** Either use the `mutate()` function on the data frame from above, or the `std.error()` function from the plotrix package on the original data (and amend your code from the summarising above) to calculate the standard error of the mean. Show the results in a table.\n",
        "\n",
        "**Answer:**"
      ],
      "metadata": {
        "id": "6yEneuz3WvVh"
      }
    },
    {
      "cell_type": "code",
      "source": [
        "(SumStats <- mutate(SumStats, se = s/sqrt(n)))"
      ],
      "metadata": {
        "id": "YLc8Ht-jaWTf",
        "colab": {
          "base_uri": "https://localhost:8080/",
          "height": 129
        },
        "outputId": "ca882608-7b6c-4a23-e5fb-8c782f2c5177"
      },
      "execution_count": 5,
      "outputs": [
        {
          "output_type": "display_data",
          "data": {
            "text/html": [
              "<table class=\"dataframe\">\n",
              "<caption>A tibble: 1 × 4</caption>\n",
              "<thead>\n",
              "\t<tr><th scope=col>xbar</th><th scope=col>s</th><th scope=col>n</th><th scope=col>se</th></tr>\n",
              "\t<tr><th scope=col>&lt;dbl&gt;</th><th scope=col>&lt;dbl&gt;</th><th scope=col>&lt;int&gt;</th><th scope=col>&lt;dbl&gt;</th></tr>\n",
              "</thead>\n",
              "<tbody>\n",
              "\t<tr><td>45.20168</td><td>19.26204</td><td>4522</td><td>0.2864423</td></tr>\n",
              "</tbody>\n",
              "</table>\n"
            ],
            "text/markdown": "\nA tibble: 1 × 4\n\n| xbar &lt;dbl&gt; | s &lt;dbl&gt; | n &lt;int&gt; | se &lt;dbl&gt; |\n|---|---|---|---|\n| 45.20168 | 19.26204 | 4522 | 0.2864423 |\n\n",
            "text/latex": "A tibble: 1 × 4\n\\begin{tabular}{llll}\n xbar & s & n & se\\\\\n <dbl> & <dbl> & <int> & <dbl>\\\\\n\\hline\n\t 45.20168 & 19.26204 & 4522 & 0.2864423\\\\\n\\end{tabular}\n",
            "text/plain": [
              "  xbar     s        n    se       \n",
              "1 45.20168 19.26204 4522 0.2864423"
            ]
          },
          "metadata": {}
        }
      ]
    },
    {
      "cell_type": "markdown",
      "source": [
        "# Activity 3 -- Confidence intervals\n"
      ],
      "metadata": {
        "id": "DfKE9-PnXmSz"
      }
    },
    {
      "cell_type": "markdown",
      "source": [
        "To construct a confidence interval for our mean, we must choose a level of statistical significance, $\\alpha$, such that $(1 - \\alpha) \\times 100%$ is the confidence level we wish to use. For example, a 95% confidence interval corresponds to $\\alpha = 0.05$.\n",
        "\n",
        "**Exercise:** What value of $\\alpha$ would we need if constructing 90% confidence intervals?\n",
        "\n",
        "**Answer:** $\\alpha = 0.1$"
      ],
      "metadata": {
        "id": "Nxhc6JqZXrD6"
      }
    },
    {
      "cell_type": "markdown",
      "source": [
        "\n",
        "\n",
        "**Exercise:** What value of $\\alpha$ would we need if constructing 99% confidence intervals?\n",
        "\n",
        "**Answer:** $\\alpha = 0.01$"
      ],
      "metadata": {
        "id": "UZSmBwGzYO0Y"
      }
    },
    {
      "cell_type": "markdown",
      "source": [
        "The confidence interval for our mean population age of death (during the years 1899 to 1913), $\\mu$, is given by\n",
        "\n",
        "$$\n",
        "\\overline{x} + t_{\\alpha/2}(\\nu) \\frac{s}{\\sqrt{n}} < \\mu <  \\overline{x} + t_{1-\\alpha/2}(\\nu) \\frac{s}{\\sqrt{n}}\n",
        "$$\n",
        "\n",
        "where $\\overline{x}$ is the sample mean, $s$ is the standard deviation, and $\\nu$ is the number of degrees of freedom required to calculate the $\\alpha/2$ and $1 - \\alpha/2$ quantiles of the $t$ distribution. In the case of a sample mean, $\\nu = (n-1)$ as we start with $n$ observations but have to estimate one parameter, $s$, to calculate our standard error. If we knew what the population standard deviation was, $\\sigma$, we would not lose one degree of freedom.\n",
        "\n",
        "**Exercise:** With $\\alpha= 0.05$, calculate the 0.025 quantile of the $t$ distribution.\n",
        "\n",
        "```\n",
        "... <- mutate(..., q025 = qt(p = 0.025, df = n - 1))\n",
        "```\n",
        "\n",
        "**Answer:**\n",
        "\n"
      ],
      "metadata": {
        "id": "HV8ibJxWYRz3"
      }
    },
    {
      "cell_type": "code",
      "source": [
        "(SumStats <- mutate(SumStats, q025 = qt(p = 0.025, df = n - 1)))"
      ],
      "metadata": {
        "id": "hDRNK6jIaY78",
        "colab": {
          "base_uri": "https://localhost:8080/",
          "height": 129
        },
        "outputId": "8c4559c1-b6a3-4cb5-b86a-8ff60647db8a"
      },
      "execution_count": 6,
      "outputs": [
        {
          "output_type": "display_data",
          "data": {
            "text/html": [
              "<table class=\"dataframe\">\n",
              "<caption>A tibble: 1 × 5</caption>\n",
              "<thead>\n",
              "\t<tr><th scope=col>xbar</th><th scope=col>s</th><th scope=col>n</th><th scope=col>se</th><th scope=col>q025</th></tr>\n",
              "\t<tr><th scope=col>&lt;dbl&gt;</th><th scope=col>&lt;dbl&gt;</th><th scope=col>&lt;int&gt;</th><th scope=col>&lt;dbl&gt;</th><th scope=col>&lt;dbl&gt;</th></tr>\n",
              "</thead>\n",
              "<tbody>\n",
              "\t<tr><td>45.20168</td><td>19.26204</td><td>4522</td><td>0.2864423</td><td>-1.960489</td></tr>\n",
              "</tbody>\n",
              "</table>\n"
            ],
            "text/markdown": "\nA tibble: 1 × 5\n\n| xbar &lt;dbl&gt; | s &lt;dbl&gt; | n &lt;int&gt; | se &lt;dbl&gt; | q025 &lt;dbl&gt; |\n|---|---|---|---|---|\n| 45.20168 | 19.26204 | 4522 | 0.2864423 | -1.960489 |\n\n",
            "text/latex": "A tibble: 1 × 5\n\\begin{tabular}{lllll}\n xbar & s & n & se & q025\\\\\n <dbl> & <dbl> & <int> & <dbl> & <dbl>\\\\\n\\hline\n\t 45.20168 & 19.26204 & 4522 & 0.2864423 & -1.960489\\\\\n\\end{tabular}\n",
            "text/plain": [
              "  xbar     s        n    se        q025     \n",
              "1 45.20168 19.26204 4522 0.2864423 -1.960489"
            ]
          },
          "metadata": {}
        }
      ]
    },
    {
      "cell_type": "markdown",
      "source": [
        "**Exercise:** With $\\alpha= 0.05$, calculate the 0.975 quantile of the $t$ distribution.\n",
        "\n",
        "**Answer:**\n",
        "\n",
        "\n",
        "\n",
        "\n"
      ],
      "metadata": {
        "id": "5AJDGNG-Yk5W"
      }
    },
    {
      "cell_type": "code",
      "source": [
        "(SumStats <- mutate(SumStats, q975 = qt(p =  0.975, df = n - 1)))"
      ],
      "metadata": {
        "id": "_mSV1GRnagSz",
        "colab": {
          "base_uri": "https://localhost:8080/",
          "height": 129
        },
        "outputId": "1b4bfb1a-2103-452e-f8b5-0eadc9ce5f3f"
      },
      "execution_count": 7,
      "outputs": [
        {
          "output_type": "display_data",
          "data": {
            "text/html": [
              "<table class=\"dataframe\">\n",
              "<caption>A tibble: 1 × 6</caption>\n",
              "<thead>\n",
              "\t<tr><th scope=col>xbar</th><th scope=col>s</th><th scope=col>n</th><th scope=col>se</th><th scope=col>q025</th><th scope=col>q975</th></tr>\n",
              "\t<tr><th scope=col>&lt;dbl&gt;</th><th scope=col>&lt;dbl&gt;</th><th scope=col>&lt;int&gt;</th><th scope=col>&lt;dbl&gt;</th><th scope=col>&lt;dbl&gt;</th><th scope=col>&lt;dbl&gt;</th></tr>\n",
              "</thead>\n",
              "<tbody>\n",
              "\t<tr><td>45.20168</td><td>19.26204</td><td>4522</td><td>0.2864423</td><td>-1.960489</td><td>1.960489</td></tr>\n",
              "</tbody>\n",
              "</table>\n"
            ],
            "text/markdown": "\nA tibble: 1 × 6\n\n| xbar &lt;dbl&gt; | s &lt;dbl&gt; | n &lt;int&gt; | se &lt;dbl&gt; | q025 &lt;dbl&gt; | q975 &lt;dbl&gt; |\n|---|---|---|---|---|---|\n| 45.20168 | 19.26204 | 4522 | 0.2864423 | -1.960489 | 1.960489 |\n\n",
            "text/latex": "A tibble: 1 × 6\n\\begin{tabular}{llllll}\n xbar & s & n & se & q025 & q975\\\\\n <dbl> & <dbl> & <int> & <dbl> & <dbl> & <dbl>\\\\\n\\hline\n\t 45.20168 & 19.26204 & 4522 & 0.2864423 & -1.960489 & 1.960489\\\\\n\\end{tabular}\n",
            "text/plain": [
              "  xbar     s        n    se        q025      q975    \n",
              "1 45.20168 19.26204 4522 0.2864423 -1.960489 1.960489"
            ]
          },
          "metadata": {}
        }
      ]
    },
    {
      "cell_type": "markdown",
      "source": [
        "You should notice that the 2.5th and 97.5th percentiles of the $t$ distribution are equal in magnitude but opposite in sign. This indicates that our (two-sided) confidence interval will be symmetric about our sample mean.\n",
        "\n",
        "**Exercise:** Using `mutate()` on your data frame containing $\\overline{x}, s, n, se_{\\overline{x}}$, calculate the 95% confidence interval for $\\mu$. State your sample mean and its 95% confidence interval below.\n",
        "\n",
        "```\n",
        "ci_95 <- mutate(...,\n",
        "                L = xbar + q025 * ...,\n",
        "                U = xbar + q975 * ...)\n",
        "```\n",
        "\n",
        "**Answer:** $\\ldots (\\ldots, \\ldots)$\n",
        "\n"
      ],
      "metadata": {
        "id": "JPUFQGJ-Ya90"
      }
    },
    {
      "cell_type": "code",
      "source": [
        "(ci_95 <- mutate(SumStats,\n",
        "              L = xbar + q025 * se,\n",
        "              U = xbar + q975 * se))"
      ],
      "metadata": {
        "id": "itMT8-R2aQ1T",
        "colab": {
          "base_uri": "https://localhost:8080/",
          "height": 129
        },
        "outputId": "a200c6ed-3b43-42fb-9965-5dbfae4b064f"
      },
      "execution_count": 8,
      "outputs": [
        {
          "output_type": "display_data",
          "data": {
            "text/html": [
              "<table class=\"dataframe\">\n",
              "<caption>A tibble: 1 × 8</caption>\n",
              "<thead>\n",
              "\t<tr><th scope=col>xbar</th><th scope=col>s</th><th scope=col>n</th><th scope=col>se</th><th scope=col>q025</th><th scope=col>q975</th><th scope=col>L</th><th scope=col>U</th></tr>\n",
              "\t<tr><th scope=col>&lt;dbl&gt;</th><th scope=col>&lt;dbl&gt;</th><th scope=col>&lt;int&gt;</th><th scope=col>&lt;dbl&gt;</th><th scope=col>&lt;dbl&gt;</th><th scope=col>&lt;dbl&gt;</th><th scope=col>&lt;dbl&gt;</th><th scope=col>&lt;dbl&gt;</th></tr>\n",
              "</thead>\n",
              "<tbody>\n",
              "\t<tr><td>45.20168</td><td>19.26204</td><td>4522</td><td>0.2864423</td><td>-1.960489</td><td>1.960489</td><td>44.64011</td><td>45.76325</td></tr>\n",
              "</tbody>\n",
              "</table>\n"
            ],
            "text/markdown": "\nA tibble: 1 × 8\n\n| xbar &lt;dbl&gt; | s &lt;dbl&gt; | n &lt;int&gt; | se &lt;dbl&gt; | q025 &lt;dbl&gt; | q975 &lt;dbl&gt; | L &lt;dbl&gt; | U &lt;dbl&gt; |\n|---|---|---|---|---|---|---|---|\n| 45.20168 | 19.26204 | 4522 | 0.2864423 | -1.960489 | 1.960489 | 44.64011 | 45.76325 |\n\n",
            "text/latex": "A tibble: 1 × 8\n\\begin{tabular}{llllllll}\n xbar & s & n & se & q025 & q975 & L & U\\\\\n <dbl> & <dbl> & <int> & <dbl> & <dbl> & <dbl> & <dbl> & <dbl>\\\\\n\\hline\n\t 45.20168 & 19.26204 & 4522 & 0.2864423 & -1.960489 & 1.960489 & 44.64011 & 45.76325\\\\\n\\end{tabular}\n",
            "text/plain": [
              "  xbar     s        n    se        q025      q975     L        U       \n",
              "1 45.20168 19.26204 4522 0.2864423 -1.960489 1.960489 44.64011 45.76325"
            ]
          },
          "metadata": {}
        }
      ]
    },
    {
      "cell_type": "markdown",
      "source": [
        "**Exercise:** Repeat the above steps to calculate the 90% and 99% confidence intervals. Put the results in a table below.\n",
        "\n",
        "**Answer:**\n",
        "\n"
      ],
      "metadata": {
        "id": "ZSXbnnq0YXuj"
      }
    },
    {
      "cell_type": "code",
      "source": [
        "# 90% CI\n",
        "ci_90 <- mutate(SumStats,\n",
        "                L = xbar + qt(0.05,df = n-1) * s/sqrt(n),\n",
        "                U = xbar + qt(0.95,df = n-1) * s/sqrt(n))\n",
        "ci_90\n",
        "\n",
        "# print 95% CI for comparison\n",
        "ci_95\n",
        "\n",
        "# 99% CI\n",
        "ci_99 <- mutate(SumStats,\n",
        "                L = xbar + qt(0.005,df = n-1) * s/sqrt(n),\n",
        "                U = xbar + qt(0.995,df = n-1) * s/sqrt(n))\n",
        "ci_99\n"
      ],
      "metadata": {
        "id": "CqVEBLrJahTM",
        "colab": {
          "base_uri": "https://localhost:8080/",
          "height": 353
        },
        "outputId": "6e8802c9-fa7a-4b4b-be32-d16fe5db27ba"
      },
      "execution_count": null,
      "outputs": [
        {
          "output_type": "display_data",
          "data": {
            "text/html": [
              "<table class=\"dataframe\">\n",
              "<caption>A tibble: 1 × 8</caption>\n",
              "<thead>\n",
              "\t<tr><th scope=col>xbar</th><th scope=col>s</th><th scope=col>n</th><th scope=col>se</th><th scope=col>q025</th><th scope=col>q975</th><th scope=col>L</th><th scope=col>U</th></tr>\n",
              "\t<tr><th scope=col>&lt;dbl&gt;</th><th scope=col>&lt;dbl&gt;</th><th scope=col>&lt;int&gt;</th><th scope=col>&lt;dbl&gt;</th><th scope=col>&lt;dbl&gt;</th><th scope=col>&lt;dbl&gt;</th><th scope=col>&lt;dbl&gt;</th><th scope=col>&lt;dbl&gt;</th></tr>\n",
              "</thead>\n",
              "<tbody>\n",
              "\t<tr><td>45.20168</td><td>19.26204</td><td>4522</td><td>0.2864423</td><td>-1.960489</td><td>1.960489</td><td>44.73043</td><td>45.67293</td></tr>\n",
              "</tbody>\n",
              "</table>\n"
            ],
            "text/markdown": "\nA tibble: 1 × 8\n\n| xbar &lt;dbl&gt; | s &lt;dbl&gt; | n &lt;int&gt; | se &lt;dbl&gt; | q025 &lt;dbl&gt; | q975 &lt;dbl&gt; | L &lt;dbl&gt; | U &lt;dbl&gt; |\n|---|---|---|---|---|---|---|---|\n| 45.20168 | 19.26204 | 4522 | 0.2864423 | -1.960489 | 1.960489 | 44.73043 | 45.67293 |\n\n",
            "text/latex": "A tibble: 1 × 8\n\\begin{tabular}{llllllll}\n xbar & s & n & se & q025 & q975 & L & U\\\\\n <dbl> & <dbl> & <int> & <dbl> & <dbl> & <dbl> & <dbl> & <dbl>\\\\\n\\hline\n\t 45.20168 & 19.26204 & 4522 & 0.2864423 & -1.960489 & 1.960489 & 44.73043 & 45.67293\\\\\n\\end{tabular}\n",
            "text/plain": [
              "  xbar     s        n    se        q025      q975     L        U       \n",
              "1 45.20168 19.26204 4522 0.2864423 -1.960489 1.960489 44.73043 45.67293"
            ]
          },
          "metadata": {}
        },
        {
          "output_type": "display_data",
          "data": {
            "text/html": [
              "<table class=\"dataframe\">\n",
              "<caption>A tibble: 1 × 8</caption>\n",
              "<thead>\n",
              "\t<tr><th scope=col>xbar</th><th scope=col>s</th><th scope=col>n</th><th scope=col>se</th><th scope=col>q025</th><th scope=col>q975</th><th scope=col>L</th><th scope=col>U</th></tr>\n",
              "\t<tr><th scope=col>&lt;dbl&gt;</th><th scope=col>&lt;dbl&gt;</th><th scope=col>&lt;int&gt;</th><th scope=col>&lt;dbl&gt;</th><th scope=col>&lt;dbl&gt;</th><th scope=col>&lt;dbl&gt;</th><th scope=col>&lt;dbl&gt;</th><th scope=col>&lt;dbl&gt;</th></tr>\n",
              "</thead>\n",
              "<tbody>\n",
              "\t<tr><td>45.20168</td><td>19.26204</td><td>4522</td><td>0.2864423</td><td>-1.960489</td><td>1.960489</td><td>44.64011</td><td>45.76325</td></tr>\n",
              "</tbody>\n",
              "</table>\n"
            ],
            "text/markdown": "\nA tibble: 1 × 8\n\n| xbar &lt;dbl&gt; | s &lt;dbl&gt; | n &lt;int&gt; | se &lt;dbl&gt; | q025 &lt;dbl&gt; | q975 &lt;dbl&gt; | L &lt;dbl&gt; | U &lt;dbl&gt; |\n|---|---|---|---|---|---|---|---|\n| 45.20168 | 19.26204 | 4522 | 0.2864423 | -1.960489 | 1.960489 | 44.64011 | 45.76325 |\n\n",
            "text/latex": "A tibble: 1 × 8\n\\begin{tabular}{llllllll}\n xbar & s & n & se & q025 & q975 & L & U\\\\\n <dbl> & <dbl> & <int> & <dbl> & <dbl> & <dbl> & <dbl> & <dbl>\\\\\n\\hline\n\t 45.20168 & 19.26204 & 4522 & 0.2864423 & -1.960489 & 1.960489 & 44.64011 & 45.76325\\\\\n\\end{tabular}\n",
            "text/plain": [
              "  xbar     s        n    se        q025      q975     L        U       \n",
              "1 45.20168 19.26204 4522 0.2864423 -1.960489 1.960489 44.64011 45.76325"
            ]
          },
          "metadata": {}
        },
        {
          "output_type": "display_data",
          "data": {
            "text/html": [
              "<table class=\"dataframe\">\n",
              "<caption>A tibble: 1 × 8</caption>\n",
              "<thead>\n",
              "\t<tr><th scope=col>xbar</th><th scope=col>s</th><th scope=col>n</th><th scope=col>se</th><th scope=col>q025</th><th scope=col>q975</th><th scope=col>L</th><th scope=col>U</th></tr>\n",
              "\t<tr><th scope=col>&lt;dbl&gt;</th><th scope=col>&lt;dbl&gt;</th><th scope=col>&lt;int&gt;</th><th scope=col>&lt;dbl&gt;</th><th scope=col>&lt;dbl&gt;</th><th scope=col>&lt;dbl&gt;</th><th scope=col>&lt;dbl&gt;</th><th scope=col>&lt;dbl&gt;</th></tr>\n",
              "</thead>\n",
              "<tbody>\n",
              "\t<tr><td>45.20168</td><td>19.26204</td><td>4522</td><td>0.2864423</td><td>-1.960489</td><td>1.960489</td><td>44.46354</td><td>45.93982</td></tr>\n",
              "</tbody>\n",
              "</table>\n"
            ],
            "text/markdown": "\nA tibble: 1 × 8\n\n| xbar &lt;dbl&gt; | s &lt;dbl&gt; | n &lt;int&gt; | se &lt;dbl&gt; | q025 &lt;dbl&gt; | q975 &lt;dbl&gt; | L &lt;dbl&gt; | U &lt;dbl&gt; |\n|---|---|---|---|---|---|---|---|\n| 45.20168 | 19.26204 | 4522 | 0.2864423 | -1.960489 | 1.960489 | 44.46354 | 45.93982 |\n\n",
            "text/latex": "A tibble: 1 × 8\n\\begin{tabular}{llllllll}\n xbar & s & n & se & q025 & q975 & L & U\\\\\n <dbl> & <dbl> & <int> & <dbl> & <dbl> & <dbl> & <dbl> & <dbl>\\\\\n\\hline\n\t 45.20168 & 19.26204 & 4522 & 0.2864423 & -1.960489 & 1.960489 & 44.46354 & 45.93982\\\\\n\\end{tabular}\n",
            "text/plain": [
              "  xbar     s        n    se        q025      q975     L        U       \n",
              "1 45.20168 19.26204 4522 0.2864423 -1.960489 1.960489 44.46354 45.93982"
            ]
          },
          "metadata": {}
        }
      ]
    },
    {
      "cell_type": "markdown",
      "source": [
        "**Exercise:** What do you notice about the width of the confidence intervals as the confidence level increases.\n",
        "\n",
        "**Answer:** As the confidence level increases the confidence intervals get wider.\n",
        "\n"
      ],
      "metadata": {
        "id": "Srhm_cNZYVpI"
      }
    },
    {
      "cell_type": "markdown",
      "source": [
        "If we sampled from the population many times, we would expect to see some sampling variability around the population mean.\n",
        "\n",
        "**Exercise:** If we collected 100 datasets (each containing the same number of observations) under identical conditions, how many 95% confidence intervals would we expect to contain the true population mean?\n",
        "\n",
        "**Answer:** We would expect 95 of the confidence intervals to contain the true population mean."
      ],
      "metadata": {
        "id": "RhcDy19iYUGc"
      }
    },
    {
      "cell_type": "markdown",
      "source": [
        "# Activity 4 -- $t$ test\n"
      ],
      "metadata": {
        "id": "JaUX2IL4Y_8Y"
      }
    },
    {
      "cell_type": "markdown",
      "source": [
        "Now that we have some summary statistics describing our estimate of the population mean and a 95% confidence interval for it, we will consider testing a hypothesis about the age of death.\n",
        "\n",
        "Whilst there is some information available on life expectancy, our data does not have enough information on (for example) gender. As such, we will test our data to see if the population mean age of death was 45 years old.\n",
        "\n",
        "To perform our $t$ test we need to define a **null hypothesis** which we will be testing, as well as an alternative hypothesis that specifies what we would expect to see if the null hypothesis were not true.\n",
        "\n",
        "We will define our null hypothesis, $H_0$, as being that the population mean age of death is 45,\n",
        "\n",
        "$$\n",
        "H_0: \\mu = 45\n",
        "$$\n",
        "\n",
        "We will be performing a **two-sided** $t$ test in this case, as the mean age of death could be above or below 45. Therefore we specify our **alternative hypothesis** to be that the population mean is **not** 45.\n",
        "\n",
        "$$\n",
        "H_1: \\mu \\ne 45\n",
        "$$\n",
        "\n",
        "Now when we perform our $t$ test, we are looking for evidence to reject our null hypothesis. There are two ways we can conduct our $t$ test, either by focussing on calculating the $p$ value and comparing it to $\\alpha$, or by determining some critical value from our $t$ distribution and checking whether our test statistic for the $t$ test is more extreme.\n",
        "\n",
        "The test statistic for our $t$ test is\n",
        "\n",
        "$$\n",
        "t.s. = \\frac{\\overline{x} - 45}{s/\\sqrt{n}}\n",
        "$$\n",
        "\n",
        "**Exercise:** Given the values of these that you have already calculated, derive the value of the test statistic.\n",
        "\n",
        "**Answer:**"
      ],
      "metadata": {
        "id": "-az3LS19ZBH1"
      }
    },
    {
      "cell_type": "code",
      "source": [
        "(t.s. <- (SumStats$xbar - 45)/(SumStats$s/ sqrt(SumStats$n)))"
      ],
      "metadata": {
        "id": "gj9ZEaZnZAUa",
        "colab": {
          "base_uri": "https://localhost:8080/",
          "height": 34
        },
        "outputId": "d69868c7-a693-4cb7-f8e4-d9adf14a17e3"
      },
      "execution_count": 9,
      "outputs": [
        {
          "output_type": "display_data",
          "data": {
            "text/html": [
              "0.704088401568789"
            ],
            "text/markdown": "0.704088401568789",
            "text/latex": "0.704088401568789",
            "text/plain": [
              "[1] 0.7040884"
            ]
          },
          "metadata": {}
        }
      ]
    },
    {
      "cell_type": "markdown",
      "source": [
        "Let's do our $t$ test by looking at how much of a $t$ distribution is beyond our test statistic.\n",
        "\n",
        "**Exercise:** Using the `pt()` function, calculate the $p$ value for our $t$ test by determining the area to the right of the +ts and to the left of the -ts. Note that we could just double the value in one of the tails as the t-distribution is symmetric.\n",
        "\n",
        "```{r eval=FALSE}\n",
        "pt(q = ..., df = ..., lower.tail = FALSE) +\n",
        "  pt(q = ..., df = ..., lower.tail = TRUE)\n",
        "```\n",
        "\n",
        "**Answer:**"
      ],
      "metadata": {
        "id": "liJFHpoDalC3"
      }
    },
    {
      "cell_type": "code",
      "source": [
        "pt(q = t.s., df = SumStats$n - 1, lower.tail = FALSE) +\n",
        "  pt(q = -t.s., df = SumStats$n - 1, lower.tail = TRUE)"
      ],
      "metadata": {
        "id": "JdI1AZ4iaslc",
        "colab": {
          "base_uri": "https://localhost:8080/",
          "height": 34
        },
        "outputId": "15d5837a-6680-414f-f3b8-1751c8f5291c"
      },
      "execution_count": null,
      "outputs": [
        {
          "output_type": "display_data",
          "data": {
            "text/html": [
              "0.481413985510427"
            ],
            "text/markdown": "0.481413985510427",
            "text/latex": "0.481413985510427",
            "text/plain": [
              "[1] 0.481414"
            ]
          },
          "metadata": {}
        }
      ]
    },
    {
      "cell_type": "markdown",
      "source": [
        "**Exercise:** Do you have evidence to reject your null hypothesis?\n",
        "\n",
        "**Answer:** No, there is insufficient evidence to reject $H_0$"
      ],
      "metadata": {
        "id": "16q7eftzazO2"
      }
    },
    {
      "cell_type": "markdown",
      "source": [
        "We can also use R's built-in `t.test()` function. We need to pass in a vector of values, specify whether our alternative is `\"greater\"`, `\"less\"`, or `\"two.sided\"`, the value we are testing against in our null hypothesis, and a confidence level.\n",
        "\n",
        "**Exercise:** Perform your $t$ test with a 95% level of confidence ($\\alpha = 0.05$). Report the test statistic, confidence interval and $p$ value below.\n",
        "\n",
        "```{r eval=FALSE}\n",
        "t.test(\n",
        "  x = ...,\n",
        "  alternative = \"two.sided\",\n",
        "  mu = 45,\n",
        "  conf.level = 0.95\n",
        ")\n",
        "```\n",
        "\n",
        "**Answer:**"
      ],
      "metadata": {
        "id": "CV-dZx_ma0ht"
      }
    },
    {
      "cell_type": "code",
      "source": [
        "# uses the raw data, no need to calculate the summary statistics first\n",
        "t.test(\n",
        "  x = df$Age,\n",
        "  alternative = \"two.sided\",\n",
        "  mu = 45,\n",
        "  conf.level = 0.90\n",
        ")"
      ],
      "metadata": {
        "id": "nyOOUlxDa22d",
        "colab": {
          "base_uri": "https://localhost:8080/",
          "height": 208
        },
        "outputId": "6522c420-8f93-4472-a8e4-89b87b7f5faf"
      },
      "execution_count": null,
      "outputs": [
        {
          "output_type": "display_data",
          "data": {
            "text/plain": [
              "\n",
              "\tOne Sample t-test\n",
              "\n",
              "data:  df$Age\n",
              "t = 0.70409, df = 4521, p-value = 0.4814\n",
              "alternative hypothesis: true mean is not equal to 45\n",
              "90 percent confidence interval:\n",
              " 44.73043 45.67293\n",
              "sample estimates:\n",
              "mean of x \n",
              " 45.20168 \n"
            ]
          },
          "metadata": {}
        }
      ]
    },
    {
      "cell_type": "code",
      "source": [
        "# different mu, different result\n",
        "t.test(\n",
        "  x = df$Age,\n",
        "  alternative = \"two.sided\",\n",
        "  mu = 40\n",
        ")\n"
      ],
      "metadata": {
        "id": "omsli3rjRA6N",
        "colab": {
          "base_uri": "https://localhost:8080/",
          "height": 208
        },
        "outputId": "fedb5feb-4ef4-461a-cbda-bba86c581bf0"
      },
      "execution_count": 10,
      "outputs": [
        {
          "output_type": "display_data",
          "data": {
            "text/plain": [
              "\n",
              "\tOne Sample t-test\n",
              "\n",
              "data:  df$Age\n",
              "t = 18.16, df = 4521, p-value < 2.2e-16\n",
              "alternative hypothesis: true mean is not equal to 40\n",
              "95 percent confidence interval:\n",
              " 44.64011 45.76325\n",
              "sample estimates:\n",
              "mean of x \n",
              " 45.20168 \n"
            ]
          },
          "metadata": {}
        }
      ]
    },
    {
      "cell_type": "markdown",
      "source": [
        "**Exercise:** Is our data consistent with the hypothesis that the population mean age of death is 45?\n",
        "\n",
        "**Answer:** The data is consistent with the hypothesis that the population mean age of death is 45."
      ],
      "metadata": {
        "id": "FVTPxP5Ia30L"
      }
    },
    {
      "cell_type": "markdown",
      "source": [
        "# Activity 5 -- Simulation (extension)\n"
      ],
      "metadata": {
        "id": "BRLvTLtaa7tR"
      }
    },
    {
      "cell_type": "markdown",
      "source": [
        "The correct interpretation of a 95% confidence interval is that we are 95% **confident** that the true value lies within the interval. If we performed a large number of experiments under the exact same conditions, we would expect that some confidence intervals will cover the true value and others will not, on account of the inherent sampling variability.\n",
        "\n",
        "In fact, we expect that 95% of the 95% confidence intervals we constructed from our large number of experiments would contain the true value, $\\mu$. So when we do a single experiment, we do not know for sure whether we're in an experiment that does, or an experiment that doesn't, contain the true value. But we can be 95% confident that the 95% confidence interval we have calculated does contain $\\mu$.\n",
        "\n",
        "Now that we've had a look at one particular dataset, let's use simulation as a tool for investigating how much variability we expect to see. Previously we have looked at using $\\overline{x}$ to estimate $\\mu$ so let's look at a case where we are simulating from a known $\\mu$ and look at the various values of $\\overline{x}$ we get when trying to estimate it from each of our simulations.\n",
        "\n",
        "**Exercise:** Set $\\mu = 45, \\sigma = 20$ and simulate five ages of death. Calculate the mean, standard deviation and standard error of the mean for the ages of death.\n",
        "\n",
        "```{r eval=FALSE}\n",
        "mu <- 45\n",
        "sigma <- 20\n",
        "\n",
        "sim <- data.frame(Age = rnorm(n = 5, mean = mu, sd = sigma))\n",
        "```\n",
        "\n",
        "**Answer:**"
      ],
      "metadata": {
        "id": "z9B2JZlia_bE"
      }
    },
    {
      "cell_type": "code",
      "source": [
        "set.seed(125)\n",
        "mu <- 45\n",
        "sigma <- 20\n",
        "\n",
        "sim <- data.frame(Age = rnorm(n=5, mean = mu, sd = sigma))\n",
        "sim"
      ],
      "metadata": {
        "id": "YqfdJNWea8yR",
        "colab": {
          "base_uri": "https://localhost:8080/",
          "height": 289
        },
        "outputId": "44ca6f1b-4034-4f4e-f4ab-bb32d806a494"
      },
      "execution_count": 11,
      "outputs": [
        {
          "output_type": "display_data",
          "data": {
            "text/html": [
              "<table class=\"dataframe\">\n",
              "<caption>A data.frame: 5 × 1</caption>\n",
              "<thead>\n",
              "\t<tr><th scope=col>Age</th></tr>\n",
              "\t<tr><th scope=col>&lt;dbl&gt;</th></tr>\n",
              "</thead>\n",
              "<tbody>\n",
              "\t<tr><td>63.66654</td></tr>\n",
              "\t<tr><td>34.49936</td></tr>\n",
              "\t<tr><td>81.28880</td></tr>\n",
              "\t<tr><td>46.66091</td></tr>\n",
              "\t<tr><td>52.91438</td></tr>\n",
              "</tbody>\n",
              "</table>\n"
            ],
            "text/markdown": "\nA data.frame: 5 × 1\n\n| Age &lt;dbl&gt; |\n|---|\n| 63.66654 |\n| 34.49936 |\n| 81.28880 |\n| 46.66091 |\n| 52.91438 |\n\n",
            "text/latex": "A data.frame: 5 × 1\n\\begin{tabular}{l}\n Age\\\\\n <dbl>\\\\\n\\hline\n\t 63.66654\\\\\n\t 34.49936\\\\\n\t 81.28880\\\\\n\t 46.66091\\\\\n\t 52.91438\\\\\n\\end{tabular}\n",
            "text/plain": [
              "  Age     \n",
              "1 63.66654\n",
              "2 34.49936\n",
              "3 81.28880\n",
              "4 46.66091\n",
              "5 52.91438"
            ]
          },
          "metadata": {}
        }
      ]
    },
    {
      "cell_type": "code",
      "source": [
        "# install.packages(\"plotrix\")\n",
        "library(plotrix)\n",
        "(xbar <- mean(sim$Age))\n",
        "(s <- sd(sim$Age))\n",
        "(se <- std.error(sim$Age))\n",
        "(n <- length(sim$Age))"
      ],
      "metadata": {
        "id": "j1c41aknUd1h",
        "colab": {
          "base_uri": "https://localhost:8080/",
          "height": 86
        },
        "outputId": "14957d4f-0af4-47ea-b5e4-d05cc02008bd"
      },
      "execution_count": 13,
      "outputs": [
        {
          "output_type": "display_data",
          "data": {
            "text/html": [
              "55.805997609821"
            ],
            "text/markdown": "55.805997609821",
            "text/latex": "55.805997609821",
            "text/plain": [
              "[1] 55.806"
            ]
          },
          "metadata": {}
        },
        {
          "output_type": "display_data",
          "data": {
            "text/html": [
              "17.7279990063682"
            ],
            "text/markdown": "17.7279990063682",
            "text/latex": "17.7279990063682",
            "text/plain": [
              "[1] 17.728"
            ]
          },
          "metadata": {}
        },
        {
          "output_type": "display_data",
          "data": {
            "text/html": [
              "7.92820217665762"
            ],
            "text/markdown": "7.92820217665762",
            "text/latex": "7.92820217665762",
            "text/plain": [
              "[1] 7.928202"
            ]
          },
          "metadata": {}
        },
        {
          "output_type": "display_data",
          "data": {
            "text/html": [
              "5"
            ],
            "text/markdown": "5",
            "text/latex": "5",
            "text/plain": [
              "[1] 5"
            ]
          },
          "metadata": {}
        }
      ]
    },
    {
      "cell_type": "markdown",
      "source": [
        "**Exercise:** Is your value of $\\overline{x}$ close to $\\mu$? Why or why not?\n",
        "\n",
        "**Answer:** $(55-17) < 45 < (55+17)$ yes, close enough\n",
        "$$(38 < 45 < 72)$$\n"
      ],
      "metadata": {
        "id": "dwxTZwfGbRsR"
      }
    },
    {
      "cell_type": "markdown",
      "source": [
        "**Answer:** The value of $\\overline{x}$ appears to be close to $\\mu$ as it is within one standard deviation.\n"
      ],
      "metadata": {
        "id": "qivXpxqGbTMp"
      }
    },
    {
      "cell_type": "markdown",
      "source": [
        "**Exercise:** Perform a two-sided $t$-test to check whether the mean from this data set is consistent with a hypothesis that it's equal to the known population mean. Is the data consistent with $H_0: \\mu = 45$?\n",
        "\n",
        "```{r eval=FALSE}\n",
        "t.test(\n",
        "  x = sim$Age,\n",
        "  mu = mu,\n",
        "  conf.level = 0.95,\n",
        "  alternative = \"two.sided\"\n",
        ")\n",
        "```\n",
        "\n",
        "**Answer:**"
      ],
      "metadata": {
        "id": "PWEr-vYSbUNB"
      }
    },
    {
      "cell_type": "code",
      "source": [
        "t.test(\n",
        "  x = sim$Age,\n",
        "  mu = mu,\n",
        "  conf.level = 0.95,\n",
        "  alternative = \"two.sided\"\n",
        ")"
      ],
      "metadata": {
        "id": "v6BPAz2IbWUq",
        "colab": {
          "base_uri": "https://localhost:8080/",
          "height": 208
        },
        "outputId": "d9eab7fe-40e7-455b-ea2c-078a6605d0b9"
      },
      "execution_count": 14,
      "outputs": [
        {
          "output_type": "display_data",
          "data": {
            "text/plain": [
              "\n",
              "\tOne Sample t-test\n",
              "\n",
              "data:  sim$Age\n",
              "t = 1.363, df = 4, p-value = 0.2446\n",
              "alternative hypothesis: true mean is not equal to 45\n",
              "95 percent confidence interval:\n",
              " 33.79378 77.81822\n",
              "sample estimates:\n",
              "mean of x \n",
              "   55.806 \n"
            ]
          },
          "metadata": {}
        }
      ]
    },
    {
      "cell_type": "markdown",
      "source": [
        "**Exercise:** Calculate a two-sided 95% confidence interval for $\\mu$. Is $\\mu$ contained within the confidence interval? Is the data consistent with the hypothesis that the true mean is 45?\n",
        "\n",
        "**Answer:** Don't need to calculate, as it's in the the t-test above; for completeness we can do:\n"
      ],
      "metadata": {
        "id": "bBLVmJV5bZWx"
      }
    },
    {
      "cell_type": "code",
      "source": [
        "(L <- xbar + qt(p = 0.025, df = n - 1)*se)\n",
        "(U <- xbar + qt(p = 0.975, df = n - 1)*se)"
      ],
      "metadata": {
        "id": "Pd3WEv60bZx8",
        "colab": {
          "base_uri": "https://localhost:8080/",
          "height": 52
        },
        "outputId": "034b5d71-0209-439c-8c67-f0c2adb51420"
      },
      "execution_count": 15,
      "outputs": [
        {
          "output_type": "display_data",
          "data": {
            "text/html": [
              "33.7937794834214"
            ],
            "text/markdown": "33.7937794834214",
            "text/latex": "33.7937794834214",
            "text/plain": [
              "[1] 33.79378"
            ]
          },
          "metadata": {}
        },
        {
          "output_type": "display_data",
          "data": {
            "text/html": [
              "77.8182157362206"
            ],
            "text/markdown": "77.8182157362206",
            "text/latex": "77.8182157362206",
            "text/plain": [
              "[1] 77.81822"
            ]
          },
          "metadata": {}
        }
      ]
    },
    {
      "cell_type": "markdown",
      "source": [
        "# Activity 6 -- Many simulations\n"
      ],
      "metadata": {
        "id": "BrXLuX7kba0j"
      }
    },
    {
      "cell_type": "markdown",
      "source": [
        "\n",
        "\n",
        "We'll now simulate many experiments to look at how sampling variability gives rise to different confidence intervals and different conclusions regarding our hypothesis testing.\n",
        "\n",
        "First, we state that we want 100 simulations each containing 5 deaths.\n",
        "\n",
        "```{r eval=FALSE}\n",
        "n_sims <- 100\n",
        "n_deaths <- 5\n",
        "```\n",
        "\n",
        "Next we perform the simulation.\n",
        "\n",
        "```{r eval=FALSE}\n",
        "sim_data <- expand.grid(\n",
        "  death = 1:n_deaths,\n",
        "  sim = 1:n_sims\n",
        ")\n",
        "\n",
        "sim_data <- mutate(sim_data,\n",
        "  Age = rnorm(\n",
        "    n = n_deaths * n_sims,\n",
        "    mean = mu,\n",
        "    sd = sigma\n",
        "  )\n",
        ")\n",
        "```\n",
        "\n",
        "**Exercise:** Calculate the sample mean, sample standard deviation, standard error of the mean, and number of observations, for each simulation, storing them in a data frame.\n",
        "\n",
        "**Answer**:"
      ],
      "metadata": {
        "id": "0YkR2XvGbd5r"
      }
    },
    {
      "cell_type": "code",
      "source": [
        "# grid definition\n",
        "n_sims <- 100\n",
        "n_deaths <- 5\n",
        "\n",
        "# grid generation\n",
        "sim_data <- expand.grid(\n",
        "  death = 1:n_deaths,\n",
        "  sim = 1:n_sims\n",
        ")\n",
        "\n",
        "# data / random value generation\n",
        "sim_data <- mutate(sim_data,\n",
        "  Age = rnorm(\n",
        "    n = n_deaths * n_sims,\n",
        "    mean = mu,\n",
        "    sd = sigma\n",
        "  )\n",
        ")\n",
        "\n",
        "sim_data <- group_by(sim_data, sim)\n",
        "simSum <- summarise(sim_data, xbar = mean(Age), s = sd(Age), se = std.error(Age), n = n() )\n",
        "head(simSum)\n",
        "dim(simSum)"
      ],
      "metadata": {
        "id": "Aoqjh1ehbc76",
        "colab": {
          "base_uri": "https://localhost:8080/",
          "height": 303
        },
        "outputId": "01381be8-c898-484c-b0aa-712466e58ca6"
      },
      "execution_count": 16,
      "outputs": [
        {
          "output_type": "display_data",
          "data": {
            "text/html": [
              "<table class=\"dataframe\">\n",
              "<caption>A tibble: 6 × 5</caption>\n",
              "<thead>\n",
              "\t<tr><th scope=col>sim</th><th scope=col>xbar</th><th scope=col>s</th><th scope=col>se</th><th scope=col>n</th></tr>\n",
              "\t<tr><th scope=col>&lt;int&gt;</th><th scope=col>&lt;dbl&gt;</th><th scope=col>&lt;dbl&gt;</th><th scope=col>&lt;dbl&gt;</th><th scope=col>&lt;int&gt;</th></tr>\n",
              "</thead>\n",
              "<tbody>\n",
              "\t<tr><td>1</td><td>36.32305</td><td>20.64314</td><td> 9.231891</td><td>5</td></tr>\n",
              "\t<tr><td>2</td><td>45.43099</td><td>13.42150</td><td> 6.002279</td><td>5</td></tr>\n",
              "\t<tr><td>3</td><td>57.75737</td><td>25.56495</td><td>11.432991</td><td>5</td></tr>\n",
              "\t<tr><td>4</td><td>47.52408</td><td>19.56327</td><td> 8.748962</td><td>5</td></tr>\n",
              "\t<tr><td>5</td><td>46.48338</td><td>21.80611</td><td> 9.751987</td><td>5</td></tr>\n",
              "\t<tr><td>6</td><td>60.62951</td><td>25.55370</td><td>11.427961</td><td>5</td></tr>\n",
              "</tbody>\n",
              "</table>\n"
            ],
            "text/markdown": "\nA tibble: 6 × 5\n\n| sim &lt;int&gt; | xbar &lt;dbl&gt; | s &lt;dbl&gt; | se &lt;dbl&gt; | n &lt;int&gt; |\n|---|---|---|---|---|\n| 1 | 36.32305 | 20.64314 |  9.231891 | 5 |\n| 2 | 45.43099 | 13.42150 |  6.002279 | 5 |\n| 3 | 57.75737 | 25.56495 | 11.432991 | 5 |\n| 4 | 47.52408 | 19.56327 |  8.748962 | 5 |\n| 5 | 46.48338 | 21.80611 |  9.751987 | 5 |\n| 6 | 60.62951 | 25.55370 | 11.427961 | 5 |\n\n",
            "text/latex": "A tibble: 6 × 5\n\\begin{tabular}{lllll}\n sim & xbar & s & se & n\\\\\n <int> & <dbl> & <dbl> & <dbl> & <int>\\\\\n\\hline\n\t 1 & 36.32305 & 20.64314 &  9.231891 & 5\\\\\n\t 2 & 45.43099 & 13.42150 &  6.002279 & 5\\\\\n\t 3 & 57.75737 & 25.56495 & 11.432991 & 5\\\\\n\t 4 & 47.52408 & 19.56327 &  8.748962 & 5\\\\\n\t 5 & 46.48338 & 21.80611 &  9.751987 & 5\\\\\n\t 6 & 60.62951 & 25.55370 & 11.427961 & 5\\\\\n\\end{tabular}\n",
            "text/plain": [
              "  sim xbar     s        se        n\n",
              "1 1   36.32305 20.64314  9.231891 5\n",
              "2 2   45.43099 13.42150  6.002279 5\n",
              "3 3   57.75737 25.56495 11.432991 5\n",
              "4 4   47.52408 19.56327  8.748962 5\n",
              "5 5   46.48338 21.80611  9.751987 5\n",
              "6 6   60.62951 25.55370 11.427961 5"
            ]
          },
          "metadata": {}
        },
        {
          "output_type": "display_data",
          "data": {
            "text/html": [
              "<style>\n",
              ".list-inline {list-style: none; margin:0; padding: 0}\n",
              ".list-inline>li {display: inline-block}\n",
              ".list-inline>li:not(:last-child)::after {content: \"\\00b7\"; padding: 0 .5ex}\n",
              "</style>\n",
              "<ol class=list-inline><li>100</li><li>5</li></ol>\n"
            ],
            "text/markdown": "1. 100\n2. 5\n\n\n",
            "text/latex": "\\begin{enumerate*}\n\\item 100\n\\item 5\n\\end{enumerate*}\n",
            "text/plain": [
              "[1] 100   5"
            ]
          },
          "metadata": {}
        }
      ]
    },
    {
      "cell_type": "markdown",
      "source": [
        "**Exercise:** Use the `mutate()` function as earlier to calculate the lower and upper bounds of the 95% confidence intervals for $\\mu$ for each simulation.\n",
        "\n",
        "**Answer:**"
      ],
      "metadata": {
        "id": "iAFA3Oo3buLj"
      }
    },
    {
      "cell_type": "code",
      "source": [
        "simSum <- mutate(simSum, L = xbar + qt(p = 0.025, df = n-1)*se,\n",
        "                 U = xbar + qt(p = 0.975, df = n-1)*se)\n",
        "head(simSum)"
      ],
      "metadata": {
        "id": "D39RkjsobuwJ",
        "colab": {
          "base_uri": "https://localhost:8080/",
          "height": 286
        },
        "outputId": "4811faee-3aa8-437a-ccad-4232b59e624f"
      },
      "execution_count": 17,
      "outputs": [
        {
          "output_type": "display_data",
          "data": {
            "text/html": [
              "<table class=\"dataframe\">\n",
              "<caption>A tibble: 6 × 7</caption>\n",
              "<thead>\n",
              "\t<tr><th scope=col>sim</th><th scope=col>xbar</th><th scope=col>s</th><th scope=col>se</th><th scope=col>n</th><th scope=col>L</th><th scope=col>U</th></tr>\n",
              "\t<tr><th scope=col>&lt;int&gt;</th><th scope=col>&lt;dbl&gt;</th><th scope=col>&lt;dbl&gt;</th><th scope=col>&lt;dbl&gt;</th><th scope=col>&lt;int&gt;</th><th scope=col>&lt;dbl&gt;</th><th scope=col>&lt;dbl&gt;</th></tr>\n",
              "</thead>\n",
              "<tbody>\n",
              "\t<tr><td>1</td><td>36.32305</td><td>20.64314</td><td> 9.231891</td><td>5</td><td>10.69122</td><td>61.95489</td></tr>\n",
              "\t<tr><td>2</td><td>45.43099</td><td>13.42150</td><td> 6.002279</td><td>5</td><td>28.76599</td><td>62.09599</td></tr>\n",
              "\t<tr><td>3</td><td>57.75737</td><td>25.56495</td><td>11.432991</td><td>5</td><td>26.01430</td><td>89.50044</td></tr>\n",
              "\t<tr><td>4</td><td>47.52408</td><td>19.56327</td><td> 8.748962</td><td>5</td><td>23.23307</td><td>71.81509</td></tr>\n",
              "\t<tr><td>5</td><td>46.48338</td><td>21.80611</td><td> 9.751987</td><td>5</td><td>19.40753</td><td>73.55924</td></tr>\n",
              "\t<tr><td>6</td><td>60.62951</td><td>25.55370</td><td>11.427961</td><td>5</td><td>28.90040</td><td>92.35862</td></tr>\n",
              "</tbody>\n",
              "</table>\n"
            ],
            "text/markdown": "\nA tibble: 6 × 7\n\n| sim &lt;int&gt; | xbar &lt;dbl&gt; | s &lt;dbl&gt; | se &lt;dbl&gt; | n &lt;int&gt; | L &lt;dbl&gt; | U &lt;dbl&gt; |\n|---|---|---|---|---|---|---|\n| 1 | 36.32305 | 20.64314 |  9.231891 | 5 | 10.69122 | 61.95489 |\n| 2 | 45.43099 | 13.42150 |  6.002279 | 5 | 28.76599 | 62.09599 |\n| 3 | 57.75737 | 25.56495 | 11.432991 | 5 | 26.01430 | 89.50044 |\n| 4 | 47.52408 | 19.56327 |  8.748962 | 5 | 23.23307 | 71.81509 |\n| 5 | 46.48338 | 21.80611 |  9.751987 | 5 | 19.40753 | 73.55924 |\n| 6 | 60.62951 | 25.55370 | 11.427961 | 5 | 28.90040 | 92.35862 |\n\n",
            "text/latex": "A tibble: 6 × 7\n\\begin{tabular}{lllllll}\n sim & xbar & s & se & n & L & U\\\\\n <int> & <dbl> & <dbl> & <dbl> & <int> & <dbl> & <dbl>\\\\\n\\hline\n\t 1 & 36.32305 & 20.64314 &  9.231891 & 5 & 10.69122 & 61.95489\\\\\n\t 2 & 45.43099 & 13.42150 &  6.002279 & 5 & 28.76599 & 62.09599\\\\\n\t 3 & 57.75737 & 25.56495 & 11.432991 & 5 & 26.01430 & 89.50044\\\\\n\t 4 & 47.52408 & 19.56327 &  8.748962 & 5 & 23.23307 & 71.81509\\\\\n\t 5 & 46.48338 & 21.80611 &  9.751987 & 5 & 19.40753 & 73.55924\\\\\n\t 6 & 60.62951 & 25.55370 & 11.427961 & 5 & 28.90040 & 92.35862\\\\\n\\end{tabular}\n",
            "text/plain": [
              "  sim xbar     s        se        n L        U       \n",
              "1 1   36.32305 20.64314  9.231891 5 10.69122 61.95489\n",
              "2 2   45.43099 13.42150  6.002279 5 28.76599 62.09599\n",
              "3 3   57.75737 25.56495 11.432991 5 26.01430 89.50044\n",
              "4 4   47.52408 19.56327  8.748962 5 23.23307 71.81509\n",
              "5 5   46.48338 21.80611  9.751987 5 19.40753 73.55924\n",
              "6 6   60.62951 25.55370 11.427961 5 28.90040 92.35862"
            ]
          },
          "metadata": {}
        }
      ]
    },
    {
      "cell_type": "markdown",
      "source": [
        "**Exercise:** Plot a histogram of the sample means. Describe what shape it makes.\n",
        "\n",
        "**Answer:**"
      ],
      "metadata": {
        "id": "Lz-x864Zbvc3"
      }
    },
    {
      "cell_type": "code",
      "source": [
        "ggplot(data = simSum, aes(x = xbar)) +\n",
        "  geom_histogram(colour = 'black', fill = 'coral', bins=15)"
      ],
      "metadata": {
        "id": "MSyO2lifbyJ0",
        "colab": {
          "base_uri": "https://localhost:8080/",
          "height": 257
        },
        "outputId": "3f5f9753-148c-429f-a71a-e7be424d0814"
      },
      "execution_count": 18,
      "outputs": [
        {
          "output_type": "display_data",
          "data": {
            "text/plain": [
              "plot without title"
            ],
            "image/png": "[encoded data removed]"
          },
          "metadata": {
            "image/png": {
              "width": 720,
              "height": 240
            }
          }
        }
      ]
    },
    {
      "cell_type": "markdown",
      "source": [
        "**Exercise:** Using `geom_pointrange()`, build a graph that shows the sample mean and 95% confidence intervals for each simulation\n",
        "\n",
        "```{r eval=FALSE}\n",
        "ggplot(...) +\n",
        "  geom_pointrange(aes(\n",
        "    ymin = L,\n",
        "    ymax = U,\n",
        "    y = xbar\n",
        "  )) +\n",
        "  ...\n",
        "```\n",
        "\n",
        "**Answer:**\n"
      ],
      "metadata": {
        "id": "bgb1T2Djb9rZ"
      }
    },
    {
      "cell_type": "code",
      "source": [
        "ggplot(data = simSum, aes(x = sim)) +\n",
        "  geom_pointrange(aes(\n",
        "    ymin = L,\n",
        "    ymax = U,\n",
        "    y = xbar\n",
        "  ))"
      ],
      "metadata": {
        "id": "NrL3B_btb-J4",
        "colab": {
          "base_uri": "https://localhost:8080/",
          "height": 257
        },
        "outputId": "4eda219f-2770-4b96-fe6c-fffefdc4741e"
      },
      "execution_count": 19,
      "outputs": [
        {
          "output_type": "display_data",
          "data": {
            "text/plain": [
              "plot without title"
            ],
            "image/png": "[encoded data removed]"
          },
          "metadata": {
            "image/png": {
              "width": 720,
              "height": 240
            }
          }
        }
      ]
    },
    {
      "cell_type": "markdown",
      "source": [
        "**Exercise:** To help us identify whether the confidence intervals contain the known, true value of $\\mu$ let's determine for each simulation whether $L < \\mu < U$. **NB:** We are not calculating whether $L < \\overline{x} < U$\n",
        "\n",
        "```{r eval=FALSE}\n",
        "... <- mutate(..., mu_inside_CI = (L < mu) & (mu < U))\n",
        "```\n",
        "\n",
        "**Answer:**\n"
      ],
      "metadata": {
        "id": "o8hTAr6McAf-"
      }
    },
    {
      "cell_type": "code",
      "source": [
        "simSum <- mutate(simSum, mu_inside_CI = (L < mu) & (mu < U))\n",
        "head(simSum)"
      ],
      "metadata": {
        "id": "Tc86steLcA2i",
        "colab": {
          "base_uri": "https://localhost:8080/",
          "height": 286
        },
        "outputId": "cf2993a9-dc2f-4b6e-dd8a-6a3830a33e68"
      },
      "execution_count": 20,
      "outputs": [
        {
          "output_type": "display_data",
          "data": {
            "text/html": [
              "<table class=\"dataframe\">\n",
              "<caption>A tibble: 6 × 8</caption>\n",
              "<thead>\n",
              "\t<tr><th scope=col>sim</th><th scope=col>xbar</th><th scope=col>s</th><th scope=col>se</th><th scope=col>n</th><th scope=col>L</th><th scope=col>U</th><th scope=col>mu_inside_CI</th></tr>\n",
              "\t<tr><th scope=col>&lt;int&gt;</th><th scope=col>&lt;dbl&gt;</th><th scope=col>&lt;dbl&gt;</th><th scope=col>&lt;dbl&gt;</th><th scope=col>&lt;int&gt;</th><th scope=col>&lt;dbl&gt;</th><th scope=col>&lt;dbl&gt;</th><th scope=col>&lt;lgl&gt;</th></tr>\n",
              "</thead>\n",
              "<tbody>\n",
              "\t<tr><td>1</td><td>36.32305</td><td>20.64314</td><td> 9.231891</td><td>5</td><td>10.69122</td><td>61.95489</td><td>TRUE</td></tr>\n",
              "\t<tr><td>2</td><td>45.43099</td><td>13.42150</td><td> 6.002279</td><td>5</td><td>28.76599</td><td>62.09599</td><td>TRUE</td></tr>\n",
              "\t<tr><td>3</td><td>57.75737</td><td>25.56495</td><td>11.432991</td><td>5</td><td>26.01430</td><td>89.50044</td><td>TRUE</td></tr>\n",
              "\t<tr><td>4</td><td>47.52408</td><td>19.56327</td><td> 8.748962</td><td>5</td><td>23.23307</td><td>71.81509</td><td>TRUE</td></tr>\n",
              "\t<tr><td>5</td><td>46.48338</td><td>21.80611</td><td> 9.751987</td><td>5</td><td>19.40753</td><td>73.55924</td><td>TRUE</td></tr>\n",
              "\t<tr><td>6</td><td>60.62951</td><td>25.55370</td><td>11.427961</td><td>5</td><td>28.90040</td><td>92.35862</td><td>TRUE</td></tr>\n",
              "</tbody>\n",
              "</table>\n"
            ],
            "text/markdown": "\nA tibble: 6 × 8\n\n| sim &lt;int&gt; | xbar &lt;dbl&gt; | s &lt;dbl&gt; | se &lt;dbl&gt; | n &lt;int&gt; | L &lt;dbl&gt; | U &lt;dbl&gt; | mu_inside_CI &lt;lgl&gt; |\n|---|---|---|---|---|---|---|---|\n| 1 | 36.32305 | 20.64314 |  9.231891 | 5 | 10.69122 | 61.95489 | TRUE |\n| 2 | 45.43099 | 13.42150 |  6.002279 | 5 | 28.76599 | 62.09599 | TRUE |\n| 3 | 57.75737 | 25.56495 | 11.432991 | 5 | 26.01430 | 89.50044 | TRUE |\n| 4 | 47.52408 | 19.56327 |  8.748962 | 5 | 23.23307 | 71.81509 | TRUE |\n| 5 | 46.48338 | 21.80611 |  9.751987 | 5 | 19.40753 | 73.55924 | TRUE |\n| 6 | 60.62951 | 25.55370 | 11.427961 | 5 | 28.90040 | 92.35862 | TRUE |\n\n",
            "text/latex": "A tibble: 6 × 8\n\\begin{tabular}{llllllll}\n sim & xbar & s & se & n & L & U & mu\\_inside\\_CI\\\\\n <int> & <dbl> & <dbl> & <dbl> & <int> & <dbl> & <dbl> & <lgl>\\\\\n\\hline\n\t 1 & 36.32305 & 20.64314 &  9.231891 & 5 & 10.69122 & 61.95489 & TRUE\\\\\n\t 2 & 45.43099 & 13.42150 &  6.002279 & 5 & 28.76599 & 62.09599 & TRUE\\\\\n\t 3 & 57.75737 & 25.56495 & 11.432991 & 5 & 26.01430 & 89.50044 & TRUE\\\\\n\t 4 & 47.52408 & 19.56327 &  8.748962 & 5 & 23.23307 & 71.81509 & TRUE\\\\\n\t 5 & 46.48338 & 21.80611 &  9.751987 & 5 & 19.40753 & 73.55924 & TRUE\\\\\n\t 6 & 60.62951 & 25.55370 & 11.427961 & 5 & 28.90040 & 92.35862 & TRUE\\\\\n\\end{tabular}\n",
            "text/plain": [
              "  sim xbar     s        se        n L        U        mu_inside_CI\n",
              "1 1   36.32305 20.64314  9.231891 5 10.69122 61.95489 TRUE        \n",
              "2 2   45.43099 13.42150  6.002279 5 28.76599 62.09599 TRUE        \n",
              "3 3   57.75737 25.56495 11.432991 5 26.01430 89.50044 TRUE        \n",
              "4 4   47.52408 19.56327  8.748962 5 23.23307 71.81509 TRUE        \n",
              "5 5   46.48338 21.80611  9.751987 5 19.40753 73.55924 TRUE        \n",
              "6 6   60.62951 25.55370 11.427961 5 28.90040 92.35862 TRUE        "
            ]
          },
          "metadata": {}
        }
      ]
    },
    {
      "cell_type": "markdown",
      "source": [
        "**Exercise:** Let's now build a graph that shows the 95% confidence intervals, coloured by whether or not $\\mu$ is inside the CI, with a horizontal line at 45 to indicate the true population mean.\n",
        "\n",
        "**Answer:**"
      ],
      "metadata": {
        "id": "JCmv-nwTcDIB"
      }
    },
    {
      "cell_type": "code",
      "source": [
        "ggplot(data = simSum, aes(x = sim)) +\n",
        "  geom_pointrange(aes(\n",
        "    ymin = L,\n",
        "    ymax = U,\n",
        "    y = xbar,\n",
        "    colour = mu_inside_CI\n",
        "  ))"
      ],
      "metadata": {
        "id": "F--7JRDNcDxc",
        "colab": {
          "base_uri": "https://localhost:8080/",
          "height": 257
        },
        "outputId": "a2f0bd23-eb93-458c-8f84-89a62148527a"
      },
      "execution_count": 21,
      "outputs": [
        {
          "output_type": "display_data",
          "data": {
            "text/plain": [
              "plot without title"
            ],
            "image/png": "[encoded data removed]"
          },
          "metadata": {
            "image/png": {
              "width": 720,
              "height": 240
            }
          }
        }
      ]
    },
    {
      "cell_type": "markdown",
      "source": [
        "**Exercise:** Count how many times $\\mu$ is contained within the CI. Is this close to what we expect to see?\n",
        "\n",
        "**Answer:** got 6, expecting around 5"
      ],
      "metadata": {
        "id": "JHwHz5G5cGLT"
      }
    },
    {
      "cell_type": "code",
      "source": [
        "# prompt: add a horizontal line to the above plot at y=45\n",
        "\n",
        "ggplot(data = simSum, aes(x = sim)) +\n",
        "  geom_pointrange(aes(\n",
        "    ymin = L,\n",
        "    ymax = U,\n",
        "    y = xbar,\n",
        "    colour = mu_inside_CI\n",
        "  )) +\n",
        "  geom_hline(yintercept = 45, colour = \"red\")\n"
      ],
      "metadata": {
        "id": "NFkCA1U2cGfN",
        "colab": {
          "base_uri": "https://localhost:8080/",
          "height": 257
        },
        "outputId": "3720d6a3-a880-4afe-a5d3-48e5bb589e17"
      },
      "execution_count": 22,
      "outputs": [
        {
          "output_type": "display_data",
          "data": {
            "text/plain": [
              "plot without title"
            ],
            "image/png": "[encoded data removed]"
          },
          "metadata": {
            "image/png": {
              "width": 720,
              "height": 240
            }
          }
        }
      ]
    },
    {
      "cell_type": "code",
      "source": [
        "# Can run this cell to generate these results again for a different distribution and count of covered intervals\n",
        "# parameter definition\n",
        "mu=45\n",
        "sigma=20\n",
        "\n",
        "# grid definition\n",
        "n_sims <- 100\n",
        "n_deaths <- 5\n",
        "\n",
        "# grid generation\n",
        "sim_data <- expand.grid(\n",
        "  death = 1:n_deaths,\n",
        "  sim = 1:n_sims\n",
        ")\n",
        "\n",
        "# data / random value generation\n",
        "sim_data <- mutate(sim_data,\n",
        "  Age = rnorm(\n",
        "    n = n_deaths * n_sims,\n",
        "    mean = mu,\n",
        "    sd = sigma\n",
        "  )\n",
        ")\n",
        "\n",
        "sim_data <- group_by(sim_data, sim)\n",
        "simSum <- summarise(sim_data, xbar = mean(Age), s = sd(Age), se = std.error(Age), n = n() )\n",
        "simSum <- mutate(simSum, L = xbar + qt(p = 0.025, df = n-1)*se,\n",
        "                 U = xbar + qt(p = 0.975, df = n-1)*se)\n",
        "simSum <- mutate(simSum, mu_inside_CI = (L < mu) & (mu < U))\n",
        "\n",
        "ggplot(data = simSum, aes(x = xbar)) +\n",
        "  geom_histogram(colour = 'black', fill = 'coral', bins=15)\n",
        "\n",
        "ggplot(data = simSum, aes(x = sim)) +\n",
        "  geom_pointrange(aes(\n",
        "    ymin = L,\n",
        "    ymax = U,\n",
        "    y = xbar,\n",
        "    colour = mu_inside_CI\n",
        "  )) +\n",
        "  geom_hline(yintercept = 45, colour = \"red\")"
      ],
      "metadata": {
        "id": "VfksAPyhbrpf",
        "colab": {
          "base_uri": "https://localhost:8080/",
          "height": 497
        },
        "outputId": "ffe4b5ad-23b1-4f5e-cda9-1ce311b46589"
      },
      "execution_count": 23,
      "outputs": [
        {
          "output_type": "display_data",
          "data": {
            "text/plain": [
              "plot without title"
            ],
            "image/png": "[encoded data removed]"
          },
          "metadata": {
            "image/png": {
              "width": 720,
              "height": 240
            }
          }
        },
        {
          "output_type": "display_data",
          "data": {
            "text/plain": [
              "plot without title"
            ],
            "image/png": "[encoded data removed]"
          },
          "metadata": {
            "image/png": {
              "width": 720,
              "height": 240
            }
          }
        }
      ]
    },
    {
      "cell_type": "code",
      "source": [],
      "metadata": {
        "id": "mb2wBGSmTFYV"
      },
      "execution_count": null,
      "outputs": []
    }
  ]
}