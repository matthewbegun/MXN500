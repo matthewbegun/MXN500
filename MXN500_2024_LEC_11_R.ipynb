{
  "nbformat": 4,
  "nbformat_minor": 0,
  "metadata": {
    "colab": {
      "provenance": [],
      "authorship_tag": "ABX9TyNcuh47bOXlZEhCz/1TXXwz",
      "include_colab_link": true
    },
    "kernelspec": {
      "name": "ir",
      "display_name": "R"
    },
    "language_info": {
      "name": "R"
    }
  },
  "cells": [
    {
      "cell_type": "markdown",
      "metadata": {
        "id": "view-in-github",
        "colab_type": "text"
      },
      "source": [
        "<a href=\"https://colab.research.google.com/github/matthewbegun/MXN500/blob/main/MXN500_2024_LEC_11_R.ipynb\" target=\"_parent\"><img src=\"https://colab.research.google.com/assets/colab-badge.svg\" alt=\"Open In Colab\"/></a>"
      ]
    },
    {
      "cell_type": "markdown",
      "source": [
        "# MXN500 Lecture 11 - And now for some more linear models!\n"
      ],
      "metadata": {
        "id": "fzNxkvalmQcR"
      }
    },
    {
      "cell_type": "code",
      "execution_count": null,
      "metadata": {
        "id": "NSiFUMe8FzPi",
        "collapsed": true
      },
      "outputs": [],
      "source": [
        "#@title Imports\n",
        "if (!require(pacman)) install.packages(\"pacman\")\n",
        "pacman::p_load(tidyverse, broom, GGally)"
      ]
    },
    {
      "cell_type": "code",
      "source": [
        "#@title Options\n",
        "options(repr.plot.width=15, repr.plot.height=5, repr.plot.pointsize=24)"
      ],
      "metadata": {
        "id": "zXcwvhrZX9WL"
      },
      "execution_count": null,
      "outputs": []
    },
    {
      "cell_type": "markdown",
      "source": [
        "## Slide 11 - Correlation in Action"
      ],
      "metadata": {
        "id": "RHF-Ky8VsAfJ"
      }
    },
    {
      "cell_type": "markdown",
      "source": [
        "1. What is the correlation between petal length and petal width in the `iris` data set?\n",
        "1. What do you expect the $𝑅^2$ value to be if you fit a linear model using petal width as the outcome variable, based on your result in above?\n",
        "1. Which physio-chemical water quality variables in the `Ecologyv2.csv` data set are related to taxon richness?\n"
      ],
      "metadata": {
        "id": "ElBaA5tK1E86"
      }
    },
    {
      "cell_type": "code",
      "source": [
        "# What is the correlation between petal length and petal width in the iris data set?\n",
        "cor(iris$Petal.Length, iris$Petal.Width)"
      ],
      "metadata": {
        "id": "oZ6Or0NQ-T_P"
      },
      "execution_count": null,
      "outputs": []
    },
    {
      "cell_type": "code",
      "source": [
        "# What do you expect the  R2  value to be if you fit a linear model using petal width as the outcome variable, based on your result in above?\n",
        "cor(iris$Petal.Length, iris$Petal.Width)^2"
      ],
      "metadata": {
        "id": "yN_UHPS2pFyp"
      },
      "execution_count": null,
      "outputs": []
    },
    {
      "cell_type": "code",
      "source": [
        "# Can confirm this:\n",
        "summary(lm(data=iris, Petal.Width ~ Petal.Length))"
      ],
      "metadata": {
        "id": "hOy1MjIspIHO"
      },
      "execution_count": null,
      "outputs": []
    },
    {
      "cell_type": "code",
      "source": [
        "# Which physio-chemical water quality variables in the Ecologyv2.csv data set are related to taxon richness?\n",
        "eco <- read_csv(\"Ecologyv2.csv\")\n",
        "eco_vars <- c(\"Richness\", \"Turbidity\", \"DO\", \"Cond\", \"pH\", \"Temp\")\n",
        "eco_pairs <- ggpairs(eco, columns = eco_vars,\n",
        "                     lower=list(continuous=\"smooth\"),\n",
        "                     diag=list(continuous=\"densityDiag\"))\n",
        "eco_pairs\n"
      ],
      "metadata": {
        "id": "Uel2U9-EncJA"
      },
      "execution_count": null,
      "outputs": []
    },
    {
      "cell_type": "markdown",
      "source": [
        "We can see the following things about correlation with taxon richness:\n",
        "- Strong negative correlation with turbidity.\n",
        "- Moderately positive correlation with dissolved oxygen.\n",
        "- Strongly negative correlation with conductivity (perhaps in groups).\n",
        "- Weakly positive correlation with pH (not significant).\n",
        "- Moderately negative correlation with temperature.\n"
      ],
      "metadata": {
        "id": "VxdhxqxcoUCw"
      }
    },
    {
      "cell_type": "code",
      "source": [
        "# Table of correlation values:\n",
        "eco_cor <- eco %>%\n",
        "  select(all_of(eco_vars)) %>%\n",
        "  cor() %>%\n",
        "  round(., 3)\n",
        "eco_cor"
      ],
      "metadata": {
        "id": "GBgTy6_joUdq"
      },
      "execution_count": null,
      "outputs": []
    },
    {
      "cell_type": "code",
      "source": [
        "# Pretty picture:\n",
        "cor_long <- eco_cor %>%\n",
        "  as.data.frame() %>%\n",
        "  mutate(X = row.names(.)) %>%\n",
        "  pivot_longer(cols = -X, names_to = \"Y\",\n",
        "               values_to = \"corr_value\") %>%\n",
        "  mutate(X = fct_relevel(X, eco_vars),\n",
        "         Y = fct_relevel(Y, eco_vars))\n",
        "eco_cor_heat <- ggplot(data=cor_long,\n",
        "                       aes(x=X, y=Y)) +\n",
        "  geom_tile(aes(fill=corr_value)) +\n",
        "  scale_fill_gradient2(low=\"red\", mid=\"white\",\n",
        "                       high=\"blue\", midpoint = 0, limits=c(-1,1)) +\n",
        "  theme(axis.text.x=element_text(angle=90, hjust=1, vjust=0.5)) +\n",
        "  coord_equal() + xlab(\"\") + ylab(\"\")\n",
        "eco_cor_heat"
      ],
      "metadata": {
        "id": "EGXBO5oaolEa"
      },
      "execution_count": null,
      "outputs": []
    },
    {
      "cell_type": "markdown",
      "source": [
        "## Slide 15 -Analysis Roadmap"
      ],
      "metadata": {
        "id": "KHkRzKvcpTHs"
      }
    },
    {
      "cell_type": "markdown",
      "source": [
        "The `hills` data set from the `MASS` library contains record times in 1984 for 35 Scottish hill races.\n",
        "- Distance in miles (on the map), dist.\n",
        "- Total height gained during the route (in feet), climb.\n",
        "- Record time (minutes), time.\n",
        "\n",
        "1. Can we predict a record time based on the distance and the height gained during the race? Answer this question by following the given analysis roadmap.\n"
      ],
      "metadata": {
        "id": "4QloX3AlpS_y"
      }
    },
    {
      "cell_type": "markdown",
      "source": [
        "### 1. Visualise data – exploratory analysis."
      ],
      "metadata": {
        "id": "4d1E63qiq3X2"
      }
    },
    {
      "cell_type": "code",
      "source": [
        "# load the hills data\n",
        "hills <- MASS::hills\n",
        "\n",
        "# Visually summarise the data so that the reader understands what it is.\n",
        "# Visualise all variables separately.\n",
        "hills_pairs <- ggpairs(hills,\n",
        "                       lower=list(continuous=\"smooth\"),\n",
        "                       diag=list(continuous=\"densityDiag\"))\n",
        "hills_pairs"
      ],
      "metadata": {
        "id": "8A85pkpxp3Eo"
      },
      "execution_count": null,
      "outputs": []
    },
    {
      "cell_type": "code",
      "source": [
        "# Produce some numerical summaries.\n",
        "hills %>%\n",
        "  pivot_longer(c(dist, climb,  time), names_to = \"variable\", values_to = \"value\")  %>%\n",
        "  group_by(variable) %>%\n",
        "  summarise(Mean = mean(value),\n",
        "            SD = sd(value),\n",
        "            Min = min(value),\n",
        "            Max = max(value))"
      ],
      "metadata": {
        "id": "p5Xe39YfqEeB"
      },
      "execution_count": null,
      "outputs": []
    },
    {
      "cell_type": "markdown",
      "source": [
        "### 2. Fit linear model.\n"
      ],
      "metadata": {
        "id": "cbvH5HmzrHmE"
      }
    },
    {
      "cell_type": "markdown",
      "source": [
        "- Estimate parameters.\n",
        "- Calculate confidence intervals to summarise parameter uncertainty.\n",
        "- Perform 𝑡 tests to check necessity of parameters."
      ],
      "metadata": {
        "id": "zD3e0EwErX-4"
      }
    },
    {
      "cell_type": "code",
      "source": [
        "# Model specifying that time varies with dist and climb together.\n",
        "hills_fit <- lm(data = hills, time ~ dist + climb)\n",
        "hills_fit_tidy <- tidy(hills_fit, conf.int = TRUE)\n",
        "hills_fit_tidy"
      ],
      "metadata": {
        "id": "Rd2ZTPimrMVn"
      },
      "execution_count": null,
      "outputs": []
    },
    {
      "cell_type": "markdown",
      "source": [
        "For each parameter in our model, we want to know whether it is significantly different from zero with $\\alpha=0.05$.\n",
        "\n",
        "In this instance, we have evidence to reject the null hypothesis for each parameter.\n",
        "\n",
        "Also have evidence to reject `intercept = 0`, but this is not as important, given that the model isn't feasible when `dist = 0` and `climb = 0`.\n"
      ],
      "metadata": {
        "id": "Od3IDnoRr7IN"
      }
    },
    {
      "cell_type": "markdown",
      "source": [
        "### 3. Assess goodness of fit.\n"
      ],
      "metadata": {
        "id": "CTiPuytzp2a1"
      }
    },
    {
      "cell_type": "code",
      "source": [
        "# How well did our model explain the variability in the data?\n",
        "# Let's look at our R-squared value.\n",
        "glance(hills_fit)$r.squared\n",
        "\n"
      ],
      "metadata": {
        "id": "dFQJxCoWrNHr"
      },
      "execution_count": null,
      "outputs": []
    },
    {
      "cell_type": "code",
      "source": [
        "# If we had have fit our two models for dist and climb separately, we'd have:\n",
        "lm(data = hills, time ~ dist) %>% glance() %>% select(r.squared)\n",
        "lm(data = hills, time ~ climb) %>% glance() %>% select(r.squared)\n"
      ],
      "metadata": {
        "id": "ma_9sThwsfLz"
      },
      "execution_count": null,
      "outputs": []
    },
    {
      "cell_type": "markdown",
      "source": [
        " Remember: R_squared isn't just the sum of the R-squared values of these two models.\n",
        "\n",
        " Also, we can't treat R-squared as the square of sample correlation here, as correlation is only defined for two variables but here we have three.\n",
        "\n",
        " Other metrics of goodness of fit are also related to model assumptions."
      ],
      "metadata": {
        "id": "rvrcHkPIsyUc"
      }
    },
    {
      "cell_type": "markdown",
      "source": [
        "### 4. Check model assumptions.\n"
      ],
      "metadata": {
        "id": "80m3TQB-sX_7"
      }
    },
    {
      "cell_type": "markdown",
      "source": [
        "- Residuals analysis.\n"
      ],
      "metadata": {
        "id": "9EXEucbovt5J"
      }
    },
    {
      "cell_type": "code",
      "source": [
        "# use fortify to get the residuals\n",
        "hills_fit_fort <- fortify(hills_fit)\n",
        "\n",
        "# plot residuals vs fitted values\n",
        "ggplot(data=hills_fit_fort, aes(x=.fitted, y=.resid)) +\n",
        "  geom_point() + xlab(\"Fitted\") +\n",
        "  geom_smooth() +\n",
        "  ylab(\"Residuals = Observed - Fitted\")"
      ],
      "metadata": {
        "id": "rvN1ByGcrNFS"
      },
      "execution_count": null,
      "outputs": []
    },
    {
      "cell_type": "markdown",
      "source": [
        "Some reasons for caution:\n",
        "- Appears to be an outlier (top left).\n",
        "- More variability for longer times.\n",
        "- Mid sections doesn't have positive results (i.e., potential curvature)."
      ],
      "metadata": {
        "id": "Wcbb118vthTS"
      }
    },
    {
      "cell_type": "code",
      "source": [
        "# QQ-plot:\n",
        "ggplot(data=hills_fit_fort, aes(sample = .stdresid)) +\n",
        "  stat_qq(geom=\"point\") +\n",
        "  geom_abline() +\n",
        "  coord_equal()\n"
      ],
      "metadata": {
        "id": "mV6GPdqvtceN"
      },
      "execution_count": null,
      "outputs": []
    },
    {
      "cell_type": "markdown",
      "source": [
        "Big red flags!\n",
        "- Residuals do not follow the diagonal line.\n",
        "- Strong evidence against normality assumptions."
      ],
      "metadata": {
        "id": "CIcl40Gdt3Uu"
      }
    },
    {
      "cell_type": "code",
      "source": [
        "# Histogram:\n",
        "ggplot(data=hills_fit_fort, aes(x=.stdresid)) +\n",
        "  geom_histogram(fill=\"grey80\", binwidth=0.5,\n",
        "                 aes(y=after_stat(density))) +\n",
        "  stat_function(fun=dnorm, xlim=c(-3,3)) +\n",
        "  geom_rug()\n"
      ],
      "metadata": {
        "id": "oI8dGnpqt05L"
      },
      "execution_count": null,
      "outputs": []
    },
    {
      "cell_type": "markdown",
      "source": [
        "And now for more bad news!\n",
        "- Too much mass in the centre.\n",
        "- A clear outlier.\n",
        "\n",
        "What if we remove that outlier?"
      ],
      "metadata": {
        "id": "dE2XtD6IuH0B"
      }
    },
    {
      "cell_type": "code",
      "source": [
        "# identify the outliers\n",
        "# unpack this carefully in the lecture!\n",
        "(\n",
        "outliers <- hills_fit_fort %>%\n",
        "  arrange(desc(.stdresid)) %>%\n",
        "  slice(1:2) %>%\n",
        "  row.names()\n",
        ")"
      ],
      "metadata": {
        "id": "Le8c6PG-t-X7"
      },
      "execution_count": null,
      "outputs": []
    },
    {
      "cell_type": "code",
      "source": [
        "# create a reduced data frame excluding the outlier\n",
        "hills_no_outliers <- hills %>%\n",
        "  filter(!(row.names(hills) %in% outliers))\n",
        "\n",
        "# fit a model to the new dataset\n",
        "hills_fit_no_outliers <-\n",
        "  lm(data = hills_no_outliers, time ~ dist + climb)\n",
        "\n",
        "# Now check the QQ plot:\n",
        "hills_fit_fort_no_outliers <- fortify(hills_fit_no_outliers)\n",
        "ggplot(data=hills_fit_fort_no_outliers,\n",
        "       aes(sample = .stdresid)) +\n",
        "  stat_qq(geom=\"point\") +\n",
        "  geom_abline() +\n",
        "  coord_equal()\n"
      ],
      "metadata": {
        "id": "Ls5osePVuemT"
      },
      "execution_count": null,
      "outputs": []
    },
    {
      "cell_type": "code",
      "source": [
        "# The histogram?\n",
        "ggplot(data=hills_fit_fort_no_outliers, aes(x=.stdresid)) +\n",
        "  geom_histogram(fill=\"grey80\", binwidth=0.5,\n",
        "                 aes(y=..density..)) +\n",
        "  stat_function(fun=dnorm, xlim=c(-3,3)) +\n",
        "  geom_rug()"
      ],
      "metadata": {
        "id": "nDcUjgLLuckZ"
      },
      "execution_count": null,
      "outputs": []
    },
    {
      "cell_type": "markdown",
      "source": [
        "Much more like it!"
      ],
      "metadata": {
        "id": "23jnG9-svf3h"
      }
    },
    {
      "cell_type": "markdown",
      "source": [
        "### 5. Interpret model.\n"
      ],
      "metadata": {
        "id": "Xze1MK1vvju5"
      }
    },
    {
      "cell_type": "markdown",
      "source": [
        "- Make predictions for useful scenarios.\n",
        "- Summarise analysis with regards to need/question.\n",
        "- Compare to similar studies.\n",
        "- State conclusions you have come to, using analysis results as evidence.\n"
      ],
      "metadata": {
        "id": "0ek2sCdvvqED"
      }
    },
    {
      "cell_type": "markdown",
      "source": [
        "#### Predictions"
      ],
      "metadata": {
        "id": "SmIZxRToooQe"
      }
    },
    {
      "cell_type": "code",
      "source": [
        "# Can't visualise predictions with a line, because there are 3 \"dimensions\" now.\n",
        "# Use a plane instead, with different combinations of dist and climb:\n",
        "\n",
        "# get the limits to use for the plane\n",
        "range(hills_no_outliers$dist)\n",
        "range(hills_no_outliers$climb)"
      ],
      "metadata": {
        "id": "QxLueuY8vSh2"
      },
      "execution_count": null,
      "outputs": []
    },
    {
      "cell_type": "code",
      "source": [
        "# create a grid to hold values over the plane\n",
        "dist_new <- seq(from=2, to=28, by=0.1)\n",
        "climb_new <- seq(from=300, to=5200, by=10)\n",
        "hills_newdata <- expand.grid(dist=dist_new,\n",
        "                             climb=climb_new)\n",
        "\n",
        "# fill the grid with predictions\n",
        "hills_newdata$time <- predict(hills_fit_no_outliers, hills_newdata)\n",
        "\n",
        "# plot the plane\n",
        "hills_pred_ggplot <- ggplot(data = hills_newdata, aes(x=dist, y=climb)) +\n",
        "  geom_raster(aes(fill=time)) +\n",
        "  scale_fill_gradient(low=\"red\", high=\"blue\") +\n",
        "  xlab(\"Distance (miles)\") +\n",
        "  ylab(\"Climb (feet)\") +\n",
        "  theme(legend.position=\"right\")\n",
        "hills_pred_ggplot"
      ],
      "metadata": {
        "id": "HmksG7wyn-dG"
      },
      "execution_count": null,
      "outputs": []
    },
    {
      "cell_type": "markdown",
      "source": [
        "- Increasing climb height increases the time taken.\n",
        "- Increasing the distance run increases the time taken.\n",
        "- Both an increase in climb height and distance run increases the overall time.\n"
      ],
      "metadata": {
        "id": "ZXm8AE6IofO2"
      }
    },
    {
      "cell_type": "markdown",
      "source": [
        "#### Summarise\n"
      ],
      "metadata": {
        "id": "6wdXQttWorS_"
      }
    },
    {
      "cell_type": "markdown",
      "source": [
        "- Can see dist and climb play an important role in predicting time.\n",
        "- So, we fit a linear regression model with two explanatory variables.\n",
        "- Need to be careful about meeting our assumptions.\n",
        "- Justify and omit outliers with caution.\n"
      ],
      "metadata": {
        "id": "CLxl4lC4oy1N"
      }
    },
    {
      "cell_type": "markdown",
      "source": [
        "## Slide 17"
      ],
      "metadata": {
        "id": "SEXMQDZFo9jW"
      }
    },
    {
      "cell_type": "markdown",
      "source": [
        "The `whiteside` data set from the `MASS` library contains weekly gas consumption and average outdoor temperature before and after installing insulation.\n",
        "1. Analyse gas consumption as a model insulation and temperature, considering interactions.\n",
        "2. Consider the same parameters, this time fitting a model with no intercept.\n"
      ],
      "metadata": {
        "id": "hNP-wnmKpOk1"
      }
    },
    {
      "cell_type": "code",
      "source": [
        "# grab the whiteside data set\n",
        "whiteside <- MASS::whiteside\n",
        "\n",
        "# Visualise weekly gas consumption and average outdoor temperature before and\n",
        "# after installing insulation.\n",
        "gg.white <- ggplot(data=whiteside, aes(x=Temp, y=Gas)) +\n",
        "  geom_point() + geom_smooth(method=\"lm\") +\n",
        "  facet_wrap( ~ Insul) +\n",
        "  xlab(\"Temperature (Celsius)\") +\n",
        "  ylab(expression(Gas~consumption~(10^{3}~cubic~feet)))\n",
        "gg.white"
      ],
      "metadata": {
        "id": "yZHNuU6Yo_GM"
      },
      "execution_count": null,
      "outputs": []
    },
    {
      "cell_type": "markdown",
      "source": [
        "- Gas consumption lower overall when insulation installed.\n",
        "- Maybe the slope of the consumption-temperature line is different before and\n",
        "  after insulation is installed.\n",
        "- What effect does installing insulation have on gas consumption?"
      ],
      "metadata": {
        "id": "EkFa-cLsqUsy"
      }
    },
    {
      "cell_type": "markdown",
      "source": [
        "### Fit the first model:"
      ],
      "metadata": {
        "id": "2VSZhWe7tGJq"
      }
    },
    {
      "cell_type": "code",
      "source": [
        "summary(\n",
        "lm.gas <- lm(data=whiteside, Gas ~ Temp * Insul)\n",
        ")"
      ],
      "metadata": {
        "id": "nH2EhI8hp1mY"
      },
      "execution_count": null,
      "outputs": []
    },
    {
      "cell_type": "markdown",
      "source": [
        "This is equivalent to:\n",
        "\n",
        "$$\n",
        "Gas_i = β_0 + β_1 × Temp_i + β_2 × Ι(Insul_i == \\text{After}) +\n",
        "        β_3 × Temp_i × Ι(Insul_i == \\text{After}) + ε_i.\n",
        "$$\n",
        "\n",
        "Where $Ι()$ is an indicator function (see week 10).\n"
      ],
      "metadata": {
        "id": "J0jNOzhRqkVU"
      }
    },
    {
      "cell_type": "markdown",
      "source": [
        "#### Aside\n",
        "\n",
        "When you look at the results, you will see a colon, `:`, used in place of the\n",
        "typical multiplication sign for interaction terms in your model summary.\n",
        "\n",
        "This is because `R` uses the multiplication sign (`*`) in the linear model to\n",
        "represent the interaction term and the individual terms, i.e.,\n",
        "`lm(y ~ x*z)` gives:\n",
        "\n",
        "$$\n",
        "y_i = β_0 + β_1 x_i + β_2 z_i + β_3 x_i z_i + ε_i\n",
        "$$\n",
        "\n",
        "Where `lm(y ~ x:z)` gives:\n",
        "$$\n",
        "y_i = β_0 + β_1 x_i z_i + ε_i\n",
        "$$\n",
        "\n",
        "We never use the latter in practice.\n"
      ],
      "metadata": {
        "id": "tNWb9emprw7A"
      }
    },
    {
      "cell_type": "markdown",
      "source": [
        "### Interpret the first model:\n"
      ],
      "metadata": {
        "id": "_gUrLGG7s_G-"
      }
    },
    {
      "cell_type": "code",
      "source": [
        "gas.coef <- tidy(lm.gas, conf.int=T) %>%\n",
        "  rename(`2.5%` = conf.low,\n",
        "         `97.5%` = conf.high)\n",
        "gas.coef"
      ],
      "metadata": {
        "id": "jHmsmKkaqiQc"
      },
      "execution_count": null,
      "outputs": []
    },
    {
      "cell_type": "markdown",
      "source": [
        "Model output now shows contribution to gas consumption as:\n",
        "- `(Intercept)`: Baseline of temperature at 0 degrees before insulation.\n",
        "- `Temp`: Effect of temperature.\n",
        "- `InsulAfter`: Effect of installing insulation.\n",
        "- `Temp:InsulAfter`: Additional effect of temperature after insulation is\n",
        "  installed.\n"
      ],
      "metadata": {
        "id": "-2qVSFB2tRP5"
      }
    },
    {
      "cell_type": "code",
      "source": [
        "glance(lm.gas)\n"
      ],
      "metadata": {
        "id": "Po0Os0HFtOZc"
      },
      "execution_count": null,
      "outputs": []
    },
    {
      "cell_type": "markdown",
      "source": [
        "- All model terms significant.\n",
        "- 92.35% of variability explained.\n",
        "- Baseline gas consumption (ignoring effect of temperature) lower after insulation installed.\n",
        "- Effect of InsulAfter is -2.13, with 95% CI (-2.4914, -1.7686).\n",
        "- Effect of Temp is -0.3932, additional effect of Temp:InsulAfter is 0.1153 which means total effect of Temp post-installation is -0.2779.\n",
        "- Gas consumption not as sensitive to temperature changes because slope of line is *less* negative after installing insulation. (i.e. magnitude is smaller, closer to 0)\n"
      ],
      "metadata": {
        "id": "z07q6AgQtm6n"
      }
    },
    {
      "cell_type": "markdown",
      "source": [
        "### Fit the second model (no intercept):"
      ],
      "metadata": {
        "id": "zPlxFO19ui0e"
      }
    },
    {
      "cell_type": "code",
      "source": [
        "summary(lm.gas2 <- lm(data=whiteside, Gas ~ Insul + Temp:Insul - 1))\n"
      ],
      "metadata": {
        "id": "osrBKlPstg6l"
      },
      "execution_count": null,
      "outputs": []
    },
    {
      "cell_type": "markdown",
      "source": [
        "- Model is a little more interpretable by specifying the model differently.\n",
        "- Now, we only look at the effect of temperature through its interaction with insulation.\n"
      ],
      "metadata": {
        "id": "594ABvuovAFG"
      }
    },
    {
      "cell_type": "code",
      "source": [
        "gas.coef2 <- lm.gas2 %>%\n",
        "  tidy(conf.int=T) %>%\n",
        "  rename(`2.5%` = conf.low,\n",
        "         `97.5%` = conf.high)\n",
        "gas.coef2"
      ],
      "metadata": {
        "id": "-03S9Uscu1vV"
      },
      "execution_count": null,
      "outputs": []
    },
    {
      "cell_type": "markdown",
      "source": [
        "No longer making comparisons against a baseline\n",
        "- Baseline in previous model was `Insul = Before`, estimate still same\n",
        "- `InsulAfter` is no longer the difference between before and after installation\n",
        "- `InsulBefore:Temp` is the effect of temperature before installation\n",
        "- `InsulAfter:Temp` is the effect of temperature after installation\n",
        "\n",
        "These two models are functionally the same.\n",
        "- just specified differently\n",
        "- explain the exact same amount of variability\n",
        "- Remember that R-squared will be incorrectly reported in model with no intercept.\n"
      ],
      "metadata": {
        "id": "vhXvaxf_vMje"
      }
    },
    {
      "cell_type": "code",
      "source": [
        "glance(lm.gas)\n",
        "glance(lm.gas2)"
      ],
      "metadata": {
        "id": "pS7woC4GvIlJ"
      },
      "execution_count": null,
      "outputs": []
    },
    {
      "cell_type": "markdown",
      "source": [
        "Key takeaways:\n",
        "- Installing insulation dropped gas consumption at 0 degrees Celsius.\n",
        "- Installing insulation made gas consumption less sensitive to changes in temperature.\n"
      ],
      "metadata": {
        "id": "2iPikj55vlwz"
      }
    },
    {
      "cell_type": "markdown",
      "source": [
        "## Slide 19 - Basic Principles – Model Selection"
      ],
      "metadata": {
        "id": "ETlr3vnbv7ZR"
      }
    },
    {
      "cell_type": "markdown",
      "source": [
        "Consider the `whiteside` gas data set again. Assume that installing insulation only changes the intercept, i.e., the temperature-consumption relationship still has the same slope. This becomes a model with parallel lines, i.e., no interaction between variables.\n",
        "\n",
        "$$\n",
        "Gas_i = β_0 + β_1 Temp_i + β_2 Ι(Insul_i = \\text{After}) + ε_i\n",
        "$$\n",
        "\n",
        "Does the previous model (with the interaction term) account for more variability in gas consumption?\n"
      ],
      "metadata": {
        "id": "gGVb7S5_v9IB"
      }
    },
    {
      "cell_type": "code",
      "source": [
        "# Our existing model:\n",
        "lm.gas <- lm(data = whiteside, Gas ~ Temp * Insul)\n"
      ],
      "metadata": {
        "id": "okRXZMmcvij6"
      },
      "execution_count": null,
      "outputs": []
    },
    {
      "cell_type": "code",
      "source": [
        "# Our parallel model:\n",
        "lm.gas.parallel <- lm(data = whiteside, Gas ~ Temp + Insul)"
      ],
      "metadata": {
        "id": "NvhhElmxy0Fd"
      },
      "execution_count": null,
      "outputs": []
    },
    {
      "cell_type": "code",
      "source": [
        "# Visualisation:\n",
        "# grid\n",
        "newdata.gas <- expand.grid(Temp = seq(-1,10,by=1),\n",
        "                           Insul = c(\"Before\", \"After\"))\n",
        "# full model\n",
        "pred.gas <- predict(lm.gas, newdata.gas) %>%\n",
        "  data.frame(fit = .) %>%\n",
        "  mutate(Model = \"Full interaction\") %>%\n",
        "  bind_cols(newdata.gas)\n",
        "# reduced model\n",
        "pred.gas.parallel <- predict(lm.gas.parallel, newdata.gas) %>%\n",
        "  data.frame(fit = .) %>%\n",
        "  mutate(Model = \"Parallel\") %>%\n",
        "  bind_cols(newdata.gas)\n",
        "# plot\n",
        "bind_rows(pred.gas, pred.gas.parallel) %>%\n",
        "  ggplot(data=., aes(x=Temp, y=fit)) +\n",
        "  geom_line(aes(group=Insul, color=Insul)) +\n",
        "  facet_wrap( ~ Model, nrow=1) +\n",
        "  geom_point(data=whiteside, aes(color=Insul, y=Gas)) +\n",
        "  xlab(\"Temperature (Celsius)\") +\n",
        "  ylab(expression(Gas~consumption~(10^{3}~cubic~feet))) +\n",
        "  theme(legend.position=\"right\")"
      ],
      "metadata": {
        "id": "iemdCESvy1P7"
      },
      "execution_count": null,
      "outputs": []
    },
    {
      "cell_type": "code",
      "source": [
        "# Comparison of R-squared values:\n",
        "glance(lm.gas)\n",
        "glance(lm.gas.parallel)\n"
      ],
      "metadata": {
        "id": "Q-bJp3kEy-So"
      },
      "execution_count": null,
      "outputs": []
    },
    {
      "cell_type": "code",
      "source": [
        "# Both have Adj R-squared above 0.9\n",
        "# Small increase when adding the interaction.\n"
      ],
      "metadata": {
        "id": "UPw_ta9t2Yfu"
      },
      "execution_count": null,
      "outputs": []
    },
    {
      "cell_type": "code",
      "source": [
        "# Running ANOVA for model comparison:\n",
        "anova(lm.gas.parallel, lm.gas)\n"
      ],
      "metadata": {
        "id": "-iJoOgo52Ypv"
      },
      "execution_count": null,
      "outputs": []
    },
    {
      "cell_type": "markdown",
      "source": [
        "Model 1 nested inside Model 2.\n",
        "- $p < 0.05$ so reject $H_0$.\n",
        "- Rejecting $H_0$ implies that interaction model accounts for more variability.\n",
        "- Interaction model is better based on this analysis."
      ],
      "metadata": {
        "id": "ioJJKnTU2lnl"
      }
    },
    {
      "cell_type": "code",
      "source": [],
      "metadata": {
        "id": "0I-Ovu7U2kLC"
      },
      "execution_count": null,
      "outputs": []
    }
  ]
}