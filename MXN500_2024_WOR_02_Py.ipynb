{
  "nbformat": 4,
  "nbformat_minor": 0,
  "metadata": {
    "colab": {
      "private_outputs": true,
      "provenance": [],
      "mount_file_id": "1yaCopVvC2IUcWX6pxF8mjXo99QxUQbJv",
      "authorship_tag": "ABX9TyN30OvpG4Nr5U8DvRV6gsdF",
      "include_colab_link": true
    },
    "kernelspec": {
      "name": "python3",
      "display_name": "Python 3"
    },
    "language_info": {
      "name": "python"
    }
  },
  "cells": [
    {
      "cell_type": "markdown",
      "metadata": {
        "id": "view-in-github",
        "colab_type": "text"
      },
      "source": [
        "<a href=\"https://colab.research.google.com/github/matthewbegun/MXN500/blob/main/MXN500_2024_WOR_02_Py.ipynb\" target=\"_parent\"><img src=\"https://colab.research.google.com/assets/colab-badge.svg\" alt=\"Open In Colab\"/></a>"
      ]
    },
    {
      "cell_type": "markdown",
      "source": [
        "# MXN500 Workshop 2 (Python)"
      ],
      "metadata": {
        "id": "T0QuTjdizQ1J"
      }
    },
    {
      "cell_type": "markdown",
      "source": [
        "## ENV\n",
        "\n",
        "Python packages required for the workshop:\n",
        "- pandas\n",
        "- plotnine\n",
        "- scikit-misc\n",
        "- scikit-bio\n",
        "- plus dependencies\n",
        "\n",
        "If any are not installed use the `!pip` command to install them first.\n",
        "\n",
        "Ensure the `Ecology2.csv` file is uploaded."
      ],
      "metadata": {
        "id": "SB6WGdLXzaHO"
      }
    },
    {
      "cell_type": "code",
      "source": [
        "# need scikit-misc for curve fitting\n",
        "!pip install scikit-misc scikit-bio"
      ],
      "metadata": {
        "id": "bNhOkeWcwSuf"
      },
      "execution_count": null,
      "outputs": []
    },
    {
      "cell_type": "code",
      "execution_count": null,
      "metadata": {
        "id": "Z8nVi6J3Utwt"
      },
      "outputs": [],
      "source": [
        "## Week 2 Workshop\n",
        "## Visualisation of Ecology data\n",
        "# pandas is our python equivalent to tidyverse\n",
        "import pandas as pd\n",
        "\n",
        "# plotnine is the python implementation of ggplot2\n",
        "import plotnine as p9\n",
        "from plotnine import ggplot, aes, geom_histogram, geom_point, geom_bar, geom_col, geom_smooth, facet_wrap, xlab, ylab, theme_bw\n",
        "\n",
        "# common plotting package is seaborn\n",
        "import seaborn as sns\n",
        "\n",
        "# dispaly all outputs\n",
        "from IPython.core.interactiveshell import InteractiveShell\n",
        "InteractiveShell.ast_node_interactivity = \"all\""
      ]
    },
    {
      "cell_type": "code",
      "source": [
        "# Activity 1 – Reading in data\n",
        "Ecology = pd.read_csv(\"drive/MyDrive/mxn500/data/Ecologyv2.csv\")\n",
        "Ecology"
      ],
      "metadata": {
        "id": "ii0t9rPPj6kK"
      },
      "execution_count": null,
      "outputs": []
    },
    {
      "cell_type": "code",
      "source": [
        "# Activity 2 – Building a plot\n",
        "# to use the `+` format, we need to place the ggplot call inside of brackets\n",
        "# so Python doesn't complain about indentation\n",
        "(\n",
        "  ggplot(Ecology, aes(x=\"DO\",))\n",
        "  + geom_histogram(bins=30)\n",
        ")\n",
        "\n",
        "# seaborn version\n",
        "sns.histplot(Ecology, x='DO', bins=30)\n"
      ],
      "metadata": {
        "id": "OEhXfCdPkH44"
      },
      "execution_count": null,
      "outputs": []
    },
    {
      "cell_type": "code",
      "source": [
        "# let's fix the binwidths\n",
        "(\n",
        "  ggplot(Ecology, aes(x=\"DO\",))\n",
        "  + geom_histogram(binwidth=1)\n",
        ")\n",
        "\n",
        "# seaborn version IS DIFFERENT!\n",
        "sns.histplot(Ecology, x='DO', bins=6)\n"
      ],
      "metadata": {
        "id": "7903UiUgkTe_"
      },
      "execution_count": null,
      "outputs": []
    },
    {
      "cell_type": "code",
      "source": [
        "# let's fix the axis labels next\n",
        "(\n",
        "  ggplot(Ecology, aes(x=\"DO\",))\n",
        "  + geom_histogram(binwidth = 1)\n",
        "  + xlab(\"Dissolved oxygen (mg/L)\")\n",
        "  + ylab(\"Number of observations\")\n",
        ")"
      ],
      "metadata": {
        "id": "XT-TABZMkYno"
      },
      "execution_count": null,
      "outputs": []
    },
    {
      "cell_type": "code",
      "source": [
        "# Atyidae\n",
        "(\n",
        "  ggplot(Ecology, aes(x=\"Atyidae\",))\n",
        "  + geom_bar()\n",
        ")"
      ],
      "metadata": {
        "id": "LPo0sjFakWum"
      },
      "execution_count": null,
      "outputs": []
    },
    {
      "cell_type": "code",
      "source": [
        "# let's fix this one too - moving back towards seaborns default color scheme!\n",
        "(\n",
        "  ggplot(Ecology, aes(x=\"Atyidae\",))\n",
        "  + geom_histogram(binwidth = 20, color = \"grey\", fill = \"lightskyblue\")\n",
        "  + p9.scale_x_continuous(breaks=range(0, 161, 20))\n",
        "  + theme_bw()\n",
        ")"
      ],
      "metadata": {
        "id": "EkMCiDlckfXT"
      },
      "execution_count": null,
      "outputs": []
    },
    {
      "cell_type": "code",
      "source": [
        "# change the color to be based on count - this one looks really different in python vs R\n",
        "(\n",
        "  ggplot(Ecology, aes(x=\"Atyidae\",))\n",
        "  + geom_histogram(aes(fill=p9.after_stat('count')), bins=30)\n",
        ")"
      ],
      "metadata": {
        "id": "AOPjFWXkkh0F"
      },
      "execution_count": null,
      "outputs": []
    },
    {
      "cell_type": "code",
      "source": [
        "# now for some scatter plots (comparing 2 continuous vars)\n",
        "(\n",
        "  ggplot(Ecology, aes(x=\"Turbidity\",y=\"DO\",))\n",
        "  + xlab(\"Turbidity\")\n",
        "  + geom_point()\n",
        ")"
      ],
      "metadata": {
        "id": "WVx-7NXmkkK7"
      },
      "execution_count": null,
      "outputs": []
    },
    {
      "cell_type": "code",
      "source": [
        "# this one needs scikit-misc (see pip install at start)\n",
        "(\n",
        "  ggplot(Ecology, aes(x=\"Turbidity\",y=\"DO\",))\n",
        "  + xlab(\"Turbidity\")\n",
        "  + geom_point()\n",
        "  + geom_smooth(method = \"loess\")\n",
        ")"
      ],
      "metadata": {
        "id": "FNn_cUcOko78"
      },
      "execution_count": null,
      "outputs": []
    },
    {
      "cell_type": "code",
      "source": [
        "# in python we explicitly see that the color scheme is qualitative\n",
        "# explicit is better than implicit!\n",
        "(\n",
        "  ggplot(Ecology, aes(x=\"Turbidity\",y=\"DO\",))\n",
        "  + geom_point(aes(color=\"Location\"), size=2)\n",
        "  + p9.scale_color_brewer(type=\"qualitative\", palette=\"Dark2\",)\n",
        ")"
      ],
      "metadata": {
        "id": "Xi3uiOd2krUe"
      },
      "execution_count": null,
      "outputs": []
    },
    {
      "cell_type": "code",
      "source": [
        "# have a look at column names to find the range that are species counts\n",
        "Ecology.columns"
      ],
      "metadata": {
        "id": "su71opkPkyJX"
      },
      "execution_count": null,
      "outputs": []
    },
    {
      "cell_type": "code",
      "source": [
        "# looks like the following columns are species count\n",
        "# need to specify all rows before slicing on columns\n",
        "Ecology_species = Ecology.loc[:, 'Parastacidae':'Plecoptera']\n"
      ],
      "metadata": {
        "id": "KsIxh6chitVP"
      },
      "execution_count": null,
      "outputs": []
    },
    {
      "cell_type": "code",
      "source": [
        "# need scikit-bio to do taxon richness calculation - note this downgrades a few things,\n",
        "# could cause issues in a large notebook\n",
        "from skbio.diversity import alpha_diversity\n",
        "\n",
        "Ecology['TaxonRichness'] = alpha_diversity('observed_otus', Ecology_species.values)\n",
        "Ecology[['Site', 'TaxonRichness']]"
      ],
      "metadata": {
        "id": "anBTm6lRlEY6"
      },
      "execution_count": null,
      "outputs": []
    },
    {
      "cell_type": "code",
      "source": [
        "# My colors are different from R (and the plotnine documentation)\n",
        "(\n",
        "  ggplot(Ecology,\n",
        "          aes(x = \"Site\",\n",
        "              y = \"TaxonRichness\",\n",
        "              fill = \"DO\"))\n",
        "  + geom_col()\n",
        "  + theme_bw()\n",
        "  + facet_wrap(facets = \"Location\", nrow = 1, scales = \"free_x\")\n",
        "  + ylab(\"Taxon Richness (species)\")\n",
        ")"
      ],
      "metadata": {
        "id": "J6ZlMS-plHoE"
      },
      "execution_count": null,
      "outputs": []
    },
    {
      "cell_type": "code",
      "source": [
        "# What's each line doing?\n",
        "(\n",
        "  ggplot(Ecology, # Use the Ecology dataframe\n",
        "          aes(x = \"Site\", #Set the x-axis to show Site\n",
        "              y = \"TaxonRichness\", #Set the y-axis to show TaxonRichness\n",
        "              fill = \"DO\")) #change the colour of each column to map to DO\n",
        "  + geom_col() # this is the columns\n",
        "  + theme_bw() # Change the background to white\n",
        "  + facet_wrap(facets = \"Location\",  # create the facets for each of the locations\n",
        "               nrow = 1, #Include only one row of plots\n",
        "               scales = \"free_x\") #have a different x-axis on each plot\n",
        "  + ylab(\"Taxon Richness (species)\") #change the y-axis label\n",
        ")\n",
        "\n"
      ],
      "metadata": {
        "id": "FccSKWHilKHU"
      },
      "execution_count": null,
      "outputs": []
    },
    {
      "cell_type": "code",
      "source": [
        "# Activity 5 – Making a better graph\n",
        "# Let's go for a scatterplot (because two cont vars)\n",
        "# (\n",
        "#   ggplot(Ecology,\n",
        "#           aes(x = \"Site\",\n",
        "#               y = \"TaxonRichness\",\n",
        "#               fill = \"DO\"))\n",
        "#   + geom_col()\n",
        "#   + theme_bw()\n",
        "#   + facet_wrap(facets = \"Location\", nrow = 1, scales = \"free_x\")\n",
        "#   + ylab(\"Taxon Richness (species)\")\n",
        "# )\n",
        "(\n",
        "  ggplot(Ecology,\n",
        "         aes(x = \"DO\",\n",
        "             y = \"TaxonRichness\",\n",
        "             color=\"Location\"))\n",
        "  + geom_point()\n",
        "  + xlab(\"Dissolved Oxygen (mg/L)\")\n",
        "  + ylab(\"Taxon Richness\")\n",
        "  + p9.scale_color_brewer(type=\"qualitative\", palette=\"Dark2\",)\n",
        "  + theme_bw()\n",
        ")"
      ],
      "metadata": {
        "id": "63QTWrHzlMTw"
      },
      "execution_count": null,
      "outputs": []
    },
    {
      "cell_type": "code",
      "source": [],
      "metadata": {
        "id": "enfKd8UylQp6"
      },
      "execution_count": null,
      "outputs": []
    }
  ]
}