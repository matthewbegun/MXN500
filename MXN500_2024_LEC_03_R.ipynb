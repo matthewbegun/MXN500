{
  "nbformat": 4,
  "nbformat_minor": 0,
  "metadata": {
    "colab": {
      "provenance": [],
      "mount_file_id": "13_y2vCCAm_t67cMmTr1IYOBEA0VwptA8",
      "authorship_tag": "ABX9TyNrcsE73TaDSm4dL+WCzw24",
      "include_colab_link": true
    },
    "kernelspec": {
      "name": "ir",
      "display_name": "R"
    },
    "language_info": {
      "name": "R"
    }
  },
  "cells": [
    {
      "cell_type": "markdown",
      "metadata": {
        "id": "view-in-github",
        "colab_type": "text"
      },
      "source": [
        "<a href=\"https://colab.research.google.com/github/matthewbegun/MXN500/blob/main/MXN500_2024_LEC_03_R.ipynb\" target=\"_parent\"><img src=\"https://colab.research.google.com/assets/colab-badge.svg\" alt=\"Open In Colab\"/></a>"
      ]
    },
    {
      "cell_type": "markdown",
      "source": [
        "# MXN500 Lecture 3 (R)"
      ],
      "metadata": {
        "id": "Hag6D6IZvtZv"
      }
    },
    {
      "cell_type": "markdown",
      "source": [
        "## Data Types in R"
      ],
      "metadata": {
        "id": "2Q6mV3wWvzUT"
      }
    },
    {
      "cell_type": "code",
      "execution_count": null,
      "metadata": {
        "id": "FLMUoufJvNQ6",
        "colab": {
          "base_uri": "https://localhost:8080/"
        },
        "outputId": "d4f8d91c-dd15-4d8b-efae-784a7b42a6f3"
      },
      "outputs": [
        {
          "output_type": "stream",
          "name": "stdout",
          "text": [
            " chr \"This is a string\"\n",
            " chr \"a\"\n",
            " chr \"a\"\n",
            " chr [1:5] \"a\" \"b\" \"b\" \"c\" \"a\"\n"
          ]
        }
      ],
      "source": [
        "# A \"string\" or character variable in R is anything entered in quotes.\n",
        "character_string <- \"This is a string\"\n",
        "single_character <- \"a\"\n",
        "character_vector <- c(\"a\", \"b\", \"b\", \"c\", \"a\")\n",
        "str(character_string)\n",
        "str(single_character)\n",
        "str(character_vector[1])\n",
        "str(character_vector)"
      ]
    },
    {
      "cell_type": "code",
      "source": [
        "# Selecting with vectors\n",
        "sel_vec <- c(1,2,4)\n",
        "character_vector[sel_vec]\n",
        "character_vector[c(1,2,4)]\n",
        "\n",
        "# Sorting with vectors\n",
        "sort_vec <- c(4,1,2)\n",
        "character_vector[sort_vec]\n",
        "\n",
        "# Selection *and* sorting\n",
        "sort2_vec <- c(3,1,2)\n",
        "sel2_vec <- sel_vec[sort2_vec]\n",
        "str(sel2_vec)\n",
        "character_vector[sel2_vec]\n",
        "\n",
        "# Composed select + sort\n",
        "character_vector[sel_vec[sort2_vec]]"
      ],
      "metadata": {
        "id": "nzPPMdLN7Wre",
        "colab": {
          "base_uri": "https://localhost:8080/",
          "height": 121
        },
        "outputId": "991e2a11-6c84-4a73-cbfb-c3be5c42cb10"
      },
      "execution_count": null,
      "outputs": [
        {
          "output_type": "display_data",
          "data": {
            "text/html": [
              "<style>\n",
              ".list-inline {list-style: none; margin:0; padding: 0}\n",
              ".list-inline>li {display: inline-block}\n",
              ".list-inline>li:not(:last-child)::after {content: \"\\00b7\"; padding: 0 .5ex}\n",
              "</style>\n",
              "<ol class=list-inline><li>'a'</li><li>'b'</li><li>'c'</li></ol>\n"
            ],
            "text/markdown": "1. 'a'\n2. 'b'\n3. 'c'\n\n\n",
            "text/latex": "\\begin{enumerate*}\n\\item 'a'\n\\item 'b'\n\\item 'c'\n\\end{enumerate*}\n",
            "text/plain": [
              "[1] \"a\" \"b\" \"c\""
            ]
          },
          "metadata": {}
        },
        {
          "output_type": "display_data",
          "data": {
            "text/html": [
              "<style>\n",
              ".list-inline {list-style: none; margin:0; padding: 0}\n",
              ".list-inline>li {display: inline-block}\n",
              ".list-inline>li:not(:last-child)::after {content: \"\\00b7\"; padding: 0 .5ex}\n",
              "</style>\n",
              "<ol class=list-inline><li>'a'</li><li>'b'</li><li>'c'</li></ol>\n"
            ],
            "text/markdown": "1. 'a'\n2. 'b'\n3. 'c'\n\n\n",
            "text/latex": "\\begin{enumerate*}\n\\item 'a'\n\\item 'b'\n\\item 'c'\n\\end{enumerate*}\n",
            "text/plain": [
              "[1] \"a\" \"b\" \"c\""
            ]
          },
          "metadata": {}
        },
        {
          "output_type": "display_data",
          "data": {
            "text/html": [
              "<style>\n",
              ".list-inline {list-style: none; margin:0; padding: 0}\n",
              ".list-inline>li {display: inline-block}\n",
              ".list-inline>li:not(:last-child)::after {content: \"\\00b7\"; padding: 0 .5ex}\n",
              "</style>\n",
              "<ol class=list-inline><li>'c'</li><li>'a'</li><li>'b'</li></ol>\n"
            ],
            "text/markdown": "1. 'c'\n2. 'a'\n3. 'b'\n\n\n",
            "text/latex": "\\begin{enumerate*}\n\\item 'c'\n\\item 'a'\n\\item 'b'\n\\end{enumerate*}\n",
            "text/plain": [
              "[1] \"c\" \"a\" \"b\""
            ]
          },
          "metadata": {}
        },
        {
          "output_type": "stream",
          "name": "stdout",
          "text": [
            " num [1:3] 4 1 2\n"
          ]
        },
        {
          "output_type": "display_data",
          "data": {
            "text/html": [
              "<style>\n",
              ".list-inline {list-style: none; margin:0; padding: 0}\n",
              ".list-inline>li {display: inline-block}\n",
              ".list-inline>li:not(:last-child)::after {content: \"\\00b7\"; padding: 0 .5ex}\n",
              "</style>\n",
              "<ol class=list-inline><li>'c'</li><li>'a'</li><li>'b'</li></ol>\n"
            ],
            "text/markdown": "1. 'c'\n2. 'a'\n3. 'b'\n\n\n",
            "text/latex": "\\begin{enumerate*}\n\\item 'c'\n\\item 'a'\n\\item 'b'\n\\end{enumerate*}\n",
            "text/plain": [
              "[1] \"c\" \"a\" \"b\""
            ]
          },
          "metadata": {}
        },
        {
          "output_type": "display_data",
          "data": {
            "text/html": [
              "<style>\n",
              ".list-inline {list-style: none; margin:0; padding: 0}\n",
              ".list-inline>li {display: inline-block}\n",
              ".list-inline>li:not(:last-child)::after {content: \"\\00b7\"; padding: 0 .5ex}\n",
              "</style>\n",
              "<ol class=list-inline><li>'c'</li><li>'a'</li><li>'b'</li></ol>\n"
            ],
            "text/markdown": "1. 'c'\n2. 'a'\n3. 'b'\n\n\n",
            "text/latex": "\\begin{enumerate*}\n\\item 'c'\n\\item 'a'\n\\item 'b'\n\\end{enumerate*}\n",
            "text/plain": [
              "[1] \"c\" \"a\" \"b\""
            ]
          },
          "metadata": {}
        }
      ]
    },
    {
      "cell_type": "code",
      "source": [
        "# A factor variable is how R treats categories of data.\n",
        "factor_vector <- as.factor(character_vector)\n",
        "str(factor_vector)\n",
        "levels(factor_vector)\n"
      ],
      "metadata": {
        "id": "B4OjT3kowHa4",
        "colab": {
          "base_uri": "https://localhost:8080/",
          "height": 52
        },
        "outputId": "89d4a171-94e9-4625-cebc-e812728ae6ae"
      },
      "execution_count": null,
      "outputs": [
        {
          "output_type": "stream",
          "name": "stdout",
          "text": [
            " Factor w/ 3 levels \"a\",\"b\",\"c\": 1 2 2 3 1\n"
          ]
        },
        {
          "output_type": "display_data",
          "data": {
            "text/html": [
              "<style>\n",
              ".list-inline {list-style: none; margin:0; padding: 0}\n",
              ".list-inline>li {display: inline-block}\n",
              ".list-inline>li:not(:last-child)::after {content: \"\\00b7\"; padding: 0 .5ex}\n",
              "</style>\n",
              "<ol class=list-inline><li>'a'</li><li>'b'</li><li>'c'</li></ol>\n"
            ],
            "text/markdown": "1. 'a'\n2. 'b'\n3. 'c'\n\n\n",
            "text/latex": "\\begin{enumerate*}\n\\item 'a'\n\\item 'b'\n\\item 'c'\n\\end{enumerate*}\n",
            "text/plain": [
              "[1] \"a\" \"b\" \"c\""
            ]
          },
          "metadata": {}
        }
      ]
    },
    {
      "cell_type": "code",
      "source": [
        "library(tidyverse)\n",
        "# To create a data frame with categorical variables, use a vector of strings.\n",
        "# This vector is treated as a factor by default.\n",
        "hml_df <- data.frame(category = c(\"High\", \"Medium\", \"Low\"))\n",
        "summary(hml_df)\n",
        "str(hml_df)\n",
        "hml_df"
      ],
      "metadata": {
        "id": "ednhgaHewMYD",
        "colab": {
          "base_uri": "https://localhost:8080/",
          "height": 331
        },
        "outputId": "079dc6b4-761e-402c-e952-ce6ffdc072b5"
      },
      "execution_count": null,
      "outputs": [
        {
          "output_type": "display_data",
          "data": {
            "text/plain": [
              "   category        \n",
              " Length:3          \n",
              " Class :character  \n",
              " Mode  :character  "
            ]
          },
          "metadata": {}
        },
        {
          "output_type": "stream",
          "name": "stdout",
          "text": [
            "'data.frame':\t3 obs. of  1 variable:\n",
            " $ category: chr  \"High\" \"Medium\" \"Low\"\n"
          ]
        },
        {
          "output_type": "display_data",
          "data": {
            "text/html": [
              "<table class=\"dataframe\">\n",
              "<caption>A data.frame: 3 × 1</caption>\n",
              "<thead>\n",
              "\t<tr><th scope=col>category</th></tr>\n",
              "\t<tr><th scope=col>&lt;chr&gt;</th></tr>\n",
              "</thead>\n",
              "<tbody>\n",
              "\t<tr><td>High  </td></tr>\n",
              "\t<tr><td>Medium</td></tr>\n",
              "\t<tr><td>Low   </td></tr>\n",
              "</tbody>\n",
              "</table>\n"
            ],
            "text/markdown": "\nA data.frame: 3 × 1\n\n| category &lt;chr&gt; |\n|---|\n| High   |\n| Medium |\n| Low    |\n\n",
            "text/latex": "A data.frame: 3 × 1\n\\begin{tabular}{l}\n category\\\\\n <chr>\\\\\n\\hline\n\t High  \\\\\n\t Medium\\\\\n\t Low   \\\\\n\\end{tabular}\n",
            "text/plain": [
              "  category\n",
              "1 High    \n",
              "2 Medium  \n",
              "3 Low     "
            ]
          },
          "metadata": {}
        }
      ]
    },
    {
      "cell_type": "code",
      "source": [
        "# Factors default to an alphabetical order:\n",
        "factor(hml_df$category)"
      ],
      "metadata": {
        "id": "nkQvPKMOwPZ9",
        "colab": {
          "base_uri": "https://localhost:8080/",
          "height": 69
        },
        "outputId": "a95d6cd0-fe39-4cad-dfb0-6d2033e23c73"
      },
      "execution_count": null,
      "outputs": [
        {
          "output_type": "display_data",
          "data": {
            "text/html": [
              "<style>\n",
              ".list-inline {list-style: none; margin:0; padding: 0}\n",
              ".list-inline>li {display: inline-block}\n",
              ".list-inline>li:not(:last-child)::after {content: \"\\00b7\"; padding: 0 .5ex}\n",
              "</style>\n",
              "<ol class=list-inline><li>High</li><li>Medium</li><li>Low</li></ol>\n",
              "\n",
              "<details>\n",
              "\t<summary style=display:list-item;cursor:pointer>\n",
              "\t\t<strong>Levels</strong>:\n",
              "\t</summary>\n",
              "\t<style>\n",
              "\t.list-inline {list-style: none; margin:0; padding: 0}\n",
              "\t.list-inline>li {display: inline-block}\n",
              "\t.list-inline>li:not(:last-child)::after {content: \"\\00b7\"; padding: 0 .5ex}\n",
              "\t</style>\n",
              "\t<ol class=list-inline><li>'High'</li><li>'Low'</li><li>'Medium'</li></ol>\n",
              "</details>"
            ],
            "text/markdown": "1. High\n2. Medium\n3. Low\n\n\n\n**Levels**: 1. 'High'\n2. 'Low'\n3. 'Medium'\n\n\n",
            "text/latex": "\\begin{enumerate*}\n\\item High\n\\item Medium\n\\item Low\n\\end{enumerate*}\n\n\\emph{Levels}: \\begin{enumerate*}\n\\item 'High'\n\\item 'Low'\n\\item 'Medium'\n\\end{enumerate*}\n",
            "text/plain": [
              "[1] High   Medium Low   \n",
              "Levels: High Low Medium"
            ]
          },
          "metadata": {}
        }
      ]
    },
    {
      "cell_type": "code",
      "source": [
        "# To change the order, you need to provide levels.\n",
        "hml_df_ordered_factors <- hml_df\n",
        "hml_df_ordered_factors$category <-\n",
        "  factor(hml_df_ordered_factors$category,\n",
        "         levels = c(\"Low\", \"Medium\", \"High\")) # change the levels"
      ],
      "metadata": {
        "id": "6WpWRS2VwQyi"
      },
      "execution_count": null,
      "outputs": []
    },
    {
      "cell_type": "code",
      "source": [
        "# Compare the result:\n",
        "factor(hml_df$category) # Order we don't want.\n",
        "factor(hml_df_ordered_factors$category) # Order we want."
      ],
      "metadata": {
        "id": "6OUinJc6wTMI",
        "colab": {
          "base_uri": "https://localhost:8080/",
          "height": 121
        },
        "outputId": "6e58a087-5518-46ad-cbe9-1812347ee920"
      },
      "execution_count": null,
      "outputs": [
        {
          "output_type": "display_data",
          "data": {
            "text/html": [
              "<style>\n",
              ".list-inline {list-style: none; margin:0; padding: 0}\n",
              ".list-inline>li {display: inline-block}\n",
              ".list-inline>li:not(:last-child)::after {content: \"\\00b7\"; padding: 0 .5ex}\n",
              "</style>\n",
              "<ol class=list-inline><li>High</li><li>Medium</li><li>Low</li></ol>\n",
              "\n",
              "<details>\n",
              "\t<summary style=display:list-item;cursor:pointer>\n",
              "\t\t<strong>Levels</strong>:\n",
              "\t</summary>\n",
              "\t<style>\n",
              "\t.list-inline {list-style: none; margin:0; padding: 0}\n",
              "\t.list-inline>li {display: inline-block}\n",
              "\t.list-inline>li:not(:last-child)::after {content: \"\\00b7\"; padding: 0 .5ex}\n",
              "\t</style>\n",
              "\t<ol class=list-inline><li>'High'</li><li>'Low'</li><li>'Medium'</li></ol>\n",
              "</details>"
            ],
            "text/markdown": "1. High\n2. Medium\n3. Low\n\n\n\n**Levels**: 1. 'High'\n2. 'Low'\n3. 'Medium'\n\n\n",
            "text/latex": "\\begin{enumerate*}\n\\item High\n\\item Medium\n\\item Low\n\\end{enumerate*}\n\n\\emph{Levels}: \\begin{enumerate*}\n\\item 'High'\n\\item 'Low'\n\\item 'Medium'\n\\end{enumerate*}\n",
            "text/plain": [
              "[1] High   Medium Low   \n",
              "Levels: High Low Medium"
            ]
          },
          "metadata": {}
        },
        {
          "output_type": "display_data",
          "data": {
            "text/html": [
              "<style>\n",
              ".list-inline {list-style: none; margin:0; padding: 0}\n",
              ".list-inline>li {display: inline-block}\n",
              ".list-inline>li:not(:last-child)::after {content: \"\\00b7\"; padding: 0 .5ex}\n",
              "</style>\n",
              "<ol class=list-inline><li>High</li><li>Medium</li><li>Low</li></ol>\n",
              "\n",
              "<details>\n",
              "\t<summary style=display:list-item;cursor:pointer>\n",
              "\t\t<strong>Levels</strong>:\n",
              "\t</summary>\n",
              "\t<style>\n",
              "\t.list-inline {list-style: none; margin:0; padding: 0}\n",
              "\t.list-inline>li {display: inline-block}\n",
              "\t.list-inline>li:not(:last-child)::after {content: \"\\00b7\"; padding: 0 .5ex}\n",
              "\t</style>\n",
              "\t<ol class=list-inline><li>'Low'</li><li>'Medium'</li><li>'High'</li></ol>\n",
              "</details>"
            ],
            "text/markdown": "1. High\n2. Medium\n3. Low\n\n\n\n**Levels**: 1. 'Low'\n2. 'Medium'\n3. 'High'\n\n\n",
            "text/latex": "\\begin{enumerate*}\n\\item High\n\\item Medium\n\\item Low\n\\end{enumerate*}\n\n\\emph{Levels}: \\begin{enumerate*}\n\\item 'Low'\n\\item 'Medium'\n\\item 'High'\n\\end{enumerate*}\n",
            "text/plain": [
              "[1] High   Medium Low   \n",
              "Levels: Low Medium High"
            ]
          },
          "metadata": {}
        }
      ]
    },
    {
      "cell_type": "code",
      "source": [
        "# Beware of strings defaulting to factors in data frames. While this is the\n",
        "# default, you Can turn this off if you want:\n",
        "hml_characters_df <- data.frame(category = c(\"High\", \"Medium\", \"Low\"),\n",
        "                                stringsAsFactors = FALSE)\n",
        "str(hml_characters_df)\n",
        "summary(hml_characters_df)\n",
        "hml_characters_df"
      ],
      "metadata": {
        "id": "uE63kQfRwVDh",
        "colab": {
          "base_uri": "https://localhost:8080/",
          "height": 331
        },
        "outputId": "b3adf021-b67a-44df-e760-d7572a71e9a7"
      },
      "execution_count": null,
      "outputs": [
        {
          "output_type": "stream",
          "name": "stdout",
          "text": [
            "'data.frame':\t3 obs. of  1 variable:\n",
            " $ category: chr  \"High\" \"Medium\" \"Low\"\n"
          ]
        },
        {
          "output_type": "display_data",
          "data": {
            "text/plain": [
              "   category        \n",
              " Length:3          \n",
              " Class :character  \n",
              " Mode  :character  "
            ]
          },
          "metadata": {}
        },
        {
          "output_type": "display_data",
          "data": {
            "text/html": [
              "<table class=\"dataframe\">\n",
              "<caption>A data.frame: 3 × 1</caption>\n",
              "<thead>\n",
              "\t<tr><th scope=col>category</th></tr>\n",
              "\t<tr><th scope=col>&lt;chr&gt;</th></tr>\n",
              "</thead>\n",
              "<tbody>\n",
              "\t<tr><td>High  </td></tr>\n",
              "\t<tr><td>Medium</td></tr>\n",
              "\t<tr><td>Low   </td></tr>\n",
              "</tbody>\n",
              "</table>\n"
            ],
            "text/markdown": "\nA data.frame: 3 × 1\n\n| category &lt;chr&gt; |\n|---|\n| High   |\n| Medium |\n| Low    |\n\n",
            "text/latex": "A data.frame: 3 × 1\n\\begin{tabular}{l}\n category\\\\\n <chr>\\\\\n\\hline\n\t High  \\\\\n\t Medium\\\\\n\t Low   \\\\\n\\end{tabular}\n",
            "text/plain": [
              "  category\n",
              "1 High    \n",
              "2 Medium  \n",
              "3 Low     "
            ]
          },
          "metadata": {}
        }
      ]
    },
    {
      "cell_type": "code",
      "source": [
        "# Look what happens to these \"numbers\". Need to be careful to make sure you\n",
        "# data is the correct type.\n",
        "num_df <- data.frame(numbers = c(\"3.14\", \"-2\", \"15\"))\n",
        "str(num_df)\n",
        "class(num_df$numbers)\n",
        "mean(num_df$numbers)"
      ],
      "metadata": {
        "id": "lbjrgaCIweWM",
        "colab": {
          "base_uri": "https://localhost:8080/",
          "height": 121
        },
        "outputId": "e60e1c86-70ff-40a6-e7fe-b775cdc71442"
      },
      "execution_count": null,
      "outputs": [
        {
          "output_type": "stream",
          "name": "stdout",
          "text": [
            "'data.frame':\t3 obs. of  1 variable:\n",
            " $ numbers: chr  \"3.14\" \"-2\" \"15\"\n"
          ]
        },
        {
          "output_type": "display_data",
          "data": {
            "text/html": [
              "'character'"
            ],
            "text/markdown": "'character'",
            "text/latex": "'character'",
            "text/plain": [
              "[1] \"character\""
            ]
          },
          "metadata": {}
        },
        {
          "output_type": "stream",
          "name": "stderr",
          "text": [
            "Warning message in mean.default(num_df$numbers):\n",
            "“argument is not numeric or logical: returning NA”\n"
          ]
        },
        {
          "output_type": "display_data",
          "data": {
            "text/html": [
              "&lt;NA&gt;"
            ],
            "text/markdown": "&lt;NA&gt;",
            "text/latex": "<NA>",
            "text/plain": [
              "[1] NA"
            ]
          },
          "metadata": {}
        }
      ]
    },
    {
      "cell_type": "code",
      "source": [
        "# To make the data numeric need to change it's type\n",
        "now_numbers <- as.numeric(num_df$numbers)\n",
        "str(now_numbers)\n",
        "mean(now_numbers)"
      ],
      "metadata": {
        "id": "gxuA2tXSwinw",
        "colab": {
          "base_uri": "https://localhost:8080/",
          "height": 52
        },
        "outputId": "b29d310b-c571-45a8-875d-9b18dd499063"
      },
      "execution_count": null,
      "outputs": [
        {
          "output_type": "stream",
          "name": "stdout",
          "text": [
            " num [1:3] 3.14 -2 15\n"
          ]
        },
        {
          "output_type": "display_data",
          "data": {
            "text/html": [
              "5.38"
            ],
            "text/markdown": "5.38",
            "text/latex": "5.38",
            "text/plain": [
              "[1] 5.38"
            ]
          },
          "metadata": {}
        }
      ]
    },
    {
      "cell_type": "code",
      "source": [
        "# Be careful of these steps, can cause uncaught problems!\n",
        "more_numbers <- c(2, 6, \"*8\")\n",
        "mean(more_numbers)\n",
        "str(more_numbers)\n",
        "\n"
      ],
      "metadata": {
        "id": "pJneP3wm-elL",
        "colab": {
          "base_uri": "https://localhost:8080/",
          "height": 86
        },
        "outputId": "f69d75cd-2215-44e3-dbee-339ca93673fb"
      },
      "execution_count": null,
      "outputs": [
        {
          "output_type": "stream",
          "name": "stderr",
          "text": [
            "Warning message in mean.default(more_numbers):\n",
            "“argument is not numeric or logical: returning NA”\n"
          ]
        },
        {
          "output_type": "display_data",
          "data": {
            "text/html": [
              "&lt;NA&gt;"
            ],
            "text/markdown": "&lt;NA&gt;",
            "text/latex": "<NA>",
            "text/plain": [
              "[1] NA"
            ]
          },
          "metadata": {}
        },
        {
          "output_type": "stream",
          "name": "stdout",
          "text": [
            " chr [1:3] \"2\" \"6\" \"*8\"\n"
          ]
        }
      ]
    },
    {
      "cell_type": "code",
      "source": [
        "# OK fix this issue through 'coercion' i.e. `as.numeric()`\n",
        "now_more_numbers = as.numeric(more_numbers)\n",
        "mean(now_more_numbers, na.rm = T)\n",
        "str(now_more_numbers)\n",
        "\n",
        "# Takeaway - retain intermediate steps as seperate variables while you are developing\n",
        "#  your code / analysis"
      ],
      "metadata": {
        "colab": {
          "base_uri": "https://localhost:8080/",
          "height": 86
        },
        "id": "kUtIA703avg2",
        "outputId": "7607c893-d088-4dae-d590-834985a500da"
      },
      "execution_count": null,
      "outputs": [
        {
          "output_type": "stream",
          "name": "stderr",
          "text": [
            "Warning message in eval(expr, envir, enclos):\n",
            "“NAs introduced by coercion”\n"
          ]
        },
        {
          "output_type": "display_data",
          "data": {
            "text/html": [
              "4"
            ],
            "text/markdown": "4",
            "text/latex": "4",
            "text/plain": [
              "[1] 4"
            ]
          },
          "metadata": {}
        },
        {
          "output_type": "stream",
          "name": "stdout",
          "text": [
            " num [1:3] 2 6 NA\n"
          ]
        }
      ]
    },
    {
      "cell_type": "code",
      "source": [
        "# change in the data frame\n",
        "num_df$numbers = as.numeric(as.character(num_df$numbers))\n",
        "str(num_df$numbers)\n",
        "summary(num_df)"
      ],
      "metadata": {
        "id": "83OJR6pBwkcE",
        "colab": {
          "base_uri": "https://localhost:8080/",
          "height": 156
        },
        "outputId": "7d027371-a81b-4d88-b8d3-8269b94fedba"
      },
      "execution_count": null,
      "outputs": [
        {
          "output_type": "stream",
          "name": "stdout",
          "text": [
            " num [1:3] 3.14 -2 15\n"
          ]
        },
        {
          "output_type": "display_data",
          "data": {
            "text/plain": [
              "    numbers     \n",
              " Min.   :-2.00  \n",
              " 1st Qu.: 0.57  \n",
              " Median : 3.14  \n",
              " Mean   : 5.38  \n",
              " 3rd Qu.: 9.07  \n",
              " Max.   :15.00  "
            ]
          },
          "metadata": {}
        }
      ]
    },
    {
      "cell_type": "code",
      "source": [
        "# or\n",
        "library(dplyr) # in general, best to put library calls a the start of the file\n",
        "num_df = mutate(num_df,\n",
        "                numbers = as.numeric(as.character(numbers)))\n",
        "str(num_df$numbers)\n",
        "summary(num_df)"
      ],
      "metadata": {
        "id": "trKM59rWwmrO",
        "colab": {
          "base_uri": "https://localhost:8080/",
          "height": 156
        },
        "outputId": "b2644e6a-a95d-411c-a8d9-e6b83ba75921"
      },
      "execution_count": null,
      "outputs": [
        {
          "output_type": "stream",
          "name": "stdout",
          "text": [
            " num [1:3] 3.14 -2 15\n"
          ]
        },
        {
          "output_type": "display_data",
          "data": {
            "text/plain": [
              "    numbers     \n",
              " Min.   :-2.00  \n",
              " 1st Qu.: 0.57  \n",
              " Median : 3.14  \n",
              " Mean   : 5.38  \n",
              " 3rd Qu.: 9.07  \n",
              " Max.   :15.00  "
            ]
          },
          "metadata": {}
        }
      ]
    },
    {
      "cell_type": "code",
      "source": [
        "# of course you can also just provide the data in a\n",
        "# numberic format - ie. no quotations\n",
        "num_df <- data.frame(numbers = c(3.14, -2, 15))\n",
        "str(num_df)\n",
        "class(num_df$numbers)"
      ],
      "metadata": {
        "id": "Kgu5ULnewpKA",
        "colab": {
          "base_uri": "https://localhost:8080/",
          "height": 69
        },
        "outputId": "d13efb68-eade-4fe0-db3c-c97dd1605397"
      },
      "execution_count": null,
      "outputs": [
        {
          "output_type": "stream",
          "name": "stdout",
          "text": [
            "'data.frame':\t3 obs. of  1 variable:\n",
            " $ numbers: num  3.14 -2 15\n"
          ]
        },
        {
          "output_type": "display_data",
          "data": {
            "text/html": [
              "'numeric'"
            ],
            "text/markdown": "'numeric'",
            "text/latex": "'numeric'",
            "text/plain": [
              "[1] \"numeric\""
            ]
          },
          "metadata": {}
        }
      ]
    },
    {
      "cell_type": "markdown",
      "source": [
        "## Functions in R\n",
        "Name the function (left hand side) and the inputs (right\n",
        "hand side, in brackets). Then, everything those inputs are used for are\n",
        "contained within \"squiggly\" brackets, {}. These are also called \"braces\"."
      ],
      "metadata": {
        "id": "XZIoyGnLwtVs"
      }
    },
    {
      "cell_type": "code",
      "source": [
        "# Some basic examples:\n",
        "add_one <- function(x){\n",
        "  x_new <- x + 1\n",
        "  return(x_new)\n",
        "}\n",
        "str(add_one)\n",
        "# In this case, a function called \"add_one\" is a function which takes some\n",
        "# input, x, adds one to it, and returns the result."
      ],
      "metadata": {
        "id": "CVGgRDkYwr2t",
        "colab": {
          "base_uri": "https://localhost:8080/"
        },
        "outputId": "5f5be26c-766d-4f8d-fc87-6ea9ecf7f979"
      },
      "execution_count": null,
      "outputs": [
        {
          "output_type": "stream",
          "name": "stdout",
          "text": [
            "function (x)  \n",
            " - attr(*, \"srcref\")= 'srcref' int [1:8] 2 12 5 1 12 1 2 5\n",
            "  ..- attr(*, \"srcfile\")=Classes 'srcfilecopy', 'srcfile' <environment: 0x5815c890c550> \n"
          ]
        }
      ]
    },
    {
      "cell_type": "code",
      "source": [
        "# Test it out\n",
        "add_one(5)\n",
        "add_one(c(1,2,3,4))\n",
        "x <- add_one(0)\n",
        "x"
      ],
      "metadata": {
        "id": "6m1ft30bArGS",
        "colab": {
          "base_uri": "https://localhost:8080/",
          "height": 69
        },
        "outputId": "9cb1278d-27c9-4af7-d3e7-98a20649f6e9"
      },
      "execution_count": null,
      "outputs": [
        {
          "output_type": "display_data",
          "data": {
            "text/html": [
              "6"
            ],
            "text/markdown": "6",
            "text/latex": "6",
            "text/plain": [
              "[1] 6"
            ]
          },
          "metadata": {}
        },
        {
          "output_type": "display_data",
          "data": {
            "text/html": [
              "<style>\n",
              ".list-inline {list-style: none; margin:0; padding: 0}\n",
              ".list-inline>li {display: inline-block}\n",
              ".list-inline>li:not(:last-child)::after {content: \"\\00b7\"; padding: 0 .5ex}\n",
              "</style>\n",
              "<ol class=list-inline><li>2</li><li>3</li><li>4</li><li>5</li></ol>\n"
            ],
            "text/markdown": "1. 2\n2. 3\n3. 4\n4. 5\n\n\n",
            "text/latex": "\\begin{enumerate*}\n\\item 2\n\\item 3\n\\item 4\n\\item 5\n\\end{enumerate*}\n",
            "text/plain": [
              "[1] 2 3 4 5"
            ]
          },
          "metadata": {}
        },
        {
          "output_type": "display_data",
          "data": {
            "text/html": [
              "1"
            ],
            "text/markdown": "1",
            "text/latex": "1",
            "text/plain": [
              "[1] 1"
            ]
          },
          "metadata": {}
        }
      ]
    },
    {
      "cell_type": "code",
      "source": [
        "# And break it\n",
        "add_one(\"a\")\n",
        "# Note that the error message isn't very helpful - what is `x+1`?\n",
        "# We don't know if we can't see inside the fucntion"
      ],
      "metadata": {
        "id": "hcEeJc3pA5nf",
        "colab": {
          "base_uri": "https://localhost:8080/",
          "height": 106
        },
        "outputId": "ce171078-cc87-4e9e-be50-6d76cf02ba0b"
      },
      "execution_count": null,
      "outputs": [
        {
          "output_type": "error",
          "ename": "ERROR",
          "evalue": "Error in x + 1: non-numeric argument to binary operator\n",
          "traceback": [
            "Error in x + 1: non-numeric argument to binary operator\nTraceback:\n",
            "1. add_one(\"a\")"
          ]
        }
      ]
    },
    {
      "cell_type": "code",
      "source": [
        "# Here's another:\n",
        "make_negative <- function(x){\n",
        "  x_new <- -x\n",
        "  return(x_new)\n",
        "}\n",
        "make_negative(-6)\n",
        "make_negative(1:10)"
      ],
      "metadata": {
        "id": "6SKOJicCAf_8",
        "colab": {
          "base_uri": "https://localhost:8080/",
          "height": 52
        },
        "outputId": "3cb8e7f8-d726-4b04-8c04-27a607dbb781"
      },
      "execution_count": null,
      "outputs": [
        {
          "output_type": "display_data",
          "data": {
            "text/html": [
              "6"
            ],
            "text/markdown": "6",
            "text/latex": "6",
            "text/plain": [
              "[1] 6"
            ]
          },
          "metadata": {}
        },
        {
          "output_type": "display_data",
          "data": {
            "text/html": [
              "<style>\n",
              ".list-inline {list-style: none; margin:0; padding: 0}\n",
              ".list-inline>li {display: inline-block}\n",
              ".list-inline>li:not(:last-child)::after {content: \"\\00b7\"; padding: 0 .5ex}\n",
              "</style>\n",
              "<ol class=list-inline><li>-1</li><li>-2</li><li>-3</li><li>-4</li><li>-5</li><li>-6</li><li>-7</li><li>-8</li><li>-9</li><li>-10</li></ol>\n"
            ],
            "text/markdown": "1. -1\n2. -2\n3. -3\n4. -4\n5. -5\n6. -6\n7. -7\n8. -8\n9. -9\n10. -10\n\n\n",
            "text/latex": "\\begin{enumerate*}\n\\item -1\n\\item -2\n\\item -3\n\\item -4\n\\item -5\n\\item -6\n\\item -7\n\\item -8\n\\item -9\n\\item -10\n\\end{enumerate*}\n",
            "text/plain": [
              " [1]  -1  -2  -3  -4  -5  -6  -7  -8  -9 -10"
            ]
          },
          "metadata": {}
        }
      ]
    },
    {
      "cell_type": "code",
      "source": [
        "# Check how they work.\n",
        "x <- 1\n",
        "add_one(x)\n",
        "make_negative(x)\n",
        "\n",
        "# This `x` is different from the `x` in the function. Confusing!\n",
        "# Better to use meaningful variable names."
      ],
      "metadata": {
        "id": "Zb134_8gAR7E",
        "colab": {
          "base_uri": "https://localhost:8080/",
          "height": 52
        },
        "outputId": "1f650e60-d16a-4868-df15-82adb6ab222a"
      },
      "execution_count": null,
      "outputs": [
        {
          "output_type": "display_data",
          "data": {
            "text/html": [
              "2"
            ],
            "text/markdown": "2",
            "text/latex": "2",
            "text/plain": [
              "[1] 2"
            ]
          },
          "metadata": {}
        },
        {
          "output_type": "display_data",
          "data": {
            "text/html": [
              "-1"
            ],
            "text/markdown": "-1",
            "text/latex": "-1",
            "text/plain": [
              "[1] -1"
            ]
          },
          "metadata": {}
        }
      ]
    },
    {
      "cell_type": "code",
      "source": [
        "# Interested in applying them one after each other? Composition of functions:\n",
        "x_new <- make_negative(add_one(x))\n",
        "x_new\n"
      ],
      "metadata": {
        "id": "arBmkipHw8re",
        "colab": {
          "base_uri": "https://localhost:8080/",
          "height": 34
        },
        "outputId": "a58bc521-3514-484b-dc8b-c64b46a37064"
      },
      "execution_count": null,
      "outputs": [
        {
          "output_type": "display_data",
          "data": {
            "text/html": [
              "-2"
            ],
            "text/markdown": "-2",
            "text/latex": "-2",
            "text/plain": [
              "[1] -2"
            ]
          },
          "metadata": {}
        }
      ]
    },
    {
      "cell_type": "markdown",
      "source": [
        "## Pipes in R\n",
        "The \"pipe\" operator, `%>%`, takes an object (an output, variable, or other R\n",
        "object) and sends it into the next function as the first argument of the\n",
        "function after the pipe.\n",
        "\n",
        "The pipe can be difficult to work with at first, but it can be useful for\n",
        "speeding up your R work once you get used to it."
      ],
      "metadata": {
        "id": "dw23pL4kxST1"
      }
    },
    {
      "cell_type": "code",
      "source": [
        "# For example, the pipe we can our code clear and readable\n",
        "# x_new <- make_negative(add_one(x))\n",
        "x_new <- x %>%\n",
        "  add_one() %>%\n",
        "  make_negative()\n",
        "x_new"
      ],
      "metadata": {
        "id": "QU8s8yeAxR02",
        "colab": {
          "base_uri": "https://localhost:8080/",
          "height": 34
        },
        "outputId": "48d29663-4b40-4c96-a03d-053d78f9947b"
      },
      "execution_count": null,
      "outputs": [
        {
          "output_type": "display_data",
          "data": {
            "text/html": [
              "-2"
            ],
            "text/markdown": "-2",
            "text/latex": "-2",
            "text/plain": [
              "[1] -2"
            ]
          },
          "metadata": {}
        }
      ]
    },
    {
      "cell_type": "markdown",
      "source": [
        "Let's consider some real data and real use cases. We are going to use data\n",
        "from the `Lahman` package. This package is all about baseball."
      ],
      "metadata": {
        "id": "F0LUTyafyCC5"
      }
    },
    {
      "cell_type": "code",
      "source": [
        "install.packages(\"Lahman\") # Install the package.\n",
        "library(Lahman) # Load the package.\n",
        "? Lahman # Read the help so you know what's in the package."
      ],
      "metadata": {
        "id": "3zPDwsaux6mj",
        "colab": {
          "base_uri": "https://localhost:8080/"
        },
        "outputId": "e4a5baf8-3a51-45aa-fe6e-ab1e772d5175"
      },
      "execution_count": null,
      "outputs": [
        {
          "output_type": "stream",
          "name": "stderr",
          "text": [
            "Installing package into ‘/usr/local/lib/R/site-library’\n",
            "(as ‘lib’ is unspecified)\n",
            "\n"
          ]
        }
      ]
    },
    {
      "cell_type": "code",
      "source": [
        "data(Batting) # Get the data.\n",
        "\n",
        "dim(Batting) # Get a feel for the data (how big).\n",
        "# View(Batting)\n",
        "head(Batting) # What variables look like.\n",
        "# ? Batting # Column name definitions."
      ],
      "metadata": {
        "id": "zdiS73rRyKBj",
        "colab": {
          "base_uri": "https://localhost:8080/",
          "height": 323
        },
        "outputId": "d3381500-5dcf-4744-95ce-98763c37e800"
      },
      "execution_count": null,
      "outputs": [
        {
          "output_type": "display_data",
          "data": {
            "text/html": [
              "<style>\n",
              ".list-inline {list-style: none; margin:0; padding: 0}\n",
              ".list-inline>li {display: inline-block}\n",
              ".list-inline>li:not(:last-child)::after {content: \"\\00b7\"; padding: 0 .5ex}\n",
              "</style>\n",
              "<ol class=list-inline><li>112184</li><li>22</li></ol>\n"
            ],
            "text/markdown": "1. 112184\n2. 22\n\n\n",
            "text/latex": "\\begin{enumerate*}\n\\item 112184\n\\item 22\n\\end{enumerate*}\n",
            "text/plain": [
              "[1] 112184     22"
            ]
          },
          "metadata": {}
        },
        {
          "output_type": "display_data",
          "data": {
            "text/html": [
              "<table class=\"dataframe\">\n",
              "<caption>A data.frame: 6 × 22</caption>\n",
              "<thead>\n",
              "\t<tr><th></th><th scope=col>playerID</th><th scope=col>yearID</th><th scope=col>stint</th><th scope=col>teamID</th><th scope=col>lgID</th><th scope=col>G</th><th scope=col>AB</th><th scope=col>R</th><th scope=col>H</th><th scope=col>X2B</th><th scope=col>⋯</th><th scope=col>RBI</th><th scope=col>SB</th><th scope=col>CS</th><th scope=col>BB</th><th scope=col>SO</th><th scope=col>IBB</th><th scope=col>HBP</th><th scope=col>SH</th><th scope=col>SF</th><th scope=col>GIDP</th></tr>\n",
              "\t<tr><th></th><th scope=col>&lt;chr&gt;</th><th scope=col>&lt;int&gt;</th><th scope=col>&lt;int&gt;</th><th scope=col>&lt;fct&gt;</th><th scope=col>&lt;fct&gt;</th><th scope=col>&lt;int&gt;</th><th scope=col>&lt;int&gt;</th><th scope=col>&lt;int&gt;</th><th scope=col>&lt;int&gt;</th><th scope=col>&lt;int&gt;</th><th scope=col>⋯</th><th scope=col>&lt;int&gt;</th><th scope=col>&lt;int&gt;</th><th scope=col>&lt;int&gt;</th><th scope=col>&lt;int&gt;</th><th scope=col>&lt;int&gt;</th><th scope=col>&lt;int&gt;</th><th scope=col>&lt;int&gt;</th><th scope=col>&lt;int&gt;</th><th scope=col>&lt;int&gt;</th><th scope=col>&lt;int&gt;</th></tr>\n",
              "</thead>\n",
              "<tbody>\n",
              "\t<tr><th scope=row>1</th><td>abercda01</td><td>1871</td><td>1</td><td>TRO</td><td>NA</td><td> 1</td><td>  4</td><td> 0</td><td> 0</td><td> 0</td><td>⋯</td><td> 0</td><td>0</td><td>0</td><td>0</td><td>0</td><td>NA</td><td>NA</td><td>NA</td><td>NA</td><td>0</td></tr>\n",
              "\t<tr><th scope=row>2</th><td>addybo01 </td><td>1871</td><td>1</td><td>RC1</td><td>NA</td><td>25</td><td>118</td><td>30</td><td>32</td><td> 6</td><td>⋯</td><td>13</td><td>8</td><td>1</td><td>4</td><td>0</td><td>NA</td><td>NA</td><td>NA</td><td>NA</td><td>0</td></tr>\n",
              "\t<tr><th scope=row>3</th><td>allisar01</td><td>1871</td><td>1</td><td>CL1</td><td>NA</td><td>29</td><td>137</td><td>28</td><td>40</td><td> 4</td><td>⋯</td><td>19</td><td>3</td><td>1</td><td>2</td><td>5</td><td>NA</td><td>NA</td><td>NA</td><td>NA</td><td>1</td></tr>\n",
              "\t<tr><th scope=row>4</th><td>allisdo01</td><td>1871</td><td>1</td><td>WS3</td><td>NA</td><td>27</td><td>133</td><td>28</td><td>44</td><td>10</td><td>⋯</td><td>27</td><td>1</td><td>1</td><td>0</td><td>2</td><td>NA</td><td>NA</td><td>NA</td><td>NA</td><td>0</td></tr>\n",
              "\t<tr><th scope=row>5</th><td>ansonca01</td><td>1871</td><td>1</td><td>RC1</td><td>NA</td><td>25</td><td>120</td><td>29</td><td>39</td><td>11</td><td>⋯</td><td>16</td><td>6</td><td>2</td><td>2</td><td>1</td><td>NA</td><td>NA</td><td>NA</td><td>NA</td><td>0</td></tr>\n",
              "\t<tr><th scope=row>6</th><td>armstbo01</td><td>1871</td><td>1</td><td>FW1</td><td>NA</td><td>12</td><td> 49</td><td> 9</td><td>11</td><td> 2</td><td>⋯</td><td> 5</td><td>0</td><td>1</td><td>0</td><td>1</td><td>NA</td><td>NA</td><td>NA</td><td>NA</td><td>0</td></tr>\n",
              "</tbody>\n",
              "</table>\n"
            ],
            "text/markdown": "\nA data.frame: 6 × 22\n\n| <!--/--> | playerID &lt;chr&gt; | yearID &lt;int&gt; | stint &lt;int&gt; | teamID &lt;fct&gt; | lgID &lt;fct&gt; | G &lt;int&gt; | AB &lt;int&gt; | R &lt;int&gt; | H &lt;int&gt; | X2B &lt;int&gt; | ⋯ ⋯ | RBI &lt;int&gt; | SB &lt;int&gt; | CS &lt;int&gt; | BB &lt;int&gt; | SO &lt;int&gt; | IBB &lt;int&gt; | HBP &lt;int&gt; | SH &lt;int&gt; | SF &lt;int&gt; | GIDP &lt;int&gt; |\n|---|---|---|---|---|---|---|---|---|---|---|---|---|---|---|---|---|---|---|---|---|---|\n| 1 | abercda01 | 1871 | 1 | TRO | NA |  1 |   4 |  0 |  0 |  0 | ⋯ |  0 | 0 | 0 | 0 | 0 | NA | NA | NA | NA | 0 |\n| 2 | addybo01  | 1871 | 1 | RC1 | NA | 25 | 118 | 30 | 32 |  6 | ⋯ | 13 | 8 | 1 | 4 | 0 | NA | NA | NA | NA | 0 |\n| 3 | allisar01 | 1871 | 1 | CL1 | NA | 29 | 137 | 28 | 40 |  4 | ⋯ | 19 | 3 | 1 | 2 | 5 | NA | NA | NA | NA | 1 |\n| 4 | allisdo01 | 1871 | 1 | WS3 | NA | 27 | 133 | 28 | 44 | 10 | ⋯ | 27 | 1 | 1 | 0 | 2 | NA | NA | NA | NA | 0 |\n| 5 | ansonca01 | 1871 | 1 | RC1 | NA | 25 | 120 | 29 | 39 | 11 | ⋯ | 16 | 6 | 2 | 2 | 1 | NA | NA | NA | NA | 0 |\n| 6 | armstbo01 | 1871 | 1 | FW1 | NA | 12 |  49 |  9 | 11 |  2 | ⋯ |  5 | 0 | 1 | 0 | 1 | NA | NA | NA | NA | 0 |\n\n",
            "text/latex": "A data.frame: 6 × 22\n\\begin{tabular}{r|lllllllllllllllllllll}\n  & playerID & yearID & stint & teamID & lgID & G & AB & R & H & X2B & ⋯ & RBI & SB & CS & BB & SO & IBB & HBP & SH & SF & GIDP\\\\\n  & <chr> & <int> & <int> & <fct> & <fct> & <int> & <int> & <int> & <int> & <int> & ⋯ & <int> & <int> & <int> & <int> & <int> & <int> & <int> & <int> & <int> & <int>\\\\\n\\hline\n\t1 & abercda01 & 1871 & 1 & TRO & NA &  1 &   4 &  0 &  0 &  0 & ⋯ &  0 & 0 & 0 & 0 & 0 & NA & NA & NA & NA & 0\\\\\n\t2 & addybo01  & 1871 & 1 & RC1 & NA & 25 & 118 & 30 & 32 &  6 & ⋯ & 13 & 8 & 1 & 4 & 0 & NA & NA & NA & NA & 0\\\\\n\t3 & allisar01 & 1871 & 1 & CL1 & NA & 29 & 137 & 28 & 40 &  4 & ⋯ & 19 & 3 & 1 & 2 & 5 & NA & NA & NA & NA & 1\\\\\n\t4 & allisdo01 & 1871 & 1 & WS3 & NA & 27 & 133 & 28 & 44 & 10 & ⋯ & 27 & 1 & 1 & 0 & 2 & NA & NA & NA & NA & 0\\\\\n\t5 & ansonca01 & 1871 & 1 & RC1 & NA & 25 & 120 & 29 & 39 & 11 & ⋯ & 16 & 6 & 2 & 2 & 1 & NA & NA & NA & NA & 0\\\\\n\t6 & armstbo01 & 1871 & 1 & FW1 & NA & 12 &  49 &  9 & 11 &  2 & ⋯ &  5 & 0 & 1 & 0 & 1 & NA & NA & NA & NA & 0\\\\\n\\end{tabular}\n",
            "text/plain": [
              "  playerID  yearID stint teamID lgID G  AB  R  H  X2B ⋯ RBI SB CS BB SO IBB HBP\n",
              "1 abercda01 1871   1     TRO    NA    1   4  0  0  0  ⋯  0  0  0  0  0  NA  NA \n",
              "2 addybo01  1871   1     RC1    NA   25 118 30 32  6  ⋯ 13  8  1  4  0  NA  NA \n",
              "3 allisar01 1871   1     CL1    NA   29 137 28 40  4  ⋯ 19  3  1  2  5  NA  NA \n",
              "4 allisdo01 1871   1     WS3    NA   27 133 28 44 10  ⋯ 27  1  1  0  2  NA  NA \n",
              "5 ansonca01 1871   1     RC1    NA   25 120 29 39 11  ⋯ 16  6  2  2  1  NA  NA \n",
              "6 armstbo01 1871   1     FW1    NA   12  49  9 11  2  ⋯  5  0  1  0  1  NA  NA \n",
              "  SH SF GIDP\n",
              "1 NA NA 0   \n",
              "2 NA NA 0   \n",
              "3 NA NA 1   \n",
              "4 NA NA 0   \n",
              "5 NA NA 0   \n",
              "6 NA NA 0   "
            ]
          },
          "metadata": {}
        }
      ]
    },
    {
      "cell_type": "code",
      "source": [
        "# For reshaping we need our favourite:\n",
        "library(tidyverse)"
      ],
      "metadata": {
        "id": "qezDK5-I0BHG"
      },
      "execution_count": null,
      "outputs": []
    },
    {
      "cell_type": "code",
      "source": [
        "# Let's look a one player, Manny Ramirez\n",
        "manny <- filter(Batting, playerID == \"ramirma02\")"
      ],
      "metadata": {
        "id": "zmAaj13U0HW0"
      },
      "execution_count": null,
      "outputs": []
    },
    {
      "cell_type": "code",
      "source": [
        "# Remember to use a logical operator to filter.\n",
        "x = 1  # Single equals assigns in this case.\n",
        "x == 1 # Double equals is asked are these two things equal.\n",
        "x == 2"
      ],
      "metadata": {
        "id": "d7VKqfZ70IaO",
        "colab": {
          "base_uri": "https://localhost:8080/",
          "height": 52
        },
        "outputId": "76835881-facb-412a-da1f-36a23e72b01a"
      },
      "execution_count": null,
      "outputs": [
        {
          "output_type": "display_data",
          "data": {
            "text/html": [
              "TRUE"
            ],
            "text/markdown": "TRUE",
            "text/latex": "TRUE",
            "text/plain": [
              "[1] TRUE"
            ]
          },
          "metadata": {}
        },
        {
          "output_type": "display_data",
          "data": {
            "text/html": [
              "FALSE"
            ],
            "text/markdown": "FALSE",
            "text/latex": "FALSE",
            "text/plain": [
              "[1] FALSE"
            ]
          },
          "metadata": {}
        }
      ]
    },
    {
      "cell_type": "code",
      "source": [
        "# What info do we have on Manny?\n",
        "nrow(manny)\n",
        "View(manny)"
      ],
      "metadata": {
        "id": "bgUIvY3o0KBa",
        "colab": {
          "base_uri": "https://localhost:8080/",
          "height": 794
        },
        "outputId": "e1eed31d-6316-41fe-d7f9-6036d4d67c89"
      },
      "execution_count": null,
      "outputs": [
        {
          "output_type": "display_data",
          "data": {
            "text/html": [
              "21"
            ],
            "text/markdown": "21",
            "text/latex": "21",
            "text/plain": [
              "[1] 21"
            ]
          },
          "metadata": {}
        },
        {
          "output_type": "display_data",
          "data": {
            "text/plain": [
              "   playerID  yearID stint teamID lgID G   AB  R   H   X2B ⋯ RBI SB CS BB  SO \n",
              "1  ramirma02 1993   1     CLE    AL    22  53   5   9  1  ⋯   5 0  0    2   8\n",
              "2  ramirma02 1994   1     CLE    AL    91 290  51  78 22  ⋯  60 4  2   42  72\n",
              "3  ramirma02 1995   1     CLE    AL   137 484  85 149 26  ⋯ 107 6  6   75 112\n",
              "4  ramirma02 1996   1     CLE    AL   152 550  94 170 45  ⋯ 112 8  5   85 104\n",
              "5  ramirma02 1997   1     CLE    AL   150 561  99 184 40  ⋯  88 2  3   79 115\n",
              "6  ramirma02 1998   1     CLE    AL   150 571 108 168 35  ⋯ 145 5  3   76 121\n",
              "7  ramirma02 1999   1     CLE    AL   147 522 131 174 34  ⋯ 165 2  4   96 131\n",
              "8  ramirma02 2000   1     CLE    AL   118 439  92 154 34  ⋯ 122 1  1   86 117\n",
              "9  ramirma02 2001   1     BOS    AL   142 529  93 162 33  ⋯ 125 0  1   81 147\n",
              "10 ramirma02 2002   1     BOS    AL   120 436  84 152 31  ⋯ 107 0  0   73  85\n",
              "11 ramirma02 2003   1     BOS    AL   154 569 117 185 36  ⋯ 104 3  1   97  94\n",
              "12 ramirma02 2004   1     BOS    AL   152 568 108 175 44  ⋯ 130 2  4   82 124\n",
              "13 ramirma02 2005   1     BOS    AL   152 554 112 162 30  ⋯ 144 1  0   80 119\n",
              "14 ramirma02 2006   1     BOS    AL   130 449  79 144 27  ⋯ 102 0  1  100 102\n",
              "15 ramirma02 2007   1     BOS    AL   133 483  84 143 33  ⋯  88 0  0   71  92\n",
              "16 ramirma02 2008   1     BOS    AL   100 365  66 109 22  ⋯  68 1  0   52  86\n",
              "17 ramirma02 2008   2     LAN    NL    53 187  36  74 14  ⋯  53 2  0   35  38\n",
              "18 ramirma02 2009   1     LAN    NL   104 352  62 102 24  ⋯  63 0  1   71  81\n",
              "19 ramirma02 2010   1     LAN    NL    66 196  32  61 15  ⋯  40 1  1   32  38\n",
              "20 ramirma02 2010   2     CHA    AL    24  69   6  18  1  ⋯   2 0  0   14  23\n",
              "21 ramirma02 2011   1     TBA    AL     5  17   0   1  0  ⋯   1 0  0    0   4\n",
              "   IBB HBP SH SF GIDP\n",
              "1   0   0  0   0  3  \n",
              "2   4   0  0   4  6  \n",
              "3   6   5  2   5 13  \n",
              "4   8   3  0   9 18  \n",
              "5   5   7  0   4 19  \n",
              "6   6   6  0  10 18  \n",
              "7   9  13  0   9 12  \n",
              "8   9   3  0   4  9  \n",
              "9  25   8  0   2  9  \n",
              "10 14   8  0   1 13  \n",
              "11 28   8  0   5 22  \n",
              "12 15   6  0   7 17  \n",
              "13  9  10  0   6 20  \n",
              "14 16   1  0   8 13  \n",
              "15 13   7  0   8 21  \n",
              "16  8   8  0   0 12  \n",
              "17 16   3  0   4  5  \n",
              "18 21   7  0   1  7  \n",
              "19  4   1  0   3  4  \n",
              "20  0   5  0   0  2  \n",
              "21  0   0  0   0  0  "
            ],
            "text/html": [
              "<table class=\"dataframe\">\n",
              "<caption>A data.frame: 21 × 22</caption>\n",
              "<thead>\n",
              "\t<tr><th scope=col>playerID</th><th scope=col>yearID</th><th scope=col>stint</th><th scope=col>teamID</th><th scope=col>lgID</th><th scope=col>G</th><th scope=col>AB</th><th scope=col>R</th><th scope=col>H</th><th scope=col>X2B</th><th scope=col>⋯</th><th scope=col>RBI</th><th scope=col>SB</th><th scope=col>CS</th><th scope=col>BB</th><th scope=col>SO</th><th scope=col>IBB</th><th scope=col>HBP</th><th scope=col>SH</th><th scope=col>SF</th><th scope=col>GIDP</th></tr>\n",
              "\t<tr><th scope=col>&lt;chr&gt;</th><th scope=col>&lt;int&gt;</th><th scope=col>&lt;int&gt;</th><th scope=col>&lt;fct&gt;</th><th scope=col>&lt;fct&gt;</th><th scope=col>&lt;int&gt;</th><th scope=col>&lt;int&gt;</th><th scope=col>&lt;int&gt;</th><th scope=col>&lt;int&gt;</th><th scope=col>&lt;int&gt;</th><th scope=col>⋯</th><th scope=col>&lt;int&gt;</th><th scope=col>&lt;int&gt;</th><th scope=col>&lt;int&gt;</th><th scope=col>&lt;int&gt;</th><th scope=col>&lt;int&gt;</th><th scope=col>&lt;int&gt;</th><th scope=col>&lt;int&gt;</th><th scope=col>&lt;int&gt;</th><th scope=col>&lt;int&gt;</th><th scope=col>&lt;int&gt;</th></tr>\n",
              "</thead>\n",
              "<tbody>\n",
              "\t<tr><td>ramirma02</td><td>1993</td><td>1</td><td>CLE</td><td>AL</td><td> 22</td><td> 53</td><td>  5</td><td>  9</td><td> 1</td><td>⋯</td><td>  5</td><td>0</td><td>0</td><td>  2</td><td>  8</td><td> 0</td><td> 0</td><td>0</td><td> 0</td><td> 3</td></tr>\n",
              "\t<tr><td>ramirma02</td><td>1994</td><td>1</td><td>CLE</td><td>AL</td><td> 91</td><td>290</td><td> 51</td><td> 78</td><td>22</td><td>⋯</td><td> 60</td><td>4</td><td>2</td><td> 42</td><td> 72</td><td> 4</td><td> 0</td><td>0</td><td> 4</td><td> 6</td></tr>\n",
              "\t<tr><td>ramirma02</td><td>1995</td><td>1</td><td>CLE</td><td>AL</td><td>137</td><td>484</td><td> 85</td><td>149</td><td>26</td><td>⋯</td><td>107</td><td>6</td><td>6</td><td> 75</td><td>112</td><td> 6</td><td> 5</td><td>2</td><td> 5</td><td>13</td></tr>\n",
              "\t<tr><td>ramirma02</td><td>1996</td><td>1</td><td>CLE</td><td>AL</td><td>152</td><td>550</td><td> 94</td><td>170</td><td>45</td><td>⋯</td><td>112</td><td>8</td><td>5</td><td> 85</td><td>104</td><td> 8</td><td> 3</td><td>0</td><td> 9</td><td>18</td></tr>\n",
              "\t<tr><td>ramirma02</td><td>1997</td><td>1</td><td>CLE</td><td>AL</td><td>150</td><td>561</td><td> 99</td><td>184</td><td>40</td><td>⋯</td><td> 88</td><td>2</td><td>3</td><td> 79</td><td>115</td><td> 5</td><td> 7</td><td>0</td><td> 4</td><td>19</td></tr>\n",
              "\t<tr><td>ramirma02</td><td>1998</td><td>1</td><td>CLE</td><td>AL</td><td>150</td><td>571</td><td>108</td><td>168</td><td>35</td><td>⋯</td><td>145</td><td>5</td><td>3</td><td> 76</td><td>121</td><td> 6</td><td> 6</td><td>0</td><td>10</td><td>18</td></tr>\n",
              "\t<tr><td>ramirma02</td><td>1999</td><td>1</td><td>CLE</td><td>AL</td><td>147</td><td>522</td><td>131</td><td>174</td><td>34</td><td>⋯</td><td>165</td><td>2</td><td>4</td><td> 96</td><td>131</td><td> 9</td><td>13</td><td>0</td><td> 9</td><td>12</td></tr>\n",
              "\t<tr><td>ramirma02</td><td>2000</td><td>1</td><td>CLE</td><td>AL</td><td>118</td><td>439</td><td> 92</td><td>154</td><td>34</td><td>⋯</td><td>122</td><td>1</td><td>1</td><td> 86</td><td>117</td><td> 9</td><td> 3</td><td>0</td><td> 4</td><td> 9</td></tr>\n",
              "\t<tr><td>ramirma02</td><td>2001</td><td>1</td><td>BOS</td><td>AL</td><td>142</td><td>529</td><td> 93</td><td>162</td><td>33</td><td>⋯</td><td>125</td><td>0</td><td>1</td><td> 81</td><td>147</td><td>25</td><td> 8</td><td>0</td><td> 2</td><td> 9</td></tr>\n",
              "\t<tr><td>ramirma02</td><td>2002</td><td>1</td><td>BOS</td><td>AL</td><td>120</td><td>436</td><td> 84</td><td>152</td><td>31</td><td>⋯</td><td>107</td><td>0</td><td>0</td><td> 73</td><td> 85</td><td>14</td><td> 8</td><td>0</td><td> 1</td><td>13</td></tr>\n",
              "\t<tr><td>ramirma02</td><td>2003</td><td>1</td><td>BOS</td><td>AL</td><td>154</td><td>569</td><td>117</td><td>185</td><td>36</td><td>⋯</td><td>104</td><td>3</td><td>1</td><td> 97</td><td> 94</td><td>28</td><td> 8</td><td>0</td><td> 5</td><td>22</td></tr>\n",
              "\t<tr><td>ramirma02</td><td>2004</td><td>1</td><td>BOS</td><td>AL</td><td>152</td><td>568</td><td>108</td><td>175</td><td>44</td><td>⋯</td><td>130</td><td>2</td><td>4</td><td> 82</td><td>124</td><td>15</td><td> 6</td><td>0</td><td> 7</td><td>17</td></tr>\n",
              "\t<tr><td>ramirma02</td><td>2005</td><td>1</td><td>BOS</td><td>AL</td><td>152</td><td>554</td><td>112</td><td>162</td><td>30</td><td>⋯</td><td>144</td><td>1</td><td>0</td><td> 80</td><td>119</td><td> 9</td><td>10</td><td>0</td><td> 6</td><td>20</td></tr>\n",
              "\t<tr><td>ramirma02</td><td>2006</td><td>1</td><td>BOS</td><td>AL</td><td>130</td><td>449</td><td> 79</td><td>144</td><td>27</td><td>⋯</td><td>102</td><td>0</td><td>1</td><td>100</td><td>102</td><td>16</td><td> 1</td><td>0</td><td> 8</td><td>13</td></tr>\n",
              "\t<tr><td>ramirma02</td><td>2007</td><td>1</td><td>BOS</td><td>AL</td><td>133</td><td>483</td><td> 84</td><td>143</td><td>33</td><td>⋯</td><td> 88</td><td>0</td><td>0</td><td> 71</td><td> 92</td><td>13</td><td> 7</td><td>0</td><td> 8</td><td>21</td></tr>\n",
              "\t<tr><td>ramirma02</td><td>2008</td><td>1</td><td>BOS</td><td>AL</td><td>100</td><td>365</td><td> 66</td><td>109</td><td>22</td><td>⋯</td><td> 68</td><td>1</td><td>0</td><td> 52</td><td> 86</td><td> 8</td><td> 8</td><td>0</td><td> 0</td><td>12</td></tr>\n",
              "\t<tr><td>ramirma02</td><td>2008</td><td>2</td><td>LAN</td><td>NL</td><td> 53</td><td>187</td><td> 36</td><td> 74</td><td>14</td><td>⋯</td><td> 53</td><td>2</td><td>0</td><td> 35</td><td> 38</td><td>16</td><td> 3</td><td>0</td><td> 4</td><td> 5</td></tr>\n",
              "\t<tr><td>ramirma02</td><td>2009</td><td>1</td><td>LAN</td><td>NL</td><td>104</td><td>352</td><td> 62</td><td>102</td><td>24</td><td>⋯</td><td> 63</td><td>0</td><td>1</td><td> 71</td><td> 81</td><td>21</td><td> 7</td><td>0</td><td> 1</td><td> 7</td></tr>\n",
              "\t<tr><td>ramirma02</td><td>2010</td><td>1</td><td>LAN</td><td>NL</td><td> 66</td><td>196</td><td> 32</td><td> 61</td><td>15</td><td>⋯</td><td> 40</td><td>1</td><td>1</td><td> 32</td><td> 38</td><td> 4</td><td> 1</td><td>0</td><td> 3</td><td> 4</td></tr>\n",
              "\t<tr><td>ramirma02</td><td>2010</td><td>2</td><td>CHA</td><td>AL</td><td> 24</td><td> 69</td><td>  6</td><td> 18</td><td> 1</td><td>⋯</td><td>  2</td><td>0</td><td>0</td><td> 14</td><td> 23</td><td> 0</td><td> 5</td><td>0</td><td> 0</td><td> 2</td></tr>\n",
              "\t<tr><td>ramirma02</td><td>2011</td><td>1</td><td>TBA</td><td>AL</td><td>  5</td><td> 17</td><td>  0</td><td>  1</td><td> 0</td><td>⋯</td><td>  1</td><td>0</td><td>0</td><td>  0</td><td>  4</td><td> 0</td><td> 0</td><td>0</td><td> 0</td><td> 0</td></tr>\n",
              "</tbody>\n",
              "</table>\n"
            ],
            "text/markdown": "\nA data.frame: 21 × 22\n\n| playerID &lt;chr&gt; | yearID &lt;int&gt; | stint &lt;int&gt; | teamID &lt;fct&gt; | lgID &lt;fct&gt; | G &lt;int&gt; | AB &lt;int&gt; | R &lt;int&gt; | H &lt;int&gt; | X2B &lt;int&gt; | ⋯ ⋯ | RBI &lt;int&gt; | SB &lt;int&gt; | CS &lt;int&gt; | BB &lt;int&gt; | SO &lt;int&gt; | IBB &lt;int&gt; | HBP &lt;int&gt; | SH &lt;int&gt; | SF &lt;int&gt; | GIDP &lt;int&gt; |\n|---|---|---|---|---|---|---|---|---|---|---|---|---|---|---|---|---|---|---|---|---|\n| ramirma02 | 1993 | 1 | CLE | AL |  22 |  53 |   5 |   9 |  1 | ⋯ |   5 | 0 | 0 |   2 |   8 |  0 |  0 | 0 |  0 |  3 |\n| ramirma02 | 1994 | 1 | CLE | AL |  91 | 290 |  51 |  78 | 22 | ⋯ |  60 | 4 | 2 |  42 |  72 |  4 |  0 | 0 |  4 |  6 |\n| ramirma02 | 1995 | 1 | CLE | AL | 137 | 484 |  85 | 149 | 26 | ⋯ | 107 | 6 | 6 |  75 | 112 |  6 |  5 | 2 |  5 | 13 |\n| ramirma02 | 1996 | 1 | CLE | AL | 152 | 550 |  94 | 170 | 45 | ⋯ | 112 | 8 | 5 |  85 | 104 |  8 |  3 | 0 |  9 | 18 |\n| ramirma02 | 1997 | 1 | CLE | AL | 150 | 561 |  99 | 184 | 40 | ⋯ |  88 | 2 | 3 |  79 | 115 |  5 |  7 | 0 |  4 | 19 |\n| ramirma02 | 1998 | 1 | CLE | AL | 150 | 571 | 108 | 168 | 35 | ⋯ | 145 | 5 | 3 |  76 | 121 |  6 |  6 | 0 | 10 | 18 |\n| ramirma02 | 1999 | 1 | CLE | AL | 147 | 522 | 131 | 174 | 34 | ⋯ | 165 | 2 | 4 |  96 | 131 |  9 | 13 | 0 |  9 | 12 |\n| ramirma02 | 2000 | 1 | CLE | AL | 118 | 439 |  92 | 154 | 34 | ⋯ | 122 | 1 | 1 |  86 | 117 |  9 |  3 | 0 |  4 |  9 |\n| ramirma02 | 2001 | 1 | BOS | AL | 142 | 529 |  93 | 162 | 33 | ⋯ | 125 | 0 | 1 |  81 | 147 | 25 |  8 | 0 |  2 |  9 |\n| ramirma02 | 2002 | 1 | BOS | AL | 120 | 436 |  84 | 152 | 31 | ⋯ | 107 | 0 | 0 |  73 |  85 | 14 |  8 | 0 |  1 | 13 |\n| ramirma02 | 2003 | 1 | BOS | AL | 154 | 569 | 117 | 185 | 36 | ⋯ | 104 | 3 | 1 |  97 |  94 | 28 |  8 | 0 |  5 | 22 |\n| ramirma02 | 2004 | 1 | BOS | AL | 152 | 568 | 108 | 175 | 44 | ⋯ | 130 | 2 | 4 |  82 | 124 | 15 |  6 | 0 |  7 | 17 |\n| ramirma02 | 2005 | 1 | BOS | AL | 152 | 554 | 112 | 162 | 30 | ⋯ | 144 | 1 | 0 |  80 | 119 |  9 | 10 | 0 |  6 | 20 |\n| ramirma02 | 2006 | 1 | BOS | AL | 130 | 449 |  79 | 144 | 27 | ⋯ | 102 | 0 | 1 | 100 | 102 | 16 |  1 | 0 |  8 | 13 |\n| ramirma02 | 2007 | 1 | BOS | AL | 133 | 483 |  84 | 143 | 33 | ⋯ |  88 | 0 | 0 |  71 |  92 | 13 |  7 | 0 |  8 | 21 |\n| ramirma02 | 2008 | 1 | BOS | AL | 100 | 365 |  66 | 109 | 22 | ⋯ |  68 | 1 | 0 |  52 |  86 |  8 |  8 | 0 |  0 | 12 |\n| ramirma02 | 2008 | 2 | LAN | NL |  53 | 187 |  36 |  74 | 14 | ⋯ |  53 | 2 | 0 |  35 |  38 | 16 |  3 | 0 |  4 |  5 |\n| ramirma02 | 2009 | 1 | LAN | NL | 104 | 352 |  62 | 102 | 24 | ⋯ |  63 | 0 | 1 |  71 |  81 | 21 |  7 | 0 |  1 |  7 |\n| ramirma02 | 2010 | 1 | LAN | NL |  66 | 196 |  32 |  61 | 15 | ⋯ |  40 | 1 | 1 |  32 |  38 |  4 |  1 | 0 |  3 |  4 |\n| ramirma02 | 2010 | 2 | CHA | AL |  24 |  69 |   6 |  18 |  1 | ⋯ |   2 | 0 | 0 |  14 |  23 |  0 |  5 | 0 |  0 |  2 |\n| ramirma02 | 2011 | 1 | TBA | AL |   5 |  17 |   0 |   1 |  0 | ⋯ |   1 | 0 | 0 |   0 |   4 |  0 |  0 | 0 |  0 |  0 |\n\n",
            "text/latex": "A data.frame: 21 × 22\n\\begin{tabular}{lllllllllllllllllllll}\n playerID & yearID & stint & teamID & lgID & G & AB & R & H & X2B & ⋯ & RBI & SB & CS & BB & SO & IBB & HBP & SH & SF & GIDP\\\\\n <chr> & <int> & <int> & <fct> & <fct> & <int> & <int> & <int> & <int> & <int> & ⋯ & <int> & <int> & <int> & <int> & <int> & <int> & <int> & <int> & <int> & <int>\\\\\n\\hline\n\t ramirma02 & 1993 & 1 & CLE & AL &  22 &  53 &   5 &   9 &  1 & ⋯ &   5 & 0 & 0 &   2 &   8 &  0 &  0 & 0 &  0 &  3\\\\\n\t ramirma02 & 1994 & 1 & CLE & AL &  91 & 290 &  51 &  78 & 22 & ⋯ &  60 & 4 & 2 &  42 &  72 &  4 &  0 & 0 &  4 &  6\\\\\n\t ramirma02 & 1995 & 1 & CLE & AL & 137 & 484 &  85 & 149 & 26 & ⋯ & 107 & 6 & 6 &  75 & 112 &  6 &  5 & 2 &  5 & 13\\\\\n\t ramirma02 & 1996 & 1 & CLE & AL & 152 & 550 &  94 & 170 & 45 & ⋯ & 112 & 8 & 5 &  85 & 104 &  8 &  3 & 0 &  9 & 18\\\\\n\t ramirma02 & 1997 & 1 & CLE & AL & 150 & 561 &  99 & 184 & 40 & ⋯ &  88 & 2 & 3 &  79 & 115 &  5 &  7 & 0 &  4 & 19\\\\\n\t ramirma02 & 1998 & 1 & CLE & AL & 150 & 571 & 108 & 168 & 35 & ⋯ & 145 & 5 & 3 &  76 & 121 &  6 &  6 & 0 & 10 & 18\\\\\n\t ramirma02 & 1999 & 1 & CLE & AL & 147 & 522 & 131 & 174 & 34 & ⋯ & 165 & 2 & 4 &  96 & 131 &  9 & 13 & 0 &  9 & 12\\\\\n\t ramirma02 & 2000 & 1 & CLE & AL & 118 & 439 &  92 & 154 & 34 & ⋯ & 122 & 1 & 1 &  86 & 117 &  9 &  3 & 0 &  4 &  9\\\\\n\t ramirma02 & 2001 & 1 & BOS & AL & 142 & 529 &  93 & 162 & 33 & ⋯ & 125 & 0 & 1 &  81 & 147 & 25 &  8 & 0 &  2 &  9\\\\\n\t ramirma02 & 2002 & 1 & BOS & AL & 120 & 436 &  84 & 152 & 31 & ⋯ & 107 & 0 & 0 &  73 &  85 & 14 &  8 & 0 &  1 & 13\\\\\n\t ramirma02 & 2003 & 1 & BOS & AL & 154 & 569 & 117 & 185 & 36 & ⋯ & 104 & 3 & 1 &  97 &  94 & 28 &  8 & 0 &  5 & 22\\\\\n\t ramirma02 & 2004 & 1 & BOS & AL & 152 & 568 & 108 & 175 & 44 & ⋯ & 130 & 2 & 4 &  82 & 124 & 15 &  6 & 0 &  7 & 17\\\\\n\t ramirma02 & 2005 & 1 & BOS & AL & 152 & 554 & 112 & 162 & 30 & ⋯ & 144 & 1 & 0 &  80 & 119 &  9 & 10 & 0 &  6 & 20\\\\\n\t ramirma02 & 2006 & 1 & BOS & AL & 130 & 449 &  79 & 144 & 27 & ⋯ & 102 & 0 & 1 & 100 & 102 & 16 &  1 & 0 &  8 & 13\\\\\n\t ramirma02 & 2007 & 1 & BOS & AL & 133 & 483 &  84 & 143 & 33 & ⋯ &  88 & 0 & 0 &  71 &  92 & 13 &  7 & 0 &  8 & 21\\\\\n\t ramirma02 & 2008 & 1 & BOS & AL & 100 & 365 &  66 & 109 & 22 & ⋯ &  68 & 1 & 0 &  52 &  86 &  8 &  8 & 0 &  0 & 12\\\\\n\t ramirma02 & 2008 & 2 & LAN & NL &  53 & 187 &  36 &  74 & 14 & ⋯ &  53 & 2 & 0 &  35 &  38 & 16 &  3 & 0 &  4 &  5\\\\\n\t ramirma02 & 2009 & 1 & LAN & NL & 104 & 352 &  62 & 102 & 24 & ⋯ &  63 & 0 & 1 &  71 &  81 & 21 &  7 & 0 &  1 &  7\\\\\n\t ramirma02 & 2010 & 1 & LAN & NL &  66 & 196 &  32 &  61 & 15 & ⋯ &  40 & 1 & 1 &  32 &  38 &  4 &  1 & 0 &  3 &  4\\\\\n\t ramirma02 & 2010 & 2 & CHA & AL &  24 &  69 &   6 &  18 &  1 & ⋯ &   2 & 0 & 0 &  14 &  23 &  0 &  5 & 0 &  0 &  2\\\\\n\t ramirma02 & 2011 & 1 & TBA & AL &   5 &  17 &   0 &   1 &  0 & ⋯ &   1 & 0 & 0 &   0 &   4 &  0 &  0 & 0 &  0 &  0\\\\\n\\end{tabular}\n"
          },
          "metadata": {}
        }
      ]
    },
    {
      "cell_type": "code",
      "source": [
        "# Let's look at some tools to get some summary stats:\n",
        "# unique values\n",
        "n_distinct(c(\"a\", \"a\", \"b\"))\n"
      ],
      "metadata": {
        "id": "AQAlgBw60LzW",
        "colab": {
          "base_uri": "https://localhost:8080/",
          "height": 34
        },
        "outputId": "3cf6ace1-a455-4bc5-f894-44516c43bead"
      },
      "execution_count": null,
      "outputs": [
        {
          "output_type": "display_data",
          "data": {
            "text/html": [
              "2"
            ],
            "text/markdown": "2",
            "text/latex": "2",
            "text/plain": [
              "[1] 2"
            ]
          },
          "metadata": {}
        }
      ]
    },
    {
      "cell_type": "code",
      "source": [
        "# concatenate values / variables\n",
        "paste(\"a\", \"b\", sep = \"-\")\n",
        "\n",
        "# paste defaults to \" \" as the seperator\n",
        "paste(\"a\",\"b\",\"c\")\n",
        "paste(\"a\",\"b\",\"c\", sep = \";\")\n",
        "paste(\"a\",\"b\",\"c\", sep = \"\")\n"
      ],
      "metadata": {
        "colab": {
          "base_uri": "https://localhost:8080/",
          "height": 86
        },
        "id": "Jn3QpGIpfkBF",
        "outputId": "b5ab30f6-a1f0-4099-a1f3-9340e5cd36f4"
      },
      "execution_count": null,
      "outputs": [
        {
          "output_type": "display_data",
          "data": {
            "text/html": [
              "'a-b'"
            ],
            "text/markdown": "'a-b'",
            "text/latex": "'a-b'",
            "text/plain": [
              "[1] \"a-b\""
            ]
          },
          "metadata": {}
        },
        {
          "output_type": "display_data",
          "data": {
            "text/html": [
              "'a b c'"
            ],
            "text/markdown": "'a b c'",
            "text/latex": "'a b c'",
            "text/plain": [
              "[1] \"a b c\""
            ]
          },
          "metadata": {}
        },
        {
          "output_type": "display_data",
          "data": {
            "text/html": [
              "'a;b;c'"
            ],
            "text/markdown": "'a;b;c'",
            "text/latex": "'a;b;c'",
            "text/plain": [
              "[1] \"a;b;c\""
            ]
          },
          "metadata": {}
        },
        {
          "output_type": "display_data",
          "data": {
            "text/html": [
              "'abc'"
            ],
            "text/markdown": "'abc'",
            "text/latex": "'abc'",
            "text/plain": [
              "[1] \"abc\""
            ]
          },
          "metadata": {}
        }
      ]
    },
    {
      "cell_type": "code",
      "source": [
        "\n",
        "# `paste0()` is a short cut for no seperator\n",
        "paste0(\"a\",\"b\",\"c\")\n",
        "\n"
      ],
      "metadata": {
        "colab": {
          "base_uri": "https://localhost:8080/",
          "height": 34
        },
        "id": "ve2rOxhefsQl",
        "outputId": "db93af50-a3ef-44d9-adf4-cf5654b5fded"
      },
      "execution_count": null,
      "outputs": [
        {
          "output_type": "display_data",
          "data": {
            "text/html": [
              "'abc'"
            ],
            "text/markdown": "'abc'",
            "text/latex": "'abc'",
            "text/plain": [
              "[1] \"abc\""
            ]
          },
          "metadata": {}
        }
      ]
    },
    {
      "cell_type": "code",
      "source": [
        "# works with other objects (variables, functions)\n",
        "a <- \"hello\"\n",
        "b <- \"world\"\n",
        "paste(a,b,42)\n",
        "paste0(paste(a,b,42),\"!\")\n",
        "\n"
      ],
      "metadata": {
        "colab": {
          "base_uri": "https://localhost:8080/",
          "height": 52
        },
        "id": "oFVQYdLRf4Cb",
        "outputId": "b8bfd1d0-25db-4711-d84f-d3e8d5635b05"
      },
      "execution_count": null,
      "outputs": [
        {
          "output_type": "display_data",
          "data": {
            "text/html": [
              "'hello world 42'"
            ],
            "text/markdown": "'hello world 42'",
            "text/latex": "'hello world 42'",
            "text/plain": [
              "[1] \"hello world 42\""
            ]
          },
          "metadata": {}
        },
        {
          "output_type": "display_data",
          "data": {
            "text/html": [
              "'hello world 42!'"
            ],
            "text/markdown": "'hello world 42!'",
            "text/latex": "'hello world 42!'",
            "text/plain": [
              "[1] \"hello world 42!\""
            ]
          },
          "metadata": {}
        }
      ]
    },
    {
      "cell_type": "code",
      "source": [
        "# sums\n",
        "sum(1:3)"
      ],
      "metadata": {
        "colab": {
          "base_uri": "https://localhost:8080/",
          "height": 34
        },
        "id": "eRxKMdClf7PG",
        "outputId": "0811ffb1-b7ff-4c02-fb82-7490a88e986d"
      },
      "execution_count": null,
      "outputs": [
        {
          "output_type": "display_data",
          "data": {
            "text/html": [
              "6"
            ],
            "text/markdown": "6",
            "text/latex": "6",
            "text/plain": [
              "[1] 6"
            ]
          },
          "metadata": {}
        }
      ]
    },
    {
      "cell_type": "code",
      "source": [
        "manny_stats <- summarise(manny,\n",
        "                         span = paste(min(yearID), max(yearID), sep = \"-\"),\n",
        "                         numYears = n_distinct(yearID),\n",
        "                         numTeams = n_distinct(teamID),\n",
        "                         BA = sum(H)/ sum(AB),\n",
        "                         tH = sum(H),\n",
        "                         tHR = sum(HR),\n",
        "                         tRBI = sum(RBI))\n",
        "head(manny_stats)\n"
      ],
      "metadata": {
        "id": "lMnx4d4B0NU5",
        "colab": {
          "base_uri": "https://localhost:8080/",
          "height": 129
        },
        "outputId": "bb9cbe2c-3b28-4970-9ea2-6d27ffa198bc"
      },
      "execution_count": null,
      "outputs": [
        {
          "output_type": "display_data",
          "data": {
            "text/html": [
              "<table class=\"dataframe\">\n",
              "<caption>A data.frame: 1 × 7</caption>\n",
              "<thead>\n",
              "\t<tr><th></th><th scope=col>span</th><th scope=col>numYears</th><th scope=col>numTeams</th><th scope=col>BA</th><th scope=col>tH</th><th scope=col>tHR</th><th scope=col>tRBI</th></tr>\n",
              "\t<tr><th></th><th scope=col>&lt;chr&gt;</th><th scope=col>&lt;int&gt;</th><th scope=col>&lt;int&gt;</th><th scope=col>&lt;dbl&gt;</th><th scope=col>&lt;int&gt;</th><th scope=col>&lt;int&gt;</th><th scope=col>&lt;int&gt;</th></tr>\n",
              "</thead>\n",
              "<tbody>\n",
              "\t<tr><th scope=row>1</th><td>1993-2011</td><td>19</td><td>5</td><td>0.3122271</td><td>2574</td><td>555</td><td>1831</td></tr>\n",
              "</tbody>\n",
              "</table>\n"
            ],
            "text/markdown": "\nA data.frame: 1 × 7\n\n| <!--/--> | span &lt;chr&gt; | numYears &lt;int&gt; | numTeams &lt;int&gt; | BA &lt;dbl&gt; | tH &lt;int&gt; | tHR &lt;int&gt; | tRBI &lt;int&gt; |\n|---|---|---|---|---|---|---|---|\n| 1 | 1993-2011 | 19 | 5 | 0.3122271 | 2574 | 555 | 1831 |\n\n",
            "text/latex": "A data.frame: 1 × 7\n\\begin{tabular}{r|lllllll}\n  & span & numYears & numTeams & BA & tH & tHR & tRBI\\\\\n  & <chr> & <int> & <int> & <dbl> & <int> & <int> & <int>\\\\\n\\hline\n\t1 & 1993-2011 & 19 & 5 & 0.3122271 & 2574 & 555 & 1831\\\\\n\\end{tabular}\n",
            "text/plain": [
              "  span      numYears numTeams BA        tH   tHR tRBI\n",
              "1 1993-2011 19       5        0.3122271 2574 555 1831"
            ]
          },
          "metadata": {}
        }
      ]
    },
    {
      "cell_type": "code",
      "source": [
        "# With the pipe, you could do this:\n",
        "manny_being_manny <- Batting %>%\n",
        "  filter(playerID == \"ramirma02\") %>%\n",
        "  summarise(span = paste(min(yearID), max(yearID), sep = \"-\"), # Note also the paste() function here.\n",
        "            numYears = n_distinct(yearID),\n",
        "            numTeams = n_distinct(teamID),\n",
        "            BA = sum(H) / sum(AB),\n",
        "            tH = sum(H),\n",
        "            tHR = sum(HR),\n",
        "            tRBI = sum(RBI))\n",
        "\n",
        "head(manny_being_manny)\n"
      ],
      "metadata": {
        "id": "8q-0Hz3S0SDP",
        "colab": {
          "base_uri": "https://localhost:8080/",
          "height": 129
        },
        "outputId": "edc6d320-c76d-4a7c-bf36-63828ac9bcb0"
      },
      "execution_count": null,
      "outputs": [
        {
          "output_type": "display_data",
          "data": {
            "text/html": [
              "<table class=\"dataframe\">\n",
              "<caption>A data.frame: 1 × 7</caption>\n",
              "<thead>\n",
              "\t<tr><th></th><th scope=col>span</th><th scope=col>numYears</th><th scope=col>numTeams</th><th scope=col>BA</th><th scope=col>tH</th><th scope=col>tHR</th><th scope=col>tRBI</th></tr>\n",
              "\t<tr><th></th><th scope=col>&lt;chr&gt;</th><th scope=col>&lt;int&gt;</th><th scope=col>&lt;int&gt;</th><th scope=col>&lt;dbl&gt;</th><th scope=col>&lt;int&gt;</th><th scope=col>&lt;int&gt;</th><th scope=col>&lt;int&gt;</th></tr>\n",
              "</thead>\n",
              "<tbody>\n",
              "\t<tr><th scope=row>1</th><td>1993-2011</td><td>19</td><td>5</td><td>0.3122271</td><td>2574</td><td>555</td><td>1831</td></tr>\n",
              "</tbody>\n",
              "</table>\n"
            ],
            "text/markdown": "\nA data.frame: 1 × 7\n\n| <!--/--> | span &lt;chr&gt; | numYears &lt;int&gt; | numTeams &lt;int&gt; | BA &lt;dbl&gt; | tH &lt;int&gt; | tHR &lt;int&gt; | tRBI &lt;int&gt; |\n|---|---|---|---|---|---|---|---|\n| 1 | 1993-2011 | 19 | 5 | 0.3122271 | 2574 | 555 | 1831 |\n\n",
            "text/latex": "A data.frame: 1 × 7\n\\begin{tabular}{r|lllllll}\n  & span & numYears & numTeams & BA & tH & tHR & tRBI\\\\\n  & <chr> & <int> & <int> & <dbl> & <int> & <int> & <int>\\\\\n\\hline\n\t1 & 1993-2011 & 19 & 5 & 0.3122271 & 2574 & 555 & 1831\\\\\n\\end{tabular}\n",
            "text/plain": [
              "  span      numYears numTeams BA        tH   tHR tRBI\n",
              "1 1993-2011 19       5        0.3122271 2574 555 1831"
            ]
          },
          "metadata": {}
        }
      ]
    },
    {
      "cell_type": "code",
      "source": [
        "# Might be interesting to break the stats down by team:\n",
        "manny_team_stats <- Batting %>%\n",
        "  filter(playerID == \"ramirma02\") %>%\n",
        "  group_by(teamID) %>% # added in a group operator\n",
        "  summarise(span = paste(min(yearID), max(yearID), sep = \"-\"),\n",
        "            numYears = n_distinct(yearID),\n",
        "            numTeams = n_distinct(teamID),\n",
        "            BA = sum(H) / sum(AB),\n",
        "            tH = sum(H),\n",
        "            tHR = sum(HR),\n",
        "            tRBI = sum(RBI))\n",
        "head(manny_team_stats)"
      ],
      "metadata": {
        "id": "9ZQXTkbz0UYE",
        "colab": {
          "base_uri": "https://localhost:8080/",
          "height": 254
        },
        "outputId": "853d7e4b-ccc0-4adc-cb29-9c45c873dd3d"
      },
      "execution_count": null,
      "outputs": [
        {
          "output_type": "display_data",
          "data": {
            "text/html": [
              "<table class=\"dataframe\">\n",
              "<caption>A tibble: 5 × 8</caption>\n",
              "<thead>\n",
              "\t<tr><th scope=col>teamID</th><th scope=col>span</th><th scope=col>numYears</th><th scope=col>numTeams</th><th scope=col>BA</th><th scope=col>tH</th><th scope=col>tHR</th><th scope=col>tRBI</th></tr>\n",
              "\t<tr><th scope=col>&lt;fct&gt;</th><th scope=col>&lt;chr&gt;</th><th scope=col>&lt;int&gt;</th><th scope=col>&lt;int&gt;</th><th scope=col>&lt;dbl&gt;</th><th scope=col>&lt;int&gt;</th><th scope=col>&lt;int&gt;</th><th scope=col>&lt;int&gt;</th></tr>\n",
              "</thead>\n",
              "<tbody>\n",
              "\t<tr><td>BOS</td><td>2001-2008</td><td>8</td><td>1</td><td>0.31166203</td><td>1232</td><td>274</td><td>868</td></tr>\n",
              "\t<tr><td>CHA</td><td>2010-2010</td><td>1</td><td>1</td><td>0.26086957</td><td>  18</td><td>  1</td><td>  2</td></tr>\n",
              "\t<tr><td>CLE</td><td>1993-2000</td><td>8</td><td>1</td><td>0.31296830</td><td>1086</td><td>236</td><td>804</td></tr>\n",
              "\t<tr><td>LAN</td><td>2008-2010</td><td>3</td><td>1</td><td>0.32244898</td><td> 237</td><td> 44</td><td>156</td></tr>\n",
              "\t<tr><td>TBA</td><td>2011-2011</td><td>1</td><td>1</td><td>0.05882353</td><td>   1</td><td>  0</td><td>  1</td></tr>\n",
              "</tbody>\n",
              "</table>\n"
            ],
            "text/markdown": "\nA tibble: 5 × 8\n\n| teamID &lt;fct&gt; | span &lt;chr&gt; | numYears &lt;int&gt; | numTeams &lt;int&gt; | BA &lt;dbl&gt; | tH &lt;int&gt; | tHR &lt;int&gt; | tRBI &lt;int&gt; |\n|---|---|---|---|---|---|---|---|\n| BOS | 2001-2008 | 8 | 1 | 0.31166203 | 1232 | 274 | 868 |\n| CHA | 2010-2010 | 1 | 1 | 0.26086957 |   18 |   1 |   2 |\n| CLE | 1993-2000 | 8 | 1 | 0.31296830 | 1086 | 236 | 804 |\n| LAN | 2008-2010 | 3 | 1 | 0.32244898 |  237 |  44 | 156 |\n| TBA | 2011-2011 | 1 | 1 | 0.05882353 |    1 |   0 |   1 |\n\n",
            "text/latex": "A tibble: 5 × 8\n\\begin{tabular}{llllllll}\n teamID & span & numYears & numTeams & BA & tH & tHR & tRBI\\\\\n <fct> & <chr> & <int> & <int> & <dbl> & <int> & <int> & <int>\\\\\n\\hline\n\t BOS & 2001-2008 & 8 & 1 & 0.31166203 & 1232 & 274 & 868\\\\\n\t CHA & 2010-2010 & 1 & 1 & 0.26086957 &   18 &   1 &   2\\\\\n\t CLE & 1993-2000 & 8 & 1 & 0.31296830 & 1086 & 236 & 804\\\\\n\t LAN & 2008-2010 & 3 & 1 & 0.32244898 &  237 &  44 & 156\\\\\n\t TBA & 2011-2011 & 1 & 1 & 0.05882353 &    1 &   0 &   1\\\\\n\\end{tabular}\n",
            "text/plain": [
              "  teamID span      numYears numTeams BA         tH   tHR tRBI\n",
              "1 BOS    2001-2008 8        1        0.31166203 1232 274 868 \n",
              "2 CHA    2010-2010 1        1        0.26086957   18   1   2 \n",
              "3 CLE    1993-2000 8        1        0.31296830 1086 236 804 \n",
              "4 LAN    2008-2010 3        1        0.32244898  237  44 156 \n",
              "5 TBA    2011-2011 1        1        0.05882353    1   0   1 "
            ]
          },
          "metadata": {}
        }
      ]
    },
    {
      "cell_type": "code",
      "source": [
        "# To make the data more intuitive / readable.\n",
        "# Might want to reorder by the years played for each team.\n",
        "# Can use arrange for that.\n",
        "example <- data.frame(number = c(2, 5, 1))\n",
        "arrange(example, number)"
      ],
      "metadata": {
        "id": "vzkGo1Nf0vTx",
        "colab": {
          "base_uri": "https://localhost:8080/",
          "height": 226
        },
        "outputId": "073404db-3781-409a-ca63-b4558fe72a6a"
      },
      "execution_count": null,
      "outputs": [
        {
          "output_type": "display_data",
          "data": {
            "text/html": [
              "<table class=\"dataframe\">\n",
              "<caption>A data.frame: 3 × 1</caption>\n",
              "<thead>\n",
              "\t<tr><th scope=col>number</th></tr>\n",
              "\t<tr><th scope=col>&lt;dbl&gt;</th></tr>\n",
              "</thead>\n",
              "<tbody>\n",
              "\t<tr><td>1</td></tr>\n",
              "\t<tr><td>2</td></tr>\n",
              "\t<tr><td>5</td></tr>\n",
              "</tbody>\n",
              "</table>\n"
            ],
            "text/markdown": "\nA data.frame: 3 × 1\n\n| number &lt;dbl&gt; |\n|---|\n| 1 |\n| 2 |\n| 5 |\n\n",
            "text/latex": "A data.frame: 3 × 1\n\\begin{tabular}{l}\n number\\\\\n <dbl>\\\\\n\\hline\n\t 1\\\\\n\t 2\\\\\n\t 5\\\\\n\\end{tabular}\n",
            "text/plain": [
              "  number\n",
              "1 1     \n",
              "2 2     \n",
              "3 5     "
            ]
          },
          "metadata": {}
        }
      ]
    },
    {
      "cell_type": "code",
      "source": [
        "manny_team_stats <- Batting %>%\n",
        "  filter(playerID == \"ramirma02\") %>%\n",
        "  group_by(teamID) %>%\n",
        "  summarise(span = paste(min(yearID), max(yearID), sep = \"-\"),\n",
        "            numYears = n_distinct(yearID),\n",
        "            numTeams = n_distinct(teamID),\n",
        "            BA = sum(H)/ sum(AB),\n",
        "            tH = sum(H),\n",
        "            tHR = sum(HR),\n",
        "            tRBI = sum(RBI)) %>%\n",
        "  arrange(span) # Now arrange by the span\n",
        "\n",
        "head(manny_team_stats) # almost, of course Boston should be on top..."
      ],
      "metadata": {
        "id": "XQ-fu1wj05XR",
        "colab": {
          "base_uri": "https://localhost:8080/",
          "height": 254
        },
        "outputId": "dfa9d8c2-2850-4647-c571-4ccac5625427"
      },
      "execution_count": null,
      "outputs": [
        {
          "output_type": "display_data",
          "data": {
            "text/html": [
              "<table class=\"dataframe\">\n",
              "<caption>A tibble: 5 × 8</caption>\n",
              "<thead>\n",
              "\t<tr><th scope=col>teamID</th><th scope=col>span</th><th scope=col>numYears</th><th scope=col>numTeams</th><th scope=col>BA</th><th scope=col>tH</th><th scope=col>tHR</th><th scope=col>tRBI</th></tr>\n",
              "\t<tr><th scope=col>&lt;fct&gt;</th><th scope=col>&lt;chr&gt;</th><th scope=col>&lt;int&gt;</th><th scope=col>&lt;int&gt;</th><th scope=col>&lt;dbl&gt;</th><th scope=col>&lt;int&gt;</th><th scope=col>&lt;int&gt;</th><th scope=col>&lt;int&gt;</th></tr>\n",
              "</thead>\n",
              "<tbody>\n",
              "\t<tr><td>CLE</td><td>1993-2000</td><td>8</td><td>1</td><td>0.31296830</td><td>1086</td><td>236</td><td>804</td></tr>\n",
              "\t<tr><td>BOS</td><td>2001-2008</td><td>8</td><td>1</td><td>0.31166203</td><td>1232</td><td>274</td><td>868</td></tr>\n",
              "\t<tr><td>LAN</td><td>2008-2010</td><td>3</td><td>1</td><td>0.32244898</td><td> 237</td><td> 44</td><td>156</td></tr>\n",
              "\t<tr><td>CHA</td><td>2010-2010</td><td>1</td><td>1</td><td>0.26086957</td><td>  18</td><td>  1</td><td>  2</td></tr>\n",
              "\t<tr><td>TBA</td><td>2011-2011</td><td>1</td><td>1</td><td>0.05882353</td><td>   1</td><td>  0</td><td>  1</td></tr>\n",
              "</tbody>\n",
              "</table>\n"
            ],
            "text/markdown": "\nA tibble: 5 × 8\n\n| teamID &lt;fct&gt; | span &lt;chr&gt; | numYears &lt;int&gt; | numTeams &lt;int&gt; | BA &lt;dbl&gt; | tH &lt;int&gt; | tHR &lt;int&gt; | tRBI &lt;int&gt; |\n|---|---|---|---|---|---|---|---|\n| CLE | 1993-2000 | 8 | 1 | 0.31296830 | 1086 | 236 | 804 |\n| BOS | 2001-2008 | 8 | 1 | 0.31166203 | 1232 | 274 | 868 |\n| LAN | 2008-2010 | 3 | 1 | 0.32244898 |  237 |  44 | 156 |\n| CHA | 2010-2010 | 1 | 1 | 0.26086957 |   18 |   1 |   2 |\n| TBA | 2011-2011 | 1 | 1 | 0.05882353 |    1 |   0 |   1 |\n\n",
            "text/latex": "A tibble: 5 × 8\n\\begin{tabular}{llllllll}\n teamID & span & numYears & numTeams & BA & tH & tHR & tRBI\\\\\n <fct> & <chr> & <int> & <int> & <dbl> & <int> & <int> & <int>\\\\\n\\hline\n\t CLE & 1993-2000 & 8 & 1 & 0.31296830 & 1086 & 236 & 804\\\\\n\t BOS & 2001-2008 & 8 & 1 & 0.31166203 & 1232 & 274 & 868\\\\\n\t LAN & 2008-2010 & 3 & 1 & 0.32244898 &  237 &  44 & 156\\\\\n\t CHA & 2010-2010 & 1 & 1 & 0.26086957 &   18 &   1 &   2\\\\\n\t TBA & 2011-2011 & 1 & 1 & 0.05882353 &    1 &   0 &   1\\\\\n\\end{tabular}\n",
            "text/plain": [
              "  teamID span      numYears numTeams BA         tH   tHR tRBI\n",
              "1 CLE    1993-2000 8        1        0.31296830 1086 236 804 \n",
              "2 BOS    2001-2008 8        1        0.31166203 1232 274 868 \n",
              "3 LAN    2008-2010 3        1        0.32244898  237  44 156 \n",
              "4 CHA    2010-2010 1        1        0.26086957   18   1   2 \n",
              "5 TBA    2011-2011 1        1        0.05882353    1   0   1 "
            ]
          },
          "metadata": {}
        }
      ]
    },
    {
      "cell_type": "markdown",
      "source": [
        "## Joins in R"
      ],
      "metadata": {
        "id": "1mGHBLr11LLc"
      }
    },
    {
      "cell_type": "code",
      "source": [
        "# Let's start with a toy example:\n",
        "df1 <- data.frame(number = 1:3,\n",
        "                 first_letters = c(\"a\", \"b\", \"c\"))\n",
        "df1\n",
        "\n",
        "df2 <- data.frame(number = c(1:2, NA_real_, 4),\n",
        "                 last_letters = c(\"w\", \"x\", \"y\", \"z\"))\n",
        "df2\n",
        "\n",
        "# terminology of joins is Left and Right sides, so could use:\n",
        "dfL <- df1\n",
        "dfR <- df2"
      ],
      "metadata": {
        "id": "I7JVS2uA08Gk",
        "colab": {
          "base_uri": "https://localhost:8080/",
          "height": 398
        },
        "outputId": "7083acb8-2ac1-41e8-c587-b7f91625ebd1"
      },
      "execution_count": null,
      "outputs": [
        {
          "output_type": "display_data",
          "data": {
            "text/html": [
              "<table class=\"dataframe\">\n",
              "<caption>A data.frame: 3 × 2</caption>\n",
              "<thead>\n",
              "\t<tr><th scope=col>number</th><th scope=col>first_letters</th></tr>\n",
              "\t<tr><th scope=col>&lt;int&gt;</th><th scope=col>&lt;chr&gt;</th></tr>\n",
              "</thead>\n",
              "<tbody>\n",
              "\t<tr><td>1</td><td>a</td></tr>\n",
              "\t<tr><td>2</td><td>b</td></tr>\n",
              "\t<tr><td>3</td><td>c</td></tr>\n",
              "</tbody>\n",
              "</table>\n"
            ],
            "text/markdown": "\nA data.frame: 3 × 2\n\n| number &lt;int&gt; | first_letters &lt;chr&gt; |\n|---|---|\n| 1 | a |\n| 2 | b |\n| 3 | c |\n\n",
            "text/latex": "A data.frame: 3 × 2\n\\begin{tabular}{ll}\n number & first\\_letters\\\\\n <int> & <chr>\\\\\n\\hline\n\t 1 & a\\\\\n\t 2 & b\\\\\n\t 3 & c\\\\\n\\end{tabular}\n",
            "text/plain": [
              "  number first_letters\n",
              "1 1      a            \n",
              "2 2      b            \n",
              "3 3      c            "
            ]
          },
          "metadata": {}
        },
        {
          "output_type": "display_data",
          "data": {
            "text/html": [
              "<table class=\"dataframe\">\n",
              "<caption>A data.frame: 4 × 2</caption>\n",
              "<thead>\n",
              "\t<tr><th scope=col>number</th><th scope=col>last_letters</th></tr>\n",
              "\t<tr><th scope=col>&lt;dbl&gt;</th><th scope=col>&lt;chr&gt;</th></tr>\n",
              "</thead>\n",
              "<tbody>\n",
              "\t<tr><td> 1</td><td>w</td></tr>\n",
              "\t<tr><td> 2</td><td>x</td></tr>\n",
              "\t<tr><td>NA</td><td>y</td></tr>\n",
              "\t<tr><td> 4</td><td>z</td></tr>\n",
              "</tbody>\n",
              "</table>\n"
            ],
            "text/markdown": "\nA data.frame: 4 × 2\n\n| number &lt;dbl&gt; | last_letters &lt;chr&gt; |\n|---|---|\n|  1 | w |\n|  2 | x |\n| NA | y |\n|  4 | z |\n\n",
            "text/latex": "A data.frame: 4 × 2\n\\begin{tabular}{ll}\n number & last\\_letters\\\\\n <dbl> & <chr>\\\\\n\\hline\n\t  1 & w\\\\\n\t  2 & x\\\\\n\t NA & y\\\\\n\t  4 & z\\\\\n\\end{tabular}\n",
            "text/plain": [
              "  number last_letters\n",
              "1  1     w           \n",
              "2  2     x           \n",
              "3 NA     y           \n",
              "4  4     z           "
            ]
          },
          "metadata": {}
        }
      ]
    },
    {
      "cell_type": "markdown",
      "source": [
        "Lot's of different ways to combine this data!"
      ],
      "metadata": {
        "id": "uzEoyXvA1S2v"
      }
    },
    {
      "cell_type": "code",
      "source": [
        "# Rows must exist in both data sets,\n",
        "# Bi-directional:\n",
        "inner_join(dfL, dfR)"
      ],
      "metadata": {
        "id": "JjJpolWI1P9v",
        "colab": {
          "base_uri": "https://localhost:8080/",
          "height": 178
        },
        "outputId": "4b879d72-4be6-4392-d971-7e8cd7b7f5d5"
      },
      "execution_count": null,
      "outputs": [
        {
          "output_type": "stream",
          "name": "stderr",
          "text": [
            "\u001b[1m\u001b[22mJoining with `by = join_by(number)`\n"
          ]
        },
        {
          "output_type": "display_data",
          "data": {
            "text/html": [
              "<table class=\"dataframe\">\n",
              "<caption>A data.frame: 2 × 3</caption>\n",
              "<thead>\n",
              "\t<tr><th scope=col>number</th><th scope=col>first_letters</th><th scope=col>last_letters</th></tr>\n",
              "\t<tr><th scope=col>&lt;dbl&gt;</th><th scope=col>&lt;chr&gt;</th><th scope=col>&lt;chr&gt;</th></tr>\n",
              "</thead>\n",
              "<tbody>\n",
              "\t<tr><td>1</td><td>a</td><td>w</td></tr>\n",
              "\t<tr><td>2</td><td>b</td><td>x</td></tr>\n",
              "</tbody>\n",
              "</table>\n"
            ],
            "text/markdown": "\nA data.frame: 2 × 3\n\n| number &lt;dbl&gt; | first_letters &lt;chr&gt; | last_letters &lt;chr&gt; |\n|---|---|---|\n| 1 | a | w |\n| 2 | b | x |\n\n",
            "text/latex": "A data.frame: 2 × 3\n\\begin{tabular}{lll}\n number & first\\_letters & last\\_letters\\\\\n <dbl> & <chr> & <chr>\\\\\n\\hline\n\t 1 & a & w\\\\\n\t 2 & b & x\\\\\n\\end{tabular}\n",
            "text/plain": [
              "  number first_letters last_letters\n",
              "1 1      a             w           \n",
              "2 2      b             x           "
            ]
          },
          "metadata": {}
        }
      ]
    },
    {
      "cell_type": "code",
      "source": [
        "# Combine everything:\n",
        "full_join(dfL, dfR)"
      ],
      "metadata": {
        "id": "kg2mEvEL1V1g",
        "colab": {
          "base_uri": "https://localhost:8080/",
          "height": 272
        },
        "outputId": "2a0576c3-3bf9-4516-a085-61c37aa5f40c"
      },
      "execution_count": null,
      "outputs": [
        {
          "output_type": "stream",
          "name": "stderr",
          "text": [
            "\u001b[1m\u001b[22mJoining with `by = join_by(number)`\n"
          ]
        },
        {
          "output_type": "display_data",
          "data": {
            "text/html": [
              "<table class=\"dataframe\">\n",
              "<caption>A data.frame: 5 × 3</caption>\n",
              "<thead>\n",
              "\t<tr><th scope=col>number</th><th scope=col>first_letters</th><th scope=col>last_letters</th></tr>\n",
              "\t<tr><th scope=col>&lt;dbl&gt;</th><th scope=col>&lt;chr&gt;</th><th scope=col>&lt;chr&gt;</th></tr>\n",
              "</thead>\n",
              "<tbody>\n",
              "\t<tr><td> 1</td><td>a </td><td>w </td></tr>\n",
              "\t<tr><td> 2</td><td>b </td><td>x </td></tr>\n",
              "\t<tr><td> 3</td><td>c </td><td>NA</td></tr>\n",
              "\t<tr><td>NA</td><td>NA</td><td>y </td></tr>\n",
              "\t<tr><td> 4</td><td>NA</td><td>z </td></tr>\n",
              "</tbody>\n",
              "</table>\n"
            ],
            "text/markdown": "\nA data.frame: 5 × 3\n\n| number &lt;dbl&gt; | first_letters &lt;chr&gt; | last_letters &lt;chr&gt; |\n|---|---|---|\n|  1 | a  | w  |\n|  2 | b  | x  |\n|  3 | c  | NA |\n| NA | NA | y  |\n|  4 | NA | z  |\n\n",
            "text/latex": "A data.frame: 5 × 3\n\\begin{tabular}{lll}\n number & first\\_letters & last\\_letters\\\\\n <dbl> & <chr> & <chr>\\\\\n\\hline\n\t  1 & a  & w \\\\\n\t  2 & b  & x \\\\\n\t  3 & c  & NA\\\\\n\t NA & NA & y \\\\\n\t  4 & NA & z \\\\\n\\end{tabular}\n",
            "text/plain": [
              "  number first_letters last_letters\n",
              "1  1     a             w           \n",
              "2  2     b             x           \n",
              "3  3     c             NA          \n",
              "4 NA     NA            y           \n",
              "5  4     NA            z           "
            ]
          },
          "metadata": {}
        }
      ]
    },
    {
      "cell_type": "code",
      "source": [
        "# Rows must exist in the first data set.\n",
        "# Directional joins - order matters:\n",
        "left_join(df1, df2) # Add df2 to df1.\n",
        "left_join(df2, df1) # Add df1 to df2."
      ],
      "metadata": {
        "id": "MsokjBy51ZTH",
        "colab": {
          "base_uri": "https://localhost:8080/",
          "height": 433
        },
        "outputId": "57cf1beb-c3a8-4630-9894-eafd60130d71"
      },
      "execution_count": null,
      "outputs": [
        {
          "output_type": "stream",
          "name": "stderr",
          "text": [
            "\u001b[1m\u001b[22mJoining with `by = join_by(number)`\n"
          ]
        },
        {
          "output_type": "display_data",
          "data": {
            "text/html": [
              "<table class=\"dataframe\">\n",
              "<caption>A data.frame: 3 × 3</caption>\n",
              "<thead>\n",
              "\t<tr><th scope=col>number</th><th scope=col>first_letters</th><th scope=col>last_letters</th></tr>\n",
              "\t<tr><th scope=col>&lt;dbl&gt;</th><th scope=col>&lt;chr&gt;</th><th scope=col>&lt;chr&gt;</th></tr>\n",
              "</thead>\n",
              "<tbody>\n",
              "\t<tr><td>1</td><td>a</td><td>w </td></tr>\n",
              "\t<tr><td>2</td><td>b</td><td>x </td></tr>\n",
              "\t<tr><td>3</td><td>c</td><td>NA</td></tr>\n",
              "</tbody>\n",
              "</table>\n"
            ],
            "text/markdown": "\nA data.frame: 3 × 3\n\n| number &lt;dbl&gt; | first_letters &lt;chr&gt; | last_letters &lt;chr&gt; |\n|---|---|---|\n| 1 | a | w  |\n| 2 | b | x  |\n| 3 | c | NA |\n\n",
            "text/latex": "A data.frame: 3 × 3\n\\begin{tabular}{lll}\n number & first\\_letters & last\\_letters\\\\\n <dbl> & <chr> & <chr>\\\\\n\\hline\n\t 1 & a & w \\\\\n\t 2 & b & x \\\\\n\t 3 & c & NA\\\\\n\\end{tabular}\n",
            "text/plain": [
              "  number first_letters last_letters\n",
              "1 1      a             w           \n",
              "2 2      b             x           \n",
              "3 3      c             NA          "
            ]
          },
          "metadata": {}
        },
        {
          "output_type": "stream",
          "name": "stderr",
          "text": [
            "\u001b[1m\u001b[22mJoining with `by = join_by(number)`\n"
          ]
        },
        {
          "output_type": "display_data",
          "data": {
            "text/html": [
              "<table class=\"dataframe\">\n",
              "<caption>A data.frame: 4 × 3</caption>\n",
              "<thead>\n",
              "\t<tr><th scope=col>number</th><th scope=col>last_letters</th><th scope=col>first_letters</th></tr>\n",
              "\t<tr><th scope=col>&lt;dbl&gt;</th><th scope=col>&lt;chr&gt;</th><th scope=col>&lt;chr&gt;</th></tr>\n",
              "</thead>\n",
              "<tbody>\n",
              "\t<tr><td> 1</td><td>w</td><td>a </td></tr>\n",
              "\t<tr><td> 2</td><td>x</td><td>b </td></tr>\n",
              "\t<tr><td>NA</td><td>y</td><td>NA</td></tr>\n",
              "\t<tr><td> 4</td><td>z</td><td>NA</td></tr>\n",
              "</tbody>\n",
              "</table>\n"
            ],
            "text/markdown": "\nA data.frame: 4 × 3\n\n| number &lt;dbl&gt; | last_letters &lt;chr&gt; | first_letters &lt;chr&gt; |\n|---|---|---|\n|  1 | w | a  |\n|  2 | x | b  |\n| NA | y | NA |\n|  4 | z | NA |\n\n",
            "text/latex": "A data.frame: 4 × 3\n\\begin{tabular}{lll}\n number & last\\_letters & first\\_letters\\\\\n <dbl> & <chr> & <chr>\\\\\n\\hline\n\t  1 & w & a \\\\\n\t  2 & x & b \\\\\n\t NA & y & NA\\\\\n\t  4 & z & NA\\\\\n\\end{tabular}\n",
            "text/plain": [
              "  number last_letters first_letters\n",
              "1  1     w            a            \n",
              "2  2     x            b            \n",
              "3 NA     y            NA           \n",
              "4  4     z            NA           "
            ]
          },
          "metadata": {}
        }
      ]
    },
    {
      "cell_type": "code",
      "source": [
        "# Now lets combine some real data sets\n",
        "# Can use Master and batting data from Lahman package\n",
        "data(Batting)\n",
        "dim(Batting)\n",
        "data(People)\n",
        "dim(People)"
      ],
      "metadata": {
        "id": "m5WWAb6o1bB3",
        "colab": {
          "base_uri": "https://localhost:8080/",
          "height": 52
        },
        "outputId": "7d47a69c-7352-4182-da0f-c49f4ff9b2ef"
      },
      "execution_count": null,
      "outputs": [
        {
          "output_type": "display_data",
          "data": {
            "text/html": [
              "<style>\n",
              ".list-inline {list-style: none; margin:0; padding: 0}\n",
              ".list-inline>li {display: inline-block}\n",
              ".list-inline>li:not(:last-child)::after {content: \"\\00b7\"; padding: 0 .5ex}\n",
              "</style>\n",
              "<ol class=list-inline><li>112184</li><li>22</li></ol>\n"
            ],
            "text/markdown": "1. 112184\n2. 22\n\n\n",
            "text/latex": "\\begin{enumerate*}\n\\item 112184\n\\item 22\n\\end{enumerate*}\n",
            "text/plain": [
              "[1] 112184     22"
            ]
          },
          "metadata": {}
        },
        {
          "output_type": "display_data",
          "data": {
            "text/html": [
              "<style>\n",
              ".list-inline {list-style: none; margin:0; padding: 0}\n",
              ".list-inline>li {display: inline-block}\n",
              ".list-inline>li:not(:last-child)::after {content: \"\\00b7\"; padding: 0 .5ex}\n",
              "</style>\n",
              "<ol class=list-inline><li>20676</li><li>26</li></ol>\n"
            ],
            "text/markdown": "1. 20676\n2. 26\n\n\n",
            "text/latex": "\\begin{enumerate*}\n\\item 20676\n\\item 26\n\\end{enumerate*}\n",
            "text/plain": [
              "[1] 20676    26"
            ]
          },
          "metadata": {}
        }
      ]
    },
    {
      "cell_type": "code",
      "source": [
        "# first let's understand what we will join\n",
        "# Manny - just get his data\n",
        "manny_data <- Batting %>%\n",
        "  filter(playerID == \"ramirma02\")\n",
        "nrow(manny_data)\n",
        "head(manny_data)"
      ],
      "metadata": {
        "id": "z5K32nbm1coQ",
        "colab": {
          "base_uri": "https://localhost:8080/",
          "height": 323
        },
        "outputId": "3a5e89c4-4192-4ae3-f73a-498fa623efe4"
      },
      "execution_count": null,
      "outputs": [
        {
          "output_type": "display_data",
          "data": {
            "text/html": [
              "21"
            ],
            "text/markdown": "21",
            "text/latex": "21",
            "text/plain": [
              "[1] 21"
            ]
          },
          "metadata": {}
        },
        {
          "output_type": "display_data",
          "data": {
            "text/html": [
              "<table class=\"dataframe\">\n",
              "<caption>A data.frame: 6 × 22</caption>\n",
              "<thead>\n",
              "\t<tr><th></th><th scope=col>playerID</th><th scope=col>yearID</th><th scope=col>stint</th><th scope=col>teamID</th><th scope=col>lgID</th><th scope=col>G</th><th scope=col>AB</th><th scope=col>R</th><th scope=col>H</th><th scope=col>X2B</th><th scope=col>⋯</th><th scope=col>RBI</th><th scope=col>SB</th><th scope=col>CS</th><th scope=col>BB</th><th scope=col>SO</th><th scope=col>IBB</th><th scope=col>HBP</th><th scope=col>SH</th><th scope=col>SF</th><th scope=col>GIDP</th></tr>\n",
              "\t<tr><th></th><th scope=col>&lt;chr&gt;</th><th scope=col>&lt;int&gt;</th><th scope=col>&lt;int&gt;</th><th scope=col>&lt;fct&gt;</th><th scope=col>&lt;fct&gt;</th><th scope=col>&lt;int&gt;</th><th scope=col>&lt;int&gt;</th><th scope=col>&lt;int&gt;</th><th scope=col>&lt;int&gt;</th><th scope=col>&lt;int&gt;</th><th scope=col>⋯</th><th scope=col>&lt;int&gt;</th><th scope=col>&lt;int&gt;</th><th scope=col>&lt;int&gt;</th><th scope=col>&lt;int&gt;</th><th scope=col>&lt;int&gt;</th><th scope=col>&lt;int&gt;</th><th scope=col>&lt;int&gt;</th><th scope=col>&lt;int&gt;</th><th scope=col>&lt;int&gt;</th><th scope=col>&lt;int&gt;</th></tr>\n",
              "</thead>\n",
              "<tbody>\n",
              "\t<tr><th scope=row>1</th><td>ramirma02</td><td>1993</td><td>1</td><td>CLE</td><td>AL</td><td> 22</td><td> 53</td><td>  5</td><td>  9</td><td> 1</td><td>⋯</td><td>  5</td><td>0</td><td>0</td><td> 2</td><td>  8</td><td>0</td><td>0</td><td>0</td><td> 0</td><td> 3</td></tr>\n",
              "\t<tr><th scope=row>2</th><td>ramirma02</td><td>1994</td><td>1</td><td>CLE</td><td>AL</td><td> 91</td><td>290</td><td> 51</td><td> 78</td><td>22</td><td>⋯</td><td> 60</td><td>4</td><td>2</td><td>42</td><td> 72</td><td>4</td><td>0</td><td>0</td><td> 4</td><td> 6</td></tr>\n",
              "\t<tr><th scope=row>3</th><td>ramirma02</td><td>1995</td><td>1</td><td>CLE</td><td>AL</td><td>137</td><td>484</td><td> 85</td><td>149</td><td>26</td><td>⋯</td><td>107</td><td>6</td><td>6</td><td>75</td><td>112</td><td>6</td><td>5</td><td>2</td><td> 5</td><td>13</td></tr>\n",
              "\t<tr><th scope=row>4</th><td>ramirma02</td><td>1996</td><td>1</td><td>CLE</td><td>AL</td><td>152</td><td>550</td><td> 94</td><td>170</td><td>45</td><td>⋯</td><td>112</td><td>8</td><td>5</td><td>85</td><td>104</td><td>8</td><td>3</td><td>0</td><td> 9</td><td>18</td></tr>\n",
              "\t<tr><th scope=row>5</th><td>ramirma02</td><td>1997</td><td>1</td><td>CLE</td><td>AL</td><td>150</td><td>561</td><td> 99</td><td>184</td><td>40</td><td>⋯</td><td> 88</td><td>2</td><td>3</td><td>79</td><td>115</td><td>5</td><td>7</td><td>0</td><td> 4</td><td>19</td></tr>\n",
              "\t<tr><th scope=row>6</th><td>ramirma02</td><td>1998</td><td>1</td><td>CLE</td><td>AL</td><td>150</td><td>571</td><td>108</td><td>168</td><td>35</td><td>⋯</td><td>145</td><td>5</td><td>3</td><td>76</td><td>121</td><td>6</td><td>6</td><td>0</td><td>10</td><td>18</td></tr>\n",
              "</tbody>\n",
              "</table>\n"
            ],
            "text/markdown": "\nA data.frame: 6 × 22\n\n| <!--/--> | playerID &lt;chr&gt; | yearID &lt;int&gt; | stint &lt;int&gt; | teamID &lt;fct&gt; | lgID &lt;fct&gt; | G &lt;int&gt; | AB &lt;int&gt; | R &lt;int&gt; | H &lt;int&gt; | X2B &lt;int&gt; | ⋯ ⋯ | RBI &lt;int&gt; | SB &lt;int&gt; | CS &lt;int&gt; | BB &lt;int&gt; | SO &lt;int&gt; | IBB &lt;int&gt; | HBP &lt;int&gt; | SH &lt;int&gt; | SF &lt;int&gt; | GIDP &lt;int&gt; |\n|---|---|---|---|---|---|---|---|---|---|---|---|---|---|---|---|---|---|---|---|---|---|\n| 1 | ramirma02 | 1993 | 1 | CLE | AL |  22 |  53 |   5 |   9 |  1 | ⋯ |   5 | 0 | 0 |  2 |   8 | 0 | 0 | 0 |  0 |  3 |\n| 2 | ramirma02 | 1994 | 1 | CLE | AL |  91 | 290 |  51 |  78 | 22 | ⋯ |  60 | 4 | 2 | 42 |  72 | 4 | 0 | 0 |  4 |  6 |\n| 3 | ramirma02 | 1995 | 1 | CLE | AL | 137 | 484 |  85 | 149 | 26 | ⋯ | 107 | 6 | 6 | 75 | 112 | 6 | 5 | 2 |  5 | 13 |\n| 4 | ramirma02 | 1996 | 1 | CLE | AL | 152 | 550 |  94 | 170 | 45 | ⋯ | 112 | 8 | 5 | 85 | 104 | 8 | 3 | 0 |  9 | 18 |\n| 5 | ramirma02 | 1997 | 1 | CLE | AL | 150 | 561 |  99 | 184 | 40 | ⋯ |  88 | 2 | 3 | 79 | 115 | 5 | 7 | 0 |  4 | 19 |\n| 6 | ramirma02 | 1998 | 1 | CLE | AL | 150 | 571 | 108 | 168 | 35 | ⋯ | 145 | 5 | 3 | 76 | 121 | 6 | 6 | 0 | 10 | 18 |\n\n",
            "text/latex": "A data.frame: 6 × 22\n\\begin{tabular}{r|lllllllllllllllllllll}\n  & playerID & yearID & stint & teamID & lgID & G & AB & R & H & X2B & ⋯ & RBI & SB & CS & BB & SO & IBB & HBP & SH & SF & GIDP\\\\\n  & <chr> & <int> & <int> & <fct> & <fct> & <int> & <int> & <int> & <int> & <int> & ⋯ & <int> & <int> & <int> & <int> & <int> & <int> & <int> & <int> & <int> & <int>\\\\\n\\hline\n\t1 & ramirma02 & 1993 & 1 & CLE & AL &  22 &  53 &   5 &   9 &  1 & ⋯ &   5 & 0 & 0 &  2 &   8 & 0 & 0 & 0 &  0 &  3\\\\\n\t2 & ramirma02 & 1994 & 1 & CLE & AL &  91 & 290 &  51 &  78 & 22 & ⋯ &  60 & 4 & 2 & 42 &  72 & 4 & 0 & 0 &  4 &  6\\\\\n\t3 & ramirma02 & 1995 & 1 & CLE & AL & 137 & 484 &  85 & 149 & 26 & ⋯ & 107 & 6 & 6 & 75 & 112 & 6 & 5 & 2 &  5 & 13\\\\\n\t4 & ramirma02 & 1996 & 1 & CLE & AL & 152 & 550 &  94 & 170 & 45 & ⋯ & 112 & 8 & 5 & 85 & 104 & 8 & 3 & 0 &  9 & 18\\\\\n\t5 & ramirma02 & 1997 & 1 & CLE & AL & 150 & 561 &  99 & 184 & 40 & ⋯ &  88 & 2 & 3 & 79 & 115 & 5 & 7 & 0 &  4 & 19\\\\\n\t6 & ramirma02 & 1998 & 1 & CLE & AL & 150 & 571 & 108 & 168 & 35 & ⋯ & 145 & 5 & 3 & 76 & 121 & 6 & 6 & 0 & 10 & 18\\\\\n\\end{tabular}\n",
            "text/plain": [
              "  playerID  yearID stint teamID lgID G   AB  R   H   X2B ⋯ RBI SB CS BB SO  IBB\n",
              "1 ramirma02 1993   1     CLE    AL    22  53   5   9  1  ⋯   5 0  0   2   8 0  \n",
              "2 ramirma02 1994   1     CLE    AL    91 290  51  78 22  ⋯  60 4  2  42  72 4  \n",
              "3 ramirma02 1995   1     CLE    AL   137 484  85 149 26  ⋯ 107 6  6  75 112 6  \n",
              "4 ramirma02 1996   1     CLE    AL   152 550  94 170 45  ⋯ 112 8  5  85 104 8  \n",
              "5 ramirma02 1997   1     CLE    AL   150 561  99 184 40  ⋯  88 2  3  79 115 5  \n",
              "6 ramirma02 1998   1     CLE    AL   150 571 108 168 35  ⋯ 145 5  3  76 121 6  \n",
              "  HBP SH SF GIDP\n",
              "1 0   0   0  3  \n",
              "2 0   0   4  6  \n",
              "3 5   2   5 13  \n",
              "4 3   0   9 18  \n",
              "5 7   0   4 19  \n",
              "6 6   0  10 18  "
            ]
          },
          "metadata": {}
        }
      ]
    },
    {
      "cell_type": "code",
      "source": [
        "# combine using common entries in both\n",
        "inner_join_batting_people <- manny_data %>%\n",
        "  inner_join(People, by = \"playerID\")\n",
        "head(inner_join_batting_people)"
      ],
      "metadata": {
        "id": "JAoOVRN-1d1S",
        "colab": {
          "base_uri": "https://localhost:8080/",
          "height": 410
        },
        "outputId": "d363556f-810f-4829-85de-ea181905ff1f"
      },
      "execution_count": null,
      "outputs": [
        {
          "output_type": "display_data",
          "data": {
            "text/html": [
              "<table class=\"dataframe\">\n",
              "<caption>A data.frame: 6 × 47</caption>\n",
              "<thead>\n",
              "\t<tr><th></th><th scope=col>playerID</th><th scope=col>yearID</th><th scope=col>stint</th><th scope=col>teamID</th><th scope=col>lgID</th><th scope=col>G</th><th scope=col>AB</th><th scope=col>R</th><th scope=col>H</th><th scope=col>X2B</th><th scope=col>⋯</th><th scope=col>weight</th><th scope=col>height</th><th scope=col>bats</th><th scope=col>throws</th><th scope=col>debut</th><th scope=col>finalGame</th><th scope=col>retroID</th><th scope=col>bbrefID</th><th scope=col>deathDate</th><th scope=col>birthDate</th></tr>\n",
              "\t<tr><th></th><th scope=col>&lt;chr&gt;</th><th scope=col>&lt;int&gt;</th><th scope=col>&lt;int&gt;</th><th scope=col>&lt;fct&gt;</th><th scope=col>&lt;fct&gt;</th><th scope=col>&lt;int&gt;</th><th scope=col>&lt;int&gt;</th><th scope=col>&lt;int&gt;</th><th scope=col>&lt;int&gt;</th><th scope=col>&lt;int&gt;</th><th scope=col>⋯</th><th scope=col>&lt;int&gt;</th><th scope=col>&lt;int&gt;</th><th scope=col>&lt;fct&gt;</th><th scope=col>&lt;fct&gt;</th><th scope=col>&lt;chr&gt;</th><th scope=col>&lt;chr&gt;</th><th scope=col>&lt;chr&gt;</th><th scope=col>&lt;chr&gt;</th><th scope=col>&lt;date&gt;</th><th scope=col>&lt;date&gt;</th></tr>\n",
              "</thead>\n",
              "<tbody>\n",
              "\t<tr><th scope=row>1</th><td>ramirma02</td><td>1993</td><td>1</td><td>CLE</td><td>AL</td><td> 22</td><td> 53</td><td>  5</td><td>  9</td><td> 1</td><td>⋯</td><td>225</td><td>72</td><td>R</td><td>R</td><td>1993-09-02</td><td>2011-04-06</td><td>ramim002</td><td>ramirma02</td><td>NA</td><td>1972-05-30</td></tr>\n",
              "\t<tr><th scope=row>2</th><td>ramirma02</td><td>1994</td><td>1</td><td>CLE</td><td>AL</td><td> 91</td><td>290</td><td> 51</td><td> 78</td><td>22</td><td>⋯</td><td>225</td><td>72</td><td>R</td><td>R</td><td>1993-09-02</td><td>2011-04-06</td><td>ramim002</td><td>ramirma02</td><td>NA</td><td>1972-05-30</td></tr>\n",
              "\t<tr><th scope=row>3</th><td>ramirma02</td><td>1995</td><td>1</td><td>CLE</td><td>AL</td><td>137</td><td>484</td><td> 85</td><td>149</td><td>26</td><td>⋯</td><td>225</td><td>72</td><td>R</td><td>R</td><td>1993-09-02</td><td>2011-04-06</td><td>ramim002</td><td>ramirma02</td><td>NA</td><td>1972-05-30</td></tr>\n",
              "\t<tr><th scope=row>4</th><td>ramirma02</td><td>1996</td><td>1</td><td>CLE</td><td>AL</td><td>152</td><td>550</td><td> 94</td><td>170</td><td>45</td><td>⋯</td><td>225</td><td>72</td><td>R</td><td>R</td><td>1993-09-02</td><td>2011-04-06</td><td>ramim002</td><td>ramirma02</td><td>NA</td><td>1972-05-30</td></tr>\n",
              "\t<tr><th scope=row>5</th><td>ramirma02</td><td>1997</td><td>1</td><td>CLE</td><td>AL</td><td>150</td><td>561</td><td> 99</td><td>184</td><td>40</td><td>⋯</td><td>225</td><td>72</td><td>R</td><td>R</td><td>1993-09-02</td><td>2011-04-06</td><td>ramim002</td><td>ramirma02</td><td>NA</td><td>1972-05-30</td></tr>\n",
              "\t<tr><th scope=row>6</th><td>ramirma02</td><td>1998</td><td>1</td><td>CLE</td><td>AL</td><td>150</td><td>571</td><td>108</td><td>168</td><td>35</td><td>⋯</td><td>225</td><td>72</td><td>R</td><td>R</td><td>1993-09-02</td><td>2011-04-06</td><td>ramim002</td><td>ramirma02</td><td>NA</td><td>1972-05-30</td></tr>\n",
              "</tbody>\n",
              "</table>\n"
            ],
            "text/markdown": "\nA data.frame: 6 × 47\n\n| <!--/--> | playerID &lt;chr&gt; | yearID &lt;int&gt; | stint &lt;int&gt; | teamID &lt;fct&gt; | lgID &lt;fct&gt; | G &lt;int&gt; | AB &lt;int&gt; | R &lt;int&gt; | H &lt;int&gt; | X2B &lt;int&gt; | ⋯ ⋯ | weight &lt;int&gt; | height &lt;int&gt; | bats &lt;fct&gt; | throws &lt;fct&gt; | debut &lt;chr&gt; | finalGame &lt;chr&gt; | retroID &lt;chr&gt; | bbrefID &lt;chr&gt; | deathDate &lt;date&gt; | birthDate &lt;date&gt; |\n|---|---|---|---|---|---|---|---|---|---|---|---|---|---|---|---|---|---|---|---|---|---|\n| 1 | ramirma02 | 1993 | 1 | CLE | AL |  22 |  53 |   5 |   9 |  1 | ⋯ | 225 | 72 | R | R | 1993-09-02 | 2011-04-06 | ramim002 | ramirma02 | NA | 1972-05-30 |\n| 2 | ramirma02 | 1994 | 1 | CLE | AL |  91 | 290 |  51 |  78 | 22 | ⋯ | 225 | 72 | R | R | 1993-09-02 | 2011-04-06 | ramim002 | ramirma02 | NA | 1972-05-30 |\n| 3 | ramirma02 | 1995 | 1 | CLE | AL | 137 | 484 |  85 | 149 | 26 | ⋯ | 225 | 72 | R | R | 1993-09-02 | 2011-04-06 | ramim002 | ramirma02 | NA | 1972-05-30 |\n| 4 | ramirma02 | 1996 | 1 | CLE | AL | 152 | 550 |  94 | 170 | 45 | ⋯ | 225 | 72 | R | R | 1993-09-02 | 2011-04-06 | ramim002 | ramirma02 | NA | 1972-05-30 |\n| 5 | ramirma02 | 1997 | 1 | CLE | AL | 150 | 561 |  99 | 184 | 40 | ⋯ | 225 | 72 | R | R | 1993-09-02 | 2011-04-06 | ramim002 | ramirma02 | NA | 1972-05-30 |\n| 6 | ramirma02 | 1998 | 1 | CLE | AL | 150 | 571 | 108 | 168 | 35 | ⋯ | 225 | 72 | R | R | 1993-09-02 | 2011-04-06 | ramim002 | ramirma02 | NA | 1972-05-30 |\n\n",
            "text/latex": "A data.frame: 6 × 47\n\\begin{tabular}{r|lllllllllllllllllllll}\n  & playerID & yearID & stint & teamID & lgID & G & AB & R & H & X2B & ⋯ & weight & height & bats & throws & debut & finalGame & retroID & bbrefID & deathDate & birthDate\\\\\n  & <chr> & <int> & <int> & <fct> & <fct> & <int> & <int> & <int> & <int> & <int> & ⋯ & <int> & <int> & <fct> & <fct> & <chr> & <chr> & <chr> & <chr> & <date> & <date>\\\\\n\\hline\n\t1 & ramirma02 & 1993 & 1 & CLE & AL &  22 &  53 &   5 &   9 &  1 & ⋯ & 225 & 72 & R & R & 1993-09-02 & 2011-04-06 & ramim002 & ramirma02 & NA & 1972-05-30\\\\\n\t2 & ramirma02 & 1994 & 1 & CLE & AL &  91 & 290 &  51 &  78 & 22 & ⋯ & 225 & 72 & R & R & 1993-09-02 & 2011-04-06 & ramim002 & ramirma02 & NA & 1972-05-30\\\\\n\t3 & ramirma02 & 1995 & 1 & CLE & AL & 137 & 484 &  85 & 149 & 26 & ⋯ & 225 & 72 & R & R & 1993-09-02 & 2011-04-06 & ramim002 & ramirma02 & NA & 1972-05-30\\\\\n\t4 & ramirma02 & 1996 & 1 & CLE & AL & 152 & 550 &  94 & 170 & 45 & ⋯ & 225 & 72 & R & R & 1993-09-02 & 2011-04-06 & ramim002 & ramirma02 & NA & 1972-05-30\\\\\n\t5 & ramirma02 & 1997 & 1 & CLE & AL & 150 & 561 &  99 & 184 & 40 & ⋯ & 225 & 72 & R & R & 1993-09-02 & 2011-04-06 & ramim002 & ramirma02 & NA & 1972-05-30\\\\\n\t6 & ramirma02 & 1998 & 1 & CLE & AL & 150 & 571 & 108 & 168 & 35 & ⋯ & 225 & 72 & R & R & 1993-09-02 & 2011-04-06 & ramim002 & ramirma02 & NA & 1972-05-30\\\\\n\\end{tabular}\n",
            "text/plain": [
              "  playerID  yearID stint teamID lgID G   AB  R   H   X2B ⋯ weight height bats\n",
              "1 ramirma02 1993   1     CLE    AL    22  53   5   9  1  ⋯ 225    72     R   \n",
              "2 ramirma02 1994   1     CLE    AL    91 290  51  78 22  ⋯ 225    72     R   \n",
              "3 ramirma02 1995   1     CLE    AL   137 484  85 149 26  ⋯ 225    72     R   \n",
              "4 ramirma02 1996   1     CLE    AL   152 550  94 170 45  ⋯ 225    72     R   \n",
              "5 ramirma02 1997   1     CLE    AL   150 561  99 184 40  ⋯ 225    72     R   \n",
              "6 ramirma02 1998   1     CLE    AL   150 571 108 168 35  ⋯ 225    72     R   \n",
              "  throws debut      finalGame  retroID  bbrefID   deathDate birthDate \n",
              "1 R      1993-09-02 2011-04-06 ramim002 ramirma02 <NA>      1972-05-30\n",
              "2 R      1993-09-02 2011-04-06 ramim002 ramirma02 <NA>      1972-05-30\n",
              "3 R      1993-09-02 2011-04-06 ramim002 ramirma02 <NA>      1972-05-30\n",
              "4 R      1993-09-02 2011-04-06 ramim002 ramirma02 <NA>      1972-05-30\n",
              "5 R      1993-09-02 2011-04-06 ramim002 ramirma02 <NA>      1972-05-30\n",
              "6 R      1993-09-02 2011-04-06 ramim002 ramirma02 <NA>      1972-05-30"
            ]
          },
          "metadata": {}
        }
      ]
    },
    {
      "cell_type": "code",
      "source": [
        "# most of the time join functions are clever enough\n",
        "# to know what to join by\n",
        "inner_join_batting_people <- manny_data %>%\n",
        "  inner_join(People)\n"
      ],
      "metadata": {
        "id": "GFXmvHCN1fTy",
        "colab": {
          "base_uri": "https://localhost:8080/"
        },
        "outputId": "d8e6ef69-83ba-4b98-957a-48ede3cd26cf"
      },
      "execution_count": null,
      "outputs": [
        {
          "output_type": "stream",
          "name": "stderr",
          "text": [
            "\u001b[1m\u001b[22mJoining with `by = join_by(playerID)`\n"
          ]
        }
      ]
    },
    {
      "cell_type": "code",
      "source": [
        "# playerID is the only common column in this example\n",
        "names_batting <- names(Batting)\n",
        "names_people <- names(People)\n",
        "intersect(names_batting, names_people)"
      ],
      "metadata": {
        "id": "fTKHZrgs1goT",
        "colab": {
          "base_uri": "https://localhost:8080/",
          "height": 34
        },
        "outputId": "b667fddd-95c3-4a3a-99ec-600c44d01a58"
      },
      "execution_count": null,
      "outputs": [
        {
          "output_type": "display_data",
          "data": {
            "text/html": [
              "'playerID'"
            ],
            "text/markdown": "'playerID'",
            "text/latex": "'playerID'",
            "text/plain": [
              "[1] \"playerID\""
            ]
          },
          "metadata": {}
        }
      ]
    },
    {
      "cell_type": "code",
      "source": [
        "# Let's look at what happened\n",
        "View(inner_join_batting_people)\n",
        "# basically, repeat the player details for each row of the players' batting\n",
        "# stats."
      ],
      "metadata": {
        "id": "7Zan9EjS1h92"
      },
      "execution_count": null,
      "outputs": []
    },
    {
      "cell_type": "code",
      "source": [
        "# What if we used left_join instead\n",
        "left_join_batting_people <- manny_data %>%\n",
        "  left_join(People)\n",
        "head(left_join_batting_people)\n",
        "# same thing, because common rows in Manny player data were the constraint."
      ],
      "metadata": {
        "id": "x961zZQO1jgo",
        "colab": {
          "base_uri": "https://localhost:8080/",
          "height": 427
        },
        "outputId": "9138fb85-7444-4a6d-90fd-7b8a76bddc26"
      },
      "execution_count": null,
      "outputs": [
        {
          "output_type": "stream",
          "name": "stderr",
          "text": [
            "\u001b[1m\u001b[22mJoining with `by = join_by(playerID)`\n"
          ]
        },
        {
          "output_type": "display_data",
          "data": {
            "text/html": [
              "<table class=\"dataframe\">\n",
              "<caption>A data.frame: 6 × 47</caption>\n",
              "<thead>\n",
              "\t<tr><th></th><th scope=col>playerID</th><th scope=col>yearID</th><th scope=col>stint</th><th scope=col>teamID</th><th scope=col>lgID</th><th scope=col>G</th><th scope=col>AB</th><th scope=col>R</th><th scope=col>H</th><th scope=col>X2B</th><th scope=col>⋯</th><th scope=col>weight</th><th scope=col>height</th><th scope=col>bats</th><th scope=col>throws</th><th scope=col>debut</th><th scope=col>finalGame</th><th scope=col>retroID</th><th scope=col>bbrefID</th><th scope=col>deathDate</th><th scope=col>birthDate</th></tr>\n",
              "\t<tr><th></th><th scope=col>&lt;chr&gt;</th><th scope=col>&lt;int&gt;</th><th scope=col>&lt;int&gt;</th><th scope=col>&lt;fct&gt;</th><th scope=col>&lt;fct&gt;</th><th scope=col>&lt;int&gt;</th><th scope=col>&lt;int&gt;</th><th scope=col>&lt;int&gt;</th><th scope=col>&lt;int&gt;</th><th scope=col>&lt;int&gt;</th><th scope=col>⋯</th><th scope=col>&lt;int&gt;</th><th scope=col>&lt;int&gt;</th><th scope=col>&lt;fct&gt;</th><th scope=col>&lt;fct&gt;</th><th scope=col>&lt;chr&gt;</th><th scope=col>&lt;chr&gt;</th><th scope=col>&lt;chr&gt;</th><th scope=col>&lt;chr&gt;</th><th scope=col>&lt;date&gt;</th><th scope=col>&lt;date&gt;</th></tr>\n",
              "</thead>\n",
              "<tbody>\n",
              "\t<tr><th scope=row>1</th><td>ramirma02</td><td>1993</td><td>1</td><td>CLE</td><td>AL</td><td> 22</td><td> 53</td><td>  5</td><td>  9</td><td> 1</td><td>⋯</td><td>225</td><td>72</td><td>R</td><td>R</td><td>1993-09-02</td><td>2011-04-06</td><td>ramim002</td><td>ramirma02</td><td>NA</td><td>1972-05-30</td></tr>\n",
              "\t<tr><th scope=row>2</th><td>ramirma02</td><td>1994</td><td>1</td><td>CLE</td><td>AL</td><td> 91</td><td>290</td><td> 51</td><td> 78</td><td>22</td><td>⋯</td><td>225</td><td>72</td><td>R</td><td>R</td><td>1993-09-02</td><td>2011-04-06</td><td>ramim002</td><td>ramirma02</td><td>NA</td><td>1972-05-30</td></tr>\n",
              "\t<tr><th scope=row>3</th><td>ramirma02</td><td>1995</td><td>1</td><td>CLE</td><td>AL</td><td>137</td><td>484</td><td> 85</td><td>149</td><td>26</td><td>⋯</td><td>225</td><td>72</td><td>R</td><td>R</td><td>1993-09-02</td><td>2011-04-06</td><td>ramim002</td><td>ramirma02</td><td>NA</td><td>1972-05-30</td></tr>\n",
              "\t<tr><th scope=row>4</th><td>ramirma02</td><td>1996</td><td>1</td><td>CLE</td><td>AL</td><td>152</td><td>550</td><td> 94</td><td>170</td><td>45</td><td>⋯</td><td>225</td><td>72</td><td>R</td><td>R</td><td>1993-09-02</td><td>2011-04-06</td><td>ramim002</td><td>ramirma02</td><td>NA</td><td>1972-05-30</td></tr>\n",
              "\t<tr><th scope=row>5</th><td>ramirma02</td><td>1997</td><td>1</td><td>CLE</td><td>AL</td><td>150</td><td>561</td><td> 99</td><td>184</td><td>40</td><td>⋯</td><td>225</td><td>72</td><td>R</td><td>R</td><td>1993-09-02</td><td>2011-04-06</td><td>ramim002</td><td>ramirma02</td><td>NA</td><td>1972-05-30</td></tr>\n",
              "\t<tr><th scope=row>6</th><td>ramirma02</td><td>1998</td><td>1</td><td>CLE</td><td>AL</td><td>150</td><td>571</td><td>108</td><td>168</td><td>35</td><td>⋯</td><td>225</td><td>72</td><td>R</td><td>R</td><td>1993-09-02</td><td>2011-04-06</td><td>ramim002</td><td>ramirma02</td><td>NA</td><td>1972-05-30</td></tr>\n",
              "</tbody>\n",
              "</table>\n"
            ],
            "text/markdown": "\nA data.frame: 6 × 47\n\n| <!--/--> | playerID &lt;chr&gt; | yearID &lt;int&gt; | stint &lt;int&gt; | teamID &lt;fct&gt; | lgID &lt;fct&gt; | G &lt;int&gt; | AB &lt;int&gt; | R &lt;int&gt; | H &lt;int&gt; | X2B &lt;int&gt; | ⋯ ⋯ | weight &lt;int&gt; | height &lt;int&gt; | bats &lt;fct&gt; | throws &lt;fct&gt; | debut &lt;chr&gt; | finalGame &lt;chr&gt; | retroID &lt;chr&gt; | bbrefID &lt;chr&gt; | deathDate &lt;date&gt; | birthDate &lt;date&gt; |\n|---|---|---|---|---|---|---|---|---|---|---|---|---|---|---|---|---|---|---|---|---|---|\n| 1 | ramirma02 | 1993 | 1 | CLE | AL |  22 |  53 |   5 |   9 |  1 | ⋯ | 225 | 72 | R | R | 1993-09-02 | 2011-04-06 | ramim002 | ramirma02 | NA | 1972-05-30 |\n| 2 | ramirma02 | 1994 | 1 | CLE | AL |  91 | 290 |  51 |  78 | 22 | ⋯ | 225 | 72 | R | R | 1993-09-02 | 2011-04-06 | ramim002 | ramirma02 | NA | 1972-05-30 |\n| 3 | ramirma02 | 1995 | 1 | CLE | AL | 137 | 484 |  85 | 149 | 26 | ⋯ | 225 | 72 | R | R | 1993-09-02 | 2011-04-06 | ramim002 | ramirma02 | NA | 1972-05-30 |\n| 4 | ramirma02 | 1996 | 1 | CLE | AL | 152 | 550 |  94 | 170 | 45 | ⋯ | 225 | 72 | R | R | 1993-09-02 | 2011-04-06 | ramim002 | ramirma02 | NA | 1972-05-30 |\n| 5 | ramirma02 | 1997 | 1 | CLE | AL | 150 | 561 |  99 | 184 | 40 | ⋯ | 225 | 72 | R | R | 1993-09-02 | 2011-04-06 | ramim002 | ramirma02 | NA | 1972-05-30 |\n| 6 | ramirma02 | 1998 | 1 | CLE | AL | 150 | 571 | 108 | 168 | 35 | ⋯ | 225 | 72 | R | R | 1993-09-02 | 2011-04-06 | ramim002 | ramirma02 | NA | 1972-05-30 |\n\n",
            "text/latex": "A data.frame: 6 × 47\n\\begin{tabular}{r|lllllllllllllllllllll}\n  & playerID & yearID & stint & teamID & lgID & G & AB & R & H & X2B & ⋯ & weight & height & bats & throws & debut & finalGame & retroID & bbrefID & deathDate & birthDate\\\\\n  & <chr> & <int> & <int> & <fct> & <fct> & <int> & <int> & <int> & <int> & <int> & ⋯ & <int> & <int> & <fct> & <fct> & <chr> & <chr> & <chr> & <chr> & <date> & <date>\\\\\n\\hline\n\t1 & ramirma02 & 1993 & 1 & CLE & AL &  22 &  53 &   5 &   9 &  1 & ⋯ & 225 & 72 & R & R & 1993-09-02 & 2011-04-06 & ramim002 & ramirma02 & NA & 1972-05-30\\\\\n\t2 & ramirma02 & 1994 & 1 & CLE & AL &  91 & 290 &  51 &  78 & 22 & ⋯ & 225 & 72 & R & R & 1993-09-02 & 2011-04-06 & ramim002 & ramirma02 & NA & 1972-05-30\\\\\n\t3 & ramirma02 & 1995 & 1 & CLE & AL & 137 & 484 &  85 & 149 & 26 & ⋯ & 225 & 72 & R & R & 1993-09-02 & 2011-04-06 & ramim002 & ramirma02 & NA & 1972-05-30\\\\\n\t4 & ramirma02 & 1996 & 1 & CLE & AL & 152 & 550 &  94 & 170 & 45 & ⋯ & 225 & 72 & R & R & 1993-09-02 & 2011-04-06 & ramim002 & ramirma02 & NA & 1972-05-30\\\\\n\t5 & ramirma02 & 1997 & 1 & CLE & AL & 150 & 561 &  99 & 184 & 40 & ⋯ & 225 & 72 & R & R & 1993-09-02 & 2011-04-06 & ramim002 & ramirma02 & NA & 1972-05-30\\\\\n\t6 & ramirma02 & 1998 & 1 & CLE & AL & 150 & 571 & 108 & 168 & 35 & ⋯ & 225 & 72 & R & R & 1993-09-02 & 2011-04-06 & ramim002 & ramirma02 & NA & 1972-05-30\\\\\n\\end{tabular}\n",
            "text/plain": [
              "  playerID  yearID stint teamID lgID G   AB  R   H   X2B ⋯ weight height bats\n",
              "1 ramirma02 1993   1     CLE    AL    22  53   5   9  1  ⋯ 225    72     R   \n",
              "2 ramirma02 1994   1     CLE    AL    91 290  51  78 22  ⋯ 225    72     R   \n",
              "3 ramirma02 1995   1     CLE    AL   137 484  85 149 26  ⋯ 225    72     R   \n",
              "4 ramirma02 1996   1     CLE    AL   152 550  94 170 45  ⋯ 225    72     R   \n",
              "5 ramirma02 1997   1     CLE    AL   150 561  99 184 40  ⋯ 225    72     R   \n",
              "6 ramirma02 1998   1     CLE    AL   150 571 108 168 35  ⋯ 225    72     R   \n",
              "  throws debut      finalGame  retroID  bbrefID   deathDate birthDate \n",
              "1 R      1993-09-02 2011-04-06 ramim002 ramirma02 <NA>      1972-05-30\n",
              "2 R      1993-09-02 2011-04-06 ramim002 ramirma02 <NA>      1972-05-30\n",
              "3 R      1993-09-02 2011-04-06 ramim002 ramirma02 <NA>      1972-05-30\n",
              "4 R      1993-09-02 2011-04-06 ramim002 ramirma02 <NA>      1972-05-30\n",
              "5 R      1993-09-02 2011-04-06 ramim002 ramirma02 <NA>      1972-05-30\n",
              "6 R      1993-09-02 2011-04-06 ramim002 ramirma02 <NA>      1972-05-30"
            ]
          },
          "metadata": {}
        }
      ]
    },
    {
      "cell_type": "code",
      "source": [
        "# What if we change the order?\n",
        "left_join_people_batting <- People %>%\n",
        "  left_join(manny_data)\n",
        "head(left_join_people_batting)\n",
        "\n",
        "\n",
        "# We don't just get the information about Manny.\n",
        "# Can see we have no stats for the other players.\n",
        "# Join order is important!\n",
        "# Have to think about what you need before you join your data."
      ],
      "metadata": {
        "id": "VEzYCb9O1mIe",
        "colab": {
          "base_uri": "https://localhost:8080/",
          "height": 358
        },
        "outputId": "928496d2-e109-4ca8-d3fb-117c0da4c15b"
      },
      "execution_count": 76,
      "outputs": [
        {
          "output_type": "stream",
          "name": "stderr",
          "text": [
            "\u001b[1m\u001b[22mJoining with `by = join_by(playerID)`\n"
          ]
        },
        {
          "output_type": "display_data",
          "data": {
            "text/html": [
              "<table class=\"dataframe\">\n",
              "<caption>A data.frame: 6 × 47</caption>\n",
              "<thead>\n",
              "\t<tr><th></th><th scope=col>playerID</th><th scope=col>birthYear</th><th scope=col>birthMonth</th><th scope=col>birthDay</th><th scope=col>birthCountry</th><th scope=col>birthState</th><th scope=col>birthCity</th><th scope=col>deathYear</th><th scope=col>deathMonth</th><th scope=col>deathDay</th><th scope=col>⋯</th><th scope=col>RBI</th><th scope=col>SB</th><th scope=col>CS</th><th scope=col>BB</th><th scope=col>SO</th><th scope=col>IBB</th><th scope=col>HBP</th><th scope=col>SH</th><th scope=col>SF</th><th scope=col>GIDP</th></tr>\n",
              "\t<tr><th></th><th scope=col>&lt;chr&gt;</th><th scope=col>&lt;int&gt;</th><th scope=col>&lt;int&gt;</th><th scope=col>&lt;int&gt;</th><th scope=col>&lt;chr&gt;</th><th scope=col>&lt;chr&gt;</th><th scope=col>&lt;chr&gt;</th><th scope=col>&lt;int&gt;</th><th scope=col>&lt;int&gt;</th><th scope=col>&lt;int&gt;</th><th scope=col>⋯</th><th scope=col>&lt;int&gt;</th><th scope=col>&lt;int&gt;</th><th scope=col>&lt;int&gt;</th><th scope=col>&lt;int&gt;</th><th scope=col>&lt;int&gt;</th><th scope=col>&lt;int&gt;</th><th scope=col>&lt;int&gt;</th><th scope=col>&lt;int&gt;</th><th scope=col>&lt;int&gt;</th><th scope=col>&lt;int&gt;</th></tr>\n",
              "</thead>\n",
              "<tbody>\n",
              "\t<tr><th scope=row>1</th><td>aardsda01</td><td>1981</td><td>12</td><td>27</td><td>USA </td><td>CO       </td><td>Denver    </td><td>  NA</td><td>NA</td><td>NA</td><td>⋯</td><td>NA</td><td>NA</td><td>NA</td><td>NA</td><td>NA</td><td>NA</td><td>NA</td><td>NA</td><td>NA</td><td>NA</td></tr>\n",
              "\t<tr><th scope=row>2</th><td>aaronha01</td><td>1934</td><td> 2</td><td> 5</td><td>USA </td><td>AL       </td><td>Mobile    </td><td>2021</td><td> 1</td><td>22</td><td>⋯</td><td>NA</td><td>NA</td><td>NA</td><td>NA</td><td>NA</td><td>NA</td><td>NA</td><td>NA</td><td>NA</td><td>NA</td></tr>\n",
              "\t<tr><th scope=row>3</th><td>aaronto01</td><td>1939</td><td> 8</td><td> 5</td><td>USA </td><td>AL       </td><td>Mobile    </td><td>1984</td><td> 8</td><td>16</td><td>⋯</td><td>NA</td><td>NA</td><td>NA</td><td>NA</td><td>NA</td><td>NA</td><td>NA</td><td>NA</td><td>NA</td><td>NA</td></tr>\n",
              "\t<tr><th scope=row>4</th><td>aasedo01 </td><td>1954</td><td> 9</td><td> 8</td><td>USA </td><td>CA       </td><td>Orange    </td><td>  NA</td><td>NA</td><td>NA</td><td>⋯</td><td>NA</td><td>NA</td><td>NA</td><td>NA</td><td>NA</td><td>NA</td><td>NA</td><td>NA</td><td>NA</td><td>NA</td></tr>\n",
              "\t<tr><th scope=row>5</th><td>abadan01 </td><td>1972</td><td> 8</td><td>25</td><td>USA </td><td>FL       </td><td>Palm Beach</td><td>  NA</td><td>NA</td><td>NA</td><td>⋯</td><td>NA</td><td>NA</td><td>NA</td><td>NA</td><td>NA</td><td>NA</td><td>NA</td><td>NA</td><td>NA</td><td>NA</td></tr>\n",
              "\t<tr><th scope=row>6</th><td>abadfe01 </td><td>1985</td><td>12</td><td>17</td><td>D.R.</td><td>La Romana</td><td>La Romana </td><td>  NA</td><td>NA</td><td>NA</td><td>⋯</td><td>NA</td><td>NA</td><td>NA</td><td>NA</td><td>NA</td><td>NA</td><td>NA</td><td>NA</td><td>NA</td><td>NA</td></tr>\n",
              "</tbody>\n",
              "</table>\n"
            ],
            "text/markdown": "\nA data.frame: 6 × 47\n\n| <!--/--> | playerID &lt;chr&gt; | birthYear &lt;int&gt; | birthMonth &lt;int&gt; | birthDay &lt;int&gt; | birthCountry &lt;chr&gt; | birthState &lt;chr&gt; | birthCity &lt;chr&gt; | deathYear &lt;int&gt; | deathMonth &lt;int&gt; | deathDay &lt;int&gt; | ⋯ ⋯ | RBI &lt;int&gt; | SB &lt;int&gt; | CS &lt;int&gt; | BB &lt;int&gt; | SO &lt;int&gt; | IBB &lt;int&gt; | HBP &lt;int&gt; | SH &lt;int&gt; | SF &lt;int&gt; | GIDP &lt;int&gt; |\n|---|---|---|---|---|---|---|---|---|---|---|---|---|---|---|---|---|---|---|---|---|---|\n| 1 | aardsda01 | 1981 | 12 | 27 | USA  | CO        | Denver     |   NA | NA | NA | ⋯ | NA | NA | NA | NA | NA | NA | NA | NA | NA | NA |\n| 2 | aaronha01 | 1934 |  2 |  5 | USA  | AL        | Mobile     | 2021 |  1 | 22 | ⋯ | NA | NA | NA | NA | NA | NA | NA | NA | NA | NA |\n| 3 | aaronto01 | 1939 |  8 |  5 | USA  | AL        | Mobile     | 1984 |  8 | 16 | ⋯ | NA | NA | NA | NA | NA | NA | NA | NA | NA | NA |\n| 4 | aasedo01  | 1954 |  9 |  8 | USA  | CA        | Orange     |   NA | NA | NA | ⋯ | NA | NA | NA | NA | NA | NA | NA | NA | NA | NA |\n| 5 | abadan01  | 1972 |  8 | 25 | USA  | FL        | Palm Beach |   NA | NA | NA | ⋯ | NA | NA | NA | NA | NA | NA | NA | NA | NA | NA |\n| 6 | abadfe01  | 1985 | 12 | 17 | D.R. | La Romana | La Romana  |   NA | NA | NA | ⋯ | NA | NA | NA | NA | NA | NA | NA | NA | NA | NA |\n\n",
            "text/latex": "A data.frame: 6 × 47\n\\begin{tabular}{r|lllllllllllllllllllll}\n  & playerID & birthYear & birthMonth & birthDay & birthCountry & birthState & birthCity & deathYear & deathMonth & deathDay & ⋯ & RBI & SB & CS & BB & SO & IBB & HBP & SH & SF & GIDP\\\\\n  & <chr> & <int> & <int> & <int> & <chr> & <chr> & <chr> & <int> & <int> & <int> & ⋯ & <int> & <int> & <int> & <int> & <int> & <int> & <int> & <int> & <int> & <int>\\\\\n\\hline\n\t1 & aardsda01 & 1981 & 12 & 27 & USA  & CO        & Denver     &   NA & NA & NA & ⋯ & NA & NA & NA & NA & NA & NA & NA & NA & NA & NA\\\\\n\t2 & aaronha01 & 1934 &  2 &  5 & USA  & AL        & Mobile     & 2021 &  1 & 22 & ⋯ & NA & NA & NA & NA & NA & NA & NA & NA & NA & NA\\\\\n\t3 & aaronto01 & 1939 &  8 &  5 & USA  & AL        & Mobile     & 1984 &  8 & 16 & ⋯ & NA & NA & NA & NA & NA & NA & NA & NA & NA & NA\\\\\n\t4 & aasedo01  & 1954 &  9 &  8 & USA  & CA        & Orange     &   NA & NA & NA & ⋯ & NA & NA & NA & NA & NA & NA & NA & NA & NA & NA\\\\\n\t5 & abadan01  & 1972 &  8 & 25 & USA  & FL        & Palm Beach &   NA & NA & NA & ⋯ & NA & NA & NA & NA & NA & NA & NA & NA & NA & NA\\\\\n\t6 & abadfe01  & 1985 & 12 & 17 & D.R. & La Romana & La Romana  &   NA & NA & NA & ⋯ & NA & NA & NA & NA & NA & NA & NA & NA & NA & NA\\\\\n\\end{tabular}\n",
            "text/plain": [
              "  playerID  birthYear birthMonth birthDay birthCountry birthState birthCity \n",
              "1 aardsda01 1981      12         27       USA          CO         Denver    \n",
              "2 aaronha01 1934       2          5       USA          AL         Mobile    \n",
              "3 aaronto01 1939       8          5       USA          AL         Mobile    \n",
              "4 aasedo01  1954       9          8       USA          CA         Orange    \n",
              "5 abadan01  1972       8         25       USA          FL         Palm Beach\n",
              "6 abadfe01  1985      12         17       D.R.         La Romana  La Romana \n",
              "  deathYear deathMonth deathDay ⋯ RBI SB CS BB SO IBB HBP SH SF GIDP\n",
              "1   NA      NA         NA       ⋯ NA  NA NA NA NA NA  NA  NA NA NA  \n",
              "2 2021       1         22       ⋯ NA  NA NA NA NA NA  NA  NA NA NA  \n",
              "3 1984       8         16       ⋯ NA  NA NA NA NA NA  NA  NA NA NA  \n",
              "4   NA      NA         NA       ⋯ NA  NA NA NA NA NA  NA  NA NA NA  \n",
              "5   NA      NA         NA       ⋯ NA  NA NA NA NA NA  NA  NA NA NA  \n",
              "6   NA      NA         NA       ⋯ NA  NA NA NA NA NA  NA  NA NA NA  "
            ]
          },
          "metadata": {}
        }
      ]
    },
    {
      "cell_type": "code",
      "source": [
        "# Actually wish I'd done it this way in the lecture for consistency!\n",
        "# filter(left_join_people_batting, playerID == \"ramirma02\")\n",
        "left_join_people_batting %>%\n",
        "  filter(, playerID == \"ramirma02\")"
      ],
      "metadata": {
        "colab": {
          "base_uri": "https://localhost:8080/",
          "height": 1000
        },
        "id": "AbBApd7MoJc9",
        "outputId": "77d2bb07-ca4b-4ed5-83c3-9911d3a32431"
      },
      "execution_count": 75,
      "outputs": [
        {
          "output_type": "display_data",
          "data": {
            "text/html": [
              "<table class=\"dataframe\">\n",
              "<caption>A data.frame: 21 × 47</caption>\n",
              "<thead>\n",
              "\t<tr><th scope=col>playerID</th><th scope=col>birthYear</th><th scope=col>birthMonth</th><th scope=col>birthDay</th><th scope=col>birthCountry</th><th scope=col>birthState</th><th scope=col>birthCity</th><th scope=col>deathYear</th><th scope=col>deathMonth</th><th scope=col>deathDay</th><th scope=col>⋯</th><th scope=col>RBI</th><th scope=col>SB</th><th scope=col>CS</th><th scope=col>BB</th><th scope=col>SO</th><th scope=col>IBB</th><th scope=col>HBP</th><th scope=col>SH</th><th scope=col>SF</th><th scope=col>GIDP</th></tr>\n",
              "\t<tr><th scope=col>&lt;chr&gt;</th><th scope=col>&lt;int&gt;</th><th scope=col>&lt;int&gt;</th><th scope=col>&lt;int&gt;</th><th scope=col>&lt;chr&gt;</th><th scope=col>&lt;chr&gt;</th><th scope=col>&lt;chr&gt;</th><th scope=col>&lt;int&gt;</th><th scope=col>&lt;int&gt;</th><th scope=col>&lt;int&gt;</th><th scope=col>⋯</th><th scope=col>&lt;int&gt;</th><th scope=col>&lt;int&gt;</th><th scope=col>&lt;int&gt;</th><th scope=col>&lt;int&gt;</th><th scope=col>&lt;int&gt;</th><th scope=col>&lt;int&gt;</th><th scope=col>&lt;int&gt;</th><th scope=col>&lt;int&gt;</th><th scope=col>&lt;int&gt;</th><th scope=col>&lt;int&gt;</th></tr>\n",
              "</thead>\n",
              "<tbody>\n",
              "\t<tr><td>ramirma02</td><td>1972</td><td>5</td><td>30</td><td>D.R.</td><td>Distrito Nacional</td><td>Santo Domingo</td><td>NA</td><td>NA</td><td>NA</td><td>⋯</td><td>  5</td><td>0</td><td>0</td><td>  2</td><td>  8</td><td> 0</td><td> 0</td><td>0</td><td> 0</td><td> 3</td></tr>\n",
              "\t<tr><td>ramirma02</td><td>1972</td><td>5</td><td>30</td><td>D.R.</td><td>Distrito Nacional</td><td>Santo Domingo</td><td>NA</td><td>NA</td><td>NA</td><td>⋯</td><td> 60</td><td>4</td><td>2</td><td> 42</td><td> 72</td><td> 4</td><td> 0</td><td>0</td><td> 4</td><td> 6</td></tr>\n",
              "\t<tr><td>ramirma02</td><td>1972</td><td>5</td><td>30</td><td>D.R.</td><td>Distrito Nacional</td><td>Santo Domingo</td><td>NA</td><td>NA</td><td>NA</td><td>⋯</td><td>107</td><td>6</td><td>6</td><td> 75</td><td>112</td><td> 6</td><td> 5</td><td>2</td><td> 5</td><td>13</td></tr>\n",
              "\t<tr><td>ramirma02</td><td>1972</td><td>5</td><td>30</td><td>D.R.</td><td>Distrito Nacional</td><td>Santo Domingo</td><td>NA</td><td>NA</td><td>NA</td><td>⋯</td><td>112</td><td>8</td><td>5</td><td> 85</td><td>104</td><td> 8</td><td> 3</td><td>0</td><td> 9</td><td>18</td></tr>\n",
              "\t<tr><td>ramirma02</td><td>1972</td><td>5</td><td>30</td><td>D.R.</td><td>Distrito Nacional</td><td>Santo Domingo</td><td>NA</td><td>NA</td><td>NA</td><td>⋯</td><td> 88</td><td>2</td><td>3</td><td> 79</td><td>115</td><td> 5</td><td> 7</td><td>0</td><td> 4</td><td>19</td></tr>\n",
              "\t<tr><td>ramirma02</td><td>1972</td><td>5</td><td>30</td><td>D.R.</td><td>Distrito Nacional</td><td>Santo Domingo</td><td>NA</td><td>NA</td><td>NA</td><td>⋯</td><td>145</td><td>5</td><td>3</td><td> 76</td><td>121</td><td> 6</td><td> 6</td><td>0</td><td>10</td><td>18</td></tr>\n",
              "\t<tr><td>ramirma02</td><td>1972</td><td>5</td><td>30</td><td>D.R.</td><td>Distrito Nacional</td><td>Santo Domingo</td><td>NA</td><td>NA</td><td>NA</td><td>⋯</td><td>165</td><td>2</td><td>4</td><td> 96</td><td>131</td><td> 9</td><td>13</td><td>0</td><td> 9</td><td>12</td></tr>\n",
              "\t<tr><td>ramirma02</td><td>1972</td><td>5</td><td>30</td><td>D.R.</td><td>Distrito Nacional</td><td>Santo Domingo</td><td>NA</td><td>NA</td><td>NA</td><td>⋯</td><td>122</td><td>1</td><td>1</td><td> 86</td><td>117</td><td> 9</td><td> 3</td><td>0</td><td> 4</td><td> 9</td></tr>\n",
              "\t<tr><td>ramirma02</td><td>1972</td><td>5</td><td>30</td><td>D.R.</td><td>Distrito Nacional</td><td>Santo Domingo</td><td>NA</td><td>NA</td><td>NA</td><td>⋯</td><td>125</td><td>0</td><td>1</td><td> 81</td><td>147</td><td>25</td><td> 8</td><td>0</td><td> 2</td><td> 9</td></tr>\n",
              "\t<tr><td>ramirma02</td><td>1972</td><td>5</td><td>30</td><td>D.R.</td><td>Distrito Nacional</td><td>Santo Domingo</td><td>NA</td><td>NA</td><td>NA</td><td>⋯</td><td>107</td><td>0</td><td>0</td><td> 73</td><td> 85</td><td>14</td><td> 8</td><td>0</td><td> 1</td><td>13</td></tr>\n",
              "\t<tr><td>ramirma02</td><td>1972</td><td>5</td><td>30</td><td>D.R.</td><td>Distrito Nacional</td><td>Santo Domingo</td><td>NA</td><td>NA</td><td>NA</td><td>⋯</td><td>104</td><td>3</td><td>1</td><td> 97</td><td> 94</td><td>28</td><td> 8</td><td>0</td><td> 5</td><td>22</td></tr>\n",
              "\t<tr><td>ramirma02</td><td>1972</td><td>5</td><td>30</td><td>D.R.</td><td>Distrito Nacional</td><td>Santo Domingo</td><td>NA</td><td>NA</td><td>NA</td><td>⋯</td><td>130</td><td>2</td><td>4</td><td> 82</td><td>124</td><td>15</td><td> 6</td><td>0</td><td> 7</td><td>17</td></tr>\n",
              "\t<tr><td>ramirma02</td><td>1972</td><td>5</td><td>30</td><td>D.R.</td><td>Distrito Nacional</td><td>Santo Domingo</td><td>NA</td><td>NA</td><td>NA</td><td>⋯</td><td>144</td><td>1</td><td>0</td><td> 80</td><td>119</td><td> 9</td><td>10</td><td>0</td><td> 6</td><td>20</td></tr>\n",
              "\t<tr><td>ramirma02</td><td>1972</td><td>5</td><td>30</td><td>D.R.</td><td>Distrito Nacional</td><td>Santo Domingo</td><td>NA</td><td>NA</td><td>NA</td><td>⋯</td><td>102</td><td>0</td><td>1</td><td>100</td><td>102</td><td>16</td><td> 1</td><td>0</td><td> 8</td><td>13</td></tr>\n",
              "\t<tr><td>ramirma02</td><td>1972</td><td>5</td><td>30</td><td>D.R.</td><td>Distrito Nacional</td><td>Santo Domingo</td><td>NA</td><td>NA</td><td>NA</td><td>⋯</td><td> 88</td><td>0</td><td>0</td><td> 71</td><td> 92</td><td>13</td><td> 7</td><td>0</td><td> 8</td><td>21</td></tr>\n",
              "\t<tr><td>ramirma02</td><td>1972</td><td>5</td><td>30</td><td>D.R.</td><td>Distrito Nacional</td><td>Santo Domingo</td><td>NA</td><td>NA</td><td>NA</td><td>⋯</td><td> 68</td><td>1</td><td>0</td><td> 52</td><td> 86</td><td> 8</td><td> 8</td><td>0</td><td> 0</td><td>12</td></tr>\n",
              "\t<tr><td>ramirma02</td><td>1972</td><td>5</td><td>30</td><td>D.R.</td><td>Distrito Nacional</td><td>Santo Domingo</td><td>NA</td><td>NA</td><td>NA</td><td>⋯</td><td> 53</td><td>2</td><td>0</td><td> 35</td><td> 38</td><td>16</td><td> 3</td><td>0</td><td> 4</td><td> 5</td></tr>\n",
              "\t<tr><td>ramirma02</td><td>1972</td><td>5</td><td>30</td><td>D.R.</td><td>Distrito Nacional</td><td>Santo Domingo</td><td>NA</td><td>NA</td><td>NA</td><td>⋯</td><td> 63</td><td>0</td><td>1</td><td> 71</td><td> 81</td><td>21</td><td> 7</td><td>0</td><td> 1</td><td> 7</td></tr>\n",
              "\t<tr><td>ramirma02</td><td>1972</td><td>5</td><td>30</td><td>D.R.</td><td>Distrito Nacional</td><td>Santo Domingo</td><td>NA</td><td>NA</td><td>NA</td><td>⋯</td><td> 40</td><td>1</td><td>1</td><td> 32</td><td> 38</td><td> 4</td><td> 1</td><td>0</td><td> 3</td><td> 4</td></tr>\n",
              "\t<tr><td>ramirma02</td><td>1972</td><td>5</td><td>30</td><td>D.R.</td><td>Distrito Nacional</td><td>Santo Domingo</td><td>NA</td><td>NA</td><td>NA</td><td>⋯</td><td>  2</td><td>0</td><td>0</td><td> 14</td><td> 23</td><td> 0</td><td> 5</td><td>0</td><td> 0</td><td> 2</td></tr>\n",
              "\t<tr><td>ramirma02</td><td>1972</td><td>5</td><td>30</td><td>D.R.</td><td>Distrito Nacional</td><td>Santo Domingo</td><td>NA</td><td>NA</td><td>NA</td><td>⋯</td><td>  1</td><td>0</td><td>0</td><td>  0</td><td>  4</td><td> 0</td><td> 0</td><td>0</td><td> 0</td><td> 0</td></tr>\n",
              "</tbody>\n",
              "</table>\n"
            ],
            "text/markdown": "\nA data.frame: 21 × 47\n\n| playerID &lt;chr&gt; | birthYear &lt;int&gt; | birthMonth &lt;int&gt; | birthDay &lt;int&gt; | birthCountry &lt;chr&gt; | birthState &lt;chr&gt; | birthCity &lt;chr&gt; | deathYear &lt;int&gt; | deathMonth &lt;int&gt; | deathDay &lt;int&gt; | ⋯ ⋯ | RBI &lt;int&gt; | SB &lt;int&gt; | CS &lt;int&gt; | BB &lt;int&gt; | SO &lt;int&gt; | IBB &lt;int&gt; | HBP &lt;int&gt; | SH &lt;int&gt; | SF &lt;int&gt; | GIDP &lt;int&gt; |\n|---|---|---|---|---|---|---|---|---|---|---|---|---|---|---|---|---|---|---|---|---|\n| ramirma02 | 1972 | 5 | 30 | D.R. | Distrito Nacional | Santo Domingo | NA | NA | NA | ⋯ |   5 | 0 | 0 |   2 |   8 |  0 |  0 | 0 |  0 |  3 |\n| ramirma02 | 1972 | 5 | 30 | D.R. | Distrito Nacional | Santo Domingo | NA | NA | NA | ⋯ |  60 | 4 | 2 |  42 |  72 |  4 |  0 | 0 |  4 |  6 |\n| ramirma02 | 1972 | 5 | 30 | D.R. | Distrito Nacional | Santo Domingo | NA | NA | NA | ⋯ | 107 | 6 | 6 |  75 | 112 |  6 |  5 | 2 |  5 | 13 |\n| ramirma02 | 1972 | 5 | 30 | D.R. | Distrito Nacional | Santo Domingo | NA | NA | NA | ⋯ | 112 | 8 | 5 |  85 | 104 |  8 |  3 | 0 |  9 | 18 |\n| ramirma02 | 1972 | 5 | 30 | D.R. | Distrito Nacional | Santo Domingo | NA | NA | NA | ⋯ |  88 | 2 | 3 |  79 | 115 |  5 |  7 | 0 |  4 | 19 |\n| ramirma02 | 1972 | 5 | 30 | D.R. | Distrito Nacional | Santo Domingo | NA | NA | NA | ⋯ | 145 | 5 | 3 |  76 | 121 |  6 |  6 | 0 | 10 | 18 |\n| ramirma02 | 1972 | 5 | 30 | D.R. | Distrito Nacional | Santo Domingo | NA | NA | NA | ⋯ | 165 | 2 | 4 |  96 | 131 |  9 | 13 | 0 |  9 | 12 |\n| ramirma02 | 1972 | 5 | 30 | D.R. | Distrito Nacional | Santo Domingo | NA | NA | NA | ⋯ | 122 | 1 | 1 |  86 | 117 |  9 |  3 | 0 |  4 |  9 |\n| ramirma02 | 1972 | 5 | 30 | D.R. | Distrito Nacional | Santo Domingo | NA | NA | NA | ⋯ | 125 | 0 | 1 |  81 | 147 | 25 |  8 | 0 |  2 |  9 |\n| ramirma02 | 1972 | 5 | 30 | D.R. | Distrito Nacional | Santo Domingo | NA | NA | NA | ⋯ | 107 | 0 | 0 |  73 |  85 | 14 |  8 | 0 |  1 | 13 |\n| ramirma02 | 1972 | 5 | 30 | D.R. | Distrito Nacional | Santo Domingo | NA | NA | NA | ⋯ | 104 | 3 | 1 |  97 |  94 | 28 |  8 | 0 |  5 | 22 |\n| ramirma02 | 1972 | 5 | 30 | D.R. | Distrito Nacional | Santo Domingo | NA | NA | NA | ⋯ | 130 | 2 | 4 |  82 | 124 | 15 |  6 | 0 |  7 | 17 |\n| ramirma02 | 1972 | 5 | 30 | D.R. | Distrito Nacional | Santo Domingo | NA | NA | NA | ⋯ | 144 | 1 | 0 |  80 | 119 |  9 | 10 | 0 |  6 | 20 |\n| ramirma02 | 1972 | 5 | 30 | D.R. | Distrito Nacional | Santo Domingo | NA | NA | NA | ⋯ | 102 | 0 | 1 | 100 | 102 | 16 |  1 | 0 |  8 | 13 |\n| ramirma02 | 1972 | 5 | 30 | D.R. | Distrito Nacional | Santo Domingo | NA | NA | NA | ⋯ |  88 | 0 | 0 |  71 |  92 | 13 |  7 | 0 |  8 | 21 |\n| ramirma02 | 1972 | 5 | 30 | D.R. | Distrito Nacional | Santo Domingo | NA | NA | NA | ⋯ |  68 | 1 | 0 |  52 |  86 |  8 |  8 | 0 |  0 | 12 |\n| ramirma02 | 1972 | 5 | 30 | D.R. | Distrito Nacional | Santo Domingo | NA | NA | NA | ⋯ |  53 | 2 | 0 |  35 |  38 | 16 |  3 | 0 |  4 |  5 |\n| ramirma02 | 1972 | 5 | 30 | D.R. | Distrito Nacional | Santo Domingo | NA | NA | NA | ⋯ |  63 | 0 | 1 |  71 |  81 | 21 |  7 | 0 |  1 |  7 |\n| ramirma02 | 1972 | 5 | 30 | D.R. | Distrito Nacional | Santo Domingo | NA | NA | NA | ⋯ |  40 | 1 | 1 |  32 |  38 |  4 |  1 | 0 |  3 |  4 |\n| ramirma02 | 1972 | 5 | 30 | D.R. | Distrito Nacional | Santo Domingo | NA | NA | NA | ⋯ |   2 | 0 | 0 |  14 |  23 |  0 |  5 | 0 |  0 |  2 |\n| ramirma02 | 1972 | 5 | 30 | D.R. | Distrito Nacional | Santo Domingo | NA | NA | NA | ⋯ |   1 | 0 | 0 |   0 |   4 |  0 |  0 | 0 |  0 |  0 |\n\n",
            "text/latex": "A data.frame: 21 × 47\n\\begin{tabular}{lllllllllllllllllllll}\n playerID & birthYear & birthMonth & birthDay & birthCountry & birthState & birthCity & deathYear & deathMonth & deathDay & ⋯ & RBI & SB & CS & BB & SO & IBB & HBP & SH & SF & GIDP\\\\\n <chr> & <int> & <int> & <int> & <chr> & <chr> & <chr> & <int> & <int> & <int> & ⋯ & <int> & <int> & <int> & <int> & <int> & <int> & <int> & <int> & <int> & <int>\\\\\n\\hline\n\t ramirma02 & 1972 & 5 & 30 & D.R. & Distrito Nacional & Santo Domingo & NA & NA & NA & ⋯ &   5 & 0 & 0 &   2 &   8 &  0 &  0 & 0 &  0 &  3\\\\\n\t ramirma02 & 1972 & 5 & 30 & D.R. & Distrito Nacional & Santo Domingo & NA & NA & NA & ⋯ &  60 & 4 & 2 &  42 &  72 &  4 &  0 & 0 &  4 &  6\\\\\n\t ramirma02 & 1972 & 5 & 30 & D.R. & Distrito Nacional & Santo Domingo & NA & NA & NA & ⋯ & 107 & 6 & 6 &  75 & 112 &  6 &  5 & 2 &  5 & 13\\\\\n\t ramirma02 & 1972 & 5 & 30 & D.R. & Distrito Nacional & Santo Domingo & NA & NA & NA & ⋯ & 112 & 8 & 5 &  85 & 104 &  8 &  3 & 0 &  9 & 18\\\\\n\t ramirma02 & 1972 & 5 & 30 & D.R. & Distrito Nacional & Santo Domingo & NA & NA & NA & ⋯ &  88 & 2 & 3 &  79 & 115 &  5 &  7 & 0 &  4 & 19\\\\\n\t ramirma02 & 1972 & 5 & 30 & D.R. & Distrito Nacional & Santo Domingo & NA & NA & NA & ⋯ & 145 & 5 & 3 &  76 & 121 &  6 &  6 & 0 & 10 & 18\\\\\n\t ramirma02 & 1972 & 5 & 30 & D.R. & Distrito Nacional & Santo Domingo & NA & NA & NA & ⋯ & 165 & 2 & 4 &  96 & 131 &  9 & 13 & 0 &  9 & 12\\\\\n\t ramirma02 & 1972 & 5 & 30 & D.R. & Distrito Nacional & Santo Domingo & NA & NA & NA & ⋯ & 122 & 1 & 1 &  86 & 117 &  9 &  3 & 0 &  4 &  9\\\\\n\t ramirma02 & 1972 & 5 & 30 & D.R. & Distrito Nacional & Santo Domingo & NA & NA & NA & ⋯ & 125 & 0 & 1 &  81 & 147 & 25 &  8 & 0 &  2 &  9\\\\\n\t ramirma02 & 1972 & 5 & 30 & D.R. & Distrito Nacional & Santo Domingo & NA & NA & NA & ⋯ & 107 & 0 & 0 &  73 &  85 & 14 &  8 & 0 &  1 & 13\\\\\n\t ramirma02 & 1972 & 5 & 30 & D.R. & Distrito Nacional & Santo Domingo & NA & NA & NA & ⋯ & 104 & 3 & 1 &  97 &  94 & 28 &  8 & 0 &  5 & 22\\\\\n\t ramirma02 & 1972 & 5 & 30 & D.R. & Distrito Nacional & Santo Domingo & NA & NA & NA & ⋯ & 130 & 2 & 4 &  82 & 124 & 15 &  6 & 0 &  7 & 17\\\\\n\t ramirma02 & 1972 & 5 & 30 & D.R. & Distrito Nacional & Santo Domingo & NA & NA & NA & ⋯ & 144 & 1 & 0 &  80 & 119 &  9 & 10 & 0 &  6 & 20\\\\\n\t ramirma02 & 1972 & 5 & 30 & D.R. & Distrito Nacional & Santo Domingo & NA & NA & NA & ⋯ & 102 & 0 & 1 & 100 & 102 & 16 &  1 & 0 &  8 & 13\\\\\n\t ramirma02 & 1972 & 5 & 30 & D.R. & Distrito Nacional & Santo Domingo & NA & NA & NA & ⋯ &  88 & 0 & 0 &  71 &  92 & 13 &  7 & 0 &  8 & 21\\\\\n\t ramirma02 & 1972 & 5 & 30 & D.R. & Distrito Nacional & Santo Domingo & NA & NA & NA & ⋯ &  68 & 1 & 0 &  52 &  86 &  8 &  8 & 0 &  0 & 12\\\\\n\t ramirma02 & 1972 & 5 & 30 & D.R. & Distrito Nacional & Santo Domingo & NA & NA & NA & ⋯ &  53 & 2 & 0 &  35 &  38 & 16 &  3 & 0 &  4 &  5\\\\\n\t ramirma02 & 1972 & 5 & 30 & D.R. & Distrito Nacional & Santo Domingo & NA & NA & NA & ⋯ &  63 & 0 & 1 &  71 &  81 & 21 &  7 & 0 &  1 &  7\\\\\n\t ramirma02 & 1972 & 5 & 30 & D.R. & Distrito Nacional & Santo Domingo & NA & NA & NA & ⋯ &  40 & 1 & 1 &  32 &  38 &  4 &  1 & 0 &  3 &  4\\\\\n\t ramirma02 & 1972 & 5 & 30 & D.R. & Distrito Nacional & Santo Domingo & NA & NA & NA & ⋯ &   2 & 0 & 0 &  14 &  23 &  0 &  5 & 0 &  0 &  2\\\\\n\t ramirma02 & 1972 & 5 & 30 & D.R. & Distrito Nacional & Santo Domingo & NA & NA & NA & ⋯ &   1 & 0 & 0 &   0 &   4 &  0 &  0 & 0 &  0 &  0\\\\\n\\end{tabular}\n",
            "text/plain": [
              "   playerID  birthYear birthMonth birthDay birthCountry birthState       \n",
              "1  ramirma02 1972      5          30       D.R.         Distrito Nacional\n",
              "2  ramirma02 1972      5          30       D.R.         Distrito Nacional\n",
              "3  ramirma02 1972      5          30       D.R.         Distrito Nacional\n",
              "4  ramirma02 1972      5          30       D.R.         Distrito Nacional\n",
              "5  ramirma02 1972      5          30       D.R.         Distrito Nacional\n",
              "6  ramirma02 1972      5          30       D.R.         Distrito Nacional\n",
              "7  ramirma02 1972      5          30       D.R.         Distrito Nacional\n",
              "8  ramirma02 1972      5          30       D.R.         Distrito Nacional\n",
              "9  ramirma02 1972      5          30       D.R.         Distrito Nacional\n",
              "10 ramirma02 1972      5          30       D.R.         Distrito Nacional\n",
              "11 ramirma02 1972      5          30       D.R.         Distrito Nacional\n",
              "12 ramirma02 1972      5          30       D.R.         Distrito Nacional\n",
              "13 ramirma02 1972      5          30       D.R.         Distrito Nacional\n",
              "14 ramirma02 1972      5          30       D.R.         Distrito Nacional\n",
              "15 ramirma02 1972      5          30       D.R.         Distrito Nacional\n",
              "16 ramirma02 1972      5          30       D.R.         Distrito Nacional\n",
              "17 ramirma02 1972      5          30       D.R.         Distrito Nacional\n",
              "18 ramirma02 1972      5          30       D.R.         Distrito Nacional\n",
              "19 ramirma02 1972      5          30       D.R.         Distrito Nacional\n",
              "20 ramirma02 1972      5          30       D.R.         Distrito Nacional\n",
              "21 ramirma02 1972      5          30       D.R.         Distrito Nacional\n",
              "   birthCity     deathYear deathMonth deathDay ⋯ RBI SB CS BB  SO  IBB HBP SH\n",
              "1  Santo Domingo NA        NA         NA       ⋯   5 0  0    2   8  0   0  0 \n",
              "2  Santo Domingo NA        NA         NA       ⋯  60 4  2   42  72  4   0  0 \n",
              "3  Santo Domingo NA        NA         NA       ⋯ 107 6  6   75 112  6   5  2 \n",
              "4  Santo Domingo NA        NA         NA       ⋯ 112 8  5   85 104  8   3  0 \n",
              "5  Santo Domingo NA        NA         NA       ⋯  88 2  3   79 115  5   7  0 \n",
              "6  Santo Domingo NA        NA         NA       ⋯ 145 5  3   76 121  6   6  0 \n",
              "7  Santo Domingo NA        NA         NA       ⋯ 165 2  4   96 131  9  13  0 \n",
              "8  Santo Domingo NA        NA         NA       ⋯ 122 1  1   86 117  9   3  0 \n",
              "9  Santo Domingo NA        NA         NA       ⋯ 125 0  1   81 147 25   8  0 \n",
              "10 Santo Domingo NA        NA         NA       ⋯ 107 0  0   73  85 14   8  0 \n",
              "11 Santo Domingo NA        NA         NA       ⋯ 104 3  1   97  94 28   8  0 \n",
              "12 Santo Domingo NA        NA         NA       ⋯ 130 2  4   82 124 15   6  0 \n",
              "13 Santo Domingo NA        NA         NA       ⋯ 144 1  0   80 119  9  10  0 \n",
              "14 Santo Domingo NA        NA         NA       ⋯ 102 0  1  100 102 16   1  0 \n",
              "15 Santo Domingo NA        NA         NA       ⋯  88 0  0   71  92 13   7  0 \n",
              "16 Santo Domingo NA        NA         NA       ⋯  68 1  0   52  86  8   8  0 \n",
              "17 Santo Domingo NA        NA         NA       ⋯  53 2  0   35  38 16   3  0 \n",
              "18 Santo Domingo NA        NA         NA       ⋯  63 0  1   71  81 21   7  0 \n",
              "19 Santo Domingo NA        NA         NA       ⋯  40 1  1   32  38  4   1  0 \n",
              "20 Santo Domingo NA        NA         NA       ⋯   2 0  0   14  23  0   5  0 \n",
              "21 Santo Domingo NA        NA         NA       ⋯   1 0  0    0   4  0   0  0 \n",
              "   SF GIDP\n",
              "1   0  3  \n",
              "2   4  6  \n",
              "3   5 13  \n",
              "4   9 18  \n",
              "5   4 19  \n",
              "6  10 18  \n",
              "7   9 12  \n",
              "8   4  9  \n",
              "9   2  9  \n",
              "10  1 13  \n",
              "11  5 22  \n",
              "12  7 17  \n",
              "13  6 20  \n",
              "14  8 13  \n",
              "15  8 21  \n",
              "16  0 12  \n",
              "17  4  5  \n",
              "18  1  7  \n",
              "19  3  4  \n",
              "20  0  2  \n",
              "21  0  0  "
            ]
          },
          "metadata": {}
        }
      ]
    },
    {
      "cell_type": "code",
      "source": [],
      "metadata": {
        "id": "-VCoOh4b1nWN"
      },
      "execution_count": null,
      "outputs": []
    }
  ]
}