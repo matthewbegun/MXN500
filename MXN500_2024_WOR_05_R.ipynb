{
 "cells": [
  {
   "cell_type": "markdown",
   "metadata": {
    "colab_type": "text",
    "id": "view-in-github"
   },
   "source": [
    "<a href=\"https://colab.research.google.com/github/matthewbegun/MXN500/blob/main/MXN500_2024_WOR_05_R.ipynb\" target=\"_parent\"><img src=\"https://colab.research.google.com/assets/colab-badge.svg\" alt=\"Open In Colab\"/></a>"
   ]
  },
  {
   "cell_type": "markdown",
   "metadata": {
    "id": "X-rrdM9e_11s"
   },
   "source": [
    "# Special Distributions\n"
   ]
  },
  {
   "cell_type": "markdown",
   "metadata": {
    "id": "aT4fYm67IoFY"
   },
   "source": [
    "## About this workshop\n",
    "\n",
    "This workshop explores the use of the normal distribution to model the height of people.\n",
    "\n",
    "At the end, there is an extension exercise about looking at how closely our data follow a normal distribution. If you don't cover it this week, you'll encounter it later in the semester in the context of model diagnostics.\n",
    "\n",
    "We assume you can get started in R with ease and that you've done the lecture and lab for this week and all previous weeks.\n",
    "\n",
    "* Assumed skills\n",
    "    - Manipulating data objects in R\n",
    "    - Calculating and interpreting summary statistics\n",
    "    - Writing and executing functions in R\n",
    "    - Visualising results with ggplot2\n",
    "* Learning objectives\n",
    "* Professional skills\n",
    "    - Visualising results\n",
    "\n",
    "A reminder of expectations in the workshop:\n",
    "\n",
    "* Keep a record of the work being completed, both the R script and this document\n",
    "* Allow everyone a chance to participate in the workshop\n",
    "* All opinions are valued provided they do not harm others\n",
    "* Everyone is expected to help out with completing the work, learning seldom occurs by watching someone else do maths\n",
    "* Shuffle the group around so that someone different is controlling R"
   ]
  },
  {
   "cell_type": "markdown",
   "metadata": {
    "id": "dPfvMgIFCiXC"
   },
   "source": [
    "## Set up environment\n"
   ]
  },
  {
   "cell_type": "code",
   "execution_count": null,
   "metadata": {
    "colab": {
     "base_uri": "https://localhost:8080/"
    },
    "id": "HbmoD89lCoPC",
    "outputId": "44e7a7de-6505-4a34-b855-c2190c873048"
   },
   "outputs": [
    {
     "name": "stderr",
     "output_type": "stream",
     "text": [
      "Installing package into ‘/usr/local/lib/R/site-library’\n",
      "(as ‘lib’ is unspecified)\n",
      "\n"
     ]
    }
   ],
   "source": [
    "# Installs - only run once\n",
    "install.packages(\"tidyverse\")\n"
   ]
  },
  {
   "cell_type": "code",
   "execution_count": 62,
   "metadata": {
    "id": "-A3AaW50iDe2"
   },
   "outputs": [],
   "source": [
    "# import tidyverse\n",
    "library(tidyverse)\n",
    "# ggplot global options\n",
    "options(repr.plot.width=6, repr.plot.height=2)"
   ]
  },
  {
   "cell_type": "markdown",
   "metadata": {
    "id": "4lT8DhSUBAiZ"
   },
   "source": [
    "# Activity 1 -- The Quantitative Model\n",
    "\n"
   ]
  },
  {
   "cell_type": "markdown",
   "metadata": {
    "id": "9j56zR9pIc_s"
   },
   "source": [
    "\n",
    "\n",
    "The normal distribution is a probability distribution which can be used to model a continous random variable, such as the height of humans.\n",
    "\n",
    "If a random variable, $X$, is distributed according to a normal distribution, we can write this as\n",
    "\n",
    "$$\n",
    "X \\sim N \\left( \\mu, \\sigma^2 \\right)\n",
    "$$\n",
    "\n",
    "The normal distribution has the form\n",
    "\n",
    "$$\n",
    "f(x) = \\frac{1}{\\sigma\\sqrt{2\\pi}} e^{-\\frac{1}{2} \\left( \\frac{x - \\mu}{\\sigma} \\right)^2}.\n",
    "$$\n",
    "\n",
    "**Exercise:** What are the parameters of this model?\n",
    "\n",
    "**Answer:** The parameters of this model are the mean, $\\mu$, and the variance, $\\sigma^2$.\n",
    "\n",
    "\n",
    "\n"
   ]
  },
  {
   "cell_type": "markdown",
   "metadata": {
    "id": "rf8_9w5_8aOP"
   },
   "source": [
    "**Exercise:** For what values of $x$ is $f(x)$ defined?\n",
    "\n",
    "**Answer:** $f(x)$ is defined for all $-\\infty \\lt x \\lt \\infty$."
   ]
  },
  {
   "cell_type": "markdown",
   "metadata": {
    "id": "n8MtAJVv8bxB"
   },
   "source": [
    "\n",
    "\n",
    "**Exercise:** Are there any values of $x$ which do not make sense for us to include for height?\n",
    "\n",
    "\n",
    "\n",
    "**Answer:** It doesn’t make sense to have negative heights. If we have a greater deal of physiological knowledge we might be able to put a more specific bound on reasonable heights."
   ]
  },
  {
   "cell_type": "markdown",
   "metadata": {
    "id": "D8d9nS4x8vAj"
   },
   "source": [
    "**Room discussion:** Have your group spokesperson briefly describe which values of height are reasonable and why.\n",
    "\n",
    "Typical heights (in cm) ranged from 150m to 188cm; the tallest person ever is 288cm; negative or 0 heights don't make sense"
   ]
  },
  {
   "cell_type": "markdown",
   "metadata": {
    "id": "zbqh5nmNgBrp"
   },
   "source": [
    "# Activity 2 -- Exploratory Analysis"
   ]
  },
  {
   "cell_type": "markdown",
   "metadata": {
    "id": "rtvFmFzjgH87"
   },
   "source": [
    "If we don't know the values of $\\mu$ and $\\sigma$ we must estimate them from our data in order to use our normal distribution model. In this section, we will use the normal distribution to model the variability we expect to see in height."
   ]
  },
  {
   "cell_type": "markdown",
   "metadata": {
    "id": "OzGczon2gMdL"
   },
   "source": [
    "## Visualisation"
   ]
  },
  {
   "cell_type": "markdown",
   "metadata": {
    "id": "WTT-DfMqgS1-"
   },
   "source": [
    "**Exercise:** Make a new script with a comment describing the workshop, and load in the data.\n",
    "\n",
    "\n",
    "**Answer:**"
   ]
  },
  {
   "cell_type": "code",
   "execution_count": 63,
   "metadata": {
    "colab": {
     "base_uri": "https://localhost:8080/",
     "height": 243
    },
    "id": "Spt0m4eShcK4",
    "outputId": "ed86063a-bccb-4543-8410-7e2381890abe"
   },
   "outputs": [
    {
     "name": "stderr",
     "output_type": "stream",
     "text": [
      "\u001b[1mRows: \u001b[22m\u001b[34m200\u001b[39m \u001b[1mColumns: \u001b[22m\u001b[34m3\u001b[39m\n",
      "\u001b[36m──\u001b[39m \u001b[1mColumn specification\u001b[22m \u001b[36m────────────────────────────────────────────────────────\u001b[39m\n",
      "\u001b[1mDelimiter:\u001b[22m \",\"\n",
      "\u001b[32mdbl\u001b[39m (3): Index, Height, Weight\n",
      "\n",
      "\u001b[36mℹ\u001b[39m Use `spec()` to retrieve the full column specification for this data.\n",
      "\u001b[36mℹ\u001b[39m Specify the column types or set `show_col_types = FALSE` to quiet this message.\n"
     ]
    },
    {
     "data": {
      "text/plain": [
       "cols(\n",
       "  Index = \u001b[32mcol_double()\u001b[39m,\n",
       "  Height = \u001b[32mcol_double()\u001b[39m,\n",
       "  Weight = \u001b[32mcol_double()\u001b[39m\n",
       ")"
      ]
     },
     "metadata": {},
     "output_type": "display_data"
    },
    {
     "data": {
      "text/html": [
       "<style>\n",
       ".list-inline {list-style: none; margin:0; padding: 0}\n",
       ".list-inline>li {display: inline-block}\n",
       ".list-inline>li:not(:last-child)::after {content: \"\\00b7\"; padding: 0 .5ex}\n",
       "</style>\n",
       "<ol class=list-inline><li>200</li><li>3</li></ol>\n"
      ],
      "text/latex": [
       "\\begin{enumerate*}\n",
       "\\item 200\n",
       "\\item 3\n",
       "\\end{enumerate*}\n"
      ],
      "text/markdown": [
       "1. 200\n",
       "2. 3\n",
       "\n",
       "\n"
      ],
      "text/plain": [
       "[1] 200   3"
      ]
     },
     "metadata": {},
     "output_type": "display_data"
    }
   ],
   "source": [
    "# MXN500 Workshop 5\n",
    "## Activity 2\n",
    "library(tidyverse)\n",
    "df <- read_csv('HeightWeight.csv')\n",
    "spec(df)\n",
    "dim(df)"
   ]
  },
  {
   "cell_type": "markdown",
   "metadata": {
    "id": "nnJZbMpyhYP0"
   },
   "source": [
    "\n",
    "Before we get into modelling the variation in the data, it is useful to understand how our variable is distributed; otherwise we may not be making sensible choices about how to model the variation.\n",
    "\n",
    "**Exercise:** Make a histogram that shows the variability in height, with the density on the $y$ axis.\n",
    "\n",
    "**Answer:**"
   ]
  },
  {
   "cell_type": "code",
   "execution_count": 68,
   "metadata": {
    "colab": {
     "base_uri": "https://localhost:8080/",
     "height": 137
    },
    "id": "6SbnuUEkEfVg",
    "outputId": "13777b84-9c19-4fa2-9f60-0ea18b6331a8"
   },
   "outputs": [
    {
     "data": {
      "image/png": "[encoded data removed]",
      "text/plain": [
       "plot without title"
      ]
     },
     "metadata": {
      "image/png": {
       "height": 120,
       "width": 360
      }
     },
     "output_type": "display_data"
    }
   ],
   "source": [
    "ggplot(data = df, aes(x = Height)) +\n",
    "  geom_histogram(aes(y = after_stat(density)),\n",
    "                 color=\"darkgrey\",\n",
    "                 fill = \"lightskyblue\",\n",
    "                 bins = 15) +\n",
    "  labs(x = \"Height (Inches)\", y = \"Density\") +\n",
    "  theme_bw()"
   ]
  },
  {
   "cell_type": "markdown",
   "metadata": {
    "id": "GngPT0LOhiBG"
   },
   "source": [
    "**Exercise:** Calculate the mean and standard deviation of height and make a table below containing these numbers\n",
    "\n",
    "**Answer:**"
   ]
  },
  {
   "cell_type": "code",
   "execution_count": 66,
   "metadata": {
    "colab": {
     "base_uri": "https://localhost:8080/",
     "height": 129
    },
    "id": "bqbNAelchhWE",
    "outputId": "cf577f3f-97c0-404c-be0a-6098987815f4"
   },
   "outputs": [
    {
     "data": {
      "text/html": [
       "<table class=\"dataframe\">\n",
       "<caption>A tibble: 1 × 2</caption>\n",
       "<thead>\n",
       "\t<tr><th scope=col>Mean</th><th scope=col>Standard Deviation</th></tr>\n",
       "\t<tr><th scope=col>&lt;dbl&gt;</th><th scope=col>&lt;dbl&gt;</th></tr>\n",
       "</thead>\n",
       "<tbody>\n",
       "\t<tr><td>67.9498</td><td>1.940363</td></tr>\n",
       "</tbody>\n",
       "</table>\n"
      ],
      "text/latex": [
       "A tibble: 1 × 2\n",
       "\\begin{tabular}{ll}\n",
       " Mean & Standard Deviation\\\\\n",
       " <dbl> & <dbl>\\\\\n",
       "\\hline\n",
       "\t 67.9498 & 1.940363\\\\\n",
       "\\end{tabular}\n"
      ],
      "text/markdown": [
       "\n",
       "A tibble: 1 × 2\n",
       "\n",
       "| Mean &lt;dbl&gt; | Standard Deviation &lt;dbl&gt; |\n",
       "|---|---|\n",
       "| 67.9498 | 1.940363 |\n",
       "\n"
      ],
      "text/plain": [
       "  Mean    Standard Deviation\n",
       "1 67.9498 1.940363          "
      ]
     },
     "metadata": {},
     "output_type": "display_data"
    }
   ],
   "source": [
    "# can get the values directly with mean(df$Height) and sd(df$Height);\n",
    "# but we want a table\n",
    "summarise(df, \"Mean\" = mean(Height), \"Standard Deviation\" = sd(Height))"
   ]
  },
  {
   "cell_type": "markdown",
   "metadata": {
    "id": "7gwrVXQrhuvf"
   },
   "source": [
    "**Exercise:** Using `stat_function()` and `dnorm()`, add a normal distribution with your calculated mean and standard deviations to your histogram.\n",
    "\n",
    "**Answer:**"
   ]
  },
  {
   "cell_type": "code",
   "execution_count": 69,
   "metadata": {
    "colab": {
     "base_uri": "https://localhost:8080/",
     "height": 137
    },
    "id": "vWwdW8oqhugV",
    "outputId": "1985e4c2-0fd6-490b-ac65-ad6cc667459d"
   },
   "outputs": [
    {
     "data": {
      "image/png": "[encoded data removed]",
      "text/plain": [
       "plot without title"
      ]
     },
     "metadata": {
      "image/png": {
       "height": 120,
       "width": 360
      }
     },
     "output_type": "display_data"
    }
   ],
   "source": [
    "ggplot(data = df, aes(x = Height)) +\n",
    "  geom_histogram(aes(y = after_stat(density)),\n",
    "                 color=\"darkgrey\",\n",
    "                 fill = \"lightskyblue\",\n",
    "                 bins = 15) +\n",
    "  labs(x = \"Height (Inches)\", y = \"Density\") +\n",
    "  theme_bw() +\n",
    "  stat_function(fun = dnorm,\n",
    "                args = list(mean = mean(df$Height),\n",
    "                            sd = sd(df$Height)),\n",
    "                linewidth = 1)"
   ]
  },
  {
   "cell_type": "markdown",
   "metadata": {
    "id": "DTdrM2QbiKWQ"
   },
   "source": [
    "**Exercise:** Do you believe the normal distribution is an appropriate model for this data? Why or why not?\n",
    "\n",
    "**Answer:** Based on the plot above, and the fact that we have 200 observations, it is reasonable to assume that the normal distribution is an appropriate model for this data."
   ]
  },
  {
   "cell_type": "markdown",
   "metadata": {
    "id": "Dkzqsq6Z9WcZ"
   },
   "source": [
    "## Summary statistics"
   ]
  },
  {
   "cell_type": "markdown",
   "metadata": {
    "id": "weUEDWlu9YyW"
   },
   "source": [
    "In addition to the mean and standard deviation, the quantiles of the data can help explain the shape of the data. Remembering that the $p$ quantile of the data is the value $q$ below which $p$ of the data were observed, we can use the `quantile()` function to look at the top and bottom 10%.\n"
   ]
  },
  {
   "cell_type": "markdown",
   "metadata": {
    "id": "fR_nWdfe9fi3"
   },
   "source": [
    "**Exercise:** Copy the folowing code to your script and calculate the height below which 10% of your data were observed.\n",
    "\n",
    "```r\n",
    "quantile(..., probs = 0.1)\n",
    "```\n",
    "\n",
    "**Answer:** (give units).\n",
    "\n"
   ]
  },
  {
   "cell_type": "code",
   "execution_count": 70,
   "metadata": {
    "colab": {
     "base_uri": "https://localhost:8080/",
     "height": 34
    },
    "id": "Akqz5KFrgkaO",
    "outputId": "c98c7ffc-b49e-4347-81f5-0d774fb19a71"
   },
   "outputs": [
    {
     "data": {
      "text/html": [
       "<strong>10%:</strong> 65.478"
      ],
      "text/latex": [
       "\\textbf{10\\textbackslash{}\\%:} 65.478"
      ],
      "text/markdown": [
       "**10%:** 65.478"
      ],
      "text/plain": [
       "   10% \n",
       "65.478 "
      ]
     },
     "metadata": {},
     "output_type": "display_data"
    }
   ],
   "source": [
    "quantile(df$Height, probs = 0.1)\n",
    "#Units are inches."
   ]
  },
  {
   "cell_type": "markdown",
   "metadata": {
    "id": "hH8sbznd9k5k"
   },
   "source": [
    "**Exercise:** Calculate the height below which 90% of your data were observed.\n",
    "\n",
    "**Answer:** (give units)."
   ]
  },
  {
   "cell_type": "code",
   "execution_count": 71,
   "metadata": {
    "colab": {
     "base_uri": "https://localhost:8080/",
     "height": 34
    },
    "id": "Jg3cBzPX9lUm",
    "outputId": "8a894b87-35b8-4d24-f392-5846d2d6c136"
   },
   "outputs": [
    {
     "data": {
      "text/html": [
       "<strong>90%:</strong> 70.243"
      ],
      "text/latex": [
       "\\textbf{90\\textbackslash{}\\%:} 70.243"
      ],
      "text/markdown": [
       "**90%:** 70.243"
      ],
      "text/plain": [
       "   90% \n",
       "70.243 "
      ]
     },
     "metadata": {},
     "output_type": "display_data"
    }
   ],
   "source": [
    "quantile(df$Height, probs = 0.9)\n",
    "#Units are inches."
   ]
  },
  {
   "cell_type": "markdown",
   "metadata": {
    "id": "6x4lg798Im-y"
   },
   "source": [
    "**Exercise:** How many observations are in this data frame? Do you believe this is enough data to obtain reasonable information about the shape of the data? Why or why not?\n",
    "\n",
    "**Answer:** There are 200 observations in the data frame. This is enough data to obtain reasonable information about the shape of the data."
   ]
  },
  {
   "cell_type": "markdown",
   "metadata": {
    "id": "2e1wqHsuI-Rp"
   },
   "source": [
    "# Activity 3 -- Making predictions from the model\n"
   ]
  },
  {
   "cell_type": "markdown",
   "metadata": {
    "id": "S5oyWt7FJBNL"
   },
   "source": [
    "Assume that the heights are distributed according to the normal distribution (that is, we are modelling the heights with the normal distribution). Our model allows us to make predictions about the proportion of heights we expect to see above (or below) a particular value."
   ]
  },
  {
   "cell_type": "markdown",
   "metadata": {
    "id": "g4rrZFkeJbFs"
   },
   "source": [
    "## Quantiles from the model\n",
    "\n"
   ]
  },
  {
   "cell_type": "markdown",
   "metadata": {
    "id": "--lFAZLWJGg8"
   },
   "source": [
    "**Exercise:** Calculate the height below which you expect to see 10% of future observations. You need to use your estimates of $\\mu$ and $\\sigma$ derived previously.\n",
    "\n",
    "```r\n",
    "qnorm(p = 0.1, mean = ..., sd = ...)\n",
    "```\n",
    "\n",
    "**Answer:**"
   ]
  },
  {
   "cell_type": "code",
   "execution_count": 72,
   "metadata": {
    "colab": {
     "base_uri": "https://localhost:8080/",
     "height": 34
    },
    "id": "owxh8eJXIgkM",
    "outputId": "651d4fdb-f4fb-4c13-ff2a-fa79f1c7d17c"
   },
   "outputs": [
    {
     "data": {
      "text/html": [
       "65.4631252803378"
      ],
      "text/latex": [
       "65.4631252803378"
      ],
      "text/markdown": [
       "65.4631252803378"
      ],
      "text/plain": [
       "[1] 65.46313"
      ]
     },
     "metadata": {},
     "output_type": "display_data"
    }
   ],
   "source": [
    "# qnorm signature is:\n",
    "# qnorm(p, mean = 0, sd = 1, lower.tail = TRUE, log.p = FALSE)\n",
    "# from dataset (above) 65.478\n",
    "qnorm(p = 0.1, mean = mean(df$Height), sd = sd(df$Height))"
   ]
  },
  {
   "cell_type": "markdown",
   "metadata": {
    "id": "Tn7XYWQ6JNkg"
   },
   "source": [
    "**Exercise:** Calculate the height *above* which you expect to see 10% of future observations.\n",
    "\n",
    "**Answer:**"
   ]
  },
  {
   "cell_type": "code",
   "execution_count": 20,
   "metadata": {
    "colab": {
     "base_uri": "https://localhost:8080/",
     "height": 34
    },
    "id": "jIVly5ZmJd2W",
    "outputId": "33b21d9d-ba04-4ecd-ac51-d49b637f8275"
   },
   "outputs": [
    {
     "data": {
      "text/html": [
       "70.4364747196621"
      ],
      "text/latex": [
       "70.4364747196621"
      ],
      "text/markdown": [
       "70.4364747196621"
      ],
      "text/plain": [
       "[1] 70.43647"
      ]
     },
     "metadata": {},
     "output_type": "display_data"
    }
   ],
   "source": [
    "# from dataset (above) 70.243\n",
    "qnorm(p = 0.1, mean = mean(df$Height), sd = sd(df$Height), lower.tail = FALSE)"
   ]
  },
  {
   "cell_type": "code",
   "execution_count": 73,
   "metadata": {
    "colab": {
     "base_uri": "https://localhost:8080/",
     "height": 34
    },
    "id": "Ra_HnXTpL5jR",
    "outputId": "9ed6566a-3320-4182-eb2d-41ad39224157"
   },
   "outputs": [
    {
     "data": {
      "text/html": [
       "70.4364747196621"
      ],
      "text/latex": [
       "70.4364747196621"
      ],
      "text/markdown": [
       "70.4364747196621"
      ],
      "text/plain": [
       "[1] 70.43647"
      ]
     },
     "metadata": {},
     "output_type": "display_data"
    }
   ],
   "source": [
    "# can also do this by finding (1-p) and using the lower tail\n",
    "qnorm(p = 1-0.1, mean = mean(df$Height), sd = sd(df$Height))"
   ]
  },
  {
   "cell_type": "markdown",
   "metadata": {
    "id": "i1eEzqiXJRZJ"
   },
   "source": [
    "**Exercise:** Calculate the height *below* which you expect to see 50% of future observations.\n",
    "\n",
    "**Answer:**"
   ]
  },
  {
   "cell_type": "code",
   "execution_count": 74,
   "metadata": {
    "colab": {
     "base_uri": "https://localhost:8080/",
     "height": 34
    },
    "id": "zkUUfwQjJOCr",
    "outputId": "8a59e589-ec2b-4a21-91b1-62a7cf2ed0fc"
   },
   "outputs": [
    {
     "data": {
      "text/html": [
       "67.9498"
      ],
      "text/latex": [
       "67.9498"
      ],
      "text/markdown": [
       "67.9498"
      ],
      "text/plain": [
       "[1] 67.9498"
      ]
     },
     "metadata": {},
     "output_type": "display_data"
    }
   ],
   "source": [
    "qnorm(p = 0.5, mean = mean(df$Height), sd = sd(df$Height))\n",
    "# unit is inches"
   ]
  },
  {
   "cell_type": "markdown",
   "metadata": {
    "id": "uuxqOc8yJTec"
   },
   "source": [
    "**Exercise:** What is the average height you would expect to see for future observations?\n",
    "\n",
    "**Answer:**"
   ]
  },
  {
   "cell_type": "code",
   "execution_count": 75,
   "metadata": {
    "colab": {
     "base_uri": "https://localhost:8080/",
     "height": 34
    },
    "id": "D5qNt4IMJeum",
    "outputId": "c4c17466-3f77-4b1d-87ca-915f8d23f323"
   },
   "outputs": [
    {
     "data": {
      "text/html": [
       "67.9498"
      ],
      "text/latex": [
       "67.9498"
      ],
      "text/markdown": [
       "67.9498"
      ],
      "text/plain": [
       "[1] 67.9498"
      ]
     },
     "metadata": {},
     "output_type": "display_data"
    }
   ],
   "source": [
    "# the mean and median of a normal distribution or the same\n",
    "mean(df$Height)"
   ]
  },
  {
   "cell_type": "code",
   "execution_count": 26,
   "metadata": {
    "colab": {
     "base_uri": "https://localhost:8080/",
     "height": 34
    },
    "id": "p1qbtoh_JUEO",
    "outputId": "bd2bbfd8-c611-4d84-b76e-b5c012e46bdc"
   },
   "outputs": [
    {
     "data": {
      "text/html": [
       "67.935"
      ],
      "text/latex": [
       "67.935"
      ],
      "text/markdown": [
       "67.935"
      ],
      "text/plain": [
       "[1] 67.935"
      ]
     },
     "metadata": {},
     "output_type": "display_data"
    }
   ],
   "source": [
    "median(df$Height)\n",
    "# very close to the mean, but not exactly the same - not a problem!"
   ]
  },
  {
   "cell_type": "markdown",
   "metadata": {
    "id": "SephkIG0JVzB"
   },
   "source": [
    "**Exercise:** Do these values, regarding the normal distribution model, match up with the properties of the data that you investigated before?\n",
    "\n",
    "**Answer:** These values are quite close to the quantiles we calculated from data."
   ]
  },
  {
   "cell_type": "markdown",
   "metadata": {
    "id": "8U2c9Iq_JlT8"
   },
   "source": [
    "## Making predictions\n"
   ]
  },
  {
   "cell_type": "markdown",
   "metadata": {
    "id": "dDwbuR-aJmOg"
   },
   "source": [
    "**Exercise:** For what proportion of future people would we expect to see a height less than 63 inches?\n",
    "\n",
    "```r\n",
    "pnorm(q = 63, mean = ..., sd = ...)\n",
    "```\n",
    "\n",
    "**Answer:**"
   ]
  },
  {
   "cell_type": "code",
   "execution_count": 27,
   "metadata": {
    "colab": {
     "base_uri": "https://localhost:8080/",
     "height": 34
    },
    "id": "vAnlkq-1Jl1G",
    "outputId": "f08f7be3-3d7d-4393-d1fc-5d4fa136f4c7"
   },
   "outputs": [
    {
     "data": {
      "text/html": [
       "0.00537123234377683"
      ],
      "text/latex": [
       "0.00537123234377683"
      ],
      "text/markdown": [
       "0.00537123234377683"
      ],
      "text/plain": [
       "[1] 0.005371232"
      ]
     },
     "metadata": {},
     "output_type": "display_data"
    }
   ],
   "source": [
    "pnorm(q = 63, mean = mean(df$Height), sd = sd(df$Height))"
   ]
  },
  {
   "cell_type": "markdown",
   "metadata": {
    "id": "u6tgd12XMX9X"
   },
   "source": [
    "**Exercise:** What is the probability that the next person has a height less than 64 inches?\n",
    "\n",
    "**Answer:**"
   ]
  },
  {
   "cell_type": "code",
   "execution_count": 28,
   "metadata": {
    "colab": {
     "base_uri": "https://localhost:8080/",
     "height": 34
    },
    "id": "lGaSr5J7Meh5",
    "outputId": "8dfb059c-d4b6-4887-8d81-ab5e424318bf"
   },
   "outputs": [
    {
     "data": {
      "text/html": [
       "0.0208953231731269"
      ],
      "text/latex": [
       "0.0208953231731269"
      ],
      "text/markdown": [
       "0.0208953231731269"
      ],
      "text/plain": [
       "[1] 0.02089532"
      ]
     },
     "metadata": {},
     "output_type": "display_data"
    }
   ],
   "source": [
    "pnorm(q = 64, mean = mean(df$Height), sd = sd(df$Height))"
   ]
  },
  {
   "cell_type": "markdown",
   "metadata": {
    "id": "ZevKxoV3Mf_I"
   },
   "source": [
    "**Exercise:** Using the identity $\\text{P}(X > a) = 1 - \\text{P}(X \\leq a)$, what is the probability that the next person has a height of greater than 64 inches?\n",
    "\n",
    "**Answer:**"
   ]
  },
  {
   "cell_type": "code",
   "execution_count": 29,
   "metadata": {
    "colab": {
     "base_uri": "https://localhost:8080/",
     "height": 34
    },
    "id": "NYOIjaX4Mgk1",
    "outputId": "db77dd69-2aa7-4177-df60-7467a8ee5661"
   },
   "outputs": [
    {
     "data": {
      "text/html": [
       "0.979104676826873"
      ],
      "text/latex": [
       "0.979104676826873"
      ],
      "text/markdown": [
       "0.979104676826873"
      ],
      "text/plain": [
       "[1] 0.9791047"
      ]
     },
     "metadata": {},
     "output_type": "display_data"
    }
   ],
   "source": [
    "1 - pnorm(q = 64, mean = mean(df$Height), sd = sd(df$Height))"
   ]
  },
  {
   "cell_type": "markdown",
   "metadata": {
    "id": "A2iP89NyMk-2"
   },
   "source": [
    "The default behaviour of `pnorm()` in R is to calculate the area to the left of `q`. We can tell `pnorm()` to calculate the area to the right instead by passing the argument `lower.tail=FALSE`.\n",
    "\n",
    "**Exercise:** Use `pnorm()` to calculate the answer to the previous question.\n",
    "\n",
    "**Answer:**"
   ]
  },
  {
   "cell_type": "code",
   "execution_count": 30,
   "metadata": {
    "colab": {
     "base_uri": "https://localhost:8080/",
     "height": 34
    },
    "id": "pv8zXGRKMnVq",
    "outputId": "0603b5b3-4116-4719-cce6-8a5f9be92a6a"
   },
   "outputs": [
    {
     "data": {
      "text/html": [
       "0.979104676826873"
      ],
      "text/latex": [
       "0.979104676826873"
      ],
      "text/markdown": [
       "0.979104676826873"
      ],
      "text/plain": [
       "[1] 0.9791047"
      ]
     },
     "metadata": {},
     "output_type": "display_data"
    }
   ],
   "source": [
    "pnorm(q = 64, mean = mean(df$Height), sd = sd(df$Height), lower.tail = F)"
   ]
  },
  {
   "cell_type": "markdown",
   "metadata": {
    "id": "3KSg2womMoHn"
   },
   "source": [
    "**Exercise:** Calculate the maximum height in your data set. What is the probability of observing a height at least as large as that?\n",
    "\n",
    "**Answer:**"
   ]
  },
  {
   "cell_type": "code",
   "execution_count": 33,
   "metadata": {
    "colab": {
     "base_uri": "https://localhost:8080/",
     "height": 52
    },
    "id": "XpuZurxHMprJ",
    "outputId": "a10cca43-1939-44bf-99a2-22b67f540cb0"
   },
   "outputs": [
    {
     "data": {
      "text/html": [
       "73.9"
      ],
      "text/latex": [
       "73.9"
      ],
      "text/markdown": [
       "73.9"
      ],
      "text/plain": [
       "[1] 73.9"
      ]
     },
     "metadata": {},
     "output_type": "display_data"
    },
    {
     "data": {
      "text/html": [
       "0.00108275824077994"
      ],
      "text/latex": [
       "0.00108275824077994"
      ],
      "text/markdown": [
       "0.00108275824077994"
      ],
      "text/plain": [
       "[1] 0.001082758"
      ]
     },
     "metadata": {},
     "output_type": "display_data"
    }
   ],
   "source": [
    "max(df$Height)\n",
    "pnorm(q = max(df$Height), mean = mean(df$Height), sd = sd(df$Height), lower.tail = F)"
   ]
  },
  {
   "cell_type": "markdown",
   "metadata": {
    "id": "iZCekRwZMrxo"
   },
   "source": [
    "George E. P. Box famously said that all models are wrong but some models are useful.\n",
    "\n",
    "**Exercise:** Calculate the probability of observing a height of 0 inches. Is this something we need to be worried about with our scientific context?\n",
    "\n",
    "**Answer:**"
   ]
  },
  {
   "cell_type": "code",
   "execution_count": 34,
   "metadata": {
    "colab": {
     "base_uri": "https://localhost:8080/",
     "height": 34
    },
    "id": "4pMeAfoaMsUD",
    "outputId": "30326984-55e1-4fe0-eed6-5050297587cb"
   },
   "outputs": [
    {
     "data": {
      "text/html": [
       "5.7556923403269e-269"
      ],
      "text/latex": [
       "5.7556923403269e-269"
      ],
      "text/markdown": [
       "5.7556923403269e-269"
      ],
      "text/plain": [
       "[1] 5.755692e-269"
      ]
     },
     "metadata": {},
     "output_type": "display_data"
    }
   ],
   "source": [
    "pnorm(q = 0, mean = mean(df$Height), sd = sd(df$Height))"
   ]
  },
  {
   "cell_type": "markdown",
   "metadata": {
    "id": "wG2ajeYDRY3H"
   },
   "source": [
    "Since this probability is so low, this is not something we should be concerned about here."
   ]
  },
  {
   "cell_type": "markdown",
   "metadata": {
    "id": "-M843WXAMu1W"
   },
   "source": [
    "# Activity 4 -- Quantile-quantile plots\n"
   ]
  },
  {
   "cell_type": "markdown",
   "metadata": {
    "id": "z9IV6g9SMxI8"
   },
   "source": [
    "We can assess how close to following a normal distribution some observed data are by calculating the quantiles of our data to the quantiles of a normal distribution.\n",
    "\n",
    "If we simulate data from a normal distribution with a mean of 0 and standard deviation of 1, we would expect the histogram of the data to look like the model used to simulate the data."
   ]
  },
  {
   "cell_type": "markdown",
   "metadata": {
    "id": "tgRA7F9FM2mm"
   },
   "source": [
    "**Exercise:** Simulate 100 values from $Z \\sim N(0,1)$\n",
    "\n",
    "**Answer:**"
   ]
  },
  {
   "cell_type": "code",
   "execution_count": 76,
   "metadata": {
    "colab": {
     "base_uri": "https://localhost:8080/",
     "height": 52
    },
    "id": "QDvyk0wgMv-h",
    "outputId": "12bfec5a-8d9d-45f9-e295-e35b90a52668"
   },
   "outputs": [
    {
     "data": {
      "text/html": [
       "0.0504289708545828"
      ],
      "text/latex": [
       "0.0504289708545828"
      ],
      "text/markdown": [
       "0.0504289708545828"
      ],
      "text/plain": [
       "[1] 0.05042897"
      ]
     },
     "metadata": {},
     "output_type": "display_data"
    },
    {
     "data": {
      "text/html": [
       "1.08526493373233"
      ],
      "text/latex": [
       "1.08526493373233"
      ],
      "text/markdown": [
       "1.08526493373233"
      ],
      "text/plain": [
       "[1] 1.085265"
      ]
     },
     "metadata": {},
     "output_type": "display_data"
    }
   ],
   "source": [
    "set.seed(113)\n",
    "# sim <- data.frame(x = rnorm(n = 100), mean = 0, sd = 1)\n",
    "sim <- data.frame(x = rnorm(n = 100)) # rnorm defaults to Z\n",
    "mean(sim$x); sd(sim$x)"
   ]
  },
  {
   "cell_type": "markdown",
   "metadata": {
    "id": "ynU3oq-3M6-j"
   },
   "source": [
    "**Exercise:** Create a histogram of the simulated data and add the true distribution $Z \\sim N(0,1)$ as we did earlier\n",
    "\n",
    "**Answer:**"
   ]
  },
  {
   "cell_type": "code",
   "execution_count": 77,
   "metadata": {
    "colab": {
     "base_uri": "https://localhost:8080/",
     "height": 154
    },
    "id": "gALgMIkEM7ib",
    "outputId": "e7e75016-543e-4c11-9bfa-95749389cc61"
   },
   "outputs": [
    {
     "name": "stderr",
     "output_type": "stream",
     "text": [
      "\u001b[1m\u001b[22m`stat_bin()` using `bins = 30`. Pick better value with `binwidth`.\n"
     ]
    },
    {
     "data": {
      "image/png": "[encoded data removed]",
      "text/plain": [
       "plot without title"
      ]
     },
     "metadata": {
      "image/png": {
       "height": 120,
       "width": 360
      }
     },
     "output_type": "display_data"
    }
   ],
   "source": [
    "ggplot(data = sim, aes(x = x)) +\n",
    "  geom_histogram(aes(y = after_stat(density)),\n",
    "                 color=\"darkgrey\",\n",
    "                 fill = \"lightskyblue\", ) +\n",
    "  labs(x = \"Random Observations\", y = \"Density\") +\n",
    "  stat_function(fun = dnorm,\n",
    "                args = list(mean = 0, sd = 1),\n",
    "                linewidth = 1)"
   ]
  },
  {
   "cell_type": "markdown",
   "metadata": {
    "id": "_5cvDjv-M9zn"
   },
   "source": [
    "**Exercise:** Do the simulated data look normally distributed?\n",
    "\n",
    "**Answer:** The simulated data looks approximately normal.\n",
    "\n",
    "It's difficult to assess whether a set of values is normally distributed by comparing histograms with a visualisation of the model. To determine if our values here are normally distributed, let's compare their quantiles with the quantiles of the standard normal that we simulated from."
   ]
  },
  {
   "cell_type": "markdown",
   "metadata": {
    "id": "2iaHOwVTS9zQ"
   },
   "source": [
    "**Exercise:** Copy and paste the following code to generate a quantile-quantile plot:\n"
   ]
  },
  {
   "cell_type": "code",
   "execution_count": 78,
   "metadata": {
    "colab": {
     "base_uri": "https://localhost:8080/",
     "height": 137
    },
    "id": "8JS19_BXM-bU",
    "outputId": "8818baa2-ca26-4275-bdb4-665164090933"
   },
   "outputs": [
    {
     "data": {
      "image/png": "[encoded data removed]",
      "text/plain": [
       "plot without title"
      ]
     },
     "metadata": {
      "image/png": {
       "height": 120,
       "width": 360
      }
     },
     "output_type": "display_data"
    }
   ],
   "source": [
    "ggplot(data=sim, aes(sample=x)) +\n",
    "  stat_qq() +\n",
    "  geom_abline(intercept = 0, slope = 1) +\n",
    "  theme_bw() +\n",
    "  coord_equal()\n"
   ]
  },
  {
   "cell_type": "markdown",
   "metadata": {
    "id": "Hd8T-vdATTcp"
   },
   "source": [
    "We see that the points lie close to the diagonal line which represents that the quantiles are equal. The further from the diagonal line, the less normally distributed the values. We'll investigate this in further detail in coming weeks.\n",
    "\n",
    "Now that we've looked at what the plot should look like, let's compare our observed heights to a standard normal distribution. The easiest way to do this is to *standardise* our data by subtracting its mean and then dividing by its standard deviation. In this way, the data have a mean of 0 and a standard deviation of 1 and does our standard normal distribution, $Z \\sim N(0,1)$.\n"
   ]
  },
  {
   "cell_type": "code",
   "execution_count": 81,
   "metadata": {
    "id": "7nnE766aTEVt"
   },
   "outputs": [],
   "source": [
    "standardise <- function(x){\n",
    "  return( (x-mean(x))/sd(x) )\n",
    "}"
   ]
  },
  {
   "cell_type": "markdown",
   "metadata": {
    "id": "R4LnmvI-Tmtp"
   },
   "source": [
    "**Exercise:** Copy and paste the above code into your script file and use it with `mutate(...,Height.std = standardise(Height))` to standardise your `Height` variable. Confirm that this new variable has a mean of 0 and standard deviation of 1.\n",
    "\n",
    "**Answer:**"
   ]
  },
  {
   "cell_type": "code",
   "execution_count": 85,
   "metadata": {
    "colab": {
     "base_uri": "https://localhost:8080/",
     "height": 52
    },
    "id": "WkMK_jyPTaV2",
    "outputId": "2685351c-5ddf-4c42-c9ae-e6c0b2882b7d"
   },
   "outputs": [
    {
     "data": {
      "text/html": [
       "1"
      ],
      "text/latex": [
       "1"
      ],
      "text/markdown": [
       "1"
      ],
      "text/plain": [
       "[1] 1"
      ]
     },
     "metadata": {},
     "output_type": "display_data"
    },
    {
     "data": {
      "text/html": [
       "1.93958998168098e-15"
      ],
      "text/latex": [
       "1.93958998168098e-15"
      ],
      "text/markdown": [
       "1.93958998168098e-15"
      ],
      "text/plain": [
       "[1] 1.93959e-15"
      ]
     },
     "metadata": {},
     "output_type": "display_data"
    }
   ],
   "source": [
    "df <- mutate(df, Height.std = standardise(Height))\n",
    "sd(df$Height.std)\n",
    "mean(df$Height.std)"
   ]
  },
  {
   "cell_type": "markdown",
   "metadata": {
    "id": "rSH_g627T8FB"
   },
   "source": [
    "**Exercise:** Make a histogram of your standardised Height variable with a normal distribution with mean 0 and standard deviation of 1.\n",
    "\n",
    "**Answer:**"
   ]
  },
  {
   "cell_type": "code",
   "execution_count": 87,
   "metadata": {
    "colab": {
     "base_uri": "https://localhost:8080/",
     "height": 154
    },
    "id": "vi3TlV-PT2gr",
    "outputId": "e7c6e156-424a-47cb-9a96-91fc7bc73db8"
   },
   "outputs": [
    {
     "name": "stderr",
     "output_type": "stream",
     "text": [
      "\u001b[1m\u001b[22m`stat_bin()` using `bins = 30`. Pick better value with `binwidth`.\n"
     ]
    },
    {
     "data": {
      "image/png": "[encoded data removed]",
      "text/plain": [
       "plot without title"
      ]
     },
     "metadata": {
      "image/png": {
       "height": 120,
       "width": 360
      }
     },
     "output_type": "display_data"
    }
   ],
   "source": [
    "ggplot(data = df, aes(x = Height.std)) +\n",
    "  geom_histogram(aes(y = after_stat(density)),\n",
    "                 colour = 'darkgrey',\n",
    "                 fill = 'lightskyblue') +\n",
    "  stat_function(fun = dnorm,\n",
    "                # args = list(mean = 0, sd = 1),\n",
    "                linewidth = 1) +\n",
    "  xlab(\"Random Observations\") +\n",
    "  ylab(\"Density\")"
   ]
  },
  {
   "cell_type": "markdown",
   "metadata": {
    "id": "T6UQ9elHUfYy"
   },
   "source": [
    "**Exercise:** Modify the code from above to build a quantile-quantile plot of your standardised heights.\n",
    "\n",
    "**Answer:**"
   ]
  },
  {
   "cell_type": "code",
   "execution_count": 88,
   "metadata": {
    "colab": {
     "base_uri": "https://localhost:8080/",
     "height": 137
    },
    "id": "rJ3Yzp9NUOgs",
    "outputId": "a2acab1d-7852-49f9-836b-8af07a97e092"
   },
   "outputs": [
    {
     "data": {
      "image/png": "[encoded data removed]",
      "text/plain": [
       "plot without title"
      ]
     },
     "metadata": {
      "image/png": {
       "height": 120,
       "width": 360
      }
     },
     "output_type": "display_data"
    }
   ],
   "source": [
    "ggplot(data=df, aes(sample=Height.std)) +\n",
    "  stat_qq() +\n",
    "  geom_abline(intercept = 0, slope = 1) +\n",
    "  theme_bw() +\n",
    "  coord_equal()"
   ]
  },
  {
   "cell_type": "markdown",
   "metadata": {
    "id": "7ctmXeixU5aV"
   },
   "source": [
    "**Exercise:**  If all the points fall on, or close to, the diagonal line then the observations are approximately normally distributed. Does the data appear to be normally distributed? Why or why not? Consider your histograms from earlier and the quantile-quantile plot above.\n",
    "\n",
    "**Answer:** The data appears to be normally distributed as the points fall on or close to the line.\n",
    "\n",
    "**Exercise:** Simulate $10^3, 10^4, 10^5$ and $10^6$ values from a $N(0,1)$ and plot their quantile-quantile plots. Discuss the variability you see.\n",
    "\n",
    "**Answer:**"
   ]
  },
  {
   "cell_type": "code",
   "execution_count": 89,
   "metadata": {
    "colab": {
     "base_uri": "https://localhost:8080/",
     "height": 137
    },
    "id": "TLtHhFxKVmPw",
    "outputId": "3188fd6b-eb45-40d1-d07d-bd19ab9bcb3b"
   },
   "outputs": [
    {
     "data": {
      "image/png": "[encoded data removed]",
      "text/plain": [
       "plot without title"
      ]
     },
     "metadata": {
      "image/png": {
       "height": 120,
       "width": 360
      }
     },
     "output_type": "display_data"
    }
   ],
   "source": [
    "set.seed(113)\n",
    "# n=10^2\n",
    "sim <- data.frame(x = rnorm(n = 100))\n",
    "\n",
    "ggplot(data=sim, aes(sample=x)) +\n",
    "  stat_qq() +\n",
    "  geom_abline(intercept = 0, slope = 1) +\n",
    "  theme_bw() +\n",
    "  coord_equal()"
   ]
  },
  {
   "cell_type": "code",
   "execution_count": 90,
   "metadata": {
    "colab": {
     "base_uri": "https://localhost:8080/",
     "height": 137
    },
    "id": "giQh04lGUqxq",
    "outputId": "dbbba1c2-013a-4aeb-82ff-d99978e70f7c"
   },
   "outputs": [
    {
     "data": {
      "image/png": "[encoded data removed]",
      "text/plain": [
       "plot without title"
      ]
     },
     "metadata": {
      "image/png": {
       "height": 120,
       "width": 360
      }
     },
     "output_type": "display_data"
    }
   ],
   "source": [
    "set.seed(113)\n",
    "# n=10^3\n",
    "sim <- data.frame(x = rnorm(n = 10^3))\n",
    "\n",
    "ggplot(data=sim, aes(sample=x)) +\n",
    "  stat_qq() +\n",
    "  geom_abline(intercept = 0, slope = 1) +\n",
    "  theme_bw() +\n",
    "  coord_equal()"
   ]
  },
  {
   "cell_type": "code",
   "execution_count": 91,
   "metadata": {
    "colab": {
     "base_uri": "https://localhost:8080/",
     "height": 137
    },
    "id": "6ZGRmCxkViOf",
    "outputId": "ed3c4939-bdde-4581-d447-24491680bd6d"
   },
   "outputs": [
    {
     "data": {
      "image/png": "[encoded data removed]",
      "text/plain": [
       "plot without title"
      ]
     },
     "metadata": {
      "image/png": {
       "height": 120,
       "width": 360
      }
     },
     "output_type": "display_data"
    }
   ],
   "source": [
    "set.seed(113)\n",
    "sim <- data.frame(x = rnorm(n = 10^4))\n",
    "\n",
    "ggplot(data=sim, aes(sample=x)) +\n",
    "  stat_qq() +\n",
    "  geom_abline(intercept = 0, slope = 1) +\n",
    "  theme_bw() +\n",
    "  coord_equal()"
   ]
  },
  {
   "cell_type": "code",
   "execution_count": 92,
   "metadata": {
    "colab": {
     "base_uri": "https://localhost:8080/",
     "height": 137
    },
    "id": "uLwOUvNfVybX",
    "outputId": "aef3ce81-2e3b-4cdc-d8df-5382d5483db2"
   },
   "outputs": [
    {
     "data": {
      "image/png": "[encoded data removed]",
      "text/plain": [
       "plot without title"
      ]
     },
     "metadata": {
      "image/png": {
       "height": 120,
       "width": 360
      }
     },
     "output_type": "display_data"
    }
   ],
   "source": [
    "set.seed(113)\n",
    "sim <- data.frame(x = rnorm(n = 10^5))\n",
    "\n",
    "ggplot(data=sim, aes(sample=x)) +\n",
    "  stat_qq() +\n",
    "  geom_abline(intercept = 0, slope = 1) +\n",
    "  theme_bw() +\n",
    "  coord_equal()"
   ]
  },
  {
   "cell_type": "code",
   "execution_count": 93,
   "metadata": {
    "colab": {
     "base_uri": "https://localhost:8080/",
     "height": 137
    },
    "id": "Jhaygjo8V2Hj",
    "outputId": "836cf92d-b0de-4d0c-c413-a28f1be46433"
   },
   "outputs": [
    {
     "data": {
      "image/png": "[encoded data removed]",
      "text/plain": [
       "plot without title"
      ]
     },
     "metadata": {
      "image/png": {
       "height": 120,
       "width": 360
      }
     },
     "output_type": "display_data"
    }
   ],
   "source": [
    "set.seed(113)\n",
    "sim <- data.frame(x = rnorm(n = 10^6))\n",
    "\n",
    "ggplot(data=sim, aes(sample=x)) +\n",
    "  stat_qq() +\n",
    "  geom_abline(intercept = 0, slope = 1) +\n",
    "  theme_bw() +\n",
    "  coord_equal()"
   ]
  },
  {
   "cell_type": "markdown",
   "metadata": {
    "id": "E-i9e4BqXf3c"
   },
   "source": [
    "More data on quantile-quantile plots can be found in Chapter 6 of *Mind on Statistics* and we will study these later in the semester to diagnose regression model performance.\n"
   ]
  },
  {
   "cell_type": "markdown",
   "metadata": {
    "id": "TP7MajcTXrow"
   },
   "source": [
    "# Summary\n",
    "\n",
    "Today we focused on the use of the normal distribution as a probability model\n",
    "\n",
    "As we will see next week, the t distribution looks like the normal distribution but seems to have more of the distribution out in the extremes of the tails. That is, the negative values are more negative than in a normal and the positive values are more positive than we would see in a normal."
   ]
  },
  {
   "cell_type": "markdown",
   "metadata": {
    "id": "nll5ZYF1n8tZ"
   },
   "source": [
    "# References\n",
    "\n",
    "MacGillivray, Helen, Jessica Utts, and Robert Heckard. 2013. *Mind on Statistics.* 2nd Australian and New Zealand. Cengage Learning Australia."
   ]
  }
 ],
 "metadata": {
  "colab": {
   "authorship_tag": "ABX9TyPx9NDuwwUVjIk0F6JeMA6M",
   "include_colab_link": true,
   "provenance": []
  },
  "kernelspec": {
   "display_name": "R",
   "language": "R",
   "name": "ir"
  },
  "language_info": {
   "codemirror_mode": "r",
   "file_extension": ".r",
   "mimetype": "text/x-r-source",
   "name": "R",
   "pygments_lexer": "r",
   "version": "4.3.3"
  },
  "title": "MXN500 Workshop 5",
  "toc-showtags": true
 },
 "nbformat": 4,
 "nbformat_minor": 4
}
