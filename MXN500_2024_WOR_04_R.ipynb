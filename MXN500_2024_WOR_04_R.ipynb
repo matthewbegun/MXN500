{
  "nbformat": 4,
  "nbformat_minor": 0,
  "metadata": {
    "colab": {
      "provenance": [],
      "authorship_tag": "ABX9TyNYMNPXHBBbyXh0LiLbE/IY",
      "include_colab_link": true
    },
    "kernelspec": {
      "name": "ir",
      "display_name": "R"
    },
    "language_info": {
      "name": "R"
    }
  },
  "cells": [
    {
      "cell_type": "markdown",
      "metadata": {
        "id": "view-in-github",
        "colab_type": "text"
      },
      "source": [
        "<a href=\"https://colab.research.google.com/github/matthewbegun/MXN500/blob/main/MXN500_2024_WOR_04_R.ipynb\" target=\"_parent\"><img src=\"https://colab.research.google.com/assets/colab-badge.svg\" alt=\"Open In Colab\"/></a>"
      ]
    },
    {
      "cell_type": "markdown",
      "source": [
        "# Introduction\n"
      ],
      "metadata": {
        "id": "X-rrdM9e_11s"
      }
    },
    {
      "cell_type": "markdown",
      "source": [
        "## About this workshop\n",
        "\n",
        "In this week's workshop we will be exploring some basic probability rules. We will consider a couple of questions and use `R` to solve and produce effective diagrams.\n",
        "\n",
        "We assume you can get started in R with ease and that you've done the lecture and lab for this week and all previous weeks.\n",
        "\n",
        "* Assumed skills\n",
        "    - Manipulating data objects in R\n",
        "    - Calculating and interpreting summary statistics\n",
        "    - Writing and executing functions in R\n",
        "    - Visualising results with ggplot2\n",
        "* Learning objectives\n",
        "* Professional skills\n",
        "    - Visualising results\n",
        "\n",
        "A reminder of expectations in the workshop:\n",
        "\n",
        "* Keep a record of the work being completed, both the R script and this document\n",
        "* Allow everyone a chance to participate in the workshop\n",
        "* All opinions are valued provided they do not harm others\n",
        "* Everyone is expected to help out with completing the work, learning seldom occurs by watching someone else do maths\n",
        "* Shuffle the group around so that someone different is controlling R"
      ],
      "metadata": {
        "id": "aT4fYm67IoFY"
      }
    },
    {
      "cell_type": "markdown",
      "source": [
        "## Set up environment\n"
      ],
      "metadata": {
        "id": "dPfvMgIFCiXC"
      }
    },
    {
      "cell_type": "code",
      "source": [
        "# Installs - only run once\n",
        "install.packages(\"tidyverse\")\n",
        "install.packages(\"VennDiagram\")\n",
        "install.packages(\"DiagrammeR\")\n"
      ],
      "metadata": {
        "colab": {
          "base_uri": "https://localhost:8080/"
        },
        "id": "HbmoD89lCoPC",
        "outputId": "0dc5d59b-035d-4f09-ecb6-2280d90c7514"
      },
      "execution_count": 25,
      "outputs": [
        {
          "output_type": "stream",
          "name": "stderr",
          "text": [
            "Installing package into ‘/usr/local/lib/R/site-library’\n",
            "(as ‘lib’ is unspecified)\n",
            "\n",
            "Installing package into ‘/usr/local/lib/R/site-library’\n",
            "(as ‘lib’ is unspecified)\n",
            "\n",
            "Installing package into ‘/usr/local/lib/R/site-library’\n",
            "(as ‘lib’ is unspecified)\n",
            "\n",
            "Installing package into ‘/usr/local/lib/R/site-library’\n",
            "(as ‘lib’ is unspecified)\n",
            "\n",
            "also installing the dependencies ‘Rcpp’, ‘V8’\n",
            "\n",
            "\n"
          ]
        }
      ]
    },
    {
      "cell_type": "markdown",
      "source": [],
      "metadata": {
        "id": "gNzgjHkk_mNY"
      }
    },
    {
      "cell_type": "code",
      "execution_count": 4,
      "metadata": {
        "id": "mEo_y_1R-69m"
      },
      "outputs": [],
      "source": [
        "# Imports - only run once\n",
        "library(tidyverse)\n",
        "library(VennDiagram)\n",
        "library(DiagrammeR)"
      ]
    },
    {
      "cell_type": "markdown",
      "source": [
        "# Activity 1 -- Bert and Ernie\n",
        "\n"
      ],
      "metadata": {
        "id": "4lT8DhSUBAiZ"
      }
    },
    {
      "cell_type": "markdown",
      "source": [
        "Two friends, Bert and Ernie, normally spend Saturday night out in the Valley. They regularly have an argument about the question of which club to go to just before 3am. Bert always wants to go to the \"Electric Playground\". Ernie does not like to go to the same club every Saturday. For after 3am, he particularly likes both the \"Electric Playground\" and \"Family\". On a given night, Ernie wants to go to the \"Electric Playground\", but definitely not to \"Family\", with probability 0.3. Ernie is fine with going to any of the two clubs with probability 0.2. He is okay with going to \"Family\" with probability 0.6. On all other Saturday nights,\n",
        "Ernie is too drunk to go anywhere at 3am.\n",
        "\n",
        "Write all relevant events using proper set notation and answer the following questions.\n",
        "\n",
        "**Exercise:** Define all relevant events.\n",
        "\n",
        "**Answer:**"
      ],
      "metadata": {
        "id": "9j56zR9pIc_s"
      }
    },
    {
      "cell_type": "markdown",
      "source": [
        "Let $E$ be the event that Ernie wants to (and is able to) go to the Electric Playground.\n",
        "\n",
        "Let $F$ be the event that Ernie wants to (and is able to) go to the Family.\n",
        "\n",
        "$P(E \\overline{F}) = 0.3$\n",
        "\n",
        "$P(EF) = 0.2$\n",
        "\n",
        "$P(F) = 0.6$"
      ],
      "metadata": {
        "id": "WiqwppbaDfwf"
      }
    },
    {
      "cell_type": "markdown",
      "source": [
        "**Exercise:** Modify the following code to plot a Venn diagram of Ernie's club preference.\n",
        "\n",
        "```r\n",
        "library(VennDiagram)\n",
        "draw.pairwise.venn(area1 = ..., area2 = ..., cross.area = ...,\n",
        "  category = c(\"Electric Playground\", \"Family\"),\n",
        "  lty = rep(\"blank\", 2),\n",
        "  fill = c(\"light blue\", \"pink\"),\n",
        "  alpha = rep(0.5, 2),\n",
        "  cat.pos = c(0,0), cat.dist = rep(0.025, 2), scaled = F)\n",
        "```\n",
        "\n",
        "**Answer:**"
      ],
      "metadata": {
        "id": "pRqicU7OE0uj"
      }
    },
    {
      "cell_type": "code",
      "source": [
        "draw.pairwise.venn(\n",
        "  area1 = 0.5, area2 = 0.6, cross.area = 0.2,\n",
        "  category = c(\"Electric Playground\", \"Family\"),\n",
        "  lty = rep(\"blank\", 2),\n",
        "  fill = c(\"light blue\", \"pink\"),\n",
        "  alpha = rep(0.5, 2),\n",
        "  cat.pos = c(0, 0), cat.dist = rep(0.025, 2), scaled = F\n",
        ")"
      ],
      "metadata": {
        "colab": {
          "base_uri": "https://localhost:8080/",
          "height": 474
        },
        "id": "3AQNDXn3EXZ4",
        "outputId": "787c5286-a8b9-4b3b-a63b-e8b434dc4962"
      },
      "execution_count": 5,
      "outputs": [
        {
          "output_type": "display_data",
          "data": {
            "text/plain": [
              "(polygon[GRID.polygon.1], polygon[GRID.polygon.2], polygon[GRID.polygon.3], polygon[GRID.polygon.4], text[GRID.text.5], text[GRID.text.6], text[GRID.text.7], text[GRID.text.8], text[GRID.text.9]) "
            ]
          },
          "metadata": {}
        },
        {
          "output_type": "display_data",
          "data": {
            "text/plain": [
              "plot without title"
            ],
            "image/png": "[encoded data removed]"
          },
          "metadata": {
            "image/png": {
              "width": 420,
              "height": 420
            }
          }
        }
      ]
    },
    {
      "cell_type": "markdown",
      "source": [
        "**Exercise:** What is the probability that, on a given night, Bert and Ernie happen to have an argument because Ernie wants to go to \"Family\" and not to the \"Electric Playground\"?\n",
        "\n"
      ],
      "metadata": {
        "id": "pbCaesM7F5Xn"
      }
    },
    {
      "cell_type": "markdown",
      "source": [
        "**Answer:**\n",
        "\n",
        "$P(\\overline{E}F) = P(F) - P(EF)$ *law of total probability*\n",
        "\n",
        "$= 0.6 - 0.2$\n",
        "\n",
        "$= 0.4$\n",
        "\n"
      ],
      "metadata": {
        "id": "dAS9ggJDGIIm"
      }
    },
    {
      "cell_type": "markdown",
      "source": [
        "**Exercise:** What is the probability that, on a given night, Bert and Ernie happen to have no argument because they happily go to the Electric Playground?\n",
        "\n"
      ],
      "metadata": {
        "id": "HYYSKsb5GLae"
      }
    },
    {
      "cell_type": "markdown",
      "source": [
        "**Answer:**\n",
        "\n",
        "$P(E) = P(EF) + P(E\\overline{F})$\n",
        "\n",
        "$= 0.2 + 0.3$\n",
        "\n",
        "$= 0.5$\n",
        "\n",
        "\n"
      ],
      "metadata": {
        "id": "7WIDSBSeGM94"
      }
    },
    {
      "cell_type": "markdown",
      "source": [
        "**Exercise:** What is the probability that, on a given night, Ernie is too drunk to get into any club at 3am?\n",
        "\n"
      ],
      "metadata": {
        "id": "YU-tN_UiGOwX"
      }
    },
    {
      "cell_type": "markdown",
      "source": [
        "**Answer:**\n",
        "\n",
        "$P(\\overline{E\\cup F}) = 1 - P(E\\cup F)$ *complement*\n",
        "\n",
        "$= 1 - (P(E)+P(F)-P(EF))$ *addition rule for non-disjoint events*\n",
        "\n",
        "$= 1 - (0.5+0.6-0.2)$\n",
        "\n",
        "$= 1 - 0.9$\n",
        "\n",
        "$= 0.1$\n"
      ],
      "metadata": {
        "id": "pFWZhl8zGQx7"
      }
    },
    {
      "cell_type": "markdown",
      "source": [
        "**Exercise:** What is the probability that, on a given night, Ernie does not want to or is not able to go to the Electric Playground?\n",
        "\n"
      ],
      "metadata": {
        "id": "PCAmd3DUGS8l"
      }
    },
    {
      "cell_type": "markdown",
      "source": [
        "**Answer:**\n",
        "\n",
        "$P(\\overline{E}) = 1 - P(E)$ *complement rule*\n",
        "\n",
        "$= 1 - 0.5$\n",
        "\n",
        "$= 0.5$"
      ],
      "metadata": {
        "id": "4fDBoLgjGUQp"
      }
    },
    {
      "cell_type": "markdown",
      "source": [
        "# Activity 2 -- VIP Pass\n"
      ],
      "metadata": {
        "id": "KwD6NRrXJhWb"
      }
    },
    {
      "cell_type": "markdown",
      "source": [
        "\n",
        "The company that owns WB Movie World, Sea World and Wet'n'Wild offers a \"VIP Pass\" for 99 dollars that gives you unlimited entry into all 3 theme parks for 1 year. Now the company is considering offering this \"VIP Pass\" for another year. However, managers are worried that there might be too many people who pay only once for the\n",
        "\"VIP Pass\" while going to the theme parks very often. They decide that they will not offer the \"VIP Pass\" for another year if the probability that a customer with a \"VIP Pass\" goes to the parks more than 5 times is greater than 0.35.  \n",
        "\n",
        "From the data of the current year they know that the probability is 0.5 that a customer buying the \"VIP Pass\" is 18 years or younger, the probability is 0.4 that a customer with a \"VIP Pass\" is between 19 and 40 years of age, and the probability is 0.1 that a customer with a \"VIP Pass\" is 41 years or older. They also know that the probability is 0.4, 0.3 and 0.2 that a \"VIP Pass\" customer of age $\\le 18$, age $18-40$ and age $\\ge41$, respectively, goes to the parks more than 5 times during the year.\n",
        "\n",
        "**Exercise:** Define all relevant events.\n",
        "\n",
        "**Answer:**"
      ],
      "metadata": {
        "id": "-B9pYRqeJrJn"
      }
    },
    {
      "cell_type": "markdown",
      "source": [
        "Let $Y$ be the event that a VIP pass customer is in the youngest age range.\n",
        "\n",
        "Let $M$ be the event that a VIP pass customer is in the middle age range.\n",
        "\n",
        "Let $O$ be the event that a VIP pass customer is in the oldest age range.\n",
        "\n",
        "Let $F$ be the event that a VIP pass customer uses the pass more than five times in a year.\n",
        "\n",
        "$P(Y) = 0.5$\n",
        "\n",
        "$P(M) = 0.4$\n",
        "\n",
        "$P(O) = 0.1$\n",
        "\n",
        "$P(F|Y) = 0.4$\n",
        "\n",
        "$P(F|M) = 0.3$\n",
        "\n",
        "$P(F|O) = 0.2$"
      ],
      "metadata": {
        "id": "hnPwMWZmJ4_L"
      }
    },
    {
      "cell_type": "markdown",
      "source": [
        "**Exercise:** Modify the following code to create a visualisation of the scenario.\n",
        "\n",
        "```r\n",
        "library(DiagrammeR)\n",
        "nodes <- create_node_df(n = 10, type = \"number\",\n",
        "                        label = c(\"\", \"<=18\", \"19-40\", \">=41\", \"<=5\", \">5\", \"<=5\", \">5\", \"<=5\", \">5\"))\n",
        "\n",
        "edges <- create_edge_df(from = c(1, 1, 1, 2, 2, 3, 3, 4, 4 ),\n",
        "                        to = c(2, 3, 4, 5, 6, 7, 8, 9, 10),\n",
        "                        label = c(...),\n",
        "                       rel = \"leading to\")\n",
        "\n",
        "graph <- create_graph(nodes_df = nodes,\n",
        "                      edges_df = edges,\n",
        "                      attr_theme= NULL)\n",
        "\n",
        "# View the graph\n",
        "render_graph(graph)\n",
        "\n",
        "```\n",
        "\n",
        "**Answer:**"
      ],
      "metadata": {
        "id": "3al_neOZKHk5"
      }
    },
    {
      "cell_type": "code",
      "source": [
        "library(DiagrammeR)\n",
        "\n",
        "nodes <- create_node_df(n = 10, type = \"number\",\n",
        "                        label = c(\"\", \"<=18\", \"19-40\", \">=41\", \"<=5\", \">5\", \"<=5\", \">5\", \"<=5\", \">5\"))\n",
        "\n",
        "edges <- create_edge_df(from = c(1, 1, 1, 2, 2, 3, 3, 4, 4 ),\n",
        "                        to = c(2, 3, 4, 5, 6, 7, 8, 9, 10),\n",
        "                        label = c(\"0.5\",\"0.4\", \"0.1\", \"0.6\", \"0.4\", \"0.7\", \"0.3\", \"0.8\", \"0.2\"),\n",
        "                        rel = \"leading to\")\n",
        "\n",
        "graph <- create_graph(nodes_df = nodes,\n",
        "                      edges_df = edges,\n",
        "                      attr_theme= NULL)\n",
        "\n",
        "# View the graph <- not sure why this doesn't work in colab, it's not a jupyter issue\n",
        "render_graph(graph)"
      ],
      "metadata": {
        "id": "pMU136PLJ5XM"
      },
      "execution_count": null,
      "outputs": []
    },
    {
      "cell_type": "markdown",
      "source": [
        "**Exercise:** Should they offer the \"VIP Pass\" for another year?\n",
        "\n",
        "**Answer:**\n",
        "To answer this question, we need to determine the probability that a VIP pass customer will use the pass more than five times in a year.\n",
        "\n",
        "$P(F) = P(FY \\cup FM \\cup FO)$ *law of total probability*\n",
        "\n",
        "$= P(FY) + P(FM) + P(FO)$ *addition rule for disjoint events*\n",
        "\n",
        "$= P(F|Y)\\times P(Y) + P(F|M) \\times P(M) + P(F|O) \\times P(O)$ *conditional probability*\n",
        "\n",
        "$= 0.4\\times 0.5 + 0.3\\times 0.4 + 0.2\\times 0.1$\n",
        "\n",
        "$= 0.2 + 0.12 + 0.02$\n",
        "\n",
        "$= 0.34$\n",
        "\n",
        "Since the probability that a customer uses the VIP pass more than 5 times is less than 35%, the parks should continue to make the offer."
      ],
      "metadata": {
        "id": "7cKUCDxqXUkH"
      }
    },
    {
      "cell_type": "markdown",
      "source": [
        "**Exercise:** What is the probability that a customer who goes to the parks more than 5 times is 18 years or younger?\n",
        "\n",
        "**Answer:**\n",
        "\n",
        "$P(Y|F) = \\frac{P(F|Y)\\times P(Y)}{P(F)}$ *Baye's Theorem*\n",
        "\n",
        "$= \\frac{0.4\\times 0.5}{0.34}$\n",
        "\n",
        "$\\approx 0.59$"
      ],
      "metadata": {
        "id": "HCF5qLRmYAP1"
      }
    },
    {
      "cell_type": "markdown",
      "source": [
        "# Activity 3 -- Random Data Generation"
      ],
      "metadata": {
        "id": "iHmDkIGjYHLy"
      }
    },
    {
      "cell_type": "markdown",
      "source": [
        "In this activity, we will learn how to use `R` to generate random data.\n",
        "\n",
        "**Exercise:** Modify the following code to generate 1000 uniform random variable on the interval [1,6].\n",
        "\n",
        "```r\n",
        "rand_df <- data.frame( x = runif(n  = ..., min = ..., max = ...))\n",
        "```\n",
        "\n",
        "**Answer:**"
      ],
      "metadata": {
        "id": "m2AtjyuwYJjt"
      }
    },
    {
      "cell_type": "code",
      "source": [
        "rand_df <- data.frame( x = runif(n  = 1000, min = 1, max = 6))"
      ],
      "metadata": {
        "id": "2OwN_HfcQnti"
      },
      "execution_count": 31,
      "outputs": []
    },
    {
      "cell_type": "markdown",
      "source": [
        "**Exercise:** Create a histogram that shows your random numbers.\n",
        "\n",
        "**Answer:**"
      ],
      "metadata": {
        "id": "b07A32VZYbIL"
      }
    },
    {
      "cell_type": "code",
      "source": [
        "ggplot(data = rand_df, aes(x)) +\n",
        "  geom_histogram(colour = 'darkgrey', fill = 'coral') +\n",
        "  theme_bw()"
      ],
      "metadata": {
        "colab": {
          "base_uri": "https://localhost:8080/",
          "height": 455
        },
        "id": "a_FUwjMyYRWU",
        "outputId": "26ab493a-edfd-45af-cb7a-69c3c2303374"
      },
      "execution_count": 32,
      "outputs": [
        {
          "output_type": "stream",
          "name": "stderr",
          "text": [
            "\u001b[1m\u001b[22m`stat_bin()` using `bins = 30`. Pick better value with `binwidth`.\n"
          ]
        },
        {
          "output_type": "display_data",
          "data": {
            "text/plain": [
              "plot without title"
            ],
            "image/png": "[encoded data removed]"
          },
          "metadata": {
            "image/png": {
              "width": 420,
              "height": 420
            }
          }
        }
      ]
    },
    {
      "cell_type": "markdown",
      "source": [
        "**Exercise:** Use the `round` function to round your randomly generated data to whole numbers. Create a histogram with the rounded data.\n",
        "\n",
        "**Answer:**"
      ],
      "metadata": {
        "id": "xQoqLTonYk9E"
      }
    },
    {
      "cell_type": "code",
      "source": [
        "rounded_df<- data.frame(x = round(rand_df$x,digits = 0))\n",
        "ggplot(data = rounded_df, aes(x))+\n",
        "  geom_histogram(colour = 'darkgrey', fill = 'coral', bins = 6)+\n",
        "  scale_x_continuous(breaks = seq(1,6,1))+\n",
        "  theme_bw()"
      ],
      "metadata": {
        "colab": {
          "base_uri": "https://localhost:8080/",
          "height": 437
        },
        "id": "iJEaRk79Ye8Z",
        "outputId": "a98d0b0f-76b8-4a95-bb03-f91815a95cef"
      },
      "execution_count": 33,
      "outputs": [
        {
          "output_type": "display_data",
          "data": {
            "text/plain": [
              "plot without title"
            ],
            "image/png": "[encoded data removed]"
          },
          "metadata": {
            "image/png": {
              "width": 420,
              "height": 420
            }
          }
        }
      ]
    },
    {
      "cell_type": "markdown",
      "source": [
        "**Exercise:** Does this look like a discrete uniform distribution on {1,...,6} (like rolling a six-sided die)? If not, what would you change?\n",
        "\n",
        "**Answer:** This does not look like a discrete uniform distribution on {1,...,6}. This is because we would need to increase the original interval of our continuous random variable before rounding.\n",
        "\n",
        "\n",
        "**Exercise:** Create a function that randomly generates from a discrete uniform distribution on {1,...,6}.\n",
        "\n",
        "**Answer:**"
      ],
      "metadata": {
        "id": "-_kAS_bfY4Bb"
      }
    },
    {
      "cell_type": "code",
      "source": [
        "rand_dice <- function(obs){\n",
        "  return(round(runif(n  = obs, min = 0.5, max = 6.5),digits = 0))\n",
        "}"
      ],
      "metadata": {
        "id": "FgcPD8evYxIX"
      },
      "execution_count": 34,
      "outputs": []
    },
    {
      "cell_type": "markdown",
      "source": [
        "**Exercise:** Using the function you just created, plot a histogram of 1000 observations.\n",
        "\n",
        "**Answer:**"
      ],
      "metadata": {
        "id": "07_JBSEwY-6M"
      }
    },
    {
      "cell_type": "code",
      "source": [
        "rand_discrete_df <- data.frame( x = rand_dice(1000))\n",
        "ggplot(data = rand_discrete_df, aes(x))+\n",
        "  geom_histogram(colour = 'darkgrey', fill = 'coral', bins = 6)+\n",
        "  scale_x_continuous(breaks = seq(1,6,1))+\n",
        "  theme_bw()"
      ],
      "metadata": {
        "colab": {
          "base_uri": "https://localhost:8080/",
          "height": 437
        },
        "id": "DdziKLOiY9QI",
        "outputId": "582937e2-9013-4068-ca19-2ab0e4d83019"
      },
      "execution_count": 35,
      "outputs": [
        {
          "output_type": "display_data",
          "data": {
            "text/plain": [
              "plot without title"
            ],
            "image/png": "[encoded data removed]"
          },
          "metadata": {
            "image/png": {
              "width": 420,
              "height": 420
            }
          }
        }
      ]
    },
    {
      "cell_type": "markdown",
      "source": [
        "# Activity 4 – O Block Lifts"
      ],
      "metadata": {
        "id": "cesC195MZKuC"
      }
    },
    {
      "cell_type": "markdown",
      "source": [
        "At one stage, lift breakdowns in O block were fairly common. Data was collected on two lifts at the same end of O block.\n",
        "```\n",
        "##   Probability A works A broken\n",
        "## 1     B works     0.1      0.4\n",
        "## 2    B broken     0.2      0.3\n",
        "```\n",
        "\n",
        "**Exercise:** Define all relevant events.\n",
        "\n",
        "**Answer:**\n",
        "\n",
        "Let $A$ be the event that lift A works.\n",
        "\n",
        "Let $B$ be the event that lift B works.\n",
        "\n",
        "$P(AB)  = 0.1$\n",
        "\n",
        "$P(A \\bar{B}) = 0.2$\n",
        "\n",
        "$P(\\bar{A}B) = 0.4$\n",
        "\n",
        "$P(\\bar{A}\\bar{B}) = 0.3$"
      ],
      "metadata": {
        "id": "XR-K_f18ZP2z"
      }
    },
    {
      "cell_type": "markdown",
      "source": [
        "**Exercise:** What is the probability that lift A works given lift B works?\n",
        "\n",
        "**Answer:**\n",
        "\n",
        "$P(A|B) = \\frac{P(AB)}{P(B)}$ *conditional probability*\n",
        "\n",
        "$= \\frac{P(AB)}{P(AB)+P(\\bar{A}B)}$ *law of total probability*\n",
        "\n",
        "$= \\frac{0.1}{0.1+0.4}$\n",
        "\n",
        "$= 0.2$"
      ],
      "metadata": {
        "id": "qDCC-lRrZbEo"
      }
    },
    {
      "cell_type": "markdown",
      "source": [
        "**Exercise:** What is the probability that lift B works given lift A works?\n",
        "\n",
        "**Answer:**\n",
        "\n",
        "$P(B|A) = \\frac{P(BA)}{P(A)}$ *conditional probability*\n",
        "\n",
        "$= \\frac{P(BA)}{P(AB)+ P(A\\bar{B})}$ *law of total probability*\n",
        "\n",
        "$= \\frac{0.1}{0.1 + 0.2}$\n",
        "\n",
        "$= \\frac{1}{3}$"
      ],
      "metadata": {
        "id": "lmdTBxPsZzFh"
      }
    },
    {
      "cell_type": "markdown",
      "source": [
        "**Exercise:** What is the probability that at least one lift is working?\n",
        "\n",
        "**Answer:**\n",
        "\n",
        "$P(A\\cup B) = P(A) + P(B) - P(AB)$ *addition rule for non-disjoint events*\n",
        "\n",
        "$= 0.3 + 0.5 - 0.1$ *We calculated these probabilities in the previous questions*\n",
        "\n",
        "$= 0.7$"
      ],
      "metadata": {
        "id": "WEr_NkPpZ0yz"
      }
    },
    {
      "cell_type": "markdown",
      "source": [
        "**Exercise:** What is the probability that neither lift is working?\n",
        "\n",
        "**Answer:**\n",
        "\n",
        "$P(\\bar{A}\\bar{B}) = 0.3$"
      ],
      "metadata": {
        "id": "IZwlgCWdZ4k8"
      }
    },
    {
      "cell_type": "markdown",
      "source": [
        "**Exercise:** Are lift breakdowns independent? Why or why not?\n",
        "\n",
        "**Answer:**\n",
        "\n",
        "$P(AB) = 0.1$\n",
        "\n",
        "$P(A|B) = 0.2$\n",
        "\n",
        "Therefore lift breakdowns are not independent. *Note, there are many ways to show this.*"
      ],
      "metadata": {
        "id": "T_HdPf7zZ64m"
      }
    },
    {
      "cell_type": "code",
      "source": [],
      "metadata": {
        "id": "x2vdFJ2kZBen"
      },
      "execution_count": null,
      "outputs": []
    }
  ]
}