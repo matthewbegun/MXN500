{
  "nbformat": 4,
  "nbformat_minor": 0,
  "metadata": {
    "colab": {
      "provenance": [],
      "authorship_tag": "ABX9TyO15RwONw0yChcbhf6XyfE3",
      "include_colab_link": true
    },
    "kernelspec": {
      "name": "ir",
      "display_name": "R"
    },
    "language_info": {
      "name": "R"
    }
  },
  "cells": [
    {
      "cell_type": "markdown",
      "metadata": {
        "id": "view-in-github",
        "colab_type": "text"
      },
      "source": [
        "<a href=\"https://colab.research.google.com/github/matthewbegun/MXN500/blob/main/MXN500_2024_LEC_06_R.ipynb\" target=\"_parent\"><img src=\"https://colab.research.google.com/assets/colab-badge.svg\" alt=\"Open In Colab\"/></a>"
      ]
    },
    {
      "cell_type": "markdown",
      "source": [
        "# Statistical Significance\n",
        "\n",
        "1. Calculate and the test statistic for our sample,\n",
        "compared to the assumed population mean of 1.61.\n",
        "2. Determine and visualise the $p$ value for the test\n",
        "statistic calculated in (1).\n",
        "3. Can we reject the null hypothesis ($H_0$)?\n",
        "\n",
        "Remember we are doing a one-tailed $t$-test that the true mean is *less than* 1.61. $(\\mu < \\mu_0)$"
      ],
      "metadata": {
        "id": "MFnpFtH92TLy"
      }
    },
    {
      "cell_type": "code",
      "source": [
        "# Setup\n",
        "library(tidyverse)"
      ],
      "metadata": {
        "colab": {
          "base_uri": "https://localhost:8080/"
        },
        "id": "0miE7jVb31RH",
        "outputId": "77c2259e-8415-45d5-d1c8-6fffc9973ca8"
      },
      "execution_count": 1,
      "outputs": [
        {
          "output_type": "stream",
          "name": "stderr",
          "text": [
            "── \u001b[1mAttaching core tidyverse packages\u001b[22m ──────────────────────── tidyverse 2.0.0 ──\n",
            "\u001b[32m✔\u001b[39m \u001b[34mdplyr    \u001b[39m 1.1.4     \u001b[32m✔\u001b[39m \u001b[34mreadr    \u001b[39m 2.1.5\n",
            "\u001b[32m✔\u001b[39m \u001b[34mforcats  \u001b[39m 1.0.0     \u001b[32m✔\u001b[39m \u001b[34mstringr  \u001b[39m 1.5.1\n",
            "\u001b[32m✔\u001b[39m \u001b[34mggplot2  \u001b[39m 3.4.4     \u001b[32m✔\u001b[39m \u001b[34mtibble   \u001b[39m 3.2.1\n",
            "\u001b[32m✔\u001b[39m \u001b[34mlubridate\u001b[39m 1.9.3     \u001b[32m✔\u001b[39m \u001b[34mtidyr    \u001b[39m 1.3.1\n",
            "\u001b[32m✔\u001b[39m \u001b[34mpurrr    \u001b[39m 1.0.2     \n",
            "── \u001b[1mConflicts\u001b[22m ────────────────────────────────────────── tidyverse_conflicts() ──\n",
            "\u001b[31m✖\u001b[39m \u001b[34mdplyr\u001b[39m::\u001b[32mfilter()\u001b[39m masks \u001b[34mstats\u001b[39m::filter()\n",
            "\u001b[31m✖\u001b[39m \u001b[34mdplyr\u001b[39m::\u001b[32mlag()\u001b[39m    masks \u001b[34mstats\u001b[39m::lag()\n",
            "\u001b[36mℹ\u001b[39m Use the conflicted package (\u001b[3m\u001b[34m<http://conflicted.r-lib.org/>\u001b[39m\u001b[23m) to force all conflicts to become errors\n"
          ]
        }
      ]
    },
    {
      "cell_type": "code",
      "execution_count": 2,
      "metadata": {
        "colab": {
          "base_uri": "https://localhost:8080/",
          "height": 69
        },
        "id": "4yyB5xhC0FJJ",
        "outputId": "da321ccb-b02b-412f-81b3-e391640f8c54"
      },
      "outputs": [
        {
          "output_type": "display_data",
          "data": {
            "text/html": [
              "1.65"
            ],
            "text/markdown": "1.65",
            "text/latex": "1.65",
            "text/plain": [
              "[1] 1.65"
            ]
          },
          "metadata": {}
        },
        {
          "output_type": "display_data",
          "data": {
            "text/html": [
              "0.254165300542777"
            ],
            "text/markdown": "0.254165300542777",
            "text/latex": "0.254165300542777",
            "text/plain": [
              "[1] 0.2541653"
            ]
          },
          "metadata": {}
        },
        {
          "output_type": "display_data",
          "data": {
            "text/html": [
              "0.0960654538768825"
            ],
            "text/markdown": "0.0960654538768825",
            "text/latex": "0.0960654538768825",
            "text/plain": [
              "[1] 0.09606545"
            ]
          },
          "metadata": {}
        }
      ],
      "source": [
        "# Let's read in our sample from earlier.\n",
        "x <- c(1.61, 1.65, 1.45, 1.36, 2.12, 1.82, 1.54)\n",
        "\n",
        "# Calculate our mean, standard deviation, and standard error of the mean:\n",
        "x_bar <- mean(x)\n",
        "s <- sd(x)\n",
        "se_mean <- s/sqrt(length(x))\n",
        "\n",
        "# Print our calculations:\n",
        "x_bar; s; se_mean"
      ]
    },
    {
      "cell_type": "code",
      "source": [
        "# Our test statistic relies on the t distribution and some benchmark mean, mu0.\n",
        "mu_0 <- 1.61\n",
        "ts <- (x_bar - mu_0)/se_mean\n",
        "\n",
        "# Print our calculation:\n",
        "ts"
      ],
      "metadata": {
        "colab": {
          "base_uri": "https://localhost:8080/",
          "height": 34
        },
        "id": "C2lqDCxw20EL",
        "outputId": "2e82f8a8-b1d6-4d20-a8ed-8cf4680ffa15"
      },
      "execution_count": 3,
      "outputs": [
        {
          "output_type": "display_data",
          "data": {
            "text/html": [
              "0.416382772221782"
            ],
            "text/markdown": "0.416382772221782",
            "text/latex": "0.416382772221782",
            "text/plain": [
              "[1] 0.4163828"
            ]
          },
          "metadata": {}
        }
      ]
    },
    {
      "cell_type": "code",
      "source": [
        "# The p value we want to derive is the answer to the following question:\n",
        "# \"What is the probability of observing a result at least as extreme as the\n",
        "# observed result if H_0 were true and we carried out the exact same experiment\n",
        "# on another sample of the exact same size?\"\n",
        "\n",
        "# I.e., we want to know the probability of receiving a sample mean of 1.65 or\n",
        "# less given our benchmark mean of 1.61.\n",
        "\n",
        "?pt # function to estimate probability from a t distribution\n",
        "# just like dnorm, pnorm, qnorm and rnorm there are dt, pt, qt and rt"
      ],
      "metadata": {
        "id": "fEco1NWU3Blh"
      },
      "execution_count": 4,
      "outputs": []
    },
    {
      "cell_type": "code",
      "source": [
        "# Find the probabilities using built-in distributions:\n",
        "prob_ts <- pt(q = ts, lower.tail = TRUE, df = length(x) - 1)\n",
        "\n",
        "# Print our calculation:\n",
        "prob_ts"
      ],
      "metadata": {
        "colab": {
          "base_uri": "https://localhost:8080/",
          "height": 34
        },
        "id": "YVd8H37B3PLt",
        "outputId": "e01b8943-0a05-4bf4-f0d9-07d669ad85f1"
      },
      "execution_count": 5,
      "outputs": [
        {
          "output_type": "display_data",
          "data": {
            "text/html": [
              "0.654192842567803"
            ],
            "text/markdown": "0.654192842567803",
            "text/latex": "0.654192842567803",
            "text/plain": [
              "[1] 0.6541928"
            ]
          },
          "metadata": {}
        }
      ]
    },
    {
      "cell_type": "code",
      "source": [
        "# So, the probability that we would observe something at least as extreme if we\n",
        "# took another sample of the same size is 0.6542.\n",
        "\n",
        "# Let's plot it:\n",
        "ggplot(data = data.frame(x = c(-4, 4)), aes(x = x)) + # gives the data range\n",
        "  stat_function(fun=dt, args=list(df = 6)) + # plots the t distribution\n",
        "  ylim(c(0, 0.5)) + # resizes the y-axis\n",
        "  stat_function(fun = dt, args = list(df=6), geom = \"ribbon\", # code to shade (extra)\n",
        "                xlim=c(-4,prob_ts),\n",
        "                aes(ymax=after_stat(y)), ymin=0, fill=\"blue\", alpha=0.25) +\n",
        "  theme_bw()"
      ],
      "metadata": {
        "colab": {
          "base_uri": "https://localhost:8080/",
          "height": 437
        },
        "id": "FlQYRIJz3oS9",
        "outputId": "fed9581f-1f38-424f-d134-48201063a2d2"
      },
      "execution_count": 6,
      "outputs": [
        {
          "output_type": "display_data",
          "data": {
            "text/plain": [
              "plot without title"
            ],
            "image/png": "[encoded data removed]"
          },
          "metadata": {
            "image/png": {
              "width": 420,
              "height": 420
            }
          }
        }
      ]
    },
    {
      "cell_type": "code",
      "source": [
        "# Suggested \"rejection benchmark\" is 0.05, by R.A. Fisher.\n",
        "# How does this 5% translate to our context? Let's calculate and plot it!\n",
        "alpha <- 0.05\n",
        "\n",
        "# The test statistic for this probability is given by:\n",
        "ts_alpha <- qt(p = alpha, lower.tail = TRUE, df = length(x)-1)\n",
        "ts_alpha"
      ],
      "metadata": {
        "colab": {
          "base_uri": "https://localhost:8080/",
          "height": 34
        },
        "id": "ak2h439a3wwR",
        "outputId": "1a83d9ca-0660-4df0-deb1-50cd301123a0"
      },
      "execution_count": 7,
      "outputs": [
        {
          "output_type": "display_data",
          "data": {
            "text/html": [
              "-1.9431802805153"
            ],
            "text/markdown": "-1.9431802805153",
            "text/latex": "-1.9431802805153",
            "text/plain": [
              "[1] -1.94318"
            ]
          },
          "metadata": {}
        }
      ]
    },
    {
      "cell_type": "code",
      "source": [
        "# We can then calculate the mean that gives this probability by rearranging the\n",
        "# test statistic equation:\n",
        "\n",
        "# ts = (x_bar - mu_0)/se_mean\n",
        "# ts*se_mean = x_bar - mu_0\n",
        "# ts*se_mean + mu_0 = x_bar\n",
        "mu_alpha <- ts_alpha*se_mean + mu_0\n",
        "mu_alpha"
      ],
      "metadata": {
        "colab": {
          "base_uri": "https://localhost:8080/",
          "height": 34
        },
        "id": "yLXmWgA-5opC",
        "outputId": "14dc53bc-e852-4e67-80f3-0afe9a14210b"
      },
      "execution_count": 8,
      "outputs": [
        {
          "output_type": "display_data",
          "data": {
            "text/html": [
              "1.42332750438769"
            ],
            "text/markdown": "1.42332750438769",
            "text/latex": "1.42332750438769",
            "text/plain": [
              "[1] 1.423328"
            ]
          },
          "metadata": {}
        }
      ]
    },
    {
      "cell_type": "code",
      "source": [
        "# let's plot our rejection region\n",
        "ggplot(data = data.frame(x = c(-4, 4)), aes(x = x)) + # gives the data range\n",
        "  stat_function(fun=dt, args=list(df = 6)) + # plots the t distribution\n",
        "  ylim(c(0, 0.5)) + # resizes the y-axis\n",
        "  stat_function(fun = dt, args = list(df=6), geom = \"ribbon\", # code to shade (extra)\n",
        "                xlim=c(-4, ts_alpha),\n",
        "                aes(ymax=after_stat(y)), ymin=0, fill=\"red\", alpha=0.25) +\n",
        "  theme_bw() +\n",
        "  ggtitle(\"Shaded rejection level for alpha = 0.05\", \"H1: less than benchmark mean\")"
      ],
      "metadata": {
        "colab": {
          "base_uri": "https://localhost:8080/",
          "height": 437
        },
        "id": "m5mqnawM526N",
        "outputId": "95d0eaac-614e-42ce-8d72-4f6ec51abf0c"
      },
      "execution_count": 9,
      "outputs": [
        {
          "output_type": "display_data",
          "data": {
            "text/plain": [
              "plot without title"
            ],
            "image/png": "[encoded data removed]"
          },
          "metadata": {
            "image/png": {
              "width": 420,
              "height": 420
            }
          }
        }
      ]
    },
    {
      "cell_type": "code",
      "source": [
        "# Our x_bar is not less than or equal to mu_alpha, so we do not have enough\n",
        "# evidence to reject our null hypothesis.\n",
        "\n",
        "# That is, as far as we can tell, this group's mean is at the guideline.\n",
        "\n",
        "# BE CAREFUL OF THE LANGUAGE YOU USE TO DESCRIBE P VALUES!\n",
        "\n",
        "# Alternatively, you can use the following to perform a one-sided t-test\n",
        "t.test(x = x, alternative = \"less\", mu = mu_0)"
      ],
      "metadata": {
        "colab": {
          "base_uri": "https://localhost:8080/",
          "height": 208
        },
        "id": "lXRTguYv6Bdd",
        "outputId": "240368a5-31be-407c-d97c-21281dc0b855"
      },
      "execution_count": 13,
      "outputs": [
        {
          "output_type": "display_data",
          "data": {
            "text/plain": [
              "\n",
              "\tOne Sample t-test\n",
              "\n",
              "data:  x\n",
              "t = 0.41638, df = 6, p-value = 0.6542\n",
              "alternative hypothesis: true mean is less than 1.61\n",
              "95 percent confidence interval:\n",
              "     -Inf 1.836672\n",
              "sample estimates:\n",
              "mean of x \n",
              "     1.65 \n"
            ]
          },
          "metadata": {}
        }
      ]
    },
    {
      "cell_type": "code",
      "source": [
        "# looking for all the statistical analysis in base R? Try:\n",
        "library(help = \"stats\")"
      ],
      "metadata": {
        "id": "979KSwp06muU"
      },
      "execution_count": 14,
      "outputs": []
    },
    {
      "cell_type": "markdown",
      "source": [
        "# Confidence Intervals\n",
        "1. Rearrange the critical region expressionto derive $L$ and $U$.\n",
        "2. Calculate the $p$ quantiles of our $t(\\nu)$ distribution\n",
        "using the `qt()` function.\n",
        "3. Visualise and summarise the resulting confidence\n",
        "interval.\n"
      ],
      "metadata": {
        "id": "afEwy8qm8vih"
      }
    },
    {
      "cell_type": "markdown",
      "source": [
        "Rearranging standardised confidence intervals:\n",
        "\n",
        "$$\n",
        "t_{0.025}(n-1) \\leq \\frac{\\overline{x} - \\mu}{s / \\sqrt{n}} \\leq t_{0.975}(n-1)\n",
        "$$\n",
        "\n",
        "multiplying through by $s / \\sqrt{n}$ we obtain:\n",
        "\n",
        "$$\n",
        "t_{0.025}(n-1) \\frac{s}{\\sqrt{n}} \\leq \\overline{x} - \\mu \\leq t_{0.975}(n-1)\\frac{s}{\\sqrt{n}}\n",
        "$$\n",
        "\n",
        "subtracting $\\overline{x}$:\n",
        "\n",
        "$$\n",
        " t_{0.025}(n-1)\\frac{s}{\\sqrt{n}} - \\overline{x} \\leq -\\mu \\leq   t_{0.975}(n-1)\\frac{s}{\\sqrt{n}} - \\overline{x}  \n",
        "$$\n",
        "\n",
        "multiplying through by $-1$ flips the signs:\n",
        "\n",
        "$$\n",
        " \\overline{x} - t_{0.025}(n-1)\\frac{s}{\\sqrt{n}} \\geq \\mu \\geq \\overline{x} - t_{0.975}(n-1)\\frac{s}{\\sqrt{n}}\n",
        "$$\n",
        "\n",
        "or more conventionally:\n",
        "\n",
        "$$\n",
        "\\overline{x} - t_{0.975}(n-1)\\frac{s}{\\sqrt{n}} \\leq \\mu \\leq \\overline{x} - t_{0.025}(n-1)\\frac{s}{\\sqrt{n}}\n",
        "$$\n",
        "\n",
        "We also know that because of symmetry:\n",
        "\n",
        "$$\n",
        "  -t_{0.025}(n-1) = t_{0.975}(n-1)\n",
        "$$\n",
        "\n",
        "so we can rewrite out confidence intervals:\n",
        "\n",
        "$$\n",
        "\\overline{x} + t_{0.025}(n-1)\\frac{s}{\\sqrt{n}} \\leq \\mu \\leq \\overline{x} + t_{0.975}(n-1)\\frac{s}{\\sqrt{n}}\n",
        "$$"
      ],
      "metadata": {
        "id": "ZyJ9kz9R9nYG"
      }
    },
    {
      "cell_type": "markdown",
      "source": [
        "We typically see confidence intervals written as:\n",
        "\n",
        "$$\n",
        "\\overline{x} \\pm t_{1-\\alpha/2}(\\nu) ⋅ \\text{se}_{\\bar{x}},\n",
        "$$\n",
        "where $\\nu$ is the degrees of freedom, and $\\alpha$ is the significance level.\n",
        "\n",
        "So a 95% confidence interval for a sample mean would be:\n",
        "\n",
        "$$\n",
        "\\overline{x} \\pm t_{0.975}(n-1) ⋅ (s/\\sqrt{n})\n",
        "$$\n",
        "\n",
        "Or as *some observed value is $\\bar{x}$ (95% CI=U,L)*."
      ],
      "metadata": {
        "id": "2imvHLTS_AIA"
      }
    },
    {
      "cell_type": "code",
      "source": [
        "# We are interested in the quantiles of a t(6).\n",
        "qt(p=c(0.025, 0.975), df=6)\n",
        "L <- x_bar + qt(p=0.025, df=6)*s/sqrt(7)\n",
        "L\n",
        "U <- x_bar + qt(p=0.975, df=6)*s/sqrt(7)\n",
        "U\n",
        "# quantiles in t are symetric, so could use\n",
        "L <- x_bar - qt(p=0.975, df=6)*s/sqrt(7); L\n",
        "U <- x_bar - qt(p=0.025, df=6)*s/sqrt(7); U\n"
      ],
      "metadata": {
        "colab": {
          "base_uri": "https://localhost:8080/",
          "height": 104
        },
        "id": "tMTsCQsz7Zmd",
        "outputId": "c0826e01-0ad7-414f-81ee-dd349b05d795"
      },
      "execution_count": 15,
      "outputs": [
        {
          "output_type": "display_data",
          "data": {
            "text/html": [
              "<style>\n",
              ".list-inline {list-style: none; margin:0; padding: 0}\n",
              ".list-inline>li {display: inline-block}\n",
              ".list-inline>li:not(:last-child)::after {content: \"\\00b7\"; padding: 0 .5ex}\n",
              "</style>\n",
              "<ol class=list-inline><li>-2.44691185114497</li><li>2.44691185114497</li></ol>\n"
            ],
            "text/markdown": "1. -2.44691185114497\n2. 2.44691185114497\n\n\n",
            "text/latex": "\\begin{enumerate*}\n\\item -2.44691185114497\n\\item 2.44691185114497\n\\end{enumerate*}\n",
            "text/plain": [
              "[1] -2.446912  2.446912"
            ]
          },
          "metadata": {}
        },
        {
          "output_type": "display_data",
          "data": {
            "text/html": [
              "1.41493630242304"
            ],
            "text/markdown": "1.41493630242304",
            "text/latex": "1.41493630242304",
            "text/plain": [
              "[1] 1.414936"
            ]
          },
          "metadata": {}
        },
        {
          "output_type": "display_data",
          "data": {
            "text/html": [
              "1.88506369757696"
            ],
            "text/markdown": "1.88506369757696",
            "text/latex": "1.88506369757696",
            "text/plain": [
              "[1] 1.885064"
            ]
          },
          "metadata": {}
        },
        {
          "output_type": "display_data",
          "data": {
            "text/html": [
              "1.41493630242304"
            ],
            "text/markdown": "1.41493630242304",
            "text/latex": "1.41493630242304",
            "text/plain": [
              "[1] 1.414936"
            ]
          },
          "metadata": {}
        },
        {
          "output_type": "display_data",
          "data": {
            "text/html": [
              "1.88506369757696"
            ],
            "text/markdown": "1.88506369757696",
            "text/latex": "1.88506369757696",
            "text/plain": [
              "[1] 1.885064"
            ]
          },
          "metadata": {}
        }
      ]
    },
    {
      "cell_type": "code",
      "source": [
        "# Visualise:\n",
        "ggplot(data=data.frame(x=factor(0), y=x), aes(x=x, y=y)) +\n",
        "  geom_point(alpha=0.5, colour=\"red\", size = 3, position=position_jitter(h=0, w=0.1)) +\n",
        "  geom_pointrange(data=data.frame(L=L, U=U, y=x_bar, x=factor(0)),\n",
        "                  aes(ymin=L, ymax=U, y=y), size = 1) +\n",
        "  coord_flip() +\n",
        "  xlab(\" \") +\n",
        "  ylab(expression(FEV[1]~(L))) +\n",
        "  theme(axis.text.y=element_blank())"
      ],
      "metadata": {
        "colab": {
          "base_uri": "https://localhost:8080/",
          "height": 437
        },
        "id": "q5zYtiycCJ5S",
        "outputId": "46083fd5-6999-4c75-f346-c15868deac20"
      },
      "execution_count": 16,
      "outputs": [
        {
          "output_type": "display_data",
          "data": {
            "text/plain": [
              "plot without title"
            ],
            "image/png": "[encoded data removed]"
          },
          "metadata": {
            "image/png": {
              "width": 420,
              "height": 420
            }
          }
        }
      ]
    },
    {
      "cell_type": "markdown",
      "source": [
        "# Confidence Interval Examples\n"
      ],
      "metadata": {
        "id": "2HkueEwSD80z"
      }
    },
    {
      "cell_type": "code",
      "source": [
        "# Example 1:\n",
        "# Sample the pH of a creek 9 times.\n",
        "#   x_bar = 6.5\n",
        "#   s = 1.2\n",
        "#   With alpha = 0.05, does the creek have a mean pH of 7 (neutral)?\n",
        "\n",
        "# H0: The creek has a pH of 7.\n",
        "# H1: The creek does not have a pH of 7.\n",
        "t.s. <- (6.5 - 7)/(1.2/sqrt(9))\n",
        "t.s."
      ],
      "metadata": {
        "colab": {
          "base_uri": "https://localhost:8080/",
          "height": 34
        },
        "id": "0w5hQFBFCsqG",
        "outputId": "a82b4d65-ff4f-4c71-9910-dea33481b319"
      },
      "execution_count": 17,
      "outputs": [
        {
          "output_type": "display_data",
          "data": {
            "text/html": [
              "-1.25"
            ],
            "text/markdown": "-1.25",
            "text/latex": "-1.25",
            "text/plain": [
              "[1] -1.25"
            ]
          },
          "metadata": {}
        }
      ]
    },
    {
      "cell_type": "code",
      "source": [
        "# calculate p-value\n",
        "\n",
        "p <- pt(t.s., df = 8, lower.tail = T) +\n",
        "    pt(-t.s., df = 8, lower.tail = F)\n",
        "p\n",
        "\n"
      ],
      "metadata": {
        "colab": {
          "base_uri": "https://localhost:8080/",
          "height": 34
        },
        "id": "U6VBsgKwrLTS",
        "outputId": "893bf2ab-7ce3-49b1-bed1-8812dc8804d6"
      },
      "execution_count": 18,
      "outputs": [
        {
          "output_type": "display_data",
          "data": {
            "text/html": [
              "0.246625874215393"
            ],
            "text/markdown": "0.246625874215393",
            "text/latex": "0.246625874215393",
            "text/plain": [
              "[1] 0.2466259"
            ]
          },
          "metadata": {}
        }
      ]
    },
    {
      "cell_type": "code",
      "source": [
        "# prompt: perform a t-test with mean 6.5, assumed mean 7, s=1.2 and n=9\n",
        "\n",
        "?t.test(x = 6.5, mu = 7, s = 1.2, n = 9, alternative = \"two.sided\")\n",
        "\n",
        "# to do the test you need the data"
      ],
      "metadata": {
        "id": "4RTkJzqZrrvM"
      },
      "execution_count": 19,
      "outputs": []
    },
    {
      "cell_type": "code",
      "source": [
        "\n",
        "# p > 0.05, so there is insufficient evidence to reject the null hypothesis that\n",
        "# the creek's pH differs from 7.\n",
        "\n",
        "# A quick visual:\n",
        "ggplot(data=data.frame(x=c(-4, 4)), aes(x=x)) +\n",
        "  stat_function(fun=dt, args=list(df=8)) +\n",
        "  ylim(c(0, 0.5)) +\n",
        "  stat_function(fun=dt, args=list(df=8), geom=\"ribbon\",\n",
        "                xlim=c(-4,t.s.), aes(ymax=after_stat(y)), ymin=0,\n",
        "                fill=\"blue\", alpha=0.25)+\n",
        "  stat_function(fun=dt, args=list(df=8), geom=\"ribbon\",\n",
        "                xlim=c(-t.s.,4), aes(ymax=after_stat(y)), ymin=0,\n",
        "                fill=\"blue\", alpha=0.25)+\n",
        "  theme_bw()\n"
      ],
      "metadata": {
        "colab": {
          "base_uri": "https://localhost:8080/",
          "height": 437
        },
        "id": "nXDADqM5rSS9",
        "outputId": "ded44e7a-da15-4734-eac5-abfb925c9aa7"
      },
      "execution_count": 21,
      "outputs": [
        {
          "output_type": "display_data",
          "data": {
            "text/plain": [
              "plot without title"
            ],
            "image/png": "[encoded data removed]"
          },
          "metadata": {
            "image/png": {
              "width": 420,
              "height": 420
            }
          }
        }
      ]
    },
    {
      "cell_type": "code",
      "source": [
        "# Example 2:\n",
        "# Sample 20 rockpools at a beach\n",
        "#    Mean population density of anurida maritima is 300 individuals/m^2.\n",
        "#    Standard deviation is 50 individuals/m^2.\n",
        "#    What is a 90% confidence interval for the mean population density in\n",
        "#    rockpools at this beach?\n",
        "\n",
        "qt(p = c(0.05,0.95), df = 20-1)\n",
        "L <- 200 + qt(p = 0.05, df = 19)*50/sqrt(20)\n",
        "L\n",
        "U <- 200 + qt(p = 0.95, df = 19)*50/sqrt(20)\n",
        "U\n",
        "\n",
        "# Confidence interval for the sample is (180.6677, 219.3323)"
      ],
      "metadata": {
        "colab": {
          "base_uri": "https://localhost:8080/",
          "height": 69
        },
        "id": "WnsYhOMYEFwK",
        "outputId": "461c0cd2-f456-491e-a3be-f4f3790785df"
      },
      "execution_count": 22,
      "outputs": [
        {
          "output_type": "display_data",
          "data": {
            "text/html": [
              "<style>\n",
              ".list-inline {list-style: none; margin:0; padding: 0}\n",
              ".list-inline>li {display: inline-block}\n",
              ".list-inline>li:not(:last-child)::after {content: \"\\00b7\"; padding: 0 .5ex}\n",
              "</style>\n",
              "<ol class=list-inline><li>-1.72913281152137</li><li>1.72913281152137</li></ol>\n"
            ],
            "text/markdown": "1. -1.72913281152137\n2. 1.72913281152137\n\n\n",
            "text/latex": "\\begin{enumerate*}\n\\item -1.72913281152137\n\\item 1.72913281152137\n\\end{enumerate*}\n",
            "text/plain": [
              "[1] -1.729133  1.729133"
            ]
          },
          "metadata": {}
        },
        {
          "output_type": "display_data",
          "data": {
            "text/html": [
              "180.667707456564"
            ],
            "text/markdown": "180.667707456564",
            "text/latex": "180.667707456564",
            "text/plain": [
              "[1] 180.6677"
            ]
          },
          "metadata": {}
        },
        {
          "output_type": "display_data",
          "data": {
            "text/html": [
              "219.332292543436"
            ],
            "text/markdown": "219.332292543436",
            "text/latex": "219.332292543436",
            "text/plain": [
              "[1] 219.3323"
            ]
          },
          "metadata": {}
        }
      ]
    },
    {
      "cell_type": "code",
      "source": [
        "# Example 3:\n",
        "# 31 groups of students measuring the speed of light in a vacuum\n",
        "#   mean measured speed 2.981 * 10^8m/s\n",
        "#   standard deviation 0.0006 * 10^8m/s\n",
        "#   Are the results consistent with the established value of c of\n",
        "#   2.9979 * 10^8m/s with alpha = 0.01?\n",
        "#   Calculate a 99% CI for c based on these results.\n",
        "\n",
        "# H_0 : The speed of light measured by students is consistent with the\n",
        "#       established value.\n",
        "# H_1 : The speed of light measured by students is not consistent with the\n",
        "#       established value.\n",
        "\n",
        "t.s. <- (2.981*10^8 - 2.9979*10^8)/(0.0006*10^8/sqrt(31))\n",
        "t.s.\n",
        "p <- pt(t.s., df = 30, lower.tail = T) +\n",
        "    pt(-t.s., df = 30, lower.tail = F)\n",
        "p\n"
      ],
      "metadata": {
        "colab": {
          "base_uri": "https://localhost:8080/",
          "height": 52
        },
        "id": "fw8zP-yJEMcF",
        "outputId": "8cf2a4b9-037f-40e5-d8ac-ab0b5e9199e2"
      },
      "execution_count": 23,
      "outputs": [
        {
          "output_type": "display_data",
          "data": {
            "text/html": [
              "-156.825362886379"
            ],
            "text/markdown": "-156.825362886379",
            "text/latex": "-156.825362886379",
            "text/plain": [
              "[1] -156.8254"
            ]
          },
          "metadata": {}
        },
        {
          "output_type": "display_data",
          "data": {
            "text/html": [
              "2.79510087770045e-45"
            ],
            "text/markdown": "2.79510087770045e-45",
            "text/latex": "2.79510087770045e-45",
            "text/plain": [
              "[1] 2.795101e-45"
            ]
          },
          "metadata": {}
        }
      ]
    },
    {
      "cell_type": "code",
      "source": [
        "\n",
        "# At a significance level of - = 0.01 there is significant evidence against the\n",
        "# null hypothesis in favour of the alternative hypothesis.\n",
        "\n",
        "qt(p = c(0.005,0.995),df = 31-1)\n",
        "\n",
        "L <- 2.981*10^8 + qt(p = 0.005, df = 30)*0.0006*10^8/sqrt(31)\n",
        "L\n",
        "U <- 2.981*10^8 + qt(p = 0.995, df = 30)*0.0006*10^8/sqrt(31)\n",
        "U\n",
        "\n",
        "# Confidence interval for the sample is (298070365, 298129635)"
      ],
      "metadata": {
        "colab": {
          "base_uri": "https://localhost:8080/",
          "height": 69
        },
        "id": "Lbh4SVAduGDU",
        "outputId": "c1722b5f-af05-4641-f622-1dca1f9fe622"
      },
      "execution_count": 24,
      "outputs": [
        {
          "output_type": "display_data",
          "data": {
            "text/html": [
              "<style>\n",
              ".list-inline {list-style: none; margin:0; padding: 0}\n",
              ".list-inline>li {display: inline-block}\n",
              ".list-inline>li:not(:last-child)::after {content: \"\\00b7\"; padding: 0 .5ex}\n",
              "</style>\n",
              "<ol class=list-inline><li>-2.74999565356723</li><li>2.74999565356723</li></ol>\n"
            ],
            "text/markdown": "1. -2.74999565356723\n2. 2.74999565356723\n\n\n",
            "text/latex": "\\begin{enumerate*}\n\\item -2.74999565356723\n\\item 2.74999565356723\n\\end{enumerate*}\n",
            "text/plain": [
              "[1] -2.749996  2.749996"
            ]
          },
          "metadata": {}
        },
        {
          "output_type": "display_data",
          "data": {
            "text/html": [
              "298070365.172004"
            ],
            "text/markdown": "298070365.172004",
            "text/latex": "298070365.172004",
            "text/plain": [
              "[1] 298070365"
            ]
          },
          "metadata": {}
        },
        {
          "output_type": "display_data",
          "data": {
            "text/html": [
              "298129634.827996"
            ],
            "text/markdown": "298129634.827996",
            "text/latex": "298129634.827996",
            "text/plain": [
              "[1] 298129635"
            ]
          },
          "metadata": {}
        }
      ]
    },
    {
      "cell_type": "markdown",
      "source": [
        "# Demonstrations\n",
        "- CLT\n",
        "  - https://stats.libretexts.org/Learning_Objects/02%3A_Interactive_Statistics/15%3A_Discover_the_Central_Limit_Theorem_Activity\n",
        "- CI\n",
        "  - https://seeing-theory.brown.edu/frequentist-inference/index.html#section2\n",
        "- Significance testing\n",
        "  - https://www.tylervigen.com/spurious/correlation/2733_the-distance-between-jupiter-and-the-sun_correlates-with_the-number-of-secretaries-in-alaska\n",
        "  - https://www.tylervigen.com/spurious/correlation/5920_per-capita-consumption-of-margarine_correlates-with_the-divorce-rate-in-maine\n",
        "  "
      ],
      "metadata": {
        "id": "dRTqOCxuMoL0"
      }
    },
    {
      "cell_type": "markdown",
      "source": [
        "## Evidence of replication problems in different areas of science\n",
        "\n",
        "Field|Estimated replication success rate\n",
        "---|---\n",
        "Medicine| 59% (n = 34)\n",
        "Psychology| 36% (n = 97)\n",
        "Social science| 62% (n = 21)\n",
        "Preclinical cancer studies| 11% (n = 53)\n",
        "Preclinical pharmacology studies| < 50% (n > 100)\n",
        "Economics| 61% (n = 18)\n",
        "\n",
        "Wagenmakers, E. J. (2021). Bernoulli’s Fallacy. CHANCE, 34(4), 37–38. https://doi.org/10.1080/09332480.2021.2003642"
      ],
      "metadata": {
        "id": "Rb-FAbM7YOTH"
      }
    },
    {
      "cell_type": "code",
      "source": [],
      "metadata": {
        "id": "n369TMBxYN51"
      },
      "execution_count": null,
      "outputs": []
    }
  ]
}